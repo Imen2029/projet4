{
 "cells": [
  {
   "cell_type": "markdown",
   "id": "ba5631a4",
   "metadata": {},
   "source": [
    "* [1.Load Data From CSV File](#ld)\n",
    "* [2.Build a pipeline](#bp)\n",
    "* [3.Idée pour choisir le meilleur modèle](#ic)\n",
    "* [4.Modèles de machine learning choisis](#mml)\n"
   ]
  },
  {
   "cell_type": "code",
   "execution_count": 2,
   "id": "0040ade2",
   "metadata": {},
   "outputs": [],
   "source": [
    "#!pip install xgboost"
   ]
  },
  {
   "cell_type": "code",
   "execution_count": 3,
   "id": "52e96a65",
   "metadata": {},
   "outputs": [],
   "source": [
    "#!pip install lightgbm "
   ]
  },
  {
   "cell_type": "code",
   "execution_count": 49,
   "id": "9a99faa9",
   "metadata": {},
   "outputs": [
    {
     "name": "stdout",
     "output_type": "stream",
     "text": [
      "Requirement already satisfied: joblib in c:\\users\\imen\\.conda\\envs\\geo_env\\lib\\site-packages (1.1.0)\n"
     ]
    }
   ],
   "source": [
    "#!pip install joblib"
   ]
  },
  {
   "cell_type": "code",
   "execution_count": 54,
   "id": "cb87a7db",
   "metadata": {},
   "outputs": [],
   "source": []
  },
  {
   "cell_type": "code",
   "execution_count": 66,
   "id": "4712a784",
   "metadata": {},
   "outputs": [],
   "source": [
    "import pandas as pd\n",
    "import numpy as np\n",
    "\n",
    "import missingno as msno\n",
    "import seaborn as sns\n",
    "\n",
    "import matplotlib.pyplot as plt \n",
    "import warnings\n",
    "warnings.filterwarnings('ignore')\n",
    "\n",
    "from sklearn.preprocessing import OneHotEncoder,StandardScaler\n",
    "\n",
    "from sklearn.compose import make_column_transformer\n",
    "from sklearn.pipeline import Pipeline\n",
    "from sklearn.compose import ColumnTransformer\n",
    "from sklearn.linear_model import LinearRegression,Ridge,Lasso\n",
    "from sklearn.preprocessing import PolynomialFeatures\n",
    "from sklearn.linear_model import ElasticNet\n",
    "from sklearn.dummy import DummyRegressor\n",
    "from sklearn.svm import SVR\n",
    "from  xgboost import XGBRegressor\n",
    "from lightgbm import LGBMRegressor\n",
    "from sklearn.ensemble import RandomForestRegressor\n",
    "\n",
    "\n",
    "import sklearn\n",
    "\n",
    "from sklearn.metrics import confusion_matrix\n",
    "\n",
    "from sklearn.model_selection import train_test_split, GridSearchCV,cross_val_score,StratifiedGroupKFold\n",
    "from sklearn.model_selection import KFold, StratifiedKFold\n",
    "from sklearn.metrics import mean_absolute_error,r2_score\n",
    "from time import time\n",
    "\n",
    "import joblib\n",
    "import shap\n",
    "from sklearn.metrics import mean_squared_error\n",
    "warnings.filterwarnings('ignore')"
   ]
  },
  {
   "cell_type": "code",
   "execution_count": 5,
   "id": "d78c23fa",
   "metadata": {},
   "outputs": [],
   "source": [
    "############Fonction affichant les variables corrélés en fixant un seuil\n",
    "def f_strong_correlation(threshold_up ,df2):\n",
    "    #threshold_up = 0.7\n",
    "    corr_pairs = df2.corr().unstack().sort_values(kind=\"quicksort\")\n",
    "    strong_corr = (pd.DataFrame(corr_pairs[(abs(corr_pairs) > threshold_up)])\n",
    "               .reset_index().rename(columns={0:'corr_coeff'}))\n",
    "    strong_corr = strong_corr[(strong_corr.index%2 == 0) & \n",
    "                          (strong_corr['level_0'] != strong_corr['level_1'])]\n",
    "    strong_corr.sort_values('corr_coeff', ascending=False)\n",
    "    return strong_corr"
   ]
  },
  {
   "cell_type": "markdown",
   "id": "565ad0ef",
   "metadata": {},
   "source": [
    "### 1.Load Data From CSV File<a class=\"anchor\" id=\"ld\"></a>"
   ]
  },
  {
   "cell_type": "code",
   "execution_count": 6,
   "id": "ba85f0f1",
   "metadata": {},
   "outputs": [],
   "source": [
    "#df = pd.read_csv('prepared_data.csv', sep='\\t')\n",
    "\n",
    "df = pd.read_csv('df_quantile.csv',sep='\\t')\n",
    "\n"
   ]
  },
  {
   "cell_type": "code",
   "execution_count": 7,
   "id": "6f95e082",
   "metadata": {},
   "outputs": [
    {
     "data": {
      "text/html": [
       "<div>\n",
       "<style scoped>\n",
       "    .dataframe tbody tr th:only-of-type {\n",
       "        vertical-align: middle;\n",
       "    }\n",
       "\n",
       "    .dataframe tbody tr th {\n",
       "        vertical-align: top;\n",
       "    }\n",
       "\n",
       "    .dataframe thead th {\n",
       "        text-align: right;\n",
       "    }\n",
       "</style>\n",
       "<table border=\"1\" class=\"dataframe\">\n",
       "  <thead>\n",
       "    <tr style=\"text-align: right;\">\n",
       "      <th></th>\n",
       "      <th>OSEBuildingID</th>\n",
       "      <th>%NaturalGas(kBtu)</th>\n",
       "      <th>%SteamUse(kBtu)</th>\n",
       "      <th>BuildingType</th>\n",
       "      <th>NumberofBuildings</th>\n",
       "      <th>NumberofFloors</th>\n",
       "      <th>PropertyGFATotal</th>\n",
       "      <th>ENERGYSTARScore</th>\n",
       "      <th>SourceEUI(kBtu/sf)</th>\n",
       "      <th>SiteEnergyUse(kBtu)</th>\n",
       "      <th>TotalGHGEmissions</th>\n",
       "      <th>GHGEmissionsIntensity</th>\n",
       "      <th>tranche_date</th>\n",
       "      <th>BuildingAge</th>\n",
       "      <th>groups_neighborhood</th>\n",
       "      <th>groups_PrimaryPropertyType</th>\n",
       "      <th>GFABuildingRate</th>\n",
       "    </tr>\n",
       "  </thead>\n",
       "  <tbody>\n",
       "    <tr>\n",
       "      <th>0</th>\n",
       "      <td>1</td>\n",
       "      <td>-0.102156</td>\n",
       "      <td>1.780760</td>\n",
       "      <td>NonResidential</td>\n",
       "      <td>-5.199338</td>\n",
       "      <td>1.579469</td>\n",
       "      <td>0.526416</td>\n",
       "      <td>-0.698331</td>\n",
       "      <td>0.468375</td>\n",
       "      <td>0.686155</td>\n",
       "      <td>1.063067</td>\n",
       "      <td>1.032726</td>\n",
       "      <td>tranche_date1</td>\n",
       "      <td>89</td>\n",
       "      <td>Various</td>\n",
       "      <td>Various</td>\n",
       "      <td>5.199338</td>\n",
       "    </tr>\n",
       "    <tr>\n",
       "      <th>1</th>\n",
       "      <td>2</td>\n",
       "      <td>1.124928</td>\n",
       "      <td>-5.199338</td>\n",
       "      <td>NonResidential</td>\n",
       "      <td>-5.199338</td>\n",
       "      <td>1.513075</td>\n",
       "      <td>0.672627</td>\n",
       "      <td>-0.676067</td>\n",
       "      <td>0.404029</td>\n",
       "      <td>0.785512</td>\n",
       "      <td>1.186095</td>\n",
       "      <td>1.038121</td>\n",
       "      <td>tranche_date3</td>\n",
       "      <td>20</td>\n",
       "      <td>Various</td>\n",
       "      <td>Various</td>\n",
       "      <td>-0.891433</td>\n",
       "    </tr>\n",
       "    <tr>\n",
       "      <th>2</th>\n",
       "      <td>3</td>\n",
       "      <td>-0.449644</td>\n",
       "      <td>1.811514</td>\n",
       "      <td>NonResidential</td>\n",
       "      <td>-5.199338</td>\n",
       "      <td>2.391518</td>\n",
       "      <td>2.294560</td>\n",
       "      <td>-1.018128</td>\n",
       "      <td>0.872260</td>\n",
       "      <td>2.764908</td>\n",
       "      <td>2.956706</td>\n",
       "      <td>0.798036</td>\n",
       "      <td>tranche_date2</td>\n",
       "      <td>47</td>\n",
       "      <td>Various</td>\n",
       "      <td>Various</td>\n",
       "      <td>-1.024762</td>\n",
       "    </tr>\n",
       "    <tr>\n",
       "      <th>3</th>\n",
       "      <td>5</td>\n",
       "      <td>0.078370</td>\n",
       "      <td>1.850416</td>\n",
       "      <td>NonResidential</td>\n",
       "      <td>-5.199338</td>\n",
       "      <td>1.431438</td>\n",
       "      <td>0.257700</td>\n",
       "      <td>-0.794587</td>\n",
       "      <td>0.711613</td>\n",
       "      <td>0.648032</td>\n",
       "      <td>1.153135</td>\n",
       "      <td>1.474777</td>\n",
       "      <td>tranche_date1</td>\n",
       "      <td>90</td>\n",
       "      <td>Various</td>\n",
       "      <td>Various</td>\n",
       "      <td>5.199338</td>\n",
       "    </tr>\n",
       "    <tr>\n",
       "      <th>4</th>\n",
       "      <td>8</td>\n",
       "      <td>1.164911</td>\n",
       "      <td>-5.199338</td>\n",
       "      <td>NonResidential</td>\n",
       "      <td>-5.199338</td>\n",
       "      <td>1.811195</td>\n",
       "      <td>1.046169</td>\n",
       "      <td>0.551688</td>\n",
       "      <td>0.682473</td>\n",
       "      <td>1.145998</td>\n",
       "      <td>1.599488</td>\n",
       "      <td>1.042423</td>\n",
       "      <td>tranche_date3</td>\n",
       "      <td>36</td>\n",
       "      <td>Various</td>\n",
       "      <td>Various</td>\n",
       "      <td>-1.432289</td>\n",
       "    </tr>\n",
       "    <tr>\n",
       "      <th>...</th>\n",
       "      <td>...</td>\n",
       "      <td>...</td>\n",
       "      <td>...</td>\n",
       "      <td>...</td>\n",
       "      <td>...</td>\n",
       "      <td>...</td>\n",
       "      <td>...</td>\n",
       "      <td>...</td>\n",
       "      <td>...</td>\n",
       "      <td>...</td>\n",
       "      <td>...</td>\n",
       "      <td>...</td>\n",
       "      <td>...</td>\n",
       "      <td>...</td>\n",
       "      <td>...</td>\n",
       "      <td>...</td>\n",
       "      <td>...</td>\n",
       "    </tr>\n",
       "    <tr>\n",
       "      <th>1536</th>\n",
       "      <td>50221</td>\n",
       "      <td>0.200061</td>\n",
       "      <td>-5.199338</td>\n",
       "      <td>Nonresidential COS</td>\n",
       "      <td>-5.199338</td>\n",
       "      <td>-5.199338</td>\n",
       "      <td>-2.511288</td>\n",
       "      <td>-0.138583</td>\n",
       "      <td>-0.113266</td>\n",
       "      <td>-0.956453</td>\n",
       "      <td>-0.664672</td>\n",
       "      <td>0.179283</td>\n",
       "      <td>tranche_date3</td>\n",
       "      <td>34</td>\n",
       "      <td>Various</td>\n",
       "      <td>Various</td>\n",
       "      <td>5.199338</td>\n",
       "    </tr>\n",
       "    <tr>\n",
       "      <th>1537</th>\n",
       "      <td>50223</td>\n",
       "      <td>1.000820</td>\n",
       "      <td>-5.199338</td>\n",
       "      <td>Nonresidential COS</td>\n",
       "      <td>-5.199338</td>\n",
       "      <td>-5.199338</td>\n",
       "      <td>-2.654090</td>\n",
       "      <td>-0.138583</td>\n",
       "      <td>-0.261901</td>\n",
       "      <td>-0.937300</td>\n",
       "      <td>-0.346737</td>\n",
       "      <td>0.717694</td>\n",
       "      <td>tranche_date4</td>\n",
       "      <td>12</td>\n",
       "      <td>Various</td>\n",
       "      <td>Various</td>\n",
       "      <td>5.199338</td>\n",
       "    </tr>\n",
       "    <tr>\n",
       "      <th>1538</th>\n",
       "      <td>50224</td>\n",
       "      <td>1.415149</td>\n",
       "      <td>-5.199338</td>\n",
       "      <td>Nonresidential COS</td>\n",
       "      <td>-5.199338</td>\n",
       "      <td>-5.199338</td>\n",
       "      <td>-2.844696</td>\n",
       "      <td>-0.138583</td>\n",
       "      <td>2.205546</td>\n",
       "      <td>0.542936</td>\n",
       "      <td>0.985572</td>\n",
       "      <td>2.901564</td>\n",
       "      <td>tranche_date2</td>\n",
       "      <td>42</td>\n",
       "      <td>Various</td>\n",
       "      <td>Various</td>\n",
       "      <td>5.199338</td>\n",
       "    </tr>\n",
       "    <tr>\n",
       "      <th>1539</th>\n",
       "      <td>50225</td>\n",
       "      <td>0.776000</td>\n",
       "      <td>-5.199338</td>\n",
       "      <td>Nonresidential COS</td>\n",
       "      <td>-5.199338</td>\n",
       "      <td>-5.199338</td>\n",
       "      <td>-2.769757</td>\n",
       "      <td>-0.138583</td>\n",
       "      <td>-0.383428</td>\n",
       "      <td>-1.226110</td>\n",
       "      <td>-0.615832</td>\n",
       "      <td>0.505473</td>\n",
       "      <td>tranche_date3</td>\n",
       "      <td>27</td>\n",
       "      <td>Various</td>\n",
       "      <td>Various</td>\n",
       "      <td>5.199338</td>\n",
       "    </tr>\n",
       "    <tr>\n",
       "      <th>1540</th>\n",
       "      <td>50226</td>\n",
       "      <td>1.183905</td>\n",
       "      <td>-5.199338</td>\n",
       "      <td>Nonresidential COS</td>\n",
       "      <td>-5.199338</td>\n",
       "      <td>-5.199338</td>\n",
       "      <td>-2.511479</td>\n",
       "      <td>-0.138583</td>\n",
       "      <td>-0.246092</td>\n",
       "      <td>-0.731660</td>\n",
       "      <td>-0.148713</td>\n",
       "      <td>0.825976</td>\n",
       "      <td>tranche_date1</td>\n",
       "      <td>78</td>\n",
       "      <td>Various</td>\n",
       "      <td>Various</td>\n",
       "      <td>5.199338</td>\n",
       "    </tr>\n",
       "  </tbody>\n",
       "</table>\n",
       "<p>1541 rows × 17 columns</p>\n",
       "</div>"
      ],
      "text/plain": [
       "      OSEBuildingID  %NaturalGas(kBtu)  %SteamUse(kBtu)        BuildingType  \\\n",
       "0                 1          -0.102156         1.780760      NonResidential   \n",
       "1                 2           1.124928        -5.199338      NonResidential   \n",
       "2                 3          -0.449644         1.811514      NonResidential   \n",
       "3                 5           0.078370         1.850416      NonResidential   \n",
       "4                 8           1.164911        -5.199338      NonResidential   \n",
       "...             ...                ...              ...                 ...   \n",
       "1536          50221           0.200061        -5.199338  Nonresidential COS   \n",
       "1537          50223           1.000820        -5.199338  Nonresidential COS   \n",
       "1538          50224           1.415149        -5.199338  Nonresidential COS   \n",
       "1539          50225           0.776000        -5.199338  Nonresidential COS   \n",
       "1540          50226           1.183905        -5.199338  Nonresidential COS   \n",
       "\n",
       "      NumberofBuildings  NumberofFloors  PropertyGFATotal  ENERGYSTARScore  \\\n",
       "0             -5.199338        1.579469          0.526416        -0.698331   \n",
       "1             -5.199338        1.513075          0.672627        -0.676067   \n",
       "2             -5.199338        2.391518          2.294560        -1.018128   \n",
       "3             -5.199338        1.431438          0.257700        -0.794587   \n",
       "4             -5.199338        1.811195          1.046169         0.551688   \n",
       "...                 ...             ...               ...              ...   \n",
       "1536          -5.199338       -5.199338         -2.511288        -0.138583   \n",
       "1537          -5.199338       -5.199338         -2.654090        -0.138583   \n",
       "1538          -5.199338       -5.199338         -2.844696        -0.138583   \n",
       "1539          -5.199338       -5.199338         -2.769757        -0.138583   \n",
       "1540          -5.199338       -5.199338         -2.511479        -0.138583   \n",
       "\n",
       "      SourceEUI(kBtu/sf)  SiteEnergyUse(kBtu)  TotalGHGEmissions  \\\n",
       "0               0.468375             0.686155           1.063067   \n",
       "1               0.404029             0.785512           1.186095   \n",
       "2               0.872260             2.764908           2.956706   \n",
       "3               0.711613             0.648032           1.153135   \n",
       "4               0.682473             1.145998           1.599488   \n",
       "...                  ...                  ...                ...   \n",
       "1536           -0.113266            -0.956453          -0.664672   \n",
       "1537           -0.261901            -0.937300          -0.346737   \n",
       "1538            2.205546             0.542936           0.985572   \n",
       "1539           -0.383428            -1.226110          -0.615832   \n",
       "1540           -0.246092            -0.731660          -0.148713   \n",
       "\n",
       "      GHGEmissionsIntensity   tranche_date  BuildingAge groups_neighborhood  \\\n",
       "0                  1.032726  tranche_date1           89             Various   \n",
       "1                  1.038121  tranche_date3           20             Various   \n",
       "2                  0.798036  tranche_date2           47             Various   \n",
       "3                  1.474777  tranche_date1           90             Various   \n",
       "4                  1.042423  tranche_date3           36             Various   \n",
       "...                     ...            ...          ...                 ...   \n",
       "1536               0.179283  tranche_date3           34             Various   \n",
       "1537               0.717694  tranche_date4           12             Various   \n",
       "1538               2.901564  tranche_date2           42             Various   \n",
       "1539               0.505473  tranche_date3           27             Various   \n",
       "1540               0.825976  tranche_date1           78             Various   \n",
       "\n",
       "     groups_PrimaryPropertyType  GFABuildingRate  \n",
       "0                       Various         5.199338  \n",
       "1                       Various        -0.891433  \n",
       "2                       Various        -1.024762  \n",
       "3                       Various         5.199338  \n",
       "4                       Various        -1.432289  \n",
       "...                         ...              ...  \n",
       "1536                    Various         5.199338  \n",
       "1537                    Various         5.199338  \n",
       "1538                    Various         5.199338  \n",
       "1539                    Various         5.199338  \n",
       "1540                    Various         5.199338  \n",
       "\n",
       "[1541 rows x 17 columns]"
      ]
     },
     "execution_count": 7,
     "metadata": {},
     "output_type": "execute_result"
    }
   ],
   "source": [
    "df"
   ]
  },
  {
   "cell_type": "code",
   "execution_count": 8,
   "id": "0ee1e61b",
   "metadata": {},
   "outputs": [
    {
     "data": {
      "text/plain": [
       "(1541, 17)"
      ]
     },
     "execution_count": 8,
     "metadata": {},
     "output_type": "execute_result"
    }
   ],
   "source": [
    "df.shape"
   ]
  },
  {
   "cell_type": "code",
   "execution_count": 9,
   "id": "ee0f86a9",
   "metadata": {},
   "outputs": [
    {
     "data": {
      "text/plain": [
       "['OSEBuildingID',\n",
       " '%NaturalGas(kBtu)',\n",
       " '%SteamUse(kBtu)',\n",
       " 'BuildingType',\n",
       " 'NumberofBuildings',\n",
       " 'NumberofFloors',\n",
       " 'PropertyGFATotal',\n",
       " 'ENERGYSTARScore',\n",
       " 'SourceEUI(kBtu/sf)',\n",
       " 'SiteEnergyUse(kBtu)',\n",
       " 'TotalGHGEmissions',\n",
       " 'GHGEmissionsIntensity',\n",
       " 'tranche_date',\n",
       " 'BuildingAge',\n",
       " 'groups_neighborhood',\n",
       " 'groups_PrimaryPropertyType',\n",
       " 'GFABuildingRate']"
      ]
     },
     "execution_count": 9,
     "metadata": {},
     "output_type": "execute_result"
    }
   ],
   "source": [
    "columns=list(df.columns)\n",
    "columns"
   ]
  },
  {
   "cell_type": "code",
   "execution_count": 10,
   "id": "92a10543",
   "metadata": {},
   "outputs": [],
   "source": [
    "target1='TotalGHGEmissions'\n",
    "target2='SiteEnergyUse(kBtu)'"
   ]
  },
  {
   "cell_type": "code",
   "execution_count": 11,
   "id": "9fa616ac",
   "metadata": {},
   "outputs": [
    {
     "data": {
      "text/html": [
       "<div>\n",
       "<style scoped>\n",
       "    .dataframe tbody tr th:only-of-type {\n",
       "        vertical-align: middle;\n",
       "    }\n",
       "\n",
       "    .dataframe tbody tr th {\n",
       "        vertical-align: top;\n",
       "    }\n",
       "\n",
       "    .dataframe thead th {\n",
       "        text-align: right;\n",
       "    }\n",
       "</style>\n",
       "<table border=\"1\" class=\"dataframe\">\n",
       "  <thead>\n",
       "    <tr style=\"text-align: right;\">\n",
       "      <th></th>\n",
       "      <th>level_0</th>\n",
       "      <th>level_1</th>\n",
       "      <th>corr_coeff</th>\n",
       "    </tr>\n",
       "  </thead>\n",
       "  <tbody>\n",
       "    <tr>\n",
       "      <th>0</th>\n",
       "      <td>PropertyGFATotal</td>\n",
       "      <td>SiteEnergyUse(kBtu)</td>\n",
       "      <td>0.716380</td>\n",
       "    </tr>\n",
       "    <tr>\n",
       "      <th>2</th>\n",
       "      <td>SiteEnergyUse(kBtu)</td>\n",
       "      <td>SourceEUI(kBtu/sf)</td>\n",
       "      <td>0.732017</td>\n",
       "    </tr>\n",
       "    <tr>\n",
       "      <th>4</th>\n",
       "      <td>TotalGHGEmissions</td>\n",
       "      <td>GHGEmissionsIntensity</td>\n",
       "      <td>0.756458</td>\n",
       "    </tr>\n",
       "    <tr>\n",
       "      <th>6</th>\n",
       "      <td>SiteEnergyUse(kBtu)</td>\n",
       "      <td>TotalGHGEmissions</td>\n",
       "      <td>0.885268</td>\n",
       "    </tr>\n",
       "  </tbody>\n",
       "</table>\n",
       "</div>"
      ],
      "text/plain": [
       "               level_0                level_1  corr_coeff\n",
       "0     PropertyGFATotal    SiteEnergyUse(kBtu)    0.716380\n",
       "2  SiteEnergyUse(kBtu)     SourceEUI(kBtu/sf)    0.732017\n",
       "4    TotalGHGEmissions  GHGEmissionsIntensity    0.756458\n",
       "6  SiteEnergyUse(kBtu)      TotalGHGEmissions    0.885268"
      ]
     },
     "execution_count": 11,
     "metadata": {},
     "output_type": "execute_result"
    }
   ],
   "source": [
    "f_strong_correlation(0.7 ,df)"
   ]
  },
  {
   "cell_type": "code",
   "execution_count": 12,
   "id": "ee01c59f",
   "metadata": {},
   "outputs": [
    {
     "data": {
      "text/plain": [
       "['BuildingType',\n",
       " 'GHGEmissionsIntensity',\n",
       " '%SteamUse(kBtu)',\n",
       " 'tranche_date',\n",
       " 'GFABuildingRate',\n",
       " 'groups_PrimaryPropertyType',\n",
       " 'NumberofFloors',\n",
       " 'SiteEnergyUse(kBtu)',\n",
       " 'BuildingAge',\n",
       " 'ENERGYSTARScore',\n",
       " '%NaturalGas(kBtu)',\n",
       " 'NumberofBuildings',\n",
       " 'groups_neighborhood']"
      ]
     },
     "execution_count": 12,
     "metadata": {},
     "output_type": "execute_result"
    }
   ],
   "source": [
    "#ici on élimine 'OSEBuildingID' et ''TotalGHGEmissions''(target1)\n",
    "cols=list(set(columns)-set(['OSEBuildingID','PropertyGFATotal','SourceEUI(kBtu/sf)',target1]))\n",
    "cols"
   ]
  },
  {
   "cell_type": "code",
   "execution_count": 13,
   "id": "fcc910b6",
   "metadata": {},
   "outputs": [],
   "source": [
    "df=df[cols]"
   ]
  },
  {
   "cell_type": "code",
   "execution_count": 14,
   "id": "6465213f",
   "metadata": {},
   "outputs": [
    {
     "name": "stdout",
     "output_type": "stream",
     "text": [
      "['GHGEmissionsIntensity', '%SteamUse(kBtu)', 'GFABuildingRate', 'NumberofFloors', 'SiteEnergyUse(kBtu)', 'BuildingAge', 'ENERGYSTARScore', '%NaturalGas(kBtu)', 'NumberofBuildings']\n"
     ]
    }
   ],
   "source": [
    "numercial_cols = [col for col in df.columns if df[col].dtype!=\"O\"]\n",
    "print(numercial_cols)"
   ]
  },
  {
   "cell_type": "code",
   "execution_count": 15,
   "id": "7520c9d5",
   "metadata": {},
   "outputs": [
    {
     "name": "stdout",
     "output_type": "stream",
     "text": [
      "['BuildingType', 'tranche_date', 'groups_PrimaryPropertyType', 'groups_neighborhood']\n"
     ]
    }
   ],
   "source": [
    "categorical_cols = [col for col in df.columns if df[col].dtype==\"O\"]\n",
    "print(categorical_cols)"
   ]
  },
  {
   "cell_type": "code",
   "execution_count": 16,
   "id": "9fee50f7",
   "metadata": {},
   "outputs": [
    {
     "data": {
      "text/plain": [
       "array(['NonResidential', 'Nonresidential COS', 'SPS-District K-12',\n",
       "       'Campus'], dtype=object)"
      ]
     },
     "execution_count": 16,
     "metadata": {},
     "output_type": "execute_result"
    }
   ],
   "source": [
    "df['BuildingType'].unique()"
   ]
  },
  {
   "cell_type": "code",
   "execution_count": 17,
   "id": "3116472c",
   "metadata": {},
   "outputs": [
    {
     "data": {
      "text/plain": [
       "array(['Various', 'North', 'Central', 'South'], dtype=object)"
      ]
     },
     "execution_count": 17,
     "metadata": {},
     "output_type": "execute_result"
    }
   ],
   "source": [
    "df['groups_neighborhood'].unique()"
   ]
  },
  {
   "cell_type": "code",
   "execution_count": 18,
   "id": "5bd9d724",
   "metadata": {},
   "outputs": [
    {
     "data": {
      "text/plain": [
       "array(['tranche_date1', 'tranche_date3', 'tranche_date2', 'tranche_date4'],\n",
       "      dtype=object)"
      ]
     },
     "execution_count": 18,
     "metadata": {},
     "output_type": "execute_result"
    }
   ],
   "source": [
    "df['tranche_date'].unique()"
   ]
  },
  {
   "cell_type": "code",
   "execution_count": 19,
   "id": "5847dda7",
   "metadata": {},
   "outputs": [
    {
     "data": {
      "text/plain": [
       "array(['Various', 'Commerce', 'Health'], dtype=object)"
      ]
     },
     "execution_count": 19,
     "metadata": {},
     "output_type": "execute_result"
    }
   ],
   "source": [
    "df['groups_PrimaryPropertyType'].unique()"
   ]
  },
  {
   "cell_type": "code",
   "execution_count": 20,
   "id": "a5fb6465",
   "metadata": {},
   "outputs": [
    {
     "data": {
      "text/plain": [
       "(1541, 13)"
      ]
     },
     "execution_count": 20,
     "metadata": {},
     "output_type": "execute_result"
    }
   ],
   "source": [
    "df.shape"
   ]
  },
  {
   "cell_type": "code",
   "execution_count": 21,
   "id": "b91617e0",
   "metadata": {},
   "outputs": [],
   "source": [
    "numercial_cols_for_transformer=list(set(numercial_cols)-set([target2]))"
   ]
  },
  {
   "cell_type": "code",
   "execution_count": 22,
   "id": "2e2d8e75",
   "metadata": {},
   "outputs": [
    {
     "data": {
      "text/plain": [
       "['GHGEmissionsIntensity',\n",
       " '%SteamUse(kBtu)',\n",
       " 'GFABuildingRate',\n",
       " 'NumberofFloors',\n",
       " 'BuildingAge',\n",
       " 'ENERGYSTARScore',\n",
       " 'NumberofBuildings',\n",
       " '%NaturalGas(kBtu)']"
      ]
     },
     "execution_count": 22,
     "metadata": {},
     "output_type": "execute_result"
    }
   ],
   "source": [
    "numercial_cols_for_transformer"
   ]
  },
  {
   "cell_type": "markdown",
   "id": "1d6f79c0",
   "metadata": {},
   "source": [
    "## 2.Build a pipeline <a class=\"anchor\" id=\"bp\"></a>"
   ]
  },
  {
   "cell_type": "code",
   "execution_count": 23,
   "id": "06b1f9ee",
   "metadata": {},
   "outputs": [],
   "source": [
    "# Create pipelines for numerical and categorical features\n",
    "numeric_transformer = Pipeline(\n",
    "    steps=[(\"scaler\", StandardScaler())]\n",
    ")\n",
    "\n",
    "categorical_transformer = OneHotEncoder(handle_unknown=\"ignore\",drop='first')\n",
    " #when using sklearn.compose.ColumnTransformer You need to make sure the output column is not included in the data you create your Preprocessing pipeline with\n",
    "# Create ColumnTransformer to apply pipeline for each column type\n",
    "preprocessor = ColumnTransformer(\n",
    "    transformers=[\n",
    "        (\"num\", numeric_transformer, numercial_cols_for_transformer),\n",
    "        (\"cat\", categorical_transformer, categorical_cols),\n",
    "    ]\n",
    ")"
   ]
  },
  {
   "cell_type": "code",
   "execution_count": 24,
   "id": "6704b30f",
   "metadata": {},
   "outputs": [],
   "source": [
    "def feature_after_transformer(preprocessor):\n",
    "    tx = preprocessor.get_params()['transformers']\n",
    "    feature_names = []\n",
    "    for name,transformer,features in tx:\n",
    "        try:\n",
    "            Var = preprocessor.named_transformers_[name].get_feature_names_out().tolist()\n",
    "        except AttributeError:\n",
    "            Var = features\n",
    "        feature_names = feature_names + Var\n",
    "\n",
    "    return feature_names"
   ]
  },
  {
   "cell_type": "code",
   "execution_count": 25,
   "id": "7d35ad36",
   "metadata": {},
   "outputs": [
    {
     "data": {
      "text/plain": [
       "['GHGEmissionsIntensity',\n",
       " '%SteamUse(kBtu)',\n",
       " 'GFABuildingRate',\n",
       " 'NumberofFloors',\n",
       " 'BuildingAge',\n",
       " 'ENERGYSTARScore',\n",
       " 'NumberofBuildings',\n",
       " '%NaturalGas(kBtu)',\n",
       " 'BuildingType',\n",
       " 'tranche_date',\n",
       " 'groups_PrimaryPropertyType',\n",
       " 'groups_neighborhood']"
      ]
     },
     "execution_count": 25,
     "metadata": {},
     "output_type": "execute_result"
    }
   ],
   "source": [
    "feature_after_transformer(preprocessor)"
   ]
  },
  {
   "cell_type": "code",
   "execution_count": 26,
   "id": "cc242047",
   "metadata": {},
   "outputs": [],
   "source": [
    "y=df[[target2]]\n",
    "y= StandardScaler().fit_transform(y)\n",
    "features=list(set(cols)-set([target2]))\n",
    "X=df[features]"
   ]
  },
  {
   "cell_type": "markdown",
   "id": "9b316fb7",
   "metadata": {},
   "source": [
    "#### Continuous target stratification"
   ]
  },
  {
   "cell_type": "code",
   "execution_count": 27,
   "id": "c539cdcc",
   "metadata": {},
   "outputs": [],
   "source": [
    "bins = np.linspace(0, len(y), 100)\n",
    "\n",
    "# Save your Y values in a new ndarray,\n",
    "# broken down by the bins created above.\n",
    "\n",
    "y_binned = np.digitize(y, bins)\n",
    "\n",
    "# Pass y_binned to the stratify argument,\n",
    "# and sklearn will handle the rest\n",
    "\n"
   ]
  },
  {
   "cell_type": "code",
   "execution_count": 28,
   "id": "1a31b103",
   "metadata": {},
   "outputs": [],
   "source": [
    "#X_train, X_test, y_train, y_test = train_test_split(X, y, test_size=0.2, random_state=0)\n",
    "X_train, X_test, y_train, y_test = train_test_split(X, y, test_size=0.2, stratify=y_binned,random_state=0)"
   ]
  },
  {
   "cell_type": "markdown",
   "id": "c25068b0",
   "metadata": {},
   "source": [
    "## 3.Idée pour choisir le meilleur modèle <a class=\"anchor\" id=\"ic\"></a>"
   ]
  },
  {
   "cell_type": "code",
   "execution_count": 29,
   "id": "162cf4d6",
   "metadata": {},
   "outputs": [],
   "source": [
    "regressors = [DummyRegressor(strategy=\"median\",constant=None,quantile=0.5),\n",
    "              LinearRegression(fit_intercept=True,normalize=True,copy_X=True),\n",
    "              Ridge(alpha=5,solver='auto',fit_intercept=True),\n",
    "              Lasso(tol=1e-3,selection='random',fit_intercept=True),\n",
    "              ElasticNet(tol=1e-3,selection='random',fit_intercept=True),\n",
    "              RandomForestRegressor(n_estimators=300,max_leaf_nodes=1000,criterion='squared_error'),\n",
    "              SVR(kernel='rbf',degree=3,gamma='scale'),\n",
    "              LGBMRegressor(boosting_type='gbdt',num_leaves=31,max_depth=1),\n",
    "              XGBRegressor(objective ='reg:squarederror',booster=\"dart\",\n",
    "                  n_estimators = 300)\n",
    "              ]"
   ]
  },
  {
   "cell_type": "code",
   "execution_count": 30,
   "id": "8787d5f1",
   "metadata": {},
   "outputs": [
    {
     "name": "stdout",
     "output_type": "stream",
     "text": [
      "DummyRegressor(quantile=0.5, strategy='median')\n",
      "\tTraining time: 0.031s\n",
      "\tPrediction time: 0.016s\n",
      "\tMean squared error: 1.200507790674351\n",
      "\tRMSE: 1.0956768641686065\n",
      "\tR2 score: -0.001191377759159229\n",
      "\n",
      "LinearRegression(normalize=True)\n",
      "\tTraining time: 3.112s\n",
      "\tPrediction time: 0.038s\n",
      "\tMean squared error: 0.5417712699661208\n",
      "\tRMSE: 0.7360511327116621\n",
      "\tR2 score: 0.5481772559734721\n",
      "\n",
      "Ridge(alpha=5)\n",
      "\tTraining time: 0.528s\n",
      "\tPrediction time: 0.016s\n",
      "\tMean squared error: 0.5438532300070404\n",
      "\tRMSE: 0.7374640533660203\n",
      "\tR2 score: 0.5464409570023201\n",
      "\n",
      "Lasso(selection='random', tol=0.001)\n",
      "\tTraining time: 0.078s\n",
      "\tPrediction time: 0.016s\n",
      "\tMean squared error: 1.2013293285247153\n",
      "\tRMSE: 1.096051699749932\n",
      "\tR2 score: -0.0018765183460649482\n",
      "\n",
      "ElasticNet(selection='random', tol=0.001)\n",
      "\tTraining time: 0.016s\n",
      "\tPrediction time: 0.016s\n",
      "\tMean squared error: 1.2013293285247153\n",
      "\tRMSE: 1.096051699749932\n",
      "\tR2 score: -0.0018765183460649482\n",
      "\n",
      "RandomForestRegressor(max_leaf_nodes=1000, n_estimators=300)\n",
      "\tTraining time: 2.684s\n",
      "\tPrediction time: 0.078s\n",
      "\tMean squared error: 0.30565197003663125\n",
      "\tRMSE: 0.5528580016935916\n",
      "\tR2 score: 0.7450944347275912\n",
      "\n",
      "SVR()\n",
      "\tTraining time: 0.209s\n",
      "\tPrediction time: 0.077s\n",
      "\tMean squared error: 0.36885918066532664\n",
      "\tRMSE: 0.607337781358386\n",
      "\tR2 score: 0.6923813121762501\n",
      "\n",
      "LGBMRegressor(max_depth=1)\n",
      "\tTraining time: 0.642s\n",
      "\tPrediction time: 0.031s\n",
      "\tMean squared error: 0.42147948423355136\n",
      "\tRMSE: 0.6492145132647231\n",
      "\tR2 score: 0.6484973868599612\n",
      "\n",
      "XGBRegressor(base_score=0.5, booster='dart', callbacks=None,\n",
      "             colsample_bylevel=1, colsample_bynode=1, colsample_bytree=1,\n",
      "             early_stopping_rounds=None, enable_categorical=False,\n",
      "             eval_metric=None, gamma=0, gpu_id=-1, grow_policy='depthwise',\n",
      "             importance_type=None, interaction_constraints='',\n",
      "             learning_rate=0.300000012, max_bin=256, max_cat_to_onehot=4,\n",
      "             max_delta_step=0, max_depth=6, max_leaves=0, min_child_weight=1,\n",
      "             missing=nan, monotone_constraints='()', n_estimators=300, n_jobs=0,\n",
      "             num_parallel_tree=1, predictor='auto', random_state=0, reg_alpha=0,\n",
      "             reg_lambda=1, ...)\n",
      "\tTraining time: 11.797s\n",
      "\tPrediction time: 0.125s\n",
      "\tMean squared error: 0.3037945561666241\n",
      "\tRMSE: 0.5511756128192031\n",
      "\tR2 score: 0.7466434681999494\n",
      "\n"
     ]
    }
   ],
   "source": [
    "from sklearn.feature_selection import SelectKBest\n",
    "from sklearn.feature_selection import chi2, f_regression\n",
    "\n",
    "for model in regressors:\n",
    "    start = time()\n",
    "    #select=SelectKBest(score_func=f_regression,k=8)\n",
    "    #pip = Pipeline(steps=[(\"preprocessor\", preprocessor),(\"selector\",select),(\"model\", model)])\n",
    "    pip = Pipeline(steps=[(\"preprocessor\", preprocessor),(\"model\", model)])\n",
    "    \n",
    "    pip.fit(X_train, y_train)\n",
    "    train_time = time() - start\n",
    "    start = time()\n",
    "    y_pred = pip.predict(X_test)\n",
    "    predict_time = time()-start    \n",
    "    print(model)\n",
    "    print(\"\\tTraining time: %0.3fs\" % train_time)\n",
    "    print(\"\\tPrediction time: %0.3fs\" % predict_time)\n",
    "   \n",
    "    print(\"\\tMean squared error:\", mean_squared_error(y_test, y_pred))\n",
    "    print(\"\\tRMSE:\", np.sqrt(mean_squared_error(y_test, y_pred)))\n",
    "    print(\"\\tR2 score:\", r2_score(y_test, y_pred))\n",
    "    print()"
   ]
  },
  {
   "cell_type": "markdown",
   "id": "24be7158",
   "metadata": {},
   "source": [
    "**Note**\n",
    "<br>\n",
    "Dans la suite en se basant sur le coefficient de détermination (R2 score), on va travailler sur RandmForestRgressor et XGBRegressor."
   ]
  },
  {
   "cell_type": "markdown",
   "id": "16c7ab98",
   "metadata": {},
   "source": [
    "## 4.Modèles de machine learning choisis<a class=\"anchor\" id=\"mml\"></a>"
   ]
  },
  {
   "cell_type": "code",
   "execution_count": 31,
   "id": "a5d8adab",
   "metadata": {},
   "outputs": [],
   "source": [
    "def f_performance(pip):\n",
    "    #pip.fit(X_train,y_train)\n",
    "  \n",
    "    \n",
    "    print('******************')\n",
    "    #Check MSE and RMSE\n",
    "\n",
    "    y_pred = pip.predict(X_test)\n",
    "    print(f'MSE : {mean_squared_error(y_test, y_pred):.3f}')\n",
    "    print(f'RMSE : {np.sqrt(mean_squared_error(y_test, y_pred)):.3f}')\n",
    "    print(f'R2 : {r2_score(y_test, y_pred):.3f}')"
   ]
  },
  {
   "cell_type": "code",
   "execution_count": 32,
   "id": "a1273fcd",
   "metadata": {},
   "outputs": [],
   "source": [
    "font = {\n",
    "        'weight' : 'bold',\n",
    "        'size'   : 12}\n",
    "\n",
    "plt.rc('font', **font)"
   ]
  },
  {
   "cell_type": "markdown",
   "id": "3bf6fa74",
   "metadata": {},
   "source": [
    "##### "
   ]
  },
  {
   "cell_type": "markdown",
   "id": "485c36b5",
   "metadata": {},
   "source": [
    "## 4.5.RandomForestRegressor"
   ]
  },
  {
   "cell_type": "code",
   "execution_count": 35,
   "id": "99f6a618",
   "metadata": {},
   "outputs": [
    {
     "data": {
      "text/plain": [
       "Pipeline(steps=[('preprocessor',\n",
       "                 ColumnTransformer(transformers=[('num',\n",
       "                                                  Pipeline(steps=[('scaler',\n",
       "                                                                   StandardScaler())]),\n",
       "                                                  ['GHGEmissionsIntensity',\n",
       "                                                   '%SteamUse(kBtu)',\n",
       "                                                   'GFABuildingRate',\n",
       "                                                   'NumberofFloors',\n",
       "                                                   'BuildingAge',\n",
       "                                                   'ENERGYSTARScore',\n",
       "                                                   'NumberofBuildings',\n",
       "                                                   '%NaturalGas(kBtu)']),\n",
       "                                                 ('cat',\n",
       "                                                  OneHotEncoder(drop='first',\n",
       "                                                                handle_unknown='ignore'),\n",
       "                                                  ['BuildingType',\n",
       "                                                   'tranche_date',\n",
       "                                                   'groups_PrimaryPropertyType',\n",
       "                                                   'groups_neighborhood'])])),\n",
       "                ('model',\n",
       "                 RandomForestRegressor(max_leaf_nodes=1000, n_estimators=300))])"
      ]
     },
     "execution_count": 35,
     "metadata": {},
     "output_type": "execute_result"
    }
   ],
   "source": [
    "clf_rf = Pipeline(\n",
    "    steps=[(\"preprocessor\", preprocessor), (\"model\", RandomForestRegressor(n_estimators=300,max_leaf_nodes=1000,criterion='squared_error'))]\n",
    ")\n",
    "clf_rf.fit(X_train,y_train)"
   ]
  },
  {
   "cell_type": "markdown",
   "id": "517564c6",
   "metadata": {},
   "source": [
    "### 4.5.1.Indicateurs de performance"
   ]
  },
  {
   "cell_type": "code",
   "execution_count": 36,
   "id": "1ffe8e4e",
   "metadata": {},
   "outputs": [
    {
     "name": "stdout",
     "output_type": "stream",
     "text": [
      "******************\n",
      "MSE : 0.306\n",
      "RMSE : 0.553\n",
      "R2 : 0.745\n"
     ]
    }
   ],
   "source": [
    "f_performance(clf_rf)"
   ]
  },
  {
   "cell_type": "markdown",
   "id": "4f1b6b13",
   "metadata": {},
   "source": [
    "### 4.5.2.Optimisation du modèle"
   ]
  },
  {
   "cell_type": "code",
   "execution_count": null,
   "id": "41666b33",
   "metadata": {},
   "outputs": [],
   "source": [
    "list(clf_rf.get_params().keys())"
   ]
  },
  {
   "cell_type": "code",
   "execution_count": null,
   "id": "594800fd",
   "metadata": {},
   "outputs": [],
   "source": []
  },
  {
   "cell_type": "code",
   "execution_count": null,
   "id": "125b2fa1",
   "metadata": {},
   "outputs": [],
   "source": []
  },
  {
   "cell_type": "code",
   "execution_count": null,
   "id": "6a3d718a",
   "metadata": {},
   "outputs": [],
   "source": []
  },
  {
   "cell_type": "code",
   "execution_count": 37,
   "id": "9237199e",
   "metadata": {},
   "outputs": [
    {
     "data": {
      "text/plain": [
       "GridSearchCV(cv=10,\n",
       "             estimator=Pipeline(steps=[('preprocessor',\n",
       "                                        ColumnTransformer(transformers=[('num',\n",
       "                                                                         Pipeline(steps=[('scaler',\n",
       "                                                                                          StandardScaler())]),\n",
       "                                                                         ['GHGEmissionsIntensity',\n",
       "                                                                          '%SteamUse(kBtu)',\n",
       "                                                                          'GFABuildingRate',\n",
       "                                                                          'NumberofFloors',\n",
       "                                                                          'BuildingAge',\n",
       "                                                                          'ENERGYSTARScore',\n",
       "                                                                          'NumberofBuildings',\n",
       "                                                                          '%NaturalGas(kBtu)']),\n",
       "                                                                        ('cat',\n",
       "                                                                         OneHotEncoder(drop='first',\n",
       "                                                                                       handle_unknown='ignore'),\n",
       "                                                                         ['BuildingType',\n",
       "                                                                          'tranche_date',\n",
       "                                                                          'groups_PrimaryPropertyType',\n",
       "                                                                          'groups_neighborhood'])])),\n",
       "                                       ('model',\n",
       "                                        RandomForestRegressor(max_leaf_nodes=1000,\n",
       "                                                              n_estimators=300))]),\n",
       "             param_grid={'model__criterion': ['squared_error', 'absolute_error',\n",
       "                                              'poisson'],\n",
       "                         'model__n_estimators': [1000, 500, 100]})"
      ]
     },
     "execution_count": 37,
     "metadata": {},
     "output_type": "execute_result"
    }
   ],
   "source": [
    "param_grid = {\n",
    "    \n",
    "    #\"model__max_leaf_nodes\": [1000,5000,100000,None],\n",
    "    \"model__n_estimators\": [1000,500,100],\n",
    "     \"model__criterion\": ['squared_error', 'absolute_error', 'poisson']\n",
    "    \n",
    "}\n",
    "grid_search = GridSearchCV(clf_rf, param_grid, cv=10)\n",
    "grid_search.fit(X_train,y_train)"
   ]
  },
  {
   "cell_type": "code",
   "execution_count": 38,
   "id": "7023f270",
   "metadata": {},
   "outputs": [
    {
     "data": {
      "text/html": [
       "<div>\n",
       "<style scoped>\n",
       "    .dataframe tbody tr th:only-of-type {\n",
       "        vertical-align: middle;\n",
       "    }\n",
       "\n",
       "    .dataframe tbody tr th {\n",
       "        vertical-align: top;\n",
       "    }\n",
       "\n",
       "    .dataframe thead th {\n",
       "        text-align: right;\n",
       "    }\n",
       "</style>\n",
       "<table border=\"1\" class=\"dataframe\">\n",
       "  <thead>\n",
       "    <tr style=\"text-align: right;\">\n",
       "      <th></th>\n",
       "      <th>mean_fit_time</th>\n",
       "      <th>std_fit_time</th>\n",
       "      <th>mean_score_time</th>\n",
       "      <th>std_score_time</th>\n",
       "      <th>param_model__criterion</th>\n",
       "      <th>param_model__n_estimators</th>\n",
       "      <th>params</th>\n",
       "      <th>split0_test_score</th>\n",
       "      <th>split1_test_score</th>\n",
       "      <th>split2_test_score</th>\n",
       "      <th>split3_test_score</th>\n",
       "      <th>split4_test_score</th>\n",
       "      <th>split5_test_score</th>\n",
       "      <th>split6_test_score</th>\n",
       "      <th>split7_test_score</th>\n",
       "      <th>split8_test_score</th>\n",
       "      <th>split9_test_score</th>\n",
       "      <th>mean_test_score</th>\n",
       "      <th>std_test_score</th>\n",
       "      <th>rank_test_score</th>\n",
       "    </tr>\n",
       "  </thead>\n",
       "  <tbody>\n",
       "    <tr>\n",
       "      <th>0</th>\n",
       "      <td>8.999395</td>\n",
       "      <td>0.728677</td>\n",
       "      <td>0.200200</td>\n",
       "      <td>0.041435</td>\n",
       "      <td>squared_error</td>\n",
       "      <td>1000</td>\n",
       "      <td>{'model__criterion': 'squared_error', 'model__...</td>\n",
       "      <td>0.719109</td>\n",
       "      <td>0.739813</td>\n",
       "      <td>0.627431</td>\n",
       "      <td>0.764045</td>\n",
       "      <td>0.688687</td>\n",
       "      <td>0.659126</td>\n",
       "      <td>0.607598</td>\n",
       "      <td>0.701744</td>\n",
       "      <td>0.698733</td>\n",
       "      <td>0.751333</td>\n",
       "      <td>0.695762</td>\n",
       "      <td>0.049107</td>\n",
       "      <td>2</td>\n",
       "    </tr>\n",
       "    <tr>\n",
       "      <th>1</th>\n",
       "      <td>4.190207</td>\n",
       "      <td>0.226883</td>\n",
       "      <td>0.089549</td>\n",
       "      <td>0.005020</td>\n",
       "      <td>squared_error</td>\n",
       "      <td>500</td>\n",
       "      <td>{'model__criterion': 'squared_error', 'model__...</td>\n",
       "      <td>0.716602</td>\n",
       "      <td>0.739711</td>\n",
       "      <td>0.625770</td>\n",
       "      <td>0.763076</td>\n",
       "      <td>0.688901</td>\n",
       "      <td>0.660420</td>\n",
       "      <td>0.606162</td>\n",
       "      <td>0.702326</td>\n",
       "      <td>0.697111</td>\n",
       "      <td>0.755631</td>\n",
       "      <td>0.695571</td>\n",
       "      <td>0.049748</td>\n",
       "      <td>3</td>\n",
       "    </tr>\n",
       "    <tr>\n",
       "      <th>2</th>\n",
       "      <td>0.834027</td>\n",
       "      <td>0.042249</td>\n",
       "      <td>0.025188</td>\n",
       "      <td>0.002230</td>\n",
       "      <td>squared_error</td>\n",
       "      <td>100</td>\n",
       "      <td>{'model__criterion': 'squared_error', 'model__...</td>\n",
       "      <td>0.705789</td>\n",
       "      <td>0.730612</td>\n",
       "      <td>0.622076</td>\n",
       "      <td>0.766261</td>\n",
       "      <td>0.675736</td>\n",
       "      <td>0.660321</td>\n",
       "      <td>0.591599</td>\n",
       "      <td>0.691611</td>\n",
       "      <td>0.699577</td>\n",
       "      <td>0.759766</td>\n",
       "      <td>0.690335</td>\n",
       "      <td>0.052967</td>\n",
       "      <td>5</td>\n",
       "    </tr>\n",
       "    <tr>\n",
       "      <th>3</th>\n",
       "      <td>76.440426</td>\n",
       "      <td>3.187824</td>\n",
       "      <td>0.220987</td>\n",
       "      <td>0.050388</td>\n",
       "      <td>absolute_error</td>\n",
       "      <td>1000</td>\n",
       "      <td>{'model__criterion': 'absolute_error', 'model_...</td>\n",
       "      <td>0.730978</td>\n",
       "      <td>0.744825</td>\n",
       "      <td>0.597782</td>\n",
       "      <td>0.757606</td>\n",
       "      <td>0.696281</td>\n",
       "      <td>0.658507</td>\n",
       "      <td>0.601141</td>\n",
       "      <td>0.719603</td>\n",
       "      <td>0.698996</td>\n",
       "      <td>0.753375</td>\n",
       "      <td>0.695909</td>\n",
       "      <td>0.055957</td>\n",
       "      <td>1</td>\n",
       "    </tr>\n",
       "    <tr>\n",
       "      <th>4</th>\n",
       "      <td>37.634250</td>\n",
       "      <td>1.913223</td>\n",
       "      <td>0.102444</td>\n",
       "      <td>0.007856</td>\n",
       "      <td>absolute_error</td>\n",
       "      <td>500</td>\n",
       "      <td>{'model__criterion': 'absolute_error', 'model_...</td>\n",
       "      <td>0.726037</td>\n",
       "      <td>0.744629</td>\n",
       "      <td>0.600212</td>\n",
       "      <td>0.752752</td>\n",
       "      <td>0.697374</td>\n",
       "      <td>0.651238</td>\n",
       "      <td>0.593745</td>\n",
       "      <td>0.715774</td>\n",
       "      <td>0.702656</td>\n",
       "      <td>0.749301</td>\n",
       "      <td>0.693372</td>\n",
       "      <td>0.055975</td>\n",
       "      <td>4</td>\n",
       "    </tr>\n",
       "    <tr>\n",
       "      <th>5</th>\n",
       "      <td>7.506194</td>\n",
       "      <td>0.196018</td>\n",
       "      <td>0.029186</td>\n",
       "      <td>0.002673</td>\n",
       "      <td>absolute_error</td>\n",
       "      <td>100</td>\n",
       "      <td>{'model__criterion': 'absolute_error', 'model_...</td>\n",
       "      <td>0.713350</td>\n",
       "      <td>0.744365</td>\n",
       "      <td>0.583924</td>\n",
       "      <td>0.765233</td>\n",
       "      <td>0.680196</td>\n",
       "      <td>0.659209</td>\n",
       "      <td>0.578525</td>\n",
       "      <td>0.724241</td>\n",
       "      <td>0.697790</td>\n",
       "      <td>0.749552</td>\n",
       "      <td>0.689639</td>\n",
       "      <td>0.062179</td>\n",
       "      <td>6</td>\n",
       "    </tr>\n",
       "    <tr>\n",
       "      <th>6</th>\n",
       "      <td>0.017690</td>\n",
       "      <td>0.002573</td>\n",
       "      <td>0.000000</td>\n",
       "      <td>0.000000</td>\n",
       "      <td>poisson</td>\n",
       "      <td>1000</td>\n",
       "      <td>{'model__criterion': 'poisson', 'model__n_esti...</td>\n",
       "      <td>NaN</td>\n",
       "      <td>NaN</td>\n",
       "      <td>NaN</td>\n",
       "      <td>NaN</td>\n",
       "      <td>NaN</td>\n",
       "      <td>NaN</td>\n",
       "      <td>NaN</td>\n",
       "      <td>NaN</td>\n",
       "      <td>NaN</td>\n",
       "      <td>NaN</td>\n",
       "      <td>NaN</td>\n",
       "      <td>NaN</td>\n",
       "      <td>7</td>\n",
       "    </tr>\n",
       "    <tr>\n",
       "      <th>7</th>\n",
       "      <td>0.018989</td>\n",
       "      <td>0.002487</td>\n",
       "      <td>0.000000</td>\n",
       "      <td>0.000000</td>\n",
       "      <td>poisson</td>\n",
       "      <td>500</td>\n",
       "      <td>{'model__criterion': 'poisson', 'model__n_esti...</td>\n",
       "      <td>NaN</td>\n",
       "      <td>NaN</td>\n",
       "      <td>NaN</td>\n",
       "      <td>NaN</td>\n",
       "      <td>NaN</td>\n",
       "      <td>NaN</td>\n",
       "      <td>NaN</td>\n",
       "      <td>NaN</td>\n",
       "      <td>NaN</td>\n",
       "      <td>NaN</td>\n",
       "      <td>NaN</td>\n",
       "      <td>NaN</td>\n",
       "      <td>8</td>\n",
       "    </tr>\n",
       "    <tr>\n",
       "      <th>8</th>\n",
       "      <td>0.025485</td>\n",
       "      <td>0.006165</td>\n",
       "      <td>0.000000</td>\n",
       "      <td>0.000000</td>\n",
       "      <td>poisson</td>\n",
       "      <td>100</td>\n",
       "      <td>{'model__criterion': 'poisson', 'model__n_esti...</td>\n",
       "      <td>NaN</td>\n",
       "      <td>NaN</td>\n",
       "      <td>NaN</td>\n",
       "      <td>NaN</td>\n",
       "      <td>NaN</td>\n",
       "      <td>NaN</td>\n",
       "      <td>NaN</td>\n",
       "      <td>NaN</td>\n",
       "      <td>NaN</td>\n",
       "      <td>NaN</td>\n",
       "      <td>NaN</td>\n",
       "      <td>NaN</td>\n",
       "      <td>9</td>\n",
       "    </tr>\n",
       "  </tbody>\n",
       "</table>\n",
       "</div>"
      ],
      "text/plain": [
       "   mean_fit_time  std_fit_time  mean_score_time  std_score_time  \\\n",
       "0       8.999395      0.728677         0.200200        0.041435   \n",
       "1       4.190207      0.226883         0.089549        0.005020   \n",
       "2       0.834027      0.042249         0.025188        0.002230   \n",
       "3      76.440426      3.187824         0.220987        0.050388   \n",
       "4      37.634250      1.913223         0.102444        0.007856   \n",
       "5       7.506194      0.196018         0.029186        0.002673   \n",
       "6       0.017690      0.002573         0.000000        0.000000   \n",
       "7       0.018989      0.002487         0.000000        0.000000   \n",
       "8       0.025485      0.006165         0.000000        0.000000   \n",
       "\n",
       "  param_model__criterion param_model__n_estimators  \\\n",
       "0          squared_error                      1000   \n",
       "1          squared_error                       500   \n",
       "2          squared_error                       100   \n",
       "3         absolute_error                      1000   \n",
       "4         absolute_error                       500   \n",
       "5         absolute_error                       100   \n",
       "6                poisson                      1000   \n",
       "7                poisson                       500   \n",
       "8                poisson                       100   \n",
       "\n",
       "                                              params  split0_test_score  \\\n",
       "0  {'model__criterion': 'squared_error', 'model__...           0.719109   \n",
       "1  {'model__criterion': 'squared_error', 'model__...           0.716602   \n",
       "2  {'model__criterion': 'squared_error', 'model__...           0.705789   \n",
       "3  {'model__criterion': 'absolute_error', 'model_...           0.730978   \n",
       "4  {'model__criterion': 'absolute_error', 'model_...           0.726037   \n",
       "5  {'model__criterion': 'absolute_error', 'model_...           0.713350   \n",
       "6  {'model__criterion': 'poisson', 'model__n_esti...                NaN   \n",
       "7  {'model__criterion': 'poisson', 'model__n_esti...                NaN   \n",
       "8  {'model__criterion': 'poisson', 'model__n_esti...                NaN   \n",
       "\n",
       "   split1_test_score  split2_test_score  split3_test_score  split4_test_score  \\\n",
       "0           0.739813           0.627431           0.764045           0.688687   \n",
       "1           0.739711           0.625770           0.763076           0.688901   \n",
       "2           0.730612           0.622076           0.766261           0.675736   \n",
       "3           0.744825           0.597782           0.757606           0.696281   \n",
       "4           0.744629           0.600212           0.752752           0.697374   \n",
       "5           0.744365           0.583924           0.765233           0.680196   \n",
       "6                NaN                NaN                NaN                NaN   \n",
       "7                NaN                NaN                NaN                NaN   \n",
       "8                NaN                NaN                NaN                NaN   \n",
       "\n",
       "   split5_test_score  split6_test_score  split7_test_score  split8_test_score  \\\n",
       "0           0.659126           0.607598           0.701744           0.698733   \n",
       "1           0.660420           0.606162           0.702326           0.697111   \n",
       "2           0.660321           0.591599           0.691611           0.699577   \n",
       "3           0.658507           0.601141           0.719603           0.698996   \n",
       "4           0.651238           0.593745           0.715774           0.702656   \n",
       "5           0.659209           0.578525           0.724241           0.697790   \n",
       "6                NaN                NaN                NaN                NaN   \n",
       "7                NaN                NaN                NaN                NaN   \n",
       "8                NaN                NaN                NaN                NaN   \n",
       "\n",
       "   split9_test_score  mean_test_score  std_test_score  rank_test_score  \n",
       "0           0.751333         0.695762        0.049107                2  \n",
       "1           0.755631         0.695571        0.049748                3  \n",
       "2           0.759766         0.690335        0.052967                5  \n",
       "3           0.753375         0.695909        0.055957                1  \n",
       "4           0.749301         0.693372        0.055975                4  \n",
       "5           0.749552         0.689639        0.062179                6  \n",
       "6                NaN              NaN             NaN                7  \n",
       "7                NaN              NaN             NaN                8  \n",
       "8                NaN              NaN             NaN                9  "
      ]
     },
     "execution_count": 38,
     "metadata": {},
     "output_type": "execute_result"
    }
   ],
   "source": [
    "cv_results = pd.DataFrame(grid_search.cv_results_)\n",
    "cv_results"
   ]
  },
  {
   "cell_type": "code",
   "execution_count": 39,
   "id": "15e1b558",
   "metadata": {},
   "outputs": [
    {
     "data": {
      "text/plain": [
       "{'model__criterion': 'absolute_error', 'model__n_estimators': 1000}"
      ]
     },
     "execution_count": 39,
     "metadata": {},
     "output_type": "execute_result"
    }
   ],
   "source": [
    "grid_search.best_params_"
   ]
  },
  {
   "cell_type": "code",
   "execution_count": 63,
   "id": "f02042c7",
   "metadata": {},
   "outputs": [
    {
     "name": "stdout",
     "output_type": "stream",
     "text": [
      "******************\n",
      "MSE : 0.285\n",
      "RMSE : 0.534\n",
      "R2 : 0.763\n"
     ]
    }
   ],
   "source": [
    "best_estim=grid_search.best_estimator_\n",
    "f_performance(best_estim)"
   ]
  },
  {
   "cell_type": "code",
   "execution_count": 62,
   "id": "5e8ee9c5",
   "metadata": {},
   "outputs": [
    {
     "name": "stdout",
     "output_type": "stream",
     "text": [
      "******************\n",
      "MSE : 0.285\n",
      "RMSE : 0.534\n",
      "R2 : 0.763\n"
     ]
    }
   ],
   "source": [
    "#save the best model\n",
    "filename1 = \"rf_model.joblib\"\n",
    "joblib.dump(best_estim, filename1)\n",
    "#loaad the model\n",
    "loaded_rf = joblib.load(filename1)\n",
    "#f_performance(loaded_model)"
   ]
  },
  {
   "cell_type": "code",
   "execution_count": 65,
   "id": "f69d9302",
   "metadata": {},
   "outputs": [
    {
     "data": {
      "text/plain": [
       "Pipeline(steps=[('preprocessor',\n",
       "                 ColumnTransformer(transformers=[('num',\n",
       "                                                  Pipeline(steps=[('scaler',\n",
       "                                                                   StandardScaler())]),\n",
       "                                                  ['GHGEmissionsIntensity',\n",
       "                                                   '%SteamUse(kBtu)',\n",
       "                                                   'GFABuildingRate',\n",
       "                                                   'NumberofFloors',\n",
       "                                                   'BuildingAge',\n",
       "                                                   'ENERGYSTARScore',\n",
       "                                                   'NumberofBuildings',\n",
       "                                                   '%NaturalGas(kBtu)']),\n",
       "                                                 ('cat',\n",
       "                                                  OneHotEncoder(drop='first',\n",
       "                                                                handle_unknown='ignore'),\n",
       "                                                  ['BuildingType',\n",
       "                                                   'tranc...\n",
       "                              gamma=0, gpu_id=-1, grow_policy='depthwise',\n",
       "                              importance_type=None, interaction_constraints='',\n",
       "                              learning_rate=0.01, max_bin=256,\n",
       "                              max_cat_to_onehot=4, max_delta_step=0,\n",
       "                              max_depth=6, max_leaves=0, min_child_weight=1,\n",
       "                              missing=nan, monotone_constraints='()',\n",
       "                              n_estimators=1000, n_jobs=0, num_parallel_tree=1,\n",
       "                              predictor='auto', random_state=123, reg_alpha=0,\n",
       "                              reg_lambda=1, ...))])"
      ]
     },
     "execution_count": 65,
     "metadata": {},
     "output_type": "execute_result"
    }
   ],
   "source": [
    "# Save the grid search\n",
    "joblib.dump(grid_search, 'gridearch_xg.pkl')\n",
    "#load the grid search\n",
    "gs=joblib.load(\"gridearch_xg.pkl\")\n",
    "gs.best_estimator_"
   ]
  },
  {
   "cell_type": "markdown",
   "id": "f26d658c",
   "metadata": {},
   "source": [
    "## 4.6.XGBRegressor"
   ]
  },
  {
   "cell_type": "code",
   "execution_count": 41,
   "id": "617f06f2",
   "metadata": {},
   "outputs": [
    {
     "data": {
      "text/plain": [
       "Pipeline(steps=[('preprocessor',\n",
       "                 ColumnTransformer(transformers=[('num',\n",
       "                                                  Pipeline(steps=[('scaler',\n",
       "                                                                   StandardScaler())]),\n",
       "                                                  ['GHGEmissionsIntensity',\n",
       "                                                   '%SteamUse(kBtu)',\n",
       "                                                   'GFABuildingRate',\n",
       "                                                   'NumberofFloors',\n",
       "                                                   'BuildingAge',\n",
       "                                                   'ENERGYSTARScore',\n",
       "                                                   'NumberofBuildings',\n",
       "                                                   '%NaturalGas(kBtu)']),\n",
       "                                                 ('cat',\n",
       "                                                  OneHotEncoder(drop='first',\n",
       "                                                                handle_unknown='ignore'),\n",
       "                                                  ['BuildingType',\n",
       "                                                   'tranc...\n",
       "                              gamma=0, gpu_id=-1, grow_policy='depthwise',\n",
       "                              importance_type=None, interaction_constraints='',\n",
       "                              learning_rate=0.300000012, max_bin=256,\n",
       "                              max_cat_to_onehot=4, max_delta_step=0,\n",
       "                              max_depth=6, max_leaves=0, min_child_weight=1,\n",
       "                              missing=nan, monotone_constraints='()',\n",
       "                              n_estimators=10, n_jobs=0, num_parallel_tree=1,\n",
       "                              predictor='auto', random_state=123, reg_alpha=0,\n",
       "                              reg_lambda=1, ...))])"
      ]
     },
     "execution_count": 41,
     "metadata": {},
     "output_type": "execute_result"
    }
   ],
   "source": [
    "clf_xg = Pipeline(\n",
    "    steps=[(\"preprocessor\", preprocessor), (\"model\", XGBRegressor(objective ='reg:squarederror',\n",
    "                  n_estimators = 10, seed = 123))]\n",
    ")\n",
    "clf_xg.fit(X_train,y_train)\n"
   ]
  },
  {
   "cell_type": "markdown",
   "id": "0f2754ac",
   "metadata": {},
   "source": [
    "### 4.6.1.Indicateurs de performance"
   ]
  },
  {
   "cell_type": "code",
   "execution_count": null,
   "id": "64825f02",
   "metadata": {},
   "outputs": [],
   "source": []
  },
  {
   "cell_type": "code",
   "execution_count": 42,
   "id": "ecc15ac9",
   "metadata": {},
   "outputs": [
    {
     "name": "stdout",
     "output_type": "stream",
     "text": [
      "******************\n",
      "MSE : 0.321\n",
      "RMSE : 0.566\n",
      "R2 : 0.733\n"
     ]
    }
   ],
   "source": [
    "f_performance(clf_xg)"
   ]
  },
  {
   "cell_type": "markdown",
   "id": "e4197846",
   "metadata": {},
   "source": [
    "### 4.6.2.Optimisation du modèle"
   ]
  },
  {
   "cell_type": "code",
   "execution_count": null,
   "id": "e06705d8",
   "metadata": {},
   "outputs": [],
   "source": [
    "#list(clf_xg.get_params().keys())"
   ]
  },
  {
   "cell_type": "code",
   "execution_count": 48,
   "id": "6d7647d0",
   "metadata": {},
   "outputs": [
    {
     "data": {
      "text/plain": [
       "GridSearchCV(cv=10,\n",
       "             estimator=Pipeline(steps=[('preprocessor',\n",
       "                                        ColumnTransformer(transformers=[('num',\n",
       "                                                                         Pipeline(steps=[('scaler',\n",
       "                                                                                          StandardScaler())]),\n",
       "                                                                         ['GHGEmissionsIntensity',\n",
       "                                                                          '%SteamUse(kBtu)',\n",
       "                                                                          'GFABuildingRate',\n",
       "                                                                          'NumberofFloors',\n",
       "                                                                          'BuildingAge',\n",
       "                                                                          'ENERGYSTARScore',\n",
       "                                                                          'NumberofBuildings',\n",
       "                                                                          '%NaturalGas(kBtu)']),\n",
       "                                                                        ('cat',\n",
       "                                                                         OneHotEncoder(drop='first',\n",
       "                                                                                       handle_unknown='ig...\n",
       "                                                     max_cat_to_onehot=4,\n",
       "                                                     max_delta_step=0,\n",
       "                                                     max_depth=6, max_leaves=0,\n",
       "                                                     min_child_weight=1,\n",
       "                                                     missing=nan,\n",
       "                                                     monotone_constraints='()',\n",
       "                                                     n_estimators=10, n_jobs=0,\n",
       "                                                     num_parallel_tree=1,\n",
       "                                                     predictor='auto',\n",
       "                                                     random_state=123,\n",
       "                                                     reg_alpha=0, reg_lambda=1, ...))]),\n",
       "             param_grid={'model__booster': ['squarederror', 'gbtree'],\n",
       "                         'model__learning_rate': [0.3, 0.5, 0.1, 0.01, 0.001],\n",
       "                         'model__n_estimators': [1500, 1000]})"
      ]
     },
     "execution_count": 48,
     "metadata": {},
     "output_type": "execute_result"
    }
   ],
   "source": [
    "param_grid = {\n",
    "    \n",
    "    \"model__booster\": ['squarederror','gbtree'],\n",
    "    \"model__n_estimators\": [1500,1000],\n",
    "    \n",
    "    #\"model__max_leaves\": [10000, 1500,1000,100],\n",
    "    \"model__learning_rate\": [0.3, 0.5,0.1,0.01,0.001]\n",
    "    \n",
    "}\n",
    "\n",
    "\n",
    "grid_search = GridSearchCV(clf_xg, param_grid, cv=10)\n",
    "grid_search.fit(X_train,y_train)"
   ]
  },
  {
   "cell_type": "code",
   "execution_count": 58,
   "id": "811fb9b7",
   "metadata": {},
   "outputs": [],
   "source": [
    "cv_results = pd.DataFrame(grid_search.cv_results_)\n",
    "cv_results\n",
    "grid_search.best_params_\n",
    "cv_results.to_csv('cvresults_xg.csv')"
   ]
  },
  {
   "cell_type": "code",
   "execution_count": 70,
   "id": "be2892bc",
   "metadata": {},
   "outputs": [
    {
     "name": "stdout",
     "output_type": "stream",
     "text": [
      "******************\n",
      "MSE : 0.285\n",
      "RMSE : 0.534\n",
      "R2 : 0.763\n"
     ]
    }
   ],
   "source": [
    "best_estim_xg=grid_search.best_estimator_\n",
    "f_performance(best_estim_xg)"
   ]
  },
  {
   "cell_type": "code",
   "execution_count": 68,
   "id": "8e2d2e4e",
   "metadata": {},
   "outputs": [],
   "source": [
    "#save the best model\n",
    "filename = \"xg_model.joblib\"\n",
    "joblib.dump(best_estim_xg, filename)\n",
    "#loaad the model\n",
    "loaded_model = joblib.load(filename)\n",
    "#f_performance(loaded_model)"
   ]
  },
  {
   "cell_type": "code",
   "execution_count": 59,
   "id": "d509c6f8",
   "metadata": {},
   "outputs": [],
   "source": []
  },
  {
   "cell_type": "code",
   "execution_count": 60,
   "id": "96f812fa",
   "metadata": {},
   "outputs": [
    {
     "data": {
      "text/plain": [
       "Pipeline(steps=[('preprocessor',\n",
       "                 ColumnTransformer(transformers=[('num',\n",
       "                                                  Pipeline(steps=[('scaler',\n",
       "                                                                   StandardScaler())]),\n",
       "                                                  ['GHGEmissionsIntensity',\n",
       "                                                   '%SteamUse(kBtu)',\n",
       "                                                   'GFABuildingRate',\n",
       "                                                   'NumberofFloors',\n",
       "                                                   'BuildingAge',\n",
       "                                                   'ENERGYSTARScore',\n",
       "                                                   'NumberofBuildings',\n",
       "                                                   '%NaturalGas(kBtu)']),\n",
       "                                                 ('cat',\n",
       "                                                  OneHotEncoder(drop='first',\n",
       "                                                                handle_unknown='ignore'),\n",
       "                                                  ['BuildingType',\n",
       "                                                   'tranc...\n",
       "                              gamma=0, gpu_id=-1, grow_policy='depthwise',\n",
       "                              importance_type=None, interaction_constraints='',\n",
       "                              learning_rate=0.01, max_bin=256,\n",
       "                              max_cat_to_onehot=4, max_delta_step=0,\n",
       "                              max_depth=6, max_leaves=0, min_child_weight=1,\n",
       "                              missing=nan, monotone_constraints='()',\n",
       "                              n_estimators=1000, n_jobs=0, num_parallel_tree=1,\n",
       "                              predictor='auto', random_state=123, reg_alpha=0,\n",
       "                              reg_lambda=1, ...))])"
      ]
     },
     "execution_count": 60,
     "metadata": {},
     "output_type": "execute_result"
    }
   ],
   "source": [
    "# Save the grid search\n",
    "joblib.dump(grid_search, 'gridearch_xg.pkl')\n",
    "#load the grid search\n",
    "gs=joblib.load(\"gridearch_xg.pkl\")\n",
    "#gs.best_estimator_"
   ]
  },
  {
   "cell_type": "code",
   "execution_count": 79,
   "id": "8a2aa30b",
   "metadata": {},
   "outputs": [],
   "source": [
    "# fit the preprocessor \n",
    "X_encoded = grid_search.best_estimator_['preprocessor'].fit_transform(X_train)\n",
    "\n",
    "# fit the model \n",
    "best_model = grid_search.best_estimator_['model'].fit(X_encoded, y_train)\n",
    "\n",
    "# calculate the Shap values\n",
    "shap_values = shap.TreeExplainer(best_model).shap_values(X_encoded)"
   ]
  },
  {
   "cell_type": "code",
   "execution_count": 93,
   "id": "98528a26",
   "metadata": {},
   "outputs": [
    {
     "data": {
      "image/png": "[encoded data removed]",
      "text/plain": [
       "<Figure size 576x655.2 with 2 Axes>"
      ]
     },
     "metadata": {
      "needs_background": "light"
     },
     "output_type": "display_data"
    }
   ],
   "source": [
    "shap.summary_plot(shap_values, X_encoded,feature_names=feature_after_transformer(preprocessor))"
   ]
  },
  {
   "cell_type": "markdown",
   "id": "e5270f38",
   "metadata": {},
   "source": [
    "**Observations**\n",
    "<br>\n",
    "Ce  graphique globale  montre les valeurs de Shap sur l'axe des x. Ici, toutes les valeurs à gauche représentent les observations qui déplacent la valeur prédite dans la direction négative, tandis que les points à droite contribuent à déplacer la prédiction dans une direction positive. \n",
    "<br>\n",
    "L'axe y contient les variables"
   ]
  },
  {
   "cell_type": "code",
   "execution_count": 95,
   "id": "243fb004",
   "metadata": {},
   "outputs": [
    {
     "data": {
      "image/png": "[encoded data removed]",
      "text/plain": [
       "<Figure size 576x655.2 with 1 Axes>"
      ]
     },
     "metadata": {
      "needs_background": "light"
     },
     "output_type": "display_data"
    }
   ],
   "source": [
    "# plot the Shap values\n",
    "shap.summary_plot(shap_values, X_encoded, plot_type='bar',feature_names=feature_after_transformer(preprocessor))"
   ]
  },
  {
   "cell_type": "code",
   "execution_count": 102,
   "id": "e8effddc",
   "metadata": {},
   "outputs": [],
   "source": [
    "#shap.dependence_plot(\"GHGEmissionsIntensity\",shap_values,X_encoded)"
   ]
  },
  {
   "cell_type": "code",
   "execution_count": null,
   "id": "061cc651",
   "metadata": {},
   "outputs": [],
   "source": []
  }
 ],
 "metadata": {
  "kernelspec": {
   "display_name": "Python 3 (ipykernel)",
   "language": "python",
   "name": "python3"
  },
  "language_info": {
   "codemirror_mode": {
    "name": "ipython",
    "version": 3
   },
   "file_extension": ".py",
   "mimetype": "text/x-python",
   "name": "python",
   "nbconvert_exporter": "python",
   "pygments_lexer": "ipython3",
   "version": "3.10.4"
  }
 },
 "nbformat": 4,
 "nbformat_minor": 5
}
