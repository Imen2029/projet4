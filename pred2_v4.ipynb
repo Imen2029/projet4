{
 "cells": [
  {
   "cell_type": "markdown",
   "id": "ba5631a4",
   "metadata": {},
   "source": [
    "* [1.Load Data From CSV File](#ld)\n",
    "* [2.Build a pipeline](#bp)\n",
    "* [3.Idée pour choisir le meilleur modèle](#ic)\n",
    "* [4.Modèles de machine learning choisis](#mml)\n"
   ]
  },
  {
   "cell_type": "code",
   "execution_count": 4,
   "id": "0040ade2",
   "metadata": {},
   "outputs": [],
   "source": [
    "#!pip install xgboost"
   ]
  },
  {
   "cell_type": "code",
   "execution_count": 5,
   "id": "52e96a65",
   "metadata": {},
   "outputs": [],
   "source": [
    "#!pip install lightgbm "
   ]
  },
  {
   "cell_type": "code",
   "execution_count": 6,
   "id": "4712a784",
   "metadata": {},
   "outputs": [],
   "source": [
    "import pandas as pd\n",
    "import numpy as np\n",
    "\n",
    "import missingno as msno\n",
    "import seaborn as sns\n",
    "\n",
    "import matplotlib.pyplot as plt \n",
    "import warnings\n",
    "warnings.filterwarnings('ignore')\n",
    "\n",
    "from sklearn.preprocessing import OneHotEncoder,StandardScaler\n",
    "\n",
    "from sklearn.compose import make_column_transformer\n",
    "from sklearn.pipeline import Pipeline\n",
    "from sklearn.compose import ColumnTransformer\n",
    "from sklearn.linear_model import LinearRegression,Ridge,Lasso\n",
    "from sklearn.preprocessing import PolynomialFeatures\n",
    "from sklearn.linear_model import ElasticNet\n",
    "from sklearn.dummy import DummyRegressor\n",
    "from sklearn.svm import SVR\n",
    "from  xgboost import XGBRegressor\n",
    "from lightgbm import LGBMRegressor\n",
    "from sklearn.ensemble import RandomForestRegressor\n",
    "\n",
    "\n",
    "import sklearn\n",
    "\n",
    "from sklearn.metrics import confusion_matrix\n",
    "\n",
    "from sklearn.model_selection import train_test_split, GridSearchCV,cross_val_score,StratifiedGroupKFold\n",
    "from sklearn.model_selection import KFold, StratifiedKFold\n",
    "from sklearn.metrics import mean_absolute_error,r2_score\n",
    "from time import time\n",
    "\n",
    "\n",
    "from sklearn.metrics import mean_squared_error\n",
    "warnings.filterwarnings('ignore')"
   ]
  },
  {
   "cell_type": "code",
   "execution_count": 7,
   "id": "d78c23fa",
   "metadata": {},
   "outputs": [],
   "source": [
    "############Fonction affichant les variables corrélés en fixant un seuil\n",
    "def f_strong_correlation(threshold_up ,df2):\n",
    "    #threshold_up = 0.7\n",
    "    corr_pairs = df2.corr().unstack().sort_values(kind=\"quicksort\")\n",
    "    strong_corr = (pd.DataFrame(corr_pairs[(abs(corr_pairs) > threshold_up)])\n",
    "               .reset_index().rename(columns={0:'corr_coeff'}))\n",
    "    strong_corr = strong_corr[(strong_corr.index%2 == 0) & \n",
    "                          (strong_corr['level_0'] != strong_corr['level_1'])]\n",
    "    strong_corr.sort_values('corr_coeff', ascending=False)\n",
    "    return strong_corr"
   ]
  },
  {
   "cell_type": "markdown",
   "id": "565ad0ef",
   "metadata": {},
   "source": [
    "### 1.Load Data From CSV File<a class=\"anchor\" id=\"ld\"></a>"
   ]
  },
  {
   "cell_type": "code",
   "execution_count": 8,
   "id": "ba85f0f1",
   "metadata": {},
   "outputs": [],
   "source": [
    "#df = pd.read_csv('prepared_data.csv', sep='\\t')\n",
    "\n",
    "df = pd.read_csv('df_quantile.csv',sep='\\t')\n",
    "\n"
   ]
  },
  {
   "cell_type": "code",
   "execution_count": 9,
   "id": "6f95e082",
   "metadata": {},
   "outputs": [
    {
     "data": {
      "text/html": [
       "<div>\n",
       "<style scoped>\n",
       "    .dataframe tbody tr th:only-of-type {\n",
       "        vertical-align: middle;\n",
       "    }\n",
       "\n",
       "    .dataframe tbody tr th {\n",
       "        vertical-align: top;\n",
       "    }\n",
       "\n",
       "    .dataframe thead th {\n",
       "        text-align: right;\n",
       "    }\n",
       "</style>\n",
       "<table border=\"1\" class=\"dataframe\">\n",
       "  <thead>\n",
       "    <tr style=\"text-align: right;\">\n",
       "      <th></th>\n",
       "      <th>OSEBuildingID</th>\n",
       "      <th>%NaturalGas(kBtu)</th>\n",
       "      <th>%SteamUse(kBtu)</th>\n",
       "      <th>BuildingType</th>\n",
       "      <th>NumberofBuildings</th>\n",
       "      <th>NumberofFloors</th>\n",
       "      <th>PropertyGFATotal</th>\n",
       "      <th>ENERGYSTARScore</th>\n",
       "      <th>SourceEUI(kBtu/sf)</th>\n",
       "      <th>SiteEnergyUse(kBtu)</th>\n",
       "      <th>TotalGHGEmissions</th>\n",
       "      <th>GHGEmissionsIntensity</th>\n",
       "      <th>tranche_date</th>\n",
       "      <th>BuildingAge</th>\n",
       "      <th>groups_neighborhood</th>\n",
       "      <th>groups_PrimaryPropertyType</th>\n",
       "      <th>GFABuildingRate</th>\n",
       "    </tr>\n",
       "  </thead>\n",
       "  <tbody>\n",
       "    <tr>\n",
       "      <th>0</th>\n",
       "      <td>1</td>\n",
       "      <td>-0.102156</td>\n",
       "      <td>1.780760</td>\n",
       "      <td>NonResidential</td>\n",
       "      <td>-5.199338</td>\n",
       "      <td>1.579469</td>\n",
       "      <td>0.526416</td>\n",
       "      <td>-0.698331</td>\n",
       "      <td>0.468375</td>\n",
       "      <td>0.686155</td>\n",
       "      <td>1.063067</td>\n",
       "      <td>1.032726</td>\n",
       "      <td>tranche_date1</td>\n",
       "      <td>89</td>\n",
       "      <td>Various</td>\n",
       "      <td>Various</td>\n",
       "      <td>5.199338</td>\n",
       "    </tr>\n",
       "    <tr>\n",
       "      <th>1</th>\n",
       "      <td>2</td>\n",
       "      <td>1.124928</td>\n",
       "      <td>-5.199338</td>\n",
       "      <td>NonResidential</td>\n",
       "      <td>-5.199338</td>\n",
       "      <td>1.513075</td>\n",
       "      <td>0.672627</td>\n",
       "      <td>-0.676067</td>\n",
       "      <td>0.404029</td>\n",
       "      <td>0.785512</td>\n",
       "      <td>1.186095</td>\n",
       "      <td>1.038121</td>\n",
       "      <td>tranche_date3</td>\n",
       "      <td>20</td>\n",
       "      <td>Various</td>\n",
       "      <td>Various</td>\n",
       "      <td>-0.891433</td>\n",
       "    </tr>\n",
       "    <tr>\n",
       "      <th>2</th>\n",
       "      <td>3</td>\n",
       "      <td>-0.449644</td>\n",
       "      <td>1.811514</td>\n",
       "      <td>NonResidential</td>\n",
       "      <td>-5.199338</td>\n",
       "      <td>2.391518</td>\n",
       "      <td>2.294560</td>\n",
       "      <td>-1.018128</td>\n",
       "      <td>0.872260</td>\n",
       "      <td>2.764908</td>\n",
       "      <td>2.956706</td>\n",
       "      <td>0.798036</td>\n",
       "      <td>tranche_date2</td>\n",
       "      <td>47</td>\n",
       "      <td>Various</td>\n",
       "      <td>Various</td>\n",
       "      <td>-1.024762</td>\n",
       "    </tr>\n",
       "    <tr>\n",
       "      <th>3</th>\n",
       "      <td>5</td>\n",
       "      <td>0.078370</td>\n",
       "      <td>1.850416</td>\n",
       "      <td>NonResidential</td>\n",
       "      <td>-5.199338</td>\n",
       "      <td>1.431438</td>\n",
       "      <td>0.257700</td>\n",
       "      <td>-0.794587</td>\n",
       "      <td>0.711613</td>\n",
       "      <td>0.648032</td>\n",
       "      <td>1.153135</td>\n",
       "      <td>1.474777</td>\n",
       "      <td>tranche_date1</td>\n",
       "      <td>90</td>\n",
       "      <td>Various</td>\n",
       "      <td>Various</td>\n",
       "      <td>5.199338</td>\n",
       "    </tr>\n",
       "    <tr>\n",
       "      <th>4</th>\n",
       "      <td>8</td>\n",
       "      <td>1.164911</td>\n",
       "      <td>-5.199338</td>\n",
       "      <td>NonResidential</td>\n",
       "      <td>-5.199338</td>\n",
       "      <td>1.811195</td>\n",
       "      <td>1.046169</td>\n",
       "      <td>0.551688</td>\n",
       "      <td>0.682473</td>\n",
       "      <td>1.145998</td>\n",
       "      <td>1.599488</td>\n",
       "      <td>1.042423</td>\n",
       "      <td>tranche_date3</td>\n",
       "      <td>36</td>\n",
       "      <td>Various</td>\n",
       "      <td>Various</td>\n",
       "      <td>-1.432289</td>\n",
       "    </tr>\n",
       "    <tr>\n",
       "      <th>...</th>\n",
       "      <td>...</td>\n",
       "      <td>...</td>\n",
       "      <td>...</td>\n",
       "      <td>...</td>\n",
       "      <td>...</td>\n",
       "      <td>...</td>\n",
       "      <td>...</td>\n",
       "      <td>...</td>\n",
       "      <td>...</td>\n",
       "      <td>...</td>\n",
       "      <td>...</td>\n",
       "      <td>...</td>\n",
       "      <td>...</td>\n",
       "      <td>...</td>\n",
       "      <td>...</td>\n",
       "      <td>...</td>\n",
       "      <td>...</td>\n",
       "    </tr>\n",
       "    <tr>\n",
       "      <th>1536</th>\n",
       "      <td>50221</td>\n",
       "      <td>0.200061</td>\n",
       "      <td>-5.199338</td>\n",
       "      <td>Nonresidential COS</td>\n",
       "      <td>-5.199338</td>\n",
       "      <td>-5.199338</td>\n",
       "      <td>-2.511288</td>\n",
       "      <td>-0.138583</td>\n",
       "      <td>-0.113266</td>\n",
       "      <td>-0.956453</td>\n",
       "      <td>-0.664672</td>\n",
       "      <td>0.179283</td>\n",
       "      <td>tranche_date3</td>\n",
       "      <td>34</td>\n",
       "      <td>Various</td>\n",
       "      <td>Various</td>\n",
       "      <td>5.199338</td>\n",
       "    </tr>\n",
       "    <tr>\n",
       "      <th>1537</th>\n",
       "      <td>50223</td>\n",
       "      <td>1.000820</td>\n",
       "      <td>-5.199338</td>\n",
       "      <td>Nonresidential COS</td>\n",
       "      <td>-5.199338</td>\n",
       "      <td>-5.199338</td>\n",
       "      <td>-2.654090</td>\n",
       "      <td>-0.138583</td>\n",
       "      <td>-0.261901</td>\n",
       "      <td>-0.937300</td>\n",
       "      <td>-0.346737</td>\n",
       "      <td>0.717694</td>\n",
       "      <td>tranche_date4</td>\n",
       "      <td>12</td>\n",
       "      <td>Various</td>\n",
       "      <td>Various</td>\n",
       "      <td>5.199338</td>\n",
       "    </tr>\n",
       "    <tr>\n",
       "      <th>1538</th>\n",
       "      <td>50224</td>\n",
       "      <td>1.415149</td>\n",
       "      <td>-5.199338</td>\n",
       "      <td>Nonresidential COS</td>\n",
       "      <td>-5.199338</td>\n",
       "      <td>-5.199338</td>\n",
       "      <td>-2.844696</td>\n",
       "      <td>-0.138583</td>\n",
       "      <td>2.205546</td>\n",
       "      <td>0.542936</td>\n",
       "      <td>0.985572</td>\n",
       "      <td>2.901564</td>\n",
       "      <td>tranche_date2</td>\n",
       "      <td>42</td>\n",
       "      <td>Various</td>\n",
       "      <td>Various</td>\n",
       "      <td>5.199338</td>\n",
       "    </tr>\n",
       "    <tr>\n",
       "      <th>1539</th>\n",
       "      <td>50225</td>\n",
       "      <td>0.776000</td>\n",
       "      <td>-5.199338</td>\n",
       "      <td>Nonresidential COS</td>\n",
       "      <td>-5.199338</td>\n",
       "      <td>-5.199338</td>\n",
       "      <td>-2.769757</td>\n",
       "      <td>-0.138583</td>\n",
       "      <td>-0.383428</td>\n",
       "      <td>-1.226110</td>\n",
       "      <td>-0.615832</td>\n",
       "      <td>0.505473</td>\n",
       "      <td>tranche_date3</td>\n",
       "      <td>27</td>\n",
       "      <td>Various</td>\n",
       "      <td>Various</td>\n",
       "      <td>5.199338</td>\n",
       "    </tr>\n",
       "    <tr>\n",
       "      <th>1540</th>\n",
       "      <td>50226</td>\n",
       "      <td>1.183905</td>\n",
       "      <td>-5.199338</td>\n",
       "      <td>Nonresidential COS</td>\n",
       "      <td>-5.199338</td>\n",
       "      <td>-5.199338</td>\n",
       "      <td>-2.511479</td>\n",
       "      <td>-0.138583</td>\n",
       "      <td>-0.246092</td>\n",
       "      <td>-0.731660</td>\n",
       "      <td>-0.148713</td>\n",
       "      <td>0.825976</td>\n",
       "      <td>tranche_date1</td>\n",
       "      <td>78</td>\n",
       "      <td>Various</td>\n",
       "      <td>Various</td>\n",
       "      <td>5.199338</td>\n",
       "    </tr>\n",
       "  </tbody>\n",
       "</table>\n",
       "<p>1541 rows × 17 columns</p>\n",
       "</div>"
      ],
      "text/plain": [
       "      OSEBuildingID  %NaturalGas(kBtu)  %SteamUse(kBtu)        BuildingType  \\\n",
       "0                 1          -0.102156         1.780760      NonResidential   \n",
       "1                 2           1.124928        -5.199338      NonResidential   \n",
       "2                 3          -0.449644         1.811514      NonResidential   \n",
       "3                 5           0.078370         1.850416      NonResidential   \n",
       "4                 8           1.164911        -5.199338      NonResidential   \n",
       "...             ...                ...              ...                 ...   \n",
       "1536          50221           0.200061        -5.199338  Nonresidential COS   \n",
       "1537          50223           1.000820        -5.199338  Nonresidential COS   \n",
       "1538          50224           1.415149        -5.199338  Nonresidential COS   \n",
       "1539          50225           0.776000        -5.199338  Nonresidential COS   \n",
       "1540          50226           1.183905        -5.199338  Nonresidential COS   \n",
       "\n",
       "      NumberofBuildings  NumberofFloors  PropertyGFATotal  ENERGYSTARScore  \\\n",
       "0             -5.199338        1.579469          0.526416        -0.698331   \n",
       "1             -5.199338        1.513075          0.672627        -0.676067   \n",
       "2             -5.199338        2.391518          2.294560        -1.018128   \n",
       "3             -5.199338        1.431438          0.257700        -0.794587   \n",
       "4             -5.199338        1.811195          1.046169         0.551688   \n",
       "...                 ...             ...               ...              ...   \n",
       "1536          -5.199338       -5.199338         -2.511288        -0.138583   \n",
       "1537          -5.199338       -5.199338         -2.654090        -0.138583   \n",
       "1538          -5.199338       -5.199338         -2.844696        -0.138583   \n",
       "1539          -5.199338       -5.199338         -2.769757        -0.138583   \n",
       "1540          -5.199338       -5.199338         -2.511479        -0.138583   \n",
       "\n",
       "      SourceEUI(kBtu/sf)  SiteEnergyUse(kBtu)  TotalGHGEmissions  \\\n",
       "0               0.468375             0.686155           1.063067   \n",
       "1               0.404029             0.785512           1.186095   \n",
       "2               0.872260             2.764908           2.956706   \n",
       "3               0.711613             0.648032           1.153135   \n",
       "4               0.682473             1.145998           1.599488   \n",
       "...                  ...                  ...                ...   \n",
       "1536           -0.113266            -0.956453          -0.664672   \n",
       "1537           -0.261901            -0.937300          -0.346737   \n",
       "1538            2.205546             0.542936           0.985572   \n",
       "1539           -0.383428            -1.226110          -0.615832   \n",
       "1540           -0.246092            -0.731660          -0.148713   \n",
       "\n",
       "      GHGEmissionsIntensity   tranche_date  BuildingAge groups_neighborhood  \\\n",
       "0                  1.032726  tranche_date1           89             Various   \n",
       "1                  1.038121  tranche_date3           20             Various   \n",
       "2                  0.798036  tranche_date2           47             Various   \n",
       "3                  1.474777  tranche_date1           90             Various   \n",
       "4                  1.042423  tranche_date3           36             Various   \n",
       "...                     ...            ...          ...                 ...   \n",
       "1536               0.179283  tranche_date3           34             Various   \n",
       "1537               0.717694  tranche_date4           12             Various   \n",
       "1538               2.901564  tranche_date2           42             Various   \n",
       "1539               0.505473  tranche_date3           27             Various   \n",
       "1540               0.825976  tranche_date1           78             Various   \n",
       "\n",
       "     groups_PrimaryPropertyType  GFABuildingRate  \n",
       "0                       Various         5.199338  \n",
       "1                       Various        -0.891433  \n",
       "2                       Various        -1.024762  \n",
       "3                       Various         5.199338  \n",
       "4                       Various        -1.432289  \n",
       "...                         ...              ...  \n",
       "1536                    Various         5.199338  \n",
       "1537                    Various         5.199338  \n",
       "1538                    Various         5.199338  \n",
       "1539                    Various         5.199338  \n",
       "1540                    Various         5.199338  \n",
       "\n",
       "[1541 rows x 17 columns]"
      ]
     },
     "execution_count": 9,
     "metadata": {},
     "output_type": "execute_result"
    }
   ],
   "source": [
    "df"
   ]
  },
  {
   "cell_type": "code",
   "execution_count": 10,
   "id": "0ee1e61b",
   "metadata": {},
   "outputs": [
    {
     "data": {
      "text/plain": [
       "(1541, 17)"
      ]
     },
     "execution_count": 10,
     "metadata": {},
     "output_type": "execute_result"
    }
   ],
   "source": [
    "df.shape"
   ]
  },
  {
   "cell_type": "code",
   "execution_count": 11,
   "id": "ee0f86a9",
   "metadata": {},
   "outputs": [
    {
     "data": {
      "text/plain": [
       "['OSEBuildingID',\n",
       " '%NaturalGas(kBtu)',\n",
       " '%SteamUse(kBtu)',\n",
       " 'BuildingType',\n",
       " 'NumberofBuildings',\n",
       " 'NumberofFloors',\n",
       " 'PropertyGFATotal',\n",
       " 'ENERGYSTARScore',\n",
       " 'SourceEUI(kBtu/sf)',\n",
       " 'SiteEnergyUse(kBtu)',\n",
       " 'TotalGHGEmissions',\n",
       " 'GHGEmissionsIntensity',\n",
       " 'tranche_date',\n",
       " 'BuildingAge',\n",
       " 'groups_neighborhood',\n",
       " 'groups_PrimaryPropertyType',\n",
       " 'GFABuildingRate']"
      ]
     },
     "execution_count": 11,
     "metadata": {},
     "output_type": "execute_result"
    }
   ],
   "source": [
    "columns=list(df.columns)\n",
    "columns"
   ]
  },
  {
   "cell_type": "code",
   "execution_count": 12,
   "id": "92a10543",
   "metadata": {},
   "outputs": [],
   "source": [
    "target1='TotalGHGEmissions'\n",
    "target2='SiteEnergyUse(kBtu)'"
   ]
  },
  {
   "cell_type": "code",
   "execution_count": 13,
   "id": "9fa616ac",
   "metadata": {},
   "outputs": [
    {
     "data": {
      "text/html": [
       "<div>\n",
       "<style scoped>\n",
       "    .dataframe tbody tr th:only-of-type {\n",
       "        vertical-align: middle;\n",
       "    }\n",
       "\n",
       "    .dataframe tbody tr th {\n",
       "        vertical-align: top;\n",
       "    }\n",
       "\n",
       "    .dataframe thead th {\n",
       "        text-align: right;\n",
       "    }\n",
       "</style>\n",
       "<table border=\"1\" class=\"dataframe\">\n",
       "  <thead>\n",
       "    <tr style=\"text-align: right;\">\n",
       "      <th></th>\n",
       "      <th>level_0</th>\n",
       "      <th>level_1</th>\n",
       "      <th>corr_coeff</th>\n",
       "    </tr>\n",
       "  </thead>\n",
       "  <tbody>\n",
       "    <tr>\n",
       "      <th>0</th>\n",
       "      <td>PropertyGFATotal</td>\n",
       "      <td>SiteEnergyUse(kBtu)</td>\n",
       "      <td>0.716380</td>\n",
       "    </tr>\n",
       "    <tr>\n",
       "      <th>2</th>\n",
       "      <td>SiteEnergyUse(kBtu)</td>\n",
       "      <td>SourceEUI(kBtu/sf)</td>\n",
       "      <td>0.732017</td>\n",
       "    </tr>\n",
       "    <tr>\n",
       "      <th>4</th>\n",
       "      <td>TotalGHGEmissions</td>\n",
       "      <td>GHGEmissionsIntensity</td>\n",
       "      <td>0.756458</td>\n",
       "    </tr>\n",
       "    <tr>\n",
       "      <th>6</th>\n",
       "      <td>SiteEnergyUse(kBtu)</td>\n",
       "      <td>TotalGHGEmissions</td>\n",
       "      <td>0.885268</td>\n",
       "    </tr>\n",
       "  </tbody>\n",
       "</table>\n",
       "</div>"
      ],
      "text/plain": [
       "               level_0                level_1  corr_coeff\n",
       "0     PropertyGFATotal    SiteEnergyUse(kBtu)    0.716380\n",
       "2  SiteEnergyUse(kBtu)     SourceEUI(kBtu/sf)    0.732017\n",
       "4    TotalGHGEmissions  GHGEmissionsIntensity    0.756458\n",
       "6  SiteEnergyUse(kBtu)      TotalGHGEmissions    0.885268"
      ]
     },
     "execution_count": 13,
     "metadata": {},
     "output_type": "execute_result"
    }
   ],
   "source": [
    "f_strong_correlation(0.7 ,df)"
   ]
  },
  {
   "cell_type": "code",
   "execution_count": 14,
   "id": "ee01c59f",
   "metadata": {},
   "outputs": [
    {
     "data": {
      "text/plain": [
       "['BuildingAge',\n",
       " 'GFABuildingRate',\n",
       " '%NaturalGas(kBtu)',\n",
       " 'tranche_date',\n",
       " 'BuildingType',\n",
       " 'groups_neighborhood',\n",
       " 'groups_PrimaryPropertyType',\n",
       " 'SiteEnergyUse(kBtu)',\n",
       " 'NumberofBuildings',\n",
       " 'ENERGYSTARScore',\n",
       " '%SteamUse(kBtu)',\n",
       " 'NumberofFloors',\n",
       " 'GHGEmissionsIntensity']"
      ]
     },
     "execution_count": 14,
     "metadata": {},
     "output_type": "execute_result"
    }
   ],
   "source": [
    "#ici on élimine 'OSEBuildingID' et ''TotalGHGEmissions''(target1)\n",
    "cols=list(set(columns)-set(['OSEBuildingID','PropertyGFATotal','SourceEUI(kBtu/sf)',target1]))\n",
    "cols"
   ]
  },
  {
   "cell_type": "code",
   "execution_count": 15,
   "id": "fcc910b6",
   "metadata": {},
   "outputs": [],
   "source": [
    "df=df[cols]"
   ]
  },
  {
   "cell_type": "code",
   "execution_count": 16,
   "id": "6465213f",
   "metadata": {},
   "outputs": [
    {
     "name": "stdout",
     "output_type": "stream",
     "text": [
      "['BuildingAge', 'GFABuildingRate', '%NaturalGas(kBtu)', 'SiteEnergyUse(kBtu)', 'NumberofBuildings', 'ENERGYSTARScore', '%SteamUse(kBtu)', 'NumberofFloors', 'GHGEmissionsIntensity']\n"
     ]
    }
   ],
   "source": [
    "numercial_cols = [col for col in df.columns if df[col].dtype!=\"O\"]\n",
    "print(numercial_cols)"
   ]
  },
  {
   "cell_type": "code",
   "execution_count": 17,
   "id": "7520c9d5",
   "metadata": {},
   "outputs": [
    {
     "name": "stdout",
     "output_type": "stream",
     "text": [
      "['tranche_date', 'BuildingType', 'groups_neighborhood', 'groups_PrimaryPropertyType']\n"
     ]
    }
   ],
   "source": [
    "categorical_cols = [col for col in df.columns if df[col].dtype==\"O\"]\n",
    "print(categorical_cols)"
   ]
  },
  {
   "cell_type": "code",
   "execution_count": 18,
   "id": "9fee50f7",
   "metadata": {},
   "outputs": [
    {
     "data": {
      "text/plain": [
       "array(['NonResidential', 'Nonresidential COS', 'SPS-District K-12',\n",
       "       'Campus'], dtype=object)"
      ]
     },
     "execution_count": 18,
     "metadata": {},
     "output_type": "execute_result"
    }
   ],
   "source": [
    "df['BuildingType'].unique()"
   ]
  },
  {
   "cell_type": "code",
   "execution_count": 19,
   "id": "3116472c",
   "metadata": {},
   "outputs": [
    {
     "data": {
      "text/plain": [
       "array(['Various', 'North', 'Central', 'South'], dtype=object)"
      ]
     },
     "execution_count": 19,
     "metadata": {},
     "output_type": "execute_result"
    }
   ],
   "source": [
    "df['groups_neighborhood'].unique()"
   ]
  },
  {
   "cell_type": "code",
   "execution_count": 20,
   "id": "5bd9d724",
   "metadata": {},
   "outputs": [
    {
     "data": {
      "text/plain": [
       "array(['tranche_date1', 'tranche_date3', 'tranche_date2', 'tranche_date4'],\n",
       "      dtype=object)"
      ]
     },
     "execution_count": 20,
     "metadata": {},
     "output_type": "execute_result"
    }
   ],
   "source": [
    "df['tranche_date'].unique()"
   ]
  },
  {
   "cell_type": "code",
   "execution_count": 21,
   "id": "5847dda7",
   "metadata": {},
   "outputs": [
    {
     "data": {
      "text/plain": [
       "array(['Various', 'Commerce', 'Health'], dtype=object)"
      ]
     },
     "execution_count": 21,
     "metadata": {},
     "output_type": "execute_result"
    }
   ],
   "source": [
    "df['groups_PrimaryPropertyType'].unique()"
   ]
  },
  {
   "cell_type": "code",
   "execution_count": 22,
   "id": "a5fb6465",
   "metadata": {},
   "outputs": [
    {
     "data": {
      "text/plain": [
       "(1541, 13)"
      ]
     },
     "execution_count": 22,
     "metadata": {},
     "output_type": "execute_result"
    }
   ],
   "source": [
    "df.shape"
   ]
  },
  {
   "cell_type": "code",
   "execution_count": 23,
   "id": "b91617e0",
   "metadata": {},
   "outputs": [],
   "source": [
    "numercial_cols_for_transformer=list(set(numercial_cols)-set([target2]))"
   ]
  },
  {
   "cell_type": "code",
   "execution_count": 24,
   "id": "2e2d8e75",
   "metadata": {},
   "outputs": [
    {
     "data": {
      "text/plain": [
       "['BuildingAge',\n",
       " '%NaturalGas(kBtu)',\n",
       " 'GFABuildingRate',\n",
       " 'NumberofBuildings',\n",
       " 'ENERGYSTARScore',\n",
       " '%SteamUse(kBtu)',\n",
       " 'NumberofFloors',\n",
       " 'GHGEmissionsIntensity']"
      ]
     },
     "execution_count": 24,
     "metadata": {},
     "output_type": "execute_result"
    }
   ],
   "source": [
    "numercial_cols_for_transformer"
   ]
  },
  {
   "cell_type": "markdown",
   "id": "1d6f79c0",
   "metadata": {},
   "source": [
    "## 2.Build a pipeline <a class=\"anchor\" id=\"bp\"></a>"
   ]
  },
  {
   "cell_type": "code",
   "execution_count": 25,
   "id": "06b1f9ee",
   "metadata": {},
   "outputs": [],
   "source": [
    "# Create pipelines for numerical and categorical features\n",
    "numeric_transformer = Pipeline(\n",
    "    steps=[(\"scaler\", StandardScaler())]\n",
    ")\n",
    "\n",
    "categorical_transformer = OneHotEncoder(handle_unknown=\"ignore\",drop='first')\n",
    " #when using sklearn.compose.ColumnTransformer You need to make sure the output column is not included in the data you create your Preprocessing pipeline with\n",
    "# Create ColumnTransformer to apply pipeline for each column type\n",
    "preprocessor = ColumnTransformer(\n",
    "    transformers=[\n",
    "        (\"num\", numeric_transformer, numercial_cols_for_transformer),\n",
    "        (\"cat\", categorical_transformer, categorical_cols),\n",
    "    ]\n",
    ")"
   ]
  },
  {
   "cell_type": "code",
   "execution_count": 26,
   "id": "6704b30f",
   "metadata": {},
   "outputs": [],
   "source": [
    "def feature_after_transformer(preprocessor):\n",
    "    tx = preprocessor.get_params()['transformers']\n",
    "    feature_names = []\n",
    "    for name,transformer,features in tx:\n",
    "        try:\n",
    "            Var = preprocessor.named_transformers_[name].get_feature_names_out().tolist()\n",
    "        except AttributeError:\n",
    "            Var = features\n",
    "        feature_names = feature_names + Var\n",
    "\n",
    "    return feature_names"
   ]
  },
  {
   "cell_type": "code",
   "execution_count": 27,
   "id": "7d35ad36",
   "metadata": {},
   "outputs": [
    {
     "data": {
      "text/plain": [
       "['BuildingAge',\n",
       " '%NaturalGas(kBtu)',\n",
       " 'GFABuildingRate',\n",
       " 'NumberofBuildings',\n",
       " 'ENERGYSTARScore',\n",
       " '%SteamUse(kBtu)',\n",
       " 'NumberofFloors',\n",
       " 'GHGEmissionsIntensity',\n",
       " 'tranche_date',\n",
       " 'BuildingType',\n",
       " 'groups_neighborhood',\n",
       " 'groups_PrimaryPropertyType']"
      ]
     },
     "execution_count": 27,
     "metadata": {},
     "output_type": "execute_result"
    }
   ],
   "source": [
    "feature_after_transformer(preprocessor)"
   ]
  },
  {
   "cell_type": "code",
   "execution_count": 28,
   "id": "cc242047",
   "metadata": {},
   "outputs": [],
   "source": [
    "y=df[[target2]]\n",
    "y= StandardScaler().fit_transform(y)\n",
    "features=list(set(cols)-set([target2]))\n",
    "X=df[features]"
   ]
  },
  {
   "cell_type": "markdown",
   "id": "9b316fb7",
   "metadata": {},
   "source": [
    "#### Continuous target stratification"
   ]
  },
  {
   "cell_type": "code",
   "execution_count": 29,
   "id": "c539cdcc",
   "metadata": {},
   "outputs": [],
   "source": [
    "bins = np.linspace(0, len(y), 100)\n",
    "\n",
    "# Save your Y values in a new ndarray,\n",
    "# broken down by the bins created above.\n",
    "\n",
    "y_binned = np.digitize(y, bins)\n",
    "\n",
    "# Pass y_binned to the stratify argument,\n",
    "# and sklearn will handle the rest\n",
    "\n"
   ]
  },
  {
   "cell_type": "code",
   "execution_count": 30,
   "id": "1a31b103",
   "metadata": {},
   "outputs": [],
   "source": [
    "#X_train, X_test, y_train, y_test = train_test_split(X, y, test_size=0.2, random_state=0)\n",
    "X_train, X_test, y_train, y_test = train_test_split(X, y, test_size=0.2, stratify=y_binned,random_state=0)"
   ]
  },
  {
   "cell_type": "markdown",
   "id": "c25068b0",
   "metadata": {},
   "source": [
    "## 3.Idée pour choisir le meilleur modèle <a class=\"anchor\" id=\"ic\"></a>"
   ]
  },
  {
   "cell_type": "code",
   "execution_count": 31,
   "id": "162cf4d6",
   "metadata": {},
   "outputs": [],
   "source": [
    "regressors = [DummyRegressor(strategy=\"median\",constant=None,quantile=0.5),\n",
    "              LinearRegression(fit_intercept=True,normalize=True,copy_X=True),\n",
    "              Ridge(alpha=5,solver='auto',fit_intercept=True),\n",
    "              Lasso(tol=1e-3,selection='random',fit_intercept=True),\n",
    "              ElasticNet(tol=1e-3,selection='random',fit_intercept=True),\n",
    "              RandomForestRegressor(n_estimators=300,max_leaf_nodes=1000,criterion='squared_error'),\n",
    "              SVR(kernel='rbf',degree=3,gamma='scale'),\n",
    "              LGBMRegressor(boosting_type='gbdt',num_leaves=31,max_depth=1),\n",
    "              XGBRegressor(objective ='reg:squarederror',booster=\"dart\",\n",
    "                  n_estimators = 300)\n",
    "              ]"
   ]
  },
  {
   "cell_type": "code",
   "execution_count": 32,
   "id": "8787d5f1",
   "metadata": {},
   "outputs": [
    {
     "name": "stdout",
     "output_type": "stream",
     "text": [
      "DummyRegressor(quantile=0.5, strategy='median')\n",
      "\tTraining time: 0.069s\n",
      "\tPrediction time: 0.016s\n",
      "\tMean squared error: 1.200507790674351\n",
      "\tRMSE: 1.0956768641686065\n",
      "\tR2 score: -0.001191377759159229\n",
      "\n",
      "LinearRegression(normalize=True)\n",
      "\tTraining time: 1.898s\n",
      "\tPrediction time: 0.062s\n",
      "\tMean squared error: 0.5417712699661205\n",
      "\tRMSE: 0.7360511327116619\n",
      "\tR2 score: 0.5481772559734723\n",
      "\n",
      "Ridge(alpha=5)\n",
      "\tTraining time: 4.257s\n",
      "\tPrediction time: 0.030s\n",
      "\tMean squared error: 0.5438532300070403\n",
      "\tRMSE: 0.7374640533660203\n",
      "\tR2 score: 0.5464409570023201\n",
      "\n",
      "Lasso(selection='random', tol=0.001)\n",
      "\tTraining time: 0.274s\n",
      "\tPrediction time: 0.019s\n",
      "\tMean squared error: 1.2013293285247153\n",
      "\tRMSE: 1.096051699749932\n",
      "\tR2 score: -0.0018765183460649482\n",
      "\n",
      "ElasticNet(selection='random', tol=0.001)\n",
      "\tTraining time: 0.026s\n",
      "\tPrediction time: 0.007s\n",
      "\tMean squared error: 1.2013293285247153\n",
      "\tRMSE: 1.096051699749932\n",
      "\tR2 score: -0.0018765183460649482\n",
      "\n",
      "RandomForestRegressor(max_leaf_nodes=1000, n_estimators=300)\n",
      "\tTraining time: 4.195s\n",
      "\tPrediction time: 0.173s\n",
      "\tMean squared error: 0.30589925782010874\n",
      "\tRMSE: 0.5530816014116803\n",
      "\tR2 score: 0.7448882033323716\n",
      "\n",
      "SVR()\n",
      "\tTraining time: 0.332s\n",
      "\tPrediction time: 0.086s\n",
      "\tMean squared error: 0.3688591806653263\n",
      "\tRMSE: 0.6073377813583857\n",
      "\tR2 score: 0.6923813121762503\n",
      "\n",
      "LGBMRegressor(max_depth=1)\n",
      "\tTraining time: 0.446s\n",
      "\tPrediction time: 0.024s\n",
      "\tMean squared error: 0.42147948423355136\n",
      "\tRMSE: 0.6492145132647231\n",
      "\tR2 score: 0.6484973868599612\n",
      "\n",
      "XGBRegressor(base_score=0.5, booster='dart', callbacks=None,\n",
      "             colsample_bylevel=1, colsample_bynode=1, colsample_bytree=1,\n",
      "             early_stopping_rounds=None, enable_categorical=False,\n",
      "             eval_metric=None, gamma=0, gpu_id=-1, grow_policy='depthwise',\n",
      "             importance_type=None, interaction_constraints='',\n",
      "             learning_rate=0.300000012, max_bin=256, max_cat_to_onehot=4,\n",
      "             max_delta_step=0, max_depth=6, max_leaves=0, min_child_weight=1,\n",
      "             missing=nan, monotone_constraints='()', n_estimators=300, n_jobs=0,\n",
      "             num_parallel_tree=1, predictor='auto', random_state=0, reg_alpha=0,\n",
      "             reg_lambda=1, ...)\n",
      "\tTraining time: 10.953s\n",
      "\tPrediction time: 0.159s\n",
      "\tMean squared error: 0.29065094031121397\n",
      "\tRMSE: 0.5391205248469159\n",
      "\tR2 score: 0.7576048921650729\n",
      "\n"
     ]
    }
   ],
   "source": [
    "from sklearn.feature_selection import SelectKBest\n",
    "from sklearn.feature_selection import chi2, f_regression\n",
    "\n",
    "for model in regressors:\n",
    "    start = time()\n",
    "    #select=SelectKBest(score_func=f_regression,k=8)\n",
    "    #pip = Pipeline(steps=[(\"preprocessor\", preprocessor),(\"selector\",select),(\"model\", model)])\n",
    "    pip = Pipeline(steps=[(\"preprocessor\", preprocessor),(\"model\", model)])\n",
    "    \n",
    "    pip.fit(X_train, y_train)\n",
    "    train_time = time() - start\n",
    "    start = time()\n",
    "    y_pred = pip.predict(X_test)\n",
    "    predict_time = time()-start    \n",
    "    print(model)\n",
    "    print(\"\\tTraining time: %0.3fs\" % train_time)\n",
    "    print(\"\\tPrediction time: %0.3fs\" % predict_time)\n",
    "   \n",
    "    print(\"\\tMean squared error:\", mean_squared_error(y_test, y_pred))\n",
    "    print(\"\\tRMSE:\", np.sqrt(mean_squared_error(y_test, y_pred)))\n",
    "    print(\"\\tR2 score:\", r2_score(y_test, y_pred))\n",
    "    print()"
   ]
  },
  {
   "cell_type": "markdown",
   "id": "24be7158",
   "metadata": {},
   "source": [
    "**Note**\n",
    "<br>\n",
    "Dans la suite en se basant sur le coefficient de détermination (R2 score), on va travailler sur RandmForestRgressor et XGBRegressor."
   ]
  },
  {
   "cell_type": "markdown",
   "id": "16c7ab98",
   "metadata": {},
   "source": [
    "## 4.Modèles de machine learning choisis<a class=\"anchor\" id=\"mml\"></a>"
   ]
  },
  {
   "cell_type": "code",
   "execution_count": null,
   "id": "895b1c18",
   "metadata": {},
   "outputs": [],
   "source": []
  },
  {
   "cell_type": "code",
   "execution_count": null,
   "id": "3b23e1e7",
   "metadata": {},
   "outputs": [],
   "source": []
  },
  {
   "cell_type": "code",
   "execution_count": 35,
   "id": "a5d8adab",
   "metadata": {},
   "outputs": [],
   "source": [
    "def f_performance(pip):\n",
    "    #pip.fit(X_train,y_train)\n",
    "  \n",
    "    \n",
    "    print('******************')\n",
    "    #Check MSE and RMSE\n",
    "\n",
    "    y_pred = pip.predict(X_test)\n",
    "    print(f'MSE : {mean_squared_error(y_test, y_pred):.3f}')\n",
    "    print(f'RMSE : {np.sqrt(mean_squared_error(y_test, y_pred)):.3f}')\n",
    "    print(f'R2 : {r2_score(y_test, y_pred):.3f}')"
   ]
  },
  {
   "cell_type": "code",
   "execution_count": null,
   "id": "17564c90",
   "metadata": {},
   "outputs": [],
   "source": []
  },
  {
   "cell_type": "code",
   "execution_count": null,
   "id": "a1273fcd",
   "metadata": {},
   "outputs": [],
   "source": [
    "font = {\n",
    "        'weight' : 'bold',\n",
    "        'size'   : 12}\n",
    "\n",
    "plt.rc('font', **font)"
   ]
  },
  {
   "cell_type": "code",
   "execution_count": null,
   "id": "90a5c6af",
   "metadata": {},
   "outputs": [],
   "source": []
  },
  {
   "cell_type": "markdown",
   "id": "1e9700fb",
   "metadata": {},
   "source": [
    "**Observations**\n",
    "<br>\n",
    "Pareil pour la regression linéaire,\n",
    "on peut remarquer que les features les plus importants sont: 'GHGEmissionsIntensity','BuildingType_Campus' et 'PropertyGFATotal"
   ]
  },
  {
   "cell_type": "code",
   "execution_count": null,
   "id": "4bc71899",
   "metadata": {},
   "outputs": [],
   "source": []
  },
  {
   "cell_type": "code",
   "execution_count": null,
   "id": "18f24092",
   "metadata": {},
   "outputs": [],
   "source": []
  },
  {
   "cell_type": "markdown",
   "id": "3bf6fa74",
   "metadata": {},
   "source": [
    "##### "
   ]
  },
  {
   "cell_type": "code",
   "execution_count": null,
   "id": "d9d713b9",
   "metadata": {},
   "outputs": [],
   "source": [
    "groups = np.array(df[target2])\n",
    "len(groups)"
   ]
  },
  {
   "cell_type": "code",
   "execution_count": null,
   "id": "a950d339",
   "metadata": {},
   "outputs": [],
   "source": [
    "df.shape"
   ]
  },
  {
   "cell_type": "code",
   "execution_count": null,
   "id": "2fdae6a8",
   "metadata": {},
   "outputs": [],
   "source": []
  },
  {
   "cell_type": "code",
   "execution_count": null,
   "id": "d7254394",
   "metadata": {},
   "outputs": [],
   "source": []
  },
  {
   "cell_type": "markdown",
   "id": "485c36b5",
   "metadata": {},
   "source": [
    "## 4.5.RandomForestRegressor"
   ]
  },
  {
   "cell_type": "code",
   "execution_count": 33,
   "id": "99f6a618",
   "metadata": {},
   "outputs": [
    {
     "data": {
      "text/plain": [
       "Pipeline(steps=[('preprocessor',\n",
       "                 ColumnTransformer(transformers=[('num',\n",
       "                                                  Pipeline(steps=[('scaler',\n",
       "                                                                   StandardScaler())]),\n",
       "                                                  ['BuildingAge',\n",
       "                                                   '%NaturalGas(kBtu)',\n",
       "                                                   'GFABuildingRate',\n",
       "                                                   'NumberofBuildings',\n",
       "                                                   'ENERGYSTARScore',\n",
       "                                                   '%SteamUse(kBtu)',\n",
       "                                                   'NumberofFloors',\n",
       "                                                   'GHGEmissionsIntensity']),\n",
       "                                                 ('cat',\n",
       "                                                  OneHotEncoder(drop='first',\n",
       "                                                                handle_unknown='ignore'),\n",
       "                                                  ['tranche_date',\n",
       "                                                   'BuildingType',\n",
       "                                                   'groups_neighborhood',\n",
       "                                                   'groups_PrimaryPropertyType'])])),\n",
       "                ('model',\n",
       "                 RandomForestRegressor(max_leaf_nodes=1000, n_estimators=300))])"
      ]
     },
     "execution_count": 33,
     "metadata": {},
     "output_type": "execute_result"
    }
   ],
   "source": [
    "clf_rf = Pipeline(\n",
    "    steps=[(\"preprocessor\", preprocessor), (\"model\", RandomForestRegressor(n_estimators=300,max_leaf_nodes=1000,criterion='squared_error'))]\n",
    ")\n",
    "clf_rf.fit(X_train,y_train)"
   ]
  },
  {
   "cell_type": "markdown",
   "id": "517564c6",
   "metadata": {},
   "source": [
    "### 4.5.1.Indicateurs de performance"
   ]
  },
  {
   "cell_type": "code",
   "execution_count": 36,
   "id": "1ffe8e4e",
   "metadata": {},
   "outputs": [
    {
     "name": "stdout",
     "output_type": "stream",
     "text": [
      "******************\n",
      "MSE : 0.307\n",
      "RMSE : 0.554\n",
      "R2 : 0.744\n"
     ]
    }
   ],
   "source": [
    "f_performance(clf_rf)"
   ]
  },
  {
   "cell_type": "markdown",
   "id": "4f1b6b13",
   "metadata": {},
   "source": [
    "### 4.5.2.Optimisation du modèle"
   ]
  },
  {
   "cell_type": "code",
   "execution_count": null,
   "id": "41666b33",
   "metadata": {},
   "outputs": [],
   "source": [
    "list(clf_rf.get_params().keys())"
   ]
  },
  {
   "cell_type": "code",
   "execution_count": null,
   "id": "594800fd",
   "metadata": {},
   "outputs": [],
   "source": []
  },
  {
   "cell_type": "code",
   "execution_count": null,
   "id": "125b2fa1",
   "metadata": {},
   "outputs": [],
   "source": []
  },
  {
   "cell_type": "code",
   "execution_count": null,
   "id": "6a3d718a",
   "metadata": {},
   "outputs": [],
   "source": []
  },
  {
   "cell_type": "code",
   "execution_count": 37,
   "id": "9237199e",
   "metadata": {},
   "outputs": [
    {
     "ename": "KeyboardInterrupt",
     "evalue": "",
     "output_type": "error",
     "traceback": [
      "\u001b[1;31m---------------------------------------------------------------------------\u001b[0m",
      "\u001b[1;31mKeyboardInterrupt\u001b[0m                         Traceback (most recent call last)",
      "Input \u001b[1;32mIn [37]\u001b[0m, in \u001b[0;36m<cell line: 9>\u001b[1;34m()\u001b[0m\n\u001b[0;32m      1\u001b[0m param_grid \u001b[38;5;241m=\u001b[39m {\n\u001b[0;32m      2\u001b[0m     \n\u001b[0;32m      3\u001b[0m     \u001b[38;5;124m\"\u001b[39m\u001b[38;5;124mmodel__max_leaf_nodes\u001b[39m\u001b[38;5;124m\"\u001b[39m: [\u001b[38;5;241m1000\u001b[39m,\u001b[38;5;241m5000\u001b[39m,\u001b[38;5;241m100000\u001b[39m,\u001b[38;5;28;01mNone\u001b[39;00m],\n\u001b[1;32m   (...)\u001b[0m\n\u001b[0;32m      6\u001b[0m     \n\u001b[0;32m      7\u001b[0m }\n\u001b[0;32m      8\u001b[0m grid_search \u001b[38;5;241m=\u001b[39m GridSearchCV(clf_rf, param_grid, cv\u001b[38;5;241m=\u001b[39m\u001b[38;5;241m10\u001b[39m)\n\u001b[1;32m----> 9\u001b[0m \u001b[43mgrid_search\u001b[49m\u001b[38;5;241;43m.\u001b[39;49m\u001b[43mfit\u001b[49m\u001b[43m(\u001b[49m\u001b[43mX_train\u001b[49m\u001b[43m,\u001b[49m\u001b[43my_train\u001b[49m\u001b[43m)\u001b[49m\n",
      "File \u001b[1;32m~\\.conda\\envs\\geo_env\\lib\\site-packages\\sklearn\\model_selection\\_search.py:891\u001b[0m, in \u001b[0;36mBaseSearchCV.fit\u001b[1;34m(self, X, y, groups, **fit_params)\u001b[0m\n\u001b[0;32m    885\u001b[0m     results \u001b[38;5;241m=\u001b[39m \u001b[38;5;28mself\u001b[39m\u001b[38;5;241m.\u001b[39m_format_results(\n\u001b[0;32m    886\u001b[0m         all_candidate_params, n_splits, all_out, all_more_results\n\u001b[0;32m    887\u001b[0m     )\n\u001b[0;32m    889\u001b[0m     \u001b[38;5;28;01mreturn\u001b[39;00m results\n\u001b[1;32m--> 891\u001b[0m \u001b[38;5;28;43mself\u001b[39;49m\u001b[38;5;241;43m.\u001b[39;49m\u001b[43m_run_search\u001b[49m\u001b[43m(\u001b[49m\u001b[43mevaluate_candidates\u001b[49m\u001b[43m)\u001b[49m\n\u001b[0;32m    893\u001b[0m \u001b[38;5;66;03m# multimetric is determined here because in the case of a callable\u001b[39;00m\n\u001b[0;32m    894\u001b[0m \u001b[38;5;66;03m# self.scoring the return type is only known after calling\u001b[39;00m\n\u001b[0;32m    895\u001b[0m first_test_score \u001b[38;5;241m=\u001b[39m all_out[\u001b[38;5;241m0\u001b[39m][\u001b[38;5;124m\"\u001b[39m\u001b[38;5;124mtest_scores\u001b[39m\u001b[38;5;124m\"\u001b[39m]\n",
      "File \u001b[1;32m~\\.conda\\envs\\geo_env\\lib\\site-packages\\sklearn\\model_selection\\_search.py:1392\u001b[0m, in \u001b[0;36mGridSearchCV._run_search\u001b[1;34m(self, evaluate_candidates)\u001b[0m\n\u001b[0;32m   1390\u001b[0m \u001b[38;5;28;01mdef\u001b[39;00m \u001b[38;5;21m_run_search\u001b[39m(\u001b[38;5;28mself\u001b[39m, evaluate_candidates):\n\u001b[0;32m   1391\u001b[0m     \u001b[38;5;124;03m\"\"\"Search all candidates in param_grid\"\"\"\u001b[39;00m\n\u001b[1;32m-> 1392\u001b[0m     \u001b[43mevaluate_candidates\u001b[49m\u001b[43m(\u001b[49m\u001b[43mParameterGrid\u001b[49m\u001b[43m(\u001b[49m\u001b[38;5;28;43mself\u001b[39;49m\u001b[38;5;241;43m.\u001b[39;49m\u001b[43mparam_grid\u001b[49m\u001b[43m)\u001b[49m\u001b[43m)\u001b[49m\n",
      "File \u001b[1;32m~\\.conda\\envs\\geo_env\\lib\\site-packages\\sklearn\\model_selection\\_search.py:838\u001b[0m, in \u001b[0;36mBaseSearchCV.fit.<locals>.evaluate_candidates\u001b[1;34m(candidate_params, cv, more_results)\u001b[0m\n\u001b[0;32m    830\u001b[0m \u001b[38;5;28;01mif\u001b[39;00m \u001b[38;5;28mself\u001b[39m\u001b[38;5;241m.\u001b[39mverbose \u001b[38;5;241m>\u001b[39m \u001b[38;5;241m0\u001b[39m:\n\u001b[0;32m    831\u001b[0m     \u001b[38;5;28mprint\u001b[39m(\n\u001b[0;32m    832\u001b[0m         \u001b[38;5;124m\"\u001b[39m\u001b[38;5;124mFitting \u001b[39m\u001b[38;5;132;01m{0}\u001b[39;00m\u001b[38;5;124m folds for each of \u001b[39m\u001b[38;5;132;01m{1}\u001b[39;00m\u001b[38;5;124m candidates,\u001b[39m\u001b[38;5;124m\"\u001b[39m\n\u001b[0;32m    833\u001b[0m         \u001b[38;5;124m\"\u001b[39m\u001b[38;5;124m totalling \u001b[39m\u001b[38;5;132;01m{2}\u001b[39;00m\u001b[38;5;124m fits\u001b[39m\u001b[38;5;124m\"\u001b[39m\u001b[38;5;241m.\u001b[39mformat(\n\u001b[0;32m    834\u001b[0m             n_splits, n_candidates, n_candidates \u001b[38;5;241m*\u001b[39m n_splits\n\u001b[0;32m    835\u001b[0m         )\n\u001b[0;32m    836\u001b[0m     )\n\u001b[1;32m--> 838\u001b[0m out \u001b[38;5;241m=\u001b[39m \u001b[43mparallel\u001b[49m\u001b[43m(\u001b[49m\n\u001b[0;32m    839\u001b[0m \u001b[43m    \u001b[49m\u001b[43mdelayed\u001b[49m\u001b[43m(\u001b[49m\u001b[43m_fit_and_score\u001b[49m\u001b[43m)\u001b[49m\u001b[43m(\u001b[49m\n\u001b[0;32m    840\u001b[0m \u001b[43m        \u001b[49m\u001b[43mclone\u001b[49m\u001b[43m(\u001b[49m\u001b[43mbase_estimator\u001b[49m\u001b[43m)\u001b[49m\u001b[43m,\u001b[49m\n\u001b[0;32m    841\u001b[0m \u001b[43m        \u001b[49m\u001b[43mX\u001b[49m\u001b[43m,\u001b[49m\n\u001b[0;32m    842\u001b[0m \u001b[43m        \u001b[49m\u001b[43my\u001b[49m\u001b[43m,\u001b[49m\n\u001b[0;32m    843\u001b[0m \u001b[43m        \u001b[49m\u001b[43mtrain\u001b[49m\u001b[38;5;241;43m=\u001b[39;49m\u001b[43mtrain\u001b[49m\u001b[43m,\u001b[49m\n\u001b[0;32m    844\u001b[0m \u001b[43m        \u001b[49m\u001b[43mtest\u001b[49m\u001b[38;5;241;43m=\u001b[39;49m\u001b[43mtest\u001b[49m\u001b[43m,\u001b[49m\n\u001b[0;32m    845\u001b[0m \u001b[43m        \u001b[49m\u001b[43mparameters\u001b[49m\u001b[38;5;241;43m=\u001b[39;49m\u001b[43mparameters\u001b[49m\u001b[43m,\u001b[49m\n\u001b[0;32m    846\u001b[0m \u001b[43m        \u001b[49m\u001b[43msplit_progress\u001b[49m\u001b[38;5;241;43m=\u001b[39;49m\u001b[43m(\u001b[49m\u001b[43msplit_idx\u001b[49m\u001b[43m,\u001b[49m\u001b[43m \u001b[49m\u001b[43mn_splits\u001b[49m\u001b[43m)\u001b[49m\u001b[43m,\u001b[49m\n\u001b[0;32m    847\u001b[0m \u001b[43m        \u001b[49m\u001b[43mcandidate_progress\u001b[49m\u001b[38;5;241;43m=\u001b[39;49m\u001b[43m(\u001b[49m\u001b[43mcand_idx\u001b[49m\u001b[43m,\u001b[49m\u001b[43m \u001b[49m\u001b[43mn_candidates\u001b[49m\u001b[43m)\u001b[49m\u001b[43m,\u001b[49m\n\u001b[0;32m    848\u001b[0m \u001b[43m        \u001b[49m\u001b[38;5;241;43m*\u001b[39;49m\u001b[38;5;241;43m*\u001b[39;49m\u001b[43mfit_and_score_kwargs\u001b[49m\u001b[43m,\u001b[49m\n\u001b[0;32m    849\u001b[0m \u001b[43m    \u001b[49m\u001b[43m)\u001b[49m\n\u001b[0;32m    850\u001b[0m \u001b[43m    \u001b[49m\u001b[38;5;28;43;01mfor\u001b[39;49;00m\u001b[43m \u001b[49m\u001b[43m(\u001b[49m\u001b[43mcand_idx\u001b[49m\u001b[43m,\u001b[49m\u001b[43m \u001b[49m\u001b[43mparameters\u001b[49m\u001b[43m)\u001b[49m\u001b[43m,\u001b[49m\u001b[43m \u001b[49m\u001b[43m(\u001b[49m\u001b[43msplit_idx\u001b[49m\u001b[43m,\u001b[49m\u001b[43m \u001b[49m\u001b[43m(\u001b[49m\u001b[43mtrain\u001b[49m\u001b[43m,\u001b[49m\u001b[43m \u001b[49m\u001b[43mtest\u001b[49m\u001b[43m)\u001b[49m\u001b[43m)\u001b[49m\u001b[43m \u001b[49m\u001b[38;5;129;43;01min\u001b[39;49;00m\u001b[43m \u001b[49m\u001b[43mproduct\u001b[49m\u001b[43m(\u001b[49m\n\u001b[0;32m    851\u001b[0m \u001b[43m        \u001b[49m\u001b[38;5;28;43menumerate\u001b[39;49m\u001b[43m(\u001b[49m\u001b[43mcandidate_params\u001b[49m\u001b[43m)\u001b[49m\u001b[43m,\u001b[49m\u001b[43m \u001b[49m\u001b[38;5;28;43menumerate\u001b[39;49m\u001b[43m(\u001b[49m\u001b[43mcv\u001b[49m\u001b[38;5;241;43m.\u001b[39;49m\u001b[43msplit\u001b[49m\u001b[43m(\u001b[49m\u001b[43mX\u001b[49m\u001b[43m,\u001b[49m\u001b[43m \u001b[49m\u001b[43my\u001b[49m\u001b[43m,\u001b[49m\u001b[43m \u001b[49m\u001b[43mgroups\u001b[49m\u001b[43m)\u001b[49m\u001b[43m)\u001b[49m\n\u001b[0;32m    852\u001b[0m \u001b[43m    \u001b[49m\u001b[43m)\u001b[49m\n\u001b[0;32m    853\u001b[0m \u001b[43m\u001b[49m\u001b[43m)\u001b[49m\n\u001b[0;32m    855\u001b[0m \u001b[38;5;28;01mif\u001b[39;00m \u001b[38;5;28mlen\u001b[39m(out) \u001b[38;5;241m<\u001b[39m \u001b[38;5;241m1\u001b[39m:\n\u001b[0;32m    856\u001b[0m     \u001b[38;5;28;01mraise\u001b[39;00m \u001b[38;5;167;01mValueError\u001b[39;00m(\n\u001b[0;32m    857\u001b[0m         \u001b[38;5;124m\"\u001b[39m\u001b[38;5;124mNo fits were performed. \u001b[39m\u001b[38;5;124m\"\u001b[39m\n\u001b[0;32m    858\u001b[0m         \u001b[38;5;124m\"\u001b[39m\u001b[38;5;124mWas the CV iterator empty? \u001b[39m\u001b[38;5;124m\"\u001b[39m\n\u001b[0;32m    859\u001b[0m         \u001b[38;5;124m\"\u001b[39m\u001b[38;5;124mWere there no candidates?\u001b[39m\u001b[38;5;124m\"\u001b[39m\n\u001b[0;32m    860\u001b[0m     )\n",
      "File \u001b[1;32m~\\.conda\\envs\\geo_env\\lib\\site-packages\\joblib\\parallel.py:1043\u001b[0m, in \u001b[0;36mParallel.__call__\u001b[1;34m(self, iterable)\u001b[0m\n\u001b[0;32m   1034\u001b[0m \u001b[38;5;28;01mtry\u001b[39;00m:\n\u001b[0;32m   1035\u001b[0m     \u001b[38;5;66;03m# Only set self._iterating to True if at least a batch\u001b[39;00m\n\u001b[0;32m   1036\u001b[0m     \u001b[38;5;66;03m# was dispatched. In particular this covers the edge\u001b[39;00m\n\u001b[1;32m   (...)\u001b[0m\n\u001b[0;32m   1040\u001b[0m     \u001b[38;5;66;03m# was very quick and its callback already dispatched all the\u001b[39;00m\n\u001b[0;32m   1041\u001b[0m     \u001b[38;5;66;03m# remaining jobs.\u001b[39;00m\n\u001b[0;32m   1042\u001b[0m     \u001b[38;5;28mself\u001b[39m\u001b[38;5;241m.\u001b[39m_iterating \u001b[38;5;241m=\u001b[39m \u001b[38;5;28;01mFalse\u001b[39;00m\n\u001b[1;32m-> 1043\u001b[0m     \u001b[38;5;28;01mif\u001b[39;00m \u001b[38;5;28;43mself\u001b[39;49m\u001b[38;5;241;43m.\u001b[39;49m\u001b[43mdispatch_one_batch\u001b[49m\u001b[43m(\u001b[49m\u001b[43miterator\u001b[49m\u001b[43m)\u001b[49m:\n\u001b[0;32m   1044\u001b[0m         \u001b[38;5;28mself\u001b[39m\u001b[38;5;241m.\u001b[39m_iterating \u001b[38;5;241m=\u001b[39m \u001b[38;5;28mself\u001b[39m\u001b[38;5;241m.\u001b[39m_original_iterator \u001b[38;5;129;01mis\u001b[39;00m \u001b[38;5;129;01mnot\u001b[39;00m \u001b[38;5;28;01mNone\u001b[39;00m\n\u001b[0;32m   1046\u001b[0m     \u001b[38;5;28;01mwhile\u001b[39;00m \u001b[38;5;28mself\u001b[39m\u001b[38;5;241m.\u001b[39mdispatch_one_batch(iterator):\n",
      "File \u001b[1;32m~\\.conda\\envs\\geo_env\\lib\\site-packages\\joblib\\parallel.py:861\u001b[0m, in \u001b[0;36mParallel.dispatch_one_batch\u001b[1;34m(self, iterator)\u001b[0m\n\u001b[0;32m    859\u001b[0m     \u001b[38;5;28;01mreturn\u001b[39;00m \u001b[38;5;28;01mFalse\u001b[39;00m\n\u001b[0;32m    860\u001b[0m \u001b[38;5;28;01melse\u001b[39;00m:\n\u001b[1;32m--> 861\u001b[0m     \u001b[38;5;28;43mself\u001b[39;49m\u001b[38;5;241;43m.\u001b[39;49m\u001b[43m_dispatch\u001b[49m\u001b[43m(\u001b[49m\u001b[43mtasks\u001b[49m\u001b[43m)\u001b[49m\n\u001b[0;32m    862\u001b[0m     \u001b[38;5;28;01mreturn\u001b[39;00m \u001b[38;5;28;01mTrue\u001b[39;00m\n",
      "File \u001b[1;32m~\\.conda\\envs\\geo_env\\lib\\site-packages\\joblib\\parallel.py:779\u001b[0m, in \u001b[0;36mParallel._dispatch\u001b[1;34m(self, batch)\u001b[0m\n\u001b[0;32m    777\u001b[0m \u001b[38;5;28;01mwith\u001b[39;00m \u001b[38;5;28mself\u001b[39m\u001b[38;5;241m.\u001b[39m_lock:\n\u001b[0;32m    778\u001b[0m     job_idx \u001b[38;5;241m=\u001b[39m \u001b[38;5;28mlen\u001b[39m(\u001b[38;5;28mself\u001b[39m\u001b[38;5;241m.\u001b[39m_jobs)\n\u001b[1;32m--> 779\u001b[0m     job \u001b[38;5;241m=\u001b[39m \u001b[38;5;28;43mself\u001b[39;49m\u001b[38;5;241;43m.\u001b[39;49m\u001b[43m_backend\u001b[49m\u001b[38;5;241;43m.\u001b[39;49m\u001b[43mapply_async\u001b[49m\u001b[43m(\u001b[49m\u001b[43mbatch\u001b[49m\u001b[43m,\u001b[49m\u001b[43m \u001b[49m\u001b[43mcallback\u001b[49m\u001b[38;5;241;43m=\u001b[39;49m\u001b[43mcb\u001b[49m\u001b[43m)\u001b[49m\n\u001b[0;32m    780\u001b[0m     \u001b[38;5;66;03m# A job can complete so quickly than its callback is\u001b[39;00m\n\u001b[0;32m    781\u001b[0m     \u001b[38;5;66;03m# called before we get here, causing self._jobs to\u001b[39;00m\n\u001b[0;32m    782\u001b[0m     \u001b[38;5;66;03m# grow. To ensure correct results ordering, .insert is\u001b[39;00m\n\u001b[0;32m    783\u001b[0m     \u001b[38;5;66;03m# used (rather than .append) in the following line\u001b[39;00m\n\u001b[0;32m    784\u001b[0m     \u001b[38;5;28mself\u001b[39m\u001b[38;5;241m.\u001b[39m_jobs\u001b[38;5;241m.\u001b[39minsert(job_idx, job)\n",
      "File \u001b[1;32m~\\.conda\\envs\\geo_env\\lib\\site-packages\\joblib\\_parallel_backends.py:208\u001b[0m, in \u001b[0;36mSequentialBackend.apply_async\u001b[1;34m(self, func, callback)\u001b[0m\n\u001b[0;32m    206\u001b[0m \u001b[38;5;28;01mdef\u001b[39;00m \u001b[38;5;21mapply_async\u001b[39m(\u001b[38;5;28mself\u001b[39m, func, callback\u001b[38;5;241m=\u001b[39m\u001b[38;5;28;01mNone\u001b[39;00m):\n\u001b[0;32m    207\u001b[0m     \u001b[38;5;124;03m\"\"\"Schedule a func to be run\"\"\"\u001b[39;00m\n\u001b[1;32m--> 208\u001b[0m     result \u001b[38;5;241m=\u001b[39m \u001b[43mImmediateResult\u001b[49m\u001b[43m(\u001b[49m\u001b[43mfunc\u001b[49m\u001b[43m)\u001b[49m\n\u001b[0;32m    209\u001b[0m     \u001b[38;5;28;01mif\u001b[39;00m callback:\n\u001b[0;32m    210\u001b[0m         callback(result)\n",
      "File \u001b[1;32m~\\.conda\\envs\\geo_env\\lib\\site-packages\\joblib\\_parallel_backends.py:572\u001b[0m, in \u001b[0;36mImmediateResult.__init__\u001b[1;34m(self, batch)\u001b[0m\n\u001b[0;32m    569\u001b[0m \u001b[38;5;28;01mdef\u001b[39;00m \u001b[38;5;21m__init__\u001b[39m(\u001b[38;5;28mself\u001b[39m, batch):\n\u001b[0;32m    570\u001b[0m     \u001b[38;5;66;03m# Don't delay the application, to avoid keeping the input\u001b[39;00m\n\u001b[0;32m    571\u001b[0m     \u001b[38;5;66;03m# arguments in memory\u001b[39;00m\n\u001b[1;32m--> 572\u001b[0m     \u001b[38;5;28mself\u001b[39m\u001b[38;5;241m.\u001b[39mresults \u001b[38;5;241m=\u001b[39m \u001b[43mbatch\u001b[49m\u001b[43m(\u001b[49m\u001b[43m)\u001b[49m\n",
      "File \u001b[1;32m~\\.conda\\envs\\geo_env\\lib\\site-packages\\joblib\\parallel.py:262\u001b[0m, in \u001b[0;36mBatchedCalls.__call__\u001b[1;34m(self)\u001b[0m\n\u001b[0;32m    258\u001b[0m \u001b[38;5;28;01mdef\u001b[39;00m \u001b[38;5;21m__call__\u001b[39m(\u001b[38;5;28mself\u001b[39m):\n\u001b[0;32m    259\u001b[0m     \u001b[38;5;66;03m# Set the default nested backend to self._backend but do not set the\u001b[39;00m\n\u001b[0;32m    260\u001b[0m     \u001b[38;5;66;03m# change the default number of processes to -1\u001b[39;00m\n\u001b[0;32m    261\u001b[0m     \u001b[38;5;28;01mwith\u001b[39;00m parallel_backend(\u001b[38;5;28mself\u001b[39m\u001b[38;5;241m.\u001b[39m_backend, n_jobs\u001b[38;5;241m=\u001b[39m\u001b[38;5;28mself\u001b[39m\u001b[38;5;241m.\u001b[39m_n_jobs):\n\u001b[1;32m--> 262\u001b[0m         \u001b[38;5;28;01mreturn\u001b[39;00m [func(\u001b[38;5;241m*\u001b[39margs, \u001b[38;5;241m*\u001b[39m\u001b[38;5;241m*\u001b[39mkwargs)\n\u001b[0;32m    263\u001b[0m                 \u001b[38;5;28;01mfor\u001b[39;00m func, args, kwargs \u001b[38;5;129;01min\u001b[39;00m \u001b[38;5;28mself\u001b[39m\u001b[38;5;241m.\u001b[39mitems]\n",
      "File \u001b[1;32m~\\.conda\\envs\\geo_env\\lib\\site-packages\\joblib\\parallel.py:262\u001b[0m, in \u001b[0;36m<listcomp>\u001b[1;34m(.0)\u001b[0m\n\u001b[0;32m    258\u001b[0m \u001b[38;5;28;01mdef\u001b[39;00m \u001b[38;5;21m__call__\u001b[39m(\u001b[38;5;28mself\u001b[39m):\n\u001b[0;32m    259\u001b[0m     \u001b[38;5;66;03m# Set the default nested backend to self._backend but do not set the\u001b[39;00m\n\u001b[0;32m    260\u001b[0m     \u001b[38;5;66;03m# change the default number of processes to -1\u001b[39;00m\n\u001b[0;32m    261\u001b[0m     \u001b[38;5;28;01mwith\u001b[39;00m parallel_backend(\u001b[38;5;28mself\u001b[39m\u001b[38;5;241m.\u001b[39m_backend, n_jobs\u001b[38;5;241m=\u001b[39m\u001b[38;5;28mself\u001b[39m\u001b[38;5;241m.\u001b[39m_n_jobs):\n\u001b[1;32m--> 262\u001b[0m         \u001b[38;5;28;01mreturn\u001b[39;00m [func(\u001b[38;5;241m*\u001b[39margs, \u001b[38;5;241m*\u001b[39m\u001b[38;5;241m*\u001b[39mkwargs)\n\u001b[0;32m    263\u001b[0m                 \u001b[38;5;28;01mfor\u001b[39;00m func, args, kwargs \u001b[38;5;129;01min\u001b[39;00m \u001b[38;5;28mself\u001b[39m\u001b[38;5;241m.\u001b[39mitems]\n",
      "File \u001b[1;32m~\\.conda\\envs\\geo_env\\lib\\site-packages\\sklearn\\utils\\fixes.py:216\u001b[0m, in \u001b[0;36m_FuncWrapper.__call__\u001b[1;34m(self, *args, **kwargs)\u001b[0m\n\u001b[0;32m    214\u001b[0m \u001b[38;5;28;01mdef\u001b[39;00m \u001b[38;5;21m__call__\u001b[39m(\u001b[38;5;28mself\u001b[39m, \u001b[38;5;241m*\u001b[39margs, \u001b[38;5;241m*\u001b[39m\u001b[38;5;241m*\u001b[39mkwargs):\n\u001b[0;32m    215\u001b[0m     \u001b[38;5;28;01mwith\u001b[39;00m config_context(\u001b[38;5;241m*\u001b[39m\u001b[38;5;241m*\u001b[39m\u001b[38;5;28mself\u001b[39m\u001b[38;5;241m.\u001b[39mconfig):\n\u001b[1;32m--> 216\u001b[0m         \u001b[38;5;28;01mreturn\u001b[39;00m \u001b[38;5;28mself\u001b[39m\u001b[38;5;241m.\u001b[39mfunction(\u001b[38;5;241m*\u001b[39margs, \u001b[38;5;241m*\u001b[39m\u001b[38;5;241m*\u001b[39mkwargs)\n",
      "File \u001b[1;32m~\\.conda\\envs\\geo_env\\lib\\site-packages\\sklearn\\model_selection\\_validation.py:680\u001b[0m, in \u001b[0;36m_fit_and_score\u001b[1;34m(estimator, X, y, scorer, train, test, verbose, parameters, fit_params, return_train_score, return_parameters, return_n_test_samples, return_times, return_estimator, split_progress, candidate_progress, error_score)\u001b[0m\n\u001b[0;32m    678\u001b[0m         estimator\u001b[38;5;241m.\u001b[39mfit(X_train, \u001b[38;5;241m*\u001b[39m\u001b[38;5;241m*\u001b[39mfit_params)\n\u001b[0;32m    679\u001b[0m     \u001b[38;5;28;01melse\u001b[39;00m:\n\u001b[1;32m--> 680\u001b[0m         estimator\u001b[38;5;241m.\u001b[39mfit(X_train, y_train, \u001b[38;5;241m*\u001b[39m\u001b[38;5;241m*\u001b[39mfit_params)\n\u001b[0;32m    682\u001b[0m \u001b[38;5;28;01mexcept\u001b[39;00m \u001b[38;5;167;01mException\u001b[39;00m:\n\u001b[0;32m    683\u001b[0m     \u001b[38;5;66;03m# Note fit time as time until error\u001b[39;00m\n\u001b[0;32m    684\u001b[0m     fit_time \u001b[38;5;241m=\u001b[39m time\u001b[38;5;241m.\u001b[39mtime() \u001b[38;5;241m-\u001b[39m start_time\n",
      "File \u001b[1;32m~\\.conda\\envs\\geo_env\\lib\\site-packages\\sklearn\\pipeline.py:394\u001b[0m, in \u001b[0;36mPipeline.fit\u001b[1;34m(self, X, y, **fit_params)\u001b[0m\n\u001b[0;32m    392\u001b[0m     \u001b[38;5;28;01mif\u001b[39;00m \u001b[38;5;28mself\u001b[39m\u001b[38;5;241m.\u001b[39m_final_estimator \u001b[38;5;241m!=\u001b[39m \u001b[38;5;124m\"\u001b[39m\u001b[38;5;124mpassthrough\u001b[39m\u001b[38;5;124m\"\u001b[39m:\n\u001b[0;32m    393\u001b[0m         fit_params_last_step \u001b[38;5;241m=\u001b[39m fit_params_steps[\u001b[38;5;28mself\u001b[39m\u001b[38;5;241m.\u001b[39msteps[\u001b[38;5;241m-\u001b[39m\u001b[38;5;241m1\u001b[39m][\u001b[38;5;241m0\u001b[39m]]\n\u001b[1;32m--> 394\u001b[0m         \u001b[38;5;28mself\u001b[39m\u001b[38;5;241m.\u001b[39m_final_estimator\u001b[38;5;241m.\u001b[39mfit(Xt, y, \u001b[38;5;241m*\u001b[39m\u001b[38;5;241m*\u001b[39mfit_params_last_step)\n\u001b[0;32m    396\u001b[0m \u001b[38;5;28;01mreturn\u001b[39;00m \u001b[38;5;28mself\u001b[39m\n",
      "File \u001b[1;32m~\\.conda\\envs\\geo_env\\lib\\site-packages\\sklearn\\ensemble\\_forest.py:450\u001b[0m, in \u001b[0;36mBaseForest.fit\u001b[1;34m(self, X, y, sample_weight)\u001b[0m\n\u001b[0;32m    439\u001b[0m trees \u001b[38;5;241m=\u001b[39m [\n\u001b[0;32m    440\u001b[0m     \u001b[38;5;28mself\u001b[39m\u001b[38;5;241m.\u001b[39m_make_estimator(append\u001b[38;5;241m=\u001b[39m\u001b[38;5;28;01mFalse\u001b[39;00m, random_state\u001b[38;5;241m=\u001b[39mrandom_state)\n\u001b[0;32m    441\u001b[0m     \u001b[38;5;28;01mfor\u001b[39;00m i \u001b[38;5;129;01min\u001b[39;00m \u001b[38;5;28mrange\u001b[39m(n_more_estimators)\n\u001b[0;32m    442\u001b[0m ]\n\u001b[0;32m    444\u001b[0m \u001b[38;5;66;03m# Parallel loop: we prefer the threading backend as the Cython code\u001b[39;00m\n\u001b[0;32m    445\u001b[0m \u001b[38;5;66;03m# for fitting the trees is internally releasing the Python GIL\u001b[39;00m\n\u001b[0;32m    446\u001b[0m \u001b[38;5;66;03m# making threading more efficient than multiprocessing in\u001b[39;00m\n\u001b[0;32m    447\u001b[0m \u001b[38;5;66;03m# that case. However, for joblib 0.12+ we respect any\u001b[39;00m\n\u001b[0;32m    448\u001b[0m \u001b[38;5;66;03m# parallel_backend contexts set at a higher level,\u001b[39;00m\n\u001b[0;32m    449\u001b[0m \u001b[38;5;66;03m# since correctness does not rely on using threads.\u001b[39;00m\n\u001b[1;32m--> 450\u001b[0m trees \u001b[38;5;241m=\u001b[39m \u001b[43mParallel\u001b[49m\u001b[43m(\u001b[49m\n\u001b[0;32m    451\u001b[0m \u001b[43m    \u001b[49m\u001b[43mn_jobs\u001b[49m\u001b[38;5;241;43m=\u001b[39;49m\u001b[38;5;28;43mself\u001b[39;49m\u001b[38;5;241;43m.\u001b[39;49m\u001b[43mn_jobs\u001b[49m\u001b[43m,\u001b[49m\n\u001b[0;32m    452\u001b[0m \u001b[43m    \u001b[49m\u001b[43mverbose\u001b[49m\u001b[38;5;241;43m=\u001b[39;49m\u001b[38;5;28;43mself\u001b[39;49m\u001b[38;5;241;43m.\u001b[39;49m\u001b[43mverbose\u001b[49m\u001b[43m,\u001b[49m\n\u001b[0;32m    453\u001b[0m \u001b[43m    \u001b[49m\u001b[38;5;241;43m*\u001b[39;49m\u001b[38;5;241;43m*\u001b[39;49m\u001b[43m_joblib_parallel_args\u001b[49m\u001b[43m(\u001b[49m\u001b[43mprefer\u001b[49m\u001b[38;5;241;43m=\u001b[39;49m\u001b[38;5;124;43m\"\u001b[39;49m\u001b[38;5;124;43mthreads\u001b[39;49m\u001b[38;5;124;43m\"\u001b[39;49m\u001b[43m)\u001b[49m\u001b[43m,\u001b[49m\n\u001b[0;32m    454\u001b[0m \u001b[43m\u001b[49m\u001b[43m)\u001b[49m\u001b[43m(\u001b[49m\n\u001b[0;32m    455\u001b[0m \u001b[43m    \u001b[49m\u001b[43mdelayed\u001b[49m\u001b[43m(\u001b[49m\u001b[43m_parallel_build_trees\u001b[49m\u001b[43m)\u001b[49m\u001b[43m(\u001b[49m\n\u001b[0;32m    456\u001b[0m \u001b[43m        \u001b[49m\u001b[43mt\u001b[49m\u001b[43m,\u001b[49m\n\u001b[0;32m    457\u001b[0m \u001b[43m        \u001b[49m\u001b[38;5;28;43mself\u001b[39;49m\u001b[43m,\u001b[49m\n\u001b[0;32m    458\u001b[0m \u001b[43m        \u001b[49m\u001b[43mX\u001b[49m\u001b[43m,\u001b[49m\n\u001b[0;32m    459\u001b[0m \u001b[43m        \u001b[49m\u001b[43my\u001b[49m\u001b[43m,\u001b[49m\n\u001b[0;32m    460\u001b[0m \u001b[43m        \u001b[49m\u001b[43msample_weight\u001b[49m\u001b[43m,\u001b[49m\n\u001b[0;32m    461\u001b[0m \u001b[43m        \u001b[49m\u001b[43mi\u001b[49m\u001b[43m,\u001b[49m\n\u001b[0;32m    462\u001b[0m \u001b[43m        \u001b[49m\u001b[38;5;28;43mlen\u001b[39;49m\u001b[43m(\u001b[49m\u001b[43mtrees\u001b[49m\u001b[43m)\u001b[49m\u001b[43m,\u001b[49m\n\u001b[0;32m    463\u001b[0m \u001b[43m        \u001b[49m\u001b[43mverbose\u001b[49m\u001b[38;5;241;43m=\u001b[39;49m\u001b[38;5;28;43mself\u001b[39;49m\u001b[38;5;241;43m.\u001b[39;49m\u001b[43mverbose\u001b[49m\u001b[43m,\u001b[49m\n\u001b[0;32m    464\u001b[0m \u001b[43m        \u001b[49m\u001b[43mclass_weight\u001b[49m\u001b[38;5;241;43m=\u001b[39;49m\u001b[38;5;28;43mself\u001b[39;49m\u001b[38;5;241;43m.\u001b[39;49m\u001b[43mclass_weight\u001b[49m\u001b[43m,\u001b[49m\n\u001b[0;32m    465\u001b[0m \u001b[43m        \u001b[49m\u001b[43mn_samples_bootstrap\u001b[49m\u001b[38;5;241;43m=\u001b[39;49m\u001b[43mn_samples_bootstrap\u001b[49m\u001b[43m,\u001b[49m\n\u001b[0;32m    466\u001b[0m \u001b[43m    \u001b[49m\u001b[43m)\u001b[49m\n\u001b[0;32m    467\u001b[0m \u001b[43m    \u001b[49m\u001b[38;5;28;43;01mfor\u001b[39;49;00m\u001b[43m \u001b[49m\u001b[43mi\u001b[49m\u001b[43m,\u001b[49m\u001b[43m \u001b[49m\u001b[43mt\u001b[49m\u001b[43m \u001b[49m\u001b[38;5;129;43;01min\u001b[39;49;00m\u001b[43m \u001b[49m\u001b[38;5;28;43menumerate\u001b[39;49m\u001b[43m(\u001b[49m\u001b[43mtrees\u001b[49m\u001b[43m)\u001b[49m\n\u001b[0;32m    468\u001b[0m \u001b[43m\u001b[49m\u001b[43m)\u001b[49m\n\u001b[0;32m    470\u001b[0m \u001b[38;5;66;03m# Collect newly grown trees\u001b[39;00m\n\u001b[0;32m    471\u001b[0m \u001b[38;5;28mself\u001b[39m\u001b[38;5;241m.\u001b[39mestimators_\u001b[38;5;241m.\u001b[39mextend(trees)\n",
      "File \u001b[1;32m~\\.conda\\envs\\geo_env\\lib\\site-packages\\joblib\\parallel.py:1046\u001b[0m, in \u001b[0;36mParallel.__call__\u001b[1;34m(self, iterable)\u001b[0m\n\u001b[0;32m   1043\u001b[0m \u001b[38;5;28;01mif\u001b[39;00m \u001b[38;5;28mself\u001b[39m\u001b[38;5;241m.\u001b[39mdispatch_one_batch(iterator):\n\u001b[0;32m   1044\u001b[0m     \u001b[38;5;28mself\u001b[39m\u001b[38;5;241m.\u001b[39m_iterating \u001b[38;5;241m=\u001b[39m \u001b[38;5;28mself\u001b[39m\u001b[38;5;241m.\u001b[39m_original_iterator \u001b[38;5;129;01mis\u001b[39;00m \u001b[38;5;129;01mnot\u001b[39;00m \u001b[38;5;28;01mNone\u001b[39;00m\n\u001b[1;32m-> 1046\u001b[0m \u001b[38;5;28;01mwhile\u001b[39;00m \u001b[38;5;28;43mself\u001b[39;49m\u001b[38;5;241;43m.\u001b[39;49m\u001b[43mdispatch_one_batch\u001b[49m\u001b[43m(\u001b[49m\u001b[43miterator\u001b[49m\u001b[43m)\u001b[49m:\n\u001b[0;32m   1047\u001b[0m     \u001b[38;5;28;01mpass\u001b[39;00m\n\u001b[0;32m   1049\u001b[0m \u001b[38;5;28;01mif\u001b[39;00m pre_dispatch \u001b[38;5;241m==\u001b[39m \u001b[38;5;124m\"\u001b[39m\u001b[38;5;124mall\u001b[39m\u001b[38;5;124m\"\u001b[39m \u001b[38;5;129;01mor\u001b[39;00m n_jobs \u001b[38;5;241m==\u001b[39m \u001b[38;5;241m1\u001b[39m:\n\u001b[0;32m   1050\u001b[0m     \u001b[38;5;66;03m# The iterable was consumed all at once by the above for loop.\u001b[39;00m\n\u001b[0;32m   1051\u001b[0m     \u001b[38;5;66;03m# No need to wait for async callbacks to trigger to\u001b[39;00m\n\u001b[0;32m   1052\u001b[0m     \u001b[38;5;66;03m# consumption.\u001b[39;00m\n",
      "File \u001b[1;32m~\\.conda\\envs\\geo_env\\lib\\site-packages\\joblib\\parallel.py:861\u001b[0m, in \u001b[0;36mParallel.dispatch_one_batch\u001b[1;34m(self, iterator)\u001b[0m\n\u001b[0;32m    859\u001b[0m     \u001b[38;5;28;01mreturn\u001b[39;00m \u001b[38;5;28;01mFalse\u001b[39;00m\n\u001b[0;32m    860\u001b[0m \u001b[38;5;28;01melse\u001b[39;00m:\n\u001b[1;32m--> 861\u001b[0m     \u001b[38;5;28;43mself\u001b[39;49m\u001b[38;5;241;43m.\u001b[39;49m\u001b[43m_dispatch\u001b[49m\u001b[43m(\u001b[49m\u001b[43mtasks\u001b[49m\u001b[43m)\u001b[49m\n\u001b[0;32m    862\u001b[0m     \u001b[38;5;28;01mreturn\u001b[39;00m \u001b[38;5;28;01mTrue\u001b[39;00m\n",
      "File \u001b[1;32m~\\.conda\\envs\\geo_env\\lib\\site-packages\\joblib\\parallel.py:779\u001b[0m, in \u001b[0;36mParallel._dispatch\u001b[1;34m(self, batch)\u001b[0m\n\u001b[0;32m    777\u001b[0m \u001b[38;5;28;01mwith\u001b[39;00m \u001b[38;5;28mself\u001b[39m\u001b[38;5;241m.\u001b[39m_lock:\n\u001b[0;32m    778\u001b[0m     job_idx \u001b[38;5;241m=\u001b[39m \u001b[38;5;28mlen\u001b[39m(\u001b[38;5;28mself\u001b[39m\u001b[38;5;241m.\u001b[39m_jobs)\n\u001b[1;32m--> 779\u001b[0m     job \u001b[38;5;241m=\u001b[39m \u001b[38;5;28;43mself\u001b[39;49m\u001b[38;5;241;43m.\u001b[39;49m\u001b[43m_backend\u001b[49m\u001b[38;5;241;43m.\u001b[39;49m\u001b[43mapply_async\u001b[49m\u001b[43m(\u001b[49m\u001b[43mbatch\u001b[49m\u001b[43m,\u001b[49m\u001b[43m \u001b[49m\u001b[43mcallback\u001b[49m\u001b[38;5;241;43m=\u001b[39;49m\u001b[43mcb\u001b[49m\u001b[43m)\u001b[49m\n\u001b[0;32m    780\u001b[0m     \u001b[38;5;66;03m# A job can complete so quickly than its callback is\u001b[39;00m\n\u001b[0;32m    781\u001b[0m     \u001b[38;5;66;03m# called before we get here, causing self._jobs to\u001b[39;00m\n\u001b[0;32m    782\u001b[0m     \u001b[38;5;66;03m# grow. To ensure correct results ordering, .insert is\u001b[39;00m\n\u001b[0;32m    783\u001b[0m     \u001b[38;5;66;03m# used (rather than .append) in the following line\u001b[39;00m\n\u001b[0;32m    784\u001b[0m     \u001b[38;5;28mself\u001b[39m\u001b[38;5;241m.\u001b[39m_jobs\u001b[38;5;241m.\u001b[39minsert(job_idx, job)\n",
      "File \u001b[1;32m~\\.conda\\envs\\geo_env\\lib\\site-packages\\joblib\\_parallel_backends.py:208\u001b[0m, in \u001b[0;36mSequentialBackend.apply_async\u001b[1;34m(self, func, callback)\u001b[0m\n\u001b[0;32m    206\u001b[0m \u001b[38;5;28;01mdef\u001b[39;00m \u001b[38;5;21mapply_async\u001b[39m(\u001b[38;5;28mself\u001b[39m, func, callback\u001b[38;5;241m=\u001b[39m\u001b[38;5;28;01mNone\u001b[39;00m):\n\u001b[0;32m    207\u001b[0m     \u001b[38;5;124;03m\"\"\"Schedule a func to be run\"\"\"\u001b[39;00m\n\u001b[1;32m--> 208\u001b[0m     result \u001b[38;5;241m=\u001b[39m \u001b[43mImmediateResult\u001b[49m\u001b[43m(\u001b[49m\u001b[43mfunc\u001b[49m\u001b[43m)\u001b[49m\n\u001b[0;32m    209\u001b[0m     \u001b[38;5;28;01mif\u001b[39;00m callback:\n\u001b[0;32m    210\u001b[0m         callback(result)\n",
      "File \u001b[1;32m~\\.conda\\envs\\geo_env\\lib\\site-packages\\joblib\\_parallel_backends.py:572\u001b[0m, in \u001b[0;36mImmediateResult.__init__\u001b[1;34m(self, batch)\u001b[0m\n\u001b[0;32m    569\u001b[0m \u001b[38;5;28;01mdef\u001b[39;00m \u001b[38;5;21m__init__\u001b[39m(\u001b[38;5;28mself\u001b[39m, batch):\n\u001b[0;32m    570\u001b[0m     \u001b[38;5;66;03m# Don't delay the application, to avoid keeping the input\u001b[39;00m\n\u001b[0;32m    571\u001b[0m     \u001b[38;5;66;03m# arguments in memory\u001b[39;00m\n\u001b[1;32m--> 572\u001b[0m     \u001b[38;5;28mself\u001b[39m\u001b[38;5;241m.\u001b[39mresults \u001b[38;5;241m=\u001b[39m \u001b[43mbatch\u001b[49m\u001b[43m(\u001b[49m\u001b[43m)\u001b[49m\n",
      "File \u001b[1;32m~\\.conda\\envs\\geo_env\\lib\\site-packages\\joblib\\parallel.py:262\u001b[0m, in \u001b[0;36mBatchedCalls.__call__\u001b[1;34m(self)\u001b[0m\n\u001b[0;32m    258\u001b[0m \u001b[38;5;28;01mdef\u001b[39;00m \u001b[38;5;21m__call__\u001b[39m(\u001b[38;5;28mself\u001b[39m):\n\u001b[0;32m    259\u001b[0m     \u001b[38;5;66;03m# Set the default nested backend to self._backend but do not set the\u001b[39;00m\n\u001b[0;32m    260\u001b[0m     \u001b[38;5;66;03m# change the default number of processes to -1\u001b[39;00m\n\u001b[0;32m    261\u001b[0m     \u001b[38;5;28;01mwith\u001b[39;00m parallel_backend(\u001b[38;5;28mself\u001b[39m\u001b[38;5;241m.\u001b[39m_backend, n_jobs\u001b[38;5;241m=\u001b[39m\u001b[38;5;28mself\u001b[39m\u001b[38;5;241m.\u001b[39m_n_jobs):\n\u001b[1;32m--> 262\u001b[0m         \u001b[38;5;28;01mreturn\u001b[39;00m [func(\u001b[38;5;241m*\u001b[39margs, \u001b[38;5;241m*\u001b[39m\u001b[38;5;241m*\u001b[39mkwargs)\n\u001b[0;32m    263\u001b[0m                 \u001b[38;5;28;01mfor\u001b[39;00m func, args, kwargs \u001b[38;5;129;01min\u001b[39;00m \u001b[38;5;28mself\u001b[39m\u001b[38;5;241m.\u001b[39mitems]\n",
      "File \u001b[1;32m~\\.conda\\envs\\geo_env\\lib\\site-packages\\joblib\\parallel.py:262\u001b[0m, in \u001b[0;36m<listcomp>\u001b[1;34m(.0)\u001b[0m\n\u001b[0;32m    258\u001b[0m \u001b[38;5;28;01mdef\u001b[39;00m \u001b[38;5;21m__call__\u001b[39m(\u001b[38;5;28mself\u001b[39m):\n\u001b[0;32m    259\u001b[0m     \u001b[38;5;66;03m# Set the default nested backend to self._backend but do not set the\u001b[39;00m\n\u001b[0;32m    260\u001b[0m     \u001b[38;5;66;03m# change the default number of processes to -1\u001b[39;00m\n\u001b[0;32m    261\u001b[0m     \u001b[38;5;28;01mwith\u001b[39;00m parallel_backend(\u001b[38;5;28mself\u001b[39m\u001b[38;5;241m.\u001b[39m_backend, n_jobs\u001b[38;5;241m=\u001b[39m\u001b[38;5;28mself\u001b[39m\u001b[38;5;241m.\u001b[39m_n_jobs):\n\u001b[1;32m--> 262\u001b[0m         \u001b[38;5;28;01mreturn\u001b[39;00m [func(\u001b[38;5;241m*\u001b[39margs, \u001b[38;5;241m*\u001b[39m\u001b[38;5;241m*\u001b[39mkwargs)\n\u001b[0;32m    263\u001b[0m                 \u001b[38;5;28;01mfor\u001b[39;00m func, args, kwargs \u001b[38;5;129;01min\u001b[39;00m \u001b[38;5;28mself\u001b[39m\u001b[38;5;241m.\u001b[39mitems]\n",
      "File \u001b[1;32m~\\.conda\\envs\\geo_env\\lib\\site-packages\\sklearn\\utils\\fixes.py:216\u001b[0m, in \u001b[0;36m_FuncWrapper.__call__\u001b[1;34m(self, *args, **kwargs)\u001b[0m\n\u001b[0;32m    214\u001b[0m \u001b[38;5;28;01mdef\u001b[39;00m \u001b[38;5;21m__call__\u001b[39m(\u001b[38;5;28mself\u001b[39m, \u001b[38;5;241m*\u001b[39margs, \u001b[38;5;241m*\u001b[39m\u001b[38;5;241m*\u001b[39mkwargs):\n\u001b[0;32m    215\u001b[0m     \u001b[38;5;28;01mwith\u001b[39;00m config_context(\u001b[38;5;241m*\u001b[39m\u001b[38;5;241m*\u001b[39m\u001b[38;5;28mself\u001b[39m\u001b[38;5;241m.\u001b[39mconfig):\n\u001b[1;32m--> 216\u001b[0m         \u001b[38;5;28;01mreturn\u001b[39;00m \u001b[38;5;28mself\u001b[39m\u001b[38;5;241m.\u001b[39mfunction(\u001b[38;5;241m*\u001b[39margs, \u001b[38;5;241m*\u001b[39m\u001b[38;5;241m*\u001b[39mkwargs)\n",
      "File \u001b[1;32m~\\.conda\\envs\\geo_env\\lib\\site-packages\\sklearn\\ensemble\\_forest.py:172\u001b[0m, in \u001b[0;36m_parallel_build_trees\u001b[1;34m(tree, forest, X, y, sample_weight, tree_idx, n_trees, verbose, class_weight, n_samples_bootstrap)\u001b[0m\n\u001b[0;32m    169\u001b[0m \u001b[38;5;28;01melse\u001b[39;00m:\n\u001b[0;32m    170\u001b[0m     curr_sample_weight \u001b[38;5;241m=\u001b[39m sample_weight\u001b[38;5;241m.\u001b[39mcopy()\n\u001b[1;32m--> 172\u001b[0m indices \u001b[38;5;241m=\u001b[39m \u001b[43m_generate_sample_indices\u001b[49m\u001b[43m(\u001b[49m\n\u001b[0;32m    173\u001b[0m \u001b[43m    \u001b[49m\u001b[43mtree\u001b[49m\u001b[38;5;241;43m.\u001b[39;49m\u001b[43mrandom_state\u001b[49m\u001b[43m,\u001b[49m\u001b[43m \u001b[49m\u001b[43mn_samples\u001b[49m\u001b[43m,\u001b[49m\u001b[43m \u001b[49m\u001b[43mn_samples_bootstrap\u001b[49m\n\u001b[0;32m    174\u001b[0m \u001b[43m\u001b[49m\u001b[43m)\u001b[49m\n\u001b[0;32m    175\u001b[0m sample_counts \u001b[38;5;241m=\u001b[39m np\u001b[38;5;241m.\u001b[39mbincount(indices, minlength\u001b[38;5;241m=\u001b[39mn_samples)\n\u001b[0;32m    176\u001b[0m curr_sample_weight \u001b[38;5;241m*\u001b[39m\u001b[38;5;241m=\u001b[39m sample_counts\n",
      "File \u001b[1;32m~\\.conda\\envs\\geo_env\\lib\\site-packages\\sklearn\\ensemble\\_forest.py:129\u001b[0m, in \u001b[0;36m_generate_sample_indices\u001b[1;34m(random_state, n_samples, n_samples_bootstrap)\u001b[0m\n\u001b[0;32m    125\u001b[0m \u001b[38;5;124;03m\"\"\"\u001b[39;00m\n\u001b[0;32m    126\u001b[0m \u001b[38;5;124;03mPrivate function used to _parallel_build_trees function.\"\"\"\u001b[39;00m\n\u001b[0;32m    128\u001b[0m random_instance \u001b[38;5;241m=\u001b[39m check_random_state(random_state)\n\u001b[1;32m--> 129\u001b[0m sample_indices \u001b[38;5;241m=\u001b[39m \u001b[43mrandom_instance\u001b[49m\u001b[38;5;241;43m.\u001b[39;49m\u001b[43mrandint\u001b[49m\u001b[43m(\u001b[49m\u001b[38;5;241;43m0\u001b[39;49m\u001b[43m,\u001b[49m\u001b[43m \u001b[49m\u001b[43mn_samples\u001b[49m\u001b[43m,\u001b[49m\u001b[43m \u001b[49m\u001b[43mn_samples_bootstrap\u001b[49m\u001b[43m)\u001b[49m\n\u001b[0;32m    131\u001b[0m \u001b[38;5;28;01mreturn\u001b[39;00m sample_indices\n",
      "\u001b[1;31mKeyboardInterrupt\u001b[0m: "
     ]
    }
   ],
   "source": [
    "param_grid = {\n",
    "    \n",
    "    \"model__max_leaf_nodes\": [1000,5000,100000,None],\n",
    "    \"model__n_estimators\": [100000,50000,10000],\n",
    "     \"model__criterion\": ['squared_error', 'absolute_error', 'poisson']\n",
    "    \n",
    "}\n",
    "grid_search = GridSearchCV(clf_rf, param_grid, cv=10)\n",
    "grid_search.fit(X_train,y_train)"
   ]
  },
  {
   "cell_type": "code",
   "execution_count": null,
   "id": "7023f270",
   "metadata": {},
   "outputs": [],
   "source": [
    "cv_results = pd.DataFrame(grid_search.cv_results_)\n",
    "cv_results"
   ]
  },
  {
   "cell_type": "code",
   "execution_count": null,
   "id": "15e1b558",
   "metadata": {},
   "outputs": [],
   "source": [
    "grid_search.best_params_"
   ]
  },
  {
   "cell_type": "code",
   "execution_count": null,
   "id": "f02042c7",
   "metadata": {},
   "outputs": [],
   "source": [
    "best_estim=grid_search.best_estimator_\n",
    "f_performance(best_estim)"
   ]
  },
  {
   "cell_type": "markdown",
   "id": "f26d658c",
   "metadata": {},
   "source": [
    "## 4.6.XGBRegressor"
   ]
  },
  {
   "cell_type": "code",
   "execution_count": 38,
   "id": "617f06f2",
   "metadata": {},
   "outputs": [
    {
     "data": {
      "text/plain": [
       "Pipeline(steps=[('preprocessor',\n",
       "                 ColumnTransformer(transformers=[('num',\n",
       "                                                  Pipeline(steps=[('scaler',\n",
       "                                                                   StandardScaler())]),\n",
       "                                                  ['BuildingAge',\n",
       "                                                   '%NaturalGas(kBtu)',\n",
       "                                                   'GFABuildingRate',\n",
       "                                                   'NumberofBuildings',\n",
       "                                                   'ENERGYSTARScore',\n",
       "                                                   '%SteamUse(kBtu)',\n",
       "                                                   'NumberofFloors',\n",
       "                                                   'GHGEmissionsIntensity']),\n",
       "                                                 ('cat',\n",
       "                                                  OneHotEncoder(drop='first',\n",
       "                                                                handle_unknown='ignore'),\n",
       "                                                  ['tranche_date',\n",
       "                                                   'Build...\n",
       "                              gamma=0, gpu_id=-1, grow_policy='depthwise',\n",
       "                              importance_type=None, interaction_constraints='',\n",
       "                              learning_rate=0.300000012, max_bin=256,\n",
       "                              max_cat_to_onehot=4, max_delta_step=0,\n",
       "                              max_depth=6, max_leaves=0, min_child_weight=1,\n",
       "                              missing=nan, monotone_constraints='()',\n",
       "                              n_estimators=10, n_jobs=0, num_parallel_tree=1,\n",
       "                              predictor='auto', random_state=123, reg_alpha=0,\n",
       "                              reg_lambda=1, ...))])"
      ]
     },
     "execution_count": 38,
     "metadata": {},
     "output_type": "execute_result"
    }
   ],
   "source": [
    "clf_xg = Pipeline(\n",
    "    steps=[(\"preprocessor\", preprocessor), (\"model\", XGBRegressor(objective ='reg:squarederror',\n",
    "                  n_estimators = 10, seed = 123))]\n",
    ")\n",
    "clf_xg.fit(X_train,y_train)\n"
   ]
  },
  {
   "cell_type": "markdown",
   "id": "0f2754ac",
   "metadata": {},
   "source": [
    "### 4.6.1.Indicateurs de performance"
   ]
  },
  {
   "cell_type": "code",
   "execution_count": null,
   "id": "64825f02",
   "metadata": {},
   "outputs": [],
   "source": []
  },
  {
   "cell_type": "code",
   "execution_count": 39,
   "id": "ecc15ac9",
   "metadata": {},
   "outputs": [
    {
     "name": "stdout",
     "output_type": "stream",
     "text": [
      "******************\n",
      "MSE : 0.315\n",
      "RMSE : 0.561\n",
      "R2 : 0.737\n"
     ]
    }
   ],
   "source": [
    "f_performance(clf_xg)"
   ]
  },
  {
   "cell_type": "markdown",
   "id": "e4197846",
   "metadata": {},
   "source": [
    "### 4.6.2.Optimisation du modèle"
   ]
  },
  {
   "cell_type": "code",
   "execution_count": null,
   "id": "e06705d8",
   "metadata": {},
   "outputs": [],
   "source": [
    "#list(clf_xg.get_params().keys())"
   ]
  },
  {
   "cell_type": "code",
   "execution_count": null,
   "id": "6d7647d0",
   "metadata": {},
   "outputs": [],
   "source": [
    "param_grid = {\n",
    "    \n",
    "    \"model__booster\": ['squarederror','gbtree'],\n",
    "    \"model__n_estimators\": [100000,50000,10000],\n",
    "    \n",
    "    \"model__max_leaves\": [10000, 100000,1000,100],\n",
    "    \"model__learning_rate\": [0.3, 0.5,0.1,0.01,0.001]\n",
    "    \n",
    "}\n",
    "\n",
    "\n",
    "grid_search = GridSearchCV(clf_xg, param_grid, cv=10)\n",
    "grid_search.fit(X_train,y_train)"
   ]
  },
  {
   "cell_type": "code",
   "execution_count": null,
   "id": "811fb9b7",
   "metadata": {},
   "outputs": [],
   "source": [
    "cv_results = pd.DataFrame(grid_search.cv_results_)\n",
    "cv_results\n",
    "grid_search.best_params_\n",
    "best_estim=grid_search.best_estimator_\n",
    "f_performance(best_estim)"
   ]
  },
  {
   "cell_type": "code",
   "execution_count": null,
   "id": "be2892bc",
   "metadata": {},
   "outputs": [],
   "source": []
  }
 ],
 "metadata": {
  "kernelspec": {
   "display_name": "Python 3 (ipykernel)",
   "language": "python",
   "name": "python3"
  },
  "language_info": {
   "codemirror_mode": {
    "name": "ipython",
    "version": 3
   },
   "file_extension": ".py",
   "mimetype": "text/x-python",
   "name": "python",
   "nbconvert_exporter": "python",
   "pygments_lexer": "ipython3",
   "version": "3.10.4"
  }
 },
 "nbformat": 4,
 "nbformat_minor": 5
}
