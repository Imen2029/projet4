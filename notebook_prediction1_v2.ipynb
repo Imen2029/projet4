{
 "cells": [
  {
   "cell_type": "markdown",
   "id": "ba5631a4",
   "metadata": {},
   "source": [
    "* [1.Load Data From CSV File](#ld)\n",
    "* [2.Build a pipeline](#bp)\n",
    "* [3.Modèles de machine learning](#mml)\n",
    "* [4.Optimisation du modèle](#om)\n"
   ]
  },
  {
   "cell_type": "code",
   "execution_count": 108,
   "id": "0040ade2",
   "metadata": {},
   "outputs": [],
   "source": [
    "#!pip install xgboost"
   ]
  },
  {
   "cell_type": "code",
   "execution_count": 109,
   "id": "52e96a65",
   "metadata": {},
   "outputs": [],
   "source": [
    "#!pip install lightgbm "
   ]
  },
  {
   "cell_type": "code",
   "execution_count": 110,
   "id": "4712a784",
   "metadata": {},
   "outputs": [],
   "source": [
    "import pandas as pd\n",
    "import numpy as np\n",
    "\n",
    "import missingno as msno\n",
    "import seaborn as sns\n",
    "\n",
    "import matplotlib.pyplot as plt \n",
    "import warnings\n",
    "warnings.filterwarnings('ignore')\n",
    "\n",
    "from sklearn.preprocessing import OneHotEncoder,StandardScaler\n",
    "\n",
    "from sklearn.compose import make_column_transformer\n",
    "from sklearn.pipeline import Pipeline\n",
    "from sklearn.compose import ColumnTransformer\n",
    "from sklearn.linear_model import LinearRegression,Ridge,Lasso\n",
    "from sklearn.preprocessing import PolynomialFeatures\n",
    "from sklearn.linear_model import ElasticNet\n",
    "from sklearn.svm import SVR\n",
    "from  xgboost import XGBRegressor\n",
    "from lightgbm import LGBMRegressor\n",
    "from sklearn.ensemble import RandomForestRegressor\n",
    "\n",
    "from sklearn.model_selection import cross_val_score\n",
    "import sklearn\n",
    "\n",
    "from sklearn.metrics import confusion_matrix\n",
    "from sklearn.model_selection import train_test_split\n",
    "from sklearn.metrics import mean_absolute_error,r2_score\n",
    "from time import time\n",
    "\n",
    "\n",
    "from sklearn.metrics import mean_squared_error\n",
    "warnings.filterwarnings('ignore')"
   ]
  },
  {
   "cell_type": "markdown",
   "id": "565ad0ef",
   "metadata": {},
   "source": [
    "### Load Data From CSV File<a class=\"anchor\" id=\"ld\"></a>"
   ]
  },
  {
   "cell_type": "code",
   "execution_count": 111,
   "id": "ba85f0f1",
   "metadata": {},
   "outputs": [
    {
     "data": {
      "text/html": [
       "<div>\n",
       "<style scoped>\n",
       "    .dataframe tbody tr th:only-of-type {\n",
       "        vertical-align: middle;\n",
       "    }\n",
       "\n",
       "    .dataframe tbody tr th {\n",
       "        vertical-align: top;\n",
       "    }\n",
       "\n",
       "    .dataframe thead th {\n",
       "        text-align: right;\n",
       "    }\n",
       "</style>\n",
       "<table border=\"1\" class=\"dataframe\">\n",
       "  <thead>\n",
       "    <tr style=\"text-align: right;\">\n",
       "      <th></th>\n",
       "      <th>OSEBuildingID</th>\n",
       "      <th>BuildingType</th>\n",
       "      <th>NumberofBuildings</th>\n",
       "      <th>NumberofFloors</th>\n",
       "      <th>PropertyGFATotal</th>\n",
       "      <th>ENERGYSTARScore</th>\n",
       "      <th>SourceEUI(kBtu/sf)</th>\n",
       "      <th>SiteEnergyUse(kBtu)</th>\n",
       "      <th>TotalGHGEmissions</th>\n",
       "      <th>GHGEmissionsIntensity</th>\n",
       "      <th>tranche_date</th>\n",
       "      <th>BuildingAge</th>\n",
       "      <th>groups_neighborhood</th>\n",
       "      <th>groups_PrimaryPropertyType</th>\n",
       "    </tr>\n",
       "  </thead>\n",
       "  <tbody>\n",
       "    <tr>\n",
       "      <th>0</th>\n",
       "      <td>1</td>\n",
       "      <td>NonResidential</td>\n",
       "      <td>1.0</td>\n",
       "      <td>12</td>\n",
       "      <td>88434</td>\n",
       "      <td>60.0</td>\n",
       "      <td>182.500000</td>\n",
       "      <td>7226362.5</td>\n",
       "      <td>249.98</td>\n",
       "      <td>2.83</td>\n",
       "      <td>tranche_date1</td>\n",
       "      <td>89</td>\n",
       "      <td>Various</td>\n",
       "      <td>Various</td>\n",
       "    </tr>\n",
       "    <tr>\n",
       "      <th>1</th>\n",
       "      <td>2</td>\n",
       "      <td>NonResidential</td>\n",
       "      <td>1.0</td>\n",
       "      <td>11</td>\n",
       "      <td>103566</td>\n",
       "      <td>61.0</td>\n",
       "      <td>176.100006</td>\n",
       "      <td>8387933.0</td>\n",
       "      <td>295.86</td>\n",
       "      <td>2.86</td>\n",
       "      <td>tranche_date3</td>\n",
       "      <td>20</td>\n",
       "      <td>Various</td>\n",
       "      <td>Various</td>\n",
       "    </tr>\n",
       "    <tr>\n",
       "      <th>2</th>\n",
       "      <td>3</td>\n",
       "      <td>NonResidential</td>\n",
       "      <td>1.0</td>\n",
       "      <td>41</td>\n",
       "      <td>956110</td>\n",
       "      <td>43.0</td>\n",
       "      <td>241.899994</td>\n",
       "      <td>72587024.0</td>\n",
       "      <td>2089.28</td>\n",
       "      <td>2.19</td>\n",
       "      <td>tranche_date2</td>\n",
       "      <td>47</td>\n",
       "      <td>Various</td>\n",
       "      <td>Various</td>\n",
       "    </tr>\n",
       "    <tr>\n",
       "      <th>3</th>\n",
       "      <td>5</td>\n",
       "      <td>NonResidential</td>\n",
       "      <td>1.0</td>\n",
       "      <td>10</td>\n",
       "      <td>61320</td>\n",
       "      <td>56.0</td>\n",
       "      <td>216.199997</td>\n",
       "      <td>6794584.0</td>\n",
       "      <td>286.43</td>\n",
       "      <td>4.67</td>\n",
       "      <td>tranche_date1</td>\n",
       "      <td>90</td>\n",
       "      <td>Various</td>\n",
       "      <td>Various</td>\n",
       "    </tr>\n",
       "    <tr>\n",
       "      <th>4</th>\n",
       "      <td>8</td>\n",
       "      <td>NonResidential</td>\n",
       "      <td>1.0</td>\n",
       "      <td>18</td>\n",
       "      <td>175580</td>\n",
       "      <td>75.0</td>\n",
       "      <td>211.399994</td>\n",
       "      <td>14172606.0</td>\n",
       "      <td>505.01</td>\n",
       "      <td>2.88</td>\n",
       "      <td>tranche_date3</td>\n",
       "      <td>36</td>\n",
       "      <td>Various</td>\n",
       "      <td>Various</td>\n",
       "    </tr>\n",
       "  </tbody>\n",
       "</table>\n",
       "</div>"
      ],
      "text/plain": [
       "   OSEBuildingID    BuildingType  NumberofBuildings  NumberofFloors  \\\n",
       "0              1  NonResidential                1.0              12   \n",
       "1              2  NonResidential                1.0              11   \n",
       "2              3  NonResidential                1.0              41   \n",
       "3              5  NonResidential                1.0              10   \n",
       "4              8  NonResidential                1.0              18   \n",
       "\n",
       "   PropertyGFATotal  ENERGYSTARScore  SourceEUI(kBtu/sf)  SiteEnergyUse(kBtu)  \\\n",
       "0             88434             60.0          182.500000            7226362.5   \n",
       "1            103566             61.0          176.100006            8387933.0   \n",
       "2            956110             43.0          241.899994           72587024.0   \n",
       "3             61320             56.0          216.199997            6794584.0   \n",
       "4            175580             75.0          211.399994           14172606.0   \n",
       "\n",
       "   TotalGHGEmissions  GHGEmissionsIntensity   tranche_date  BuildingAge  \\\n",
       "0             249.98                   2.83  tranche_date1           89   \n",
       "1             295.86                   2.86  tranche_date3           20   \n",
       "2            2089.28                   2.19  tranche_date2           47   \n",
       "3             286.43                   4.67  tranche_date1           90   \n",
       "4             505.01                   2.88  tranche_date3           36   \n",
       "\n",
       "  groups_neighborhood groups_PrimaryPropertyType  \n",
       "0             Various                    Various  \n",
       "1             Various                    Various  \n",
       "2             Various                    Various  \n",
       "3             Various                    Various  \n",
       "4             Various                    Various  "
      ]
     },
     "execution_count": 111,
     "metadata": {},
     "output_type": "execute_result"
    }
   ],
   "source": [
    "df = pd.read_csv('prepared_data.csv', sep='\\t')\n",
    "df.head()"
   ]
  },
  {
   "cell_type": "code",
   "execution_count": 112,
   "id": "0ee1e61b",
   "metadata": {},
   "outputs": [
    {
     "data": {
      "text/plain": [
       "(1655, 14)"
      ]
     },
     "execution_count": 112,
     "metadata": {},
     "output_type": "execute_result"
    }
   ],
   "source": [
    "df.shape"
   ]
  },
  {
   "cell_type": "code",
   "execution_count": 113,
   "id": "ee0f86a9",
   "metadata": {},
   "outputs": [
    {
     "data": {
      "text/plain": [
       "Index(['OSEBuildingID', 'BuildingType', 'NumberofBuildings', 'NumberofFloors',\n",
       "       'PropertyGFATotal', 'ENERGYSTARScore', 'SourceEUI(kBtu/sf)',\n",
       "       'SiteEnergyUse(kBtu)', 'TotalGHGEmissions', 'GHGEmissionsIntensity',\n",
       "       'tranche_date', 'BuildingAge', 'groups_neighborhood',\n",
       "       'groups_PrimaryPropertyType'],\n",
       "      dtype='object')"
      ]
     },
     "execution_count": 113,
     "metadata": {},
     "output_type": "execute_result"
    }
   ],
   "source": [
    "df.columns"
   ]
  },
  {
   "cell_type": "code",
   "execution_count": 114,
   "id": "ee01c59f",
   "metadata": {},
   "outputs": [],
   "source": [
    "cols=['BuildingType', 'NumberofBuildings', 'NumberofFloors',\n",
    "       'PropertyGFATotal', 'ENERGYSTARScore', 'SourceEUI(kBtu/sf)',\n",
    "        'TotalGHGEmissions', 'GHGEmissionsIntensity',\n",
    "       'tranche_date', 'BuildingAge', 'groups_neighborhood',\n",
    "       'groups_PrimaryPropertyType']"
   ]
  },
  {
   "cell_type": "code",
   "execution_count": 115,
   "id": "fcc910b6",
   "metadata": {},
   "outputs": [],
   "source": [
    "df=df[cols]"
   ]
  },
  {
   "cell_type": "code",
   "execution_count": 116,
   "id": "6465213f",
   "metadata": {},
   "outputs": [
    {
     "name": "stdout",
     "output_type": "stream",
     "text": [
      "['NumberofBuildings', 'NumberofFloors', 'PropertyGFATotal', 'ENERGYSTARScore', 'SourceEUI(kBtu/sf)', 'TotalGHGEmissions', 'GHGEmissionsIntensity', 'BuildingAge']\n"
     ]
    }
   ],
   "source": [
    "numercial_cols = [col for col in df.columns if df[col].dtype!=\"O\"]\n",
    "print(numercial_cols)"
   ]
  },
  {
   "cell_type": "code",
   "execution_count": 117,
   "id": "7520c9d5",
   "metadata": {},
   "outputs": [
    {
     "name": "stdout",
     "output_type": "stream",
     "text": [
      "['BuildingType', 'tranche_date', 'groups_neighborhood', 'groups_PrimaryPropertyType']\n"
     ]
    }
   ],
   "source": [
    "categorical_cols = [col for col in df.columns if df[col].dtype==\"O\"]\n",
    "print(categorical_cols)"
   ]
  },
  {
   "cell_type": "code",
   "execution_count": 118,
   "id": "9fee50f7",
   "metadata": {},
   "outputs": [
    {
     "data": {
      "text/plain": [
       "array(['NonResidential', 'Nonresidential COS', 'SPS-District K-12',\n",
       "       'Campus'], dtype=object)"
      ]
     },
     "execution_count": 118,
     "metadata": {},
     "output_type": "execute_result"
    }
   ],
   "source": [
    "df['BuildingType'].unique()"
   ]
  },
  {
   "cell_type": "code",
   "execution_count": 119,
   "id": "3116472c",
   "metadata": {},
   "outputs": [
    {
     "data": {
      "text/plain": [
       "array(['Various', 'South', 'North', 'Central'], dtype=object)"
      ]
     },
     "execution_count": 119,
     "metadata": {},
     "output_type": "execute_result"
    }
   ],
   "source": [
    "df['groups_neighborhood'].unique()"
   ]
  },
  {
   "cell_type": "code",
   "execution_count": 120,
   "id": "5bd9d724",
   "metadata": {},
   "outputs": [
    {
     "data": {
      "text/plain": [
       "array(['tranche_date1', 'tranche_date3', 'tranche_date2', 'tranche_date4'],\n",
       "      dtype=object)"
      ]
     },
     "execution_count": 120,
     "metadata": {},
     "output_type": "execute_result"
    }
   ],
   "source": [
    "df['tranche_date'].unique()"
   ]
  },
  {
   "cell_type": "code",
   "execution_count": 121,
   "id": "5847dda7",
   "metadata": {},
   "outputs": [
    {
     "data": {
      "text/plain": [
       "array(['Various', 'Commerce', 'Health'], dtype=object)"
      ]
     },
     "execution_count": 121,
     "metadata": {},
     "output_type": "execute_result"
    }
   ],
   "source": [
    "df['groups_PrimaryPropertyType'].unique()"
   ]
  },
  {
   "cell_type": "code",
   "execution_count": 122,
   "id": "a5fb6465",
   "metadata": {},
   "outputs": [
    {
     "data": {
      "text/plain": [
       "(1655, 12)"
      ]
     },
     "execution_count": 122,
     "metadata": {},
     "output_type": "execute_result"
    }
   ],
   "source": [
    "df.shape"
   ]
  },
  {
   "cell_type": "code",
   "execution_count": 123,
   "id": "b91617e0",
   "metadata": {},
   "outputs": [],
   "source": [
    "numercial_cols_for_transformer=list(set(numercial_cols)-set(['TotalGHGEmissions']))"
   ]
  },
  {
   "cell_type": "code",
   "execution_count": 124,
   "id": "2e2d8e75",
   "metadata": {},
   "outputs": [
    {
     "data": {
      "text/plain": [
       "['SourceEUI(kBtu/sf)',\n",
       " 'ENERGYSTARScore',\n",
       " 'GHGEmissionsIntensity',\n",
       " 'PropertyGFATotal',\n",
       " 'BuildingAge',\n",
       " 'NumberofFloors',\n",
       " 'NumberofBuildings']"
      ]
     },
     "execution_count": 124,
     "metadata": {},
     "output_type": "execute_result"
    }
   ],
   "source": [
    "numercial_cols_for_transformer"
   ]
  },
  {
   "cell_type": "markdown",
   "id": "1d6f79c0",
   "metadata": {},
   "source": [
    "## Build a pipeline<a class=\"anchor\" id=\"bp\"></a>"
   ]
  },
  {
   "cell_type": "code",
   "execution_count": 125,
   "id": "06b1f9ee",
   "metadata": {},
   "outputs": [],
   "source": [
    "# Create pipelines for numerical and categorical features\n",
    "numeric_transformer = Pipeline(\n",
    "    steps=[(\"scaler\", StandardScaler())]\n",
    ")\n",
    "\n",
    "categorical_transformer = OneHotEncoder(handle_unknown=\"ignore\")\n",
    " #when using sklearn.compose.ColumnTransformer You need to make sure the output column is not included in the data you create your Preprocessing pipeline with\n",
    "# Create ColumnTransformer to apply pipeline for each column type\n",
    "preprocessor = ColumnTransformer(\n",
    "    transformers=[\n",
    "        (\"num\", numeric_transformer, numercial_cols_for_transformer),\n",
    "        (\"cat\", categorical_transformer, categorical_cols),\n",
    "    ]\n",
    ")"
   ]
  },
  {
   "cell_type": "code",
   "execution_count": 126,
   "id": "6704b30f",
   "metadata": {},
   "outputs": [
    {
     "data": {
      "text/plain": [
       "['SourceEUI(kBtu/sf)',\n",
       " 'ENERGYSTARScore',\n",
       " 'GHGEmissionsIntensity',\n",
       " 'PropertyGFATotal',\n",
       " 'BuildingAge',\n",
       " 'NumberofFloors',\n",
       " 'NumberofBuildings',\n",
       " 'BuildingType',\n",
       " 'tranche_date',\n",
       " 'groups_neighborhood',\n",
       " 'groups_PrimaryPropertyType']"
      ]
     },
     "execution_count": 126,
     "metadata": {},
     "output_type": "execute_result"
    }
   ],
   "source": [
    "tx = preprocessor.get_params()['transformers']\n",
    "feature_names = []\n",
    "for name,transformer,features in tx:\n",
    "    try:\n",
    "        Var = preprocessor.named_transformers_[name].get_feature_names_out().tolist()\n",
    "    except AttributeError:\n",
    "        Var = features\n",
    "    feature_names = feature_names + Var\n",
    "\n",
    "feature_names"
   ]
  },
  {
   "cell_type": "code",
   "execution_count": 127,
   "id": "cc242047",
   "metadata": {},
   "outputs": [],
   "source": [
    "y=df[['TotalGHGEmissions']]\n",
    "y= StandardScaler().fit_transform(y)\n",
    "features=list(set(cols)-set(['TotalGHGEmissions']))\n",
    "X=df[features]"
   ]
  },
  {
   "cell_type": "code",
   "execution_count": 128,
   "id": "1a31b103",
   "metadata": {},
   "outputs": [],
   "source": [
    "X_train, X_test, y_train, y_test = train_test_split(X, y, test_size=0.2, random_state=0)"
   ]
  },
  {
   "cell_type": "markdown",
   "id": "c25068b0",
   "metadata": {},
   "source": [
    "## 3.Idée pour choisir le meilleur modèle"
   ]
  },
  {
   "cell_type": "code",
   "execution_count": 129,
   "id": "162cf4d6",
   "metadata": {},
   "outputs": [],
   "source": [
    "regressors = [LinearRegression(),ElasticNet(),RandomForestRegressor(),SVR(),XGBRegressor(),LGBMRegressor(),Ridge(),Lasso()]"
   ]
  },
  {
   "cell_type": "code",
   "execution_count": 130,
   "id": "8787d5f1",
   "metadata": {},
   "outputs": [
    {
     "name": "stdout",
     "output_type": "stream",
     "text": [
      "LinearRegression()\n",
      "\tTraining time: 0.099s\n",
      "\tPrediction time: 0.144s\n",
      "\tMean squared error: 0.4706565945074267\n",
      "\tRMSE: 0.6860441636712805\n",
      "\tR2 score: 0.38467891871550053\n",
      "\n",
      "ElasticNet()\n",
      "\tTraining time: 0.078s\n",
      "\tPrediction time: 0.016s\n",
      "\tMean squared error: 0.7468040421641507\n",
      "\tRMSE: 0.8641782467547715\n",
      "\tR2 score: 0.023652752145111866\n",
      "\n",
      "RandomForestRegressor()\n",
      "\tTraining time: 1.464s\n",
      "\tPrediction time: 0.031s\n",
      "\tMean squared error: 0.8786409935119233\n",
      "\tRMSE: 0.9373585191973898\n",
      "\tR2 score: -0.14870657821009736\n",
      "\n",
      "SVR()\n",
      "\tTraining time: 0.156s\n",
      "\tPrediction time: 0.016s\n",
      "\tMean squared error: 0.4695640010595877\n",
      "\tRMSE: 0.6852474013519407\n",
      "\tR2 score: 0.38610733975447975\n",
      "\n",
      "XGBRegressor(base_score=0.5, booster='gbtree', callbacks=None,\n",
      "             colsample_bylevel=1, colsample_bynode=1, colsample_bytree=1,\n",
      "             early_stopping_rounds=None, enable_categorical=False,\n",
      "             eval_metric=None, gamma=0, gpu_id=-1, grow_policy='depthwise',\n",
      "             importance_type=None, interaction_constraints='',\n",
      "             learning_rate=0.300000012, max_bin=256, max_cat_to_onehot=4,\n",
      "             max_delta_step=0, max_depth=6, max_leaves=0, min_child_weight=1,\n",
      "             missing=nan, monotone_constraints='()', n_estimators=100, n_jobs=0,\n",
      "             num_parallel_tree=1, predictor='auto', random_state=0, reg_alpha=0,\n",
      "             reg_lambda=1, ...)\n",
      "\tTraining time: 1.744s\n",
      "\tPrediction time: 0.088s\n",
      "\tMean squared error: 1.7482196364612919\n",
      "\tRMSE: 1.322202570131102\n",
      "\tR2 score: -1.2855653348615355\n",
      "\n",
      "LGBMRegressor()\n",
      "\tTraining time: 0.857s\n",
      "\tPrediction time: 0.016s\n",
      "\tMean squared error: 0.17978067604963213\n",
      "\tRMSE: 0.4240055141736156\n",
      "\tR2 score: 0.7649606076449602\n",
      "\n",
      "Ridge()\n",
      "\tTraining time: 0.078s\n",
      "\tPrediction time: 0.016s\n",
      "\tMean squared error: 0.46914351761774253\n",
      "\tRMSE: 0.6849405212262906\n",
      "\tR2 score: 0.3866570660923613\n",
      "\n",
      "Lasso()\n",
      "\tTraining time: 0.016s\n",
      "\tPrediction time: 0.016s\n",
      "\tMean squared error: 0.7649301789201219\n",
      "\tRMSE: 0.8746028692613134\n",
      "\tR2 score: -4.4767869173067965e-05\n",
      "\n"
     ]
    }
   ],
   "source": [
    "for model in regressors:\n",
    "    start = time()\n",
    "    pip = Pipeline(steps=[(\"preprocessor\", preprocessor), (\"model\", model)])\n",
    "    \n",
    "    pip.fit(X_train, y_train)\n",
    "    train_time = time() - start\n",
    "    start = time()\n",
    "    y_pred = pip.predict(X_test)\n",
    "    predict_time = time()-start    \n",
    "    print(model)\n",
    "    print(\"\\tTraining time: %0.3fs\" % train_time)\n",
    "    print(\"\\tPrediction time: %0.3fs\" % predict_time)\n",
    "   \n",
    "    print(\"\\tMean squared error:\", mean_squared_error(y_test, y_pred))\n",
    "    print(\"\\tRMSE:\", np.sqrt(mean_squared_error(y_test, y_pred)))\n",
    "    print(\"\\tR2 score:\", r2_score(y_test, y_pred))\n",
    "    print()"
   ]
  },
  {
   "cell_type": "markdown",
   "id": "24be7158",
   "metadata": {},
   "source": [
    "**Note**\n",
    "<br>\n",
    "Dans la suite on va travailler sur les 3 modèles retenus ayant les 4 premiers meilleurs coefficiet de détermination r2 notamment LinearRegression,Ridge,SVR et LGBMRegressor."
   ]
  },
  {
   "cell_type": "markdown",
   "id": "16c7ab98",
   "metadata": {},
   "source": [
    "## 4.Modèles de machine learning choisis<a class=\"anchor\" id=\"mml\"></a>"
   ]
  },
  {
   "cell_type": "code",
   "execution_count": null,
   "id": "895b1c18",
   "metadata": {},
   "outputs": [],
   "source": []
  },
  {
   "cell_type": "code",
   "execution_count": null,
   "id": "3b23e1e7",
   "metadata": {},
   "outputs": [],
   "source": []
  },
  {
   "cell_type": "code",
   "execution_count": 131,
   "id": "a5d8adab",
   "metadata": {},
   "outputs": [],
   "source": [
    "def f_performance(pip):\n",
    "    #pip.fit(X_train,y_train)\n",
    "  \n",
    "    \n",
    "    print('******************')\n",
    "    #Check MSE and RMSE\n",
    "\n",
    "    y_pred = pip.predict(X_test)\n",
    "    print(f'MSE : {mean_squared_error(y_test, y_pred):.3f}')\n",
    "    print(f'RMSE : {np.sqrt(mean_squared_error(y_test, y_pred)):.3f}')\n",
    "    print(f'R2 : {r2_score(y_test, y_pred):.3f}')"
   ]
  },
  {
   "cell_type": "markdown",
   "id": "8316d1b3",
   "metadata": {},
   "source": [
    "### 4.1.Regression linéaire"
   ]
  },
  {
   "cell_type": "code",
   "execution_count": 132,
   "id": "6609227e",
   "metadata": {},
   "outputs": [],
   "source": [
    "#LinearRegression fits a linear model with coefficients w = (w1, …, wp) to minimize the residual sum of squares between the observed targets in the dataset, \n",
    "#and the targets predicted by the linear approximation."
   ]
  },
  {
   "cell_type": "code",
   "execution_count": 133,
   "id": "45f63663",
   "metadata": {},
   "outputs": [],
   "source": [
    "\n",
    "clf_lr = Pipeline(\n",
    "    steps=[(\"preprocessor\", preprocessor), (\"model\", LinearRegression())]\n",
    ")\n",
    "\n"
   ]
  },
  {
   "cell_type": "code",
   "execution_count": 134,
   "id": "242a5922",
   "metadata": {},
   "outputs": [
    {
     "data": {
      "text/plain": [
       "Pipeline(steps=[('preprocessor',\n",
       "                 ColumnTransformer(transformers=[('num',\n",
       "                                                  Pipeline(steps=[('scaler',\n",
       "                                                                   StandardScaler())]),\n",
       "                                                  ['SourceEUI(kBtu/sf)',\n",
       "                                                   'ENERGYSTARScore',\n",
       "                                                   'GHGEmissionsIntensity',\n",
       "                                                   'PropertyGFATotal',\n",
       "                                                   'BuildingAge',\n",
       "                                                   'NumberofFloors',\n",
       "                                                   'NumberofBuildings']),\n",
       "                                                 ('cat',\n",
       "                                                  OneHotEncoder(handle_unknown='ignore'),\n",
       "                                                  ['BuildingType',\n",
       "                                                   'tranche_date',\n",
       "                                                   'groups_neighborhood',\n",
       "                                                   'groups_PrimaryPropertyType'])])),\n",
       "                ('model', LinearRegression())])"
      ]
     },
     "execution_count": 134,
     "metadata": {},
     "output_type": "execute_result"
    }
   ],
   "source": [
    "clf_lr.fit(X_train,y_train)"
   ]
  },
  {
   "cell_type": "markdown",
   "id": "72baafd6",
   "metadata": {},
   "source": [
    "### 4.1.1.Indicateurs de performance"
   ]
  },
  {
   "cell_type": "code",
   "execution_count": 135,
   "id": "424c24fd",
   "metadata": {},
   "outputs": [
    {
     "name": "stdout",
     "output_type": "stream",
     "text": [
      "******************\n",
      "MSE : 0.471\n",
      "RMSE : 0.686\n",
      "R2 : 0.385\n"
     ]
    }
   ],
   "source": [
    "f_performance(clf_lr)"
   ]
  },
  {
   "cell_type": "code",
   "execution_count": null,
   "id": "17564c90",
   "metadata": {},
   "outputs": [],
   "source": []
  },
  {
   "cell_type": "markdown",
   "id": "39e8e70b",
   "metadata": {},
   "source": [
    "### 4.1.2.Coéfficients du modèle"
   ]
  },
  {
   "cell_type": "code",
   "execution_count": 136,
   "id": "292fdb17",
   "metadata": {},
   "outputs": [
    {
     "data": {
      "text/plain": [
       "array([0.19553985])"
      ]
     },
     "execution_count": 136,
     "metadata": {},
     "output_type": "execute_result"
    }
   ],
   "source": [
    "\n",
    "clf_lr.named_steps['model'].intercept_"
   ]
  },
  {
   "cell_type": "code",
   "execution_count": 137,
   "id": "7ad56700",
   "metadata": {},
   "outputs": [],
   "source": [
    "def f_coeff(pip):\n",
    "    # Putting together the coefficient and their corresponding variable names\n",
    "    #pip.fit(X_train,y_train)\n",
    "    df_coefficient = pd.DataFrame()\n",
    "    df_coefficient[\"Columns\"] = feature_names\n",
    "    df_coefficient['Estimated Coefficient '] = pd.Series(pip.named_steps['model'].coef_.flatten())\n",
    "    return df_coefficient\n",
    "    #print(lreg_coefficient)"
   ]
  },
  {
   "cell_type": "code",
   "execution_count": 138,
   "id": "44d180c5",
   "metadata": {},
   "outputs": [
    {
     "data": {
      "text/html": [
       "<div>\n",
       "<style scoped>\n",
       "    .dataframe tbody tr th:only-of-type {\n",
       "        vertical-align: middle;\n",
       "    }\n",
       "\n",
       "    .dataframe tbody tr th {\n",
       "        vertical-align: top;\n",
       "    }\n",
       "\n",
       "    .dataframe thead th {\n",
       "        text-align: right;\n",
       "    }\n",
       "</style>\n",
       "<table border=\"1\" class=\"dataframe\">\n",
       "  <thead>\n",
       "    <tr style=\"text-align: right;\">\n",
       "      <th></th>\n",
       "      <th>Columns</th>\n",
       "      <th>Estimated Coefficient</th>\n",
       "    </tr>\n",
       "  </thead>\n",
       "  <tbody>\n",
       "    <tr>\n",
       "      <th>0</th>\n",
       "      <td>SourceEUI(kBtu/sf)</td>\n",
       "      <td>-0.105161</td>\n",
       "    </tr>\n",
       "    <tr>\n",
       "      <th>1</th>\n",
       "      <td>ENERGYSTARScore</td>\n",
       "      <td>0.026740</td>\n",
       "    </tr>\n",
       "    <tr>\n",
       "      <th>2</th>\n",
       "      <td>GHGEmissionsIntensity</td>\n",
       "      <td>0.551296</td>\n",
       "    </tr>\n",
       "    <tr>\n",
       "      <th>3</th>\n",
       "      <td>PropertyGFATotal</td>\n",
       "      <td>0.505797</td>\n",
       "    </tr>\n",
       "    <tr>\n",
       "      <th>4</th>\n",
       "      <td>BuildingAge</td>\n",
       "      <td>0.014840</td>\n",
       "    </tr>\n",
       "    <tr>\n",
       "      <th>5</th>\n",
       "      <td>NumberofFloors</td>\n",
       "      <td>-0.171982</td>\n",
       "    </tr>\n",
       "    <tr>\n",
       "      <th>6</th>\n",
       "      <td>NumberofBuildings</td>\n",
       "      <td>0.098392</td>\n",
       "    </tr>\n",
       "    <tr>\n",
       "      <th>7</th>\n",
       "      <td>BuildingType</td>\n",
       "      <td>0.516923</td>\n",
       "    </tr>\n",
       "    <tr>\n",
       "      <th>8</th>\n",
       "      <td>tranche_date</td>\n",
       "      <td>-0.088962</td>\n",
       "    </tr>\n",
       "    <tr>\n",
       "      <th>9</th>\n",
       "      <td>groups_neighborhood</td>\n",
       "      <td>-0.335836</td>\n",
       "    </tr>\n",
       "    <tr>\n",
       "      <th>10</th>\n",
       "      <td>groups_PrimaryPropertyType</td>\n",
       "      <td>-0.092126</td>\n",
       "    </tr>\n",
       "  </tbody>\n",
       "</table>\n",
       "</div>"
      ],
      "text/plain": [
       "                       Columns  Estimated Coefficient \n",
       "0           SourceEUI(kBtu/sf)               -0.105161\n",
       "1              ENERGYSTARScore                0.026740\n",
       "2        GHGEmissionsIntensity                0.551296\n",
       "3             PropertyGFATotal                0.505797\n",
       "4                  BuildingAge                0.014840\n",
       "5               NumberofFloors               -0.171982\n",
       "6            NumberofBuildings                0.098392\n",
       "7                 BuildingType                0.516923\n",
       "8                 tranche_date               -0.088962\n",
       "9          groups_neighborhood               -0.335836\n",
       "10  groups_PrimaryPropertyType               -0.092126"
      ]
     },
     "execution_count": 138,
     "metadata": {},
     "output_type": "execute_result"
    }
   ],
   "source": [
    "f_coeff(clf_lr)"
   ]
  },
  {
   "cell_type": "code",
   "execution_count": 139,
   "id": "a1273fcd",
   "metadata": {},
   "outputs": [],
   "source": [
    "font = {\n",
    "        'weight' : 'bold',\n",
    "        'size'   : 12}\n",
    "\n",
    "plt.rc('font', **font)"
   ]
  },
  {
   "cell_type": "code",
   "execution_count": 140,
   "id": "b5dcaa22",
   "metadata": {},
   "outputs": [],
   "source": [
    "def f_plot_coeff(pip_reg):\n",
    "    # plotting the coefficient score\n",
    "    \n",
    "\n",
    "    fig, ax = plt.subplots(figsize =(25, 10))\n",
    " \n",
    "    color =['tab:gray', 'tab:blue', 'tab:orange',\n",
    "            'tab:green', 'tab:red', 'tab:purple', 'tab:brown',\n",
    "            'tab:pink', 'tab:gray', 'tab:olive', 'tab:cyan',\n",
    "            'tab:orange', 'tab:green', 'tab:blue', 'tab:olive']\n",
    "    \n",
    "    df_coefficient=f_coeff(pip_reg)\n",
    "    ax.bar(df_coefficient[\"Columns\"],\n",
    "    df_coefficient['Estimated Coefficient '],\n",
    "       color=color\n",
    "           )\n",
    "\n",
    "    ax.spines['bottom'].set_position('zero')\n",
    " \n",
    "    plt.style.use('ggplot')\n",
    "    plt.xticks(rotation=30, ha='right')\n",
    "    plt.show()"
   ]
  },
  {
   "cell_type": "code",
   "execution_count": 141,
   "id": "c8b3c300",
   "metadata": {},
   "outputs": [
    {
     "data": {
      "image/png": "[encoded data removed]",
      "text/plain": [
       "<Figure size 1800x720 with 1 Axes>"
      ]
     },
     "metadata": {},
     "output_type": "display_data"
    }
   ],
   "source": [
    "f_plot_coeff(clf_lr)"
   ]
  },
  {
   "cell_type": "markdown",
   "id": "59eb8edf",
   "metadata": {},
   "source": [
    "**Observations**\n",
    "<br>\n",
    "On peut remarquer que les features les plus importants sont: 'GHGEmissionsIntensity','BuildingType_Campus' et 'PropertyGFATotal'"
   ]
  },
  {
   "cell_type": "markdown",
   "id": "1d43445a",
   "metadata": {},
   "source": [
    "### 4.1.3.Optimisation du modèle"
   ]
  },
  {
   "cell_type": "markdown",
   "id": "e31e695a",
   "metadata": {},
   "source": [
    "#### Cross validation"
   ]
  },
  {
   "cell_type": "code",
   "execution_count": 142,
   "id": "b73d96bf",
   "metadata": {},
   "outputs": [
    {
     "data": {
      "text/plain": [
       "array([  0.3411361 ,   0.39695666,  -0.38122074,   0.46855445,\n",
       "       -10.59807641,  -1.0145701 ,  -0.02434956,   0.22009336,\n",
       "        -3.51019306,   0.48126262])"
      ]
     },
     "execution_count": 142,
     "metadata": {},
     "output_type": "execute_result"
    }
   ],
   "source": [
    "\n",
    "scores = cross_val_score(clf_lr, X, y, cv=10,scoring='r2')#coefficient of determination (pr défaut). how well the regression model fits the observed data.a higher coefficient indicates a better fit for the model.\n",
    "scores\n"
   ]
  },
  {
   "cell_type": "code",
   "execution_count": 143,
   "id": "3a863046",
   "metadata": {},
   "outputs": [
    {
     "name": "stdout",
     "output_type": "stream",
     "text": [
      " mean ofR2= -1.36\n"
     ]
    }
   ],
   "source": [
    "print(\" mean ofR2= %0.2f\" % scores.mean())"
   ]
  },
  {
   "cell_type": "code",
   "execution_count": null,
   "id": "cb51c2fe",
   "metadata": {},
   "outputs": [],
   "source": []
  },
  {
   "cell_type": "markdown",
   "id": "8049ebc7",
   "metadata": {},
   "source": [
    "#### Ajustement des paramètres en utilisant gridsearch"
   ]
  },
  {
   "cell_type": "code",
   "execution_count": 144,
   "id": "85425613",
   "metadata": {},
   "outputs": [
    {
     "data": {
      "text/plain": [
       "dict_keys(['copy_X', 'fit_intercept', 'n_jobs', 'normalize', 'positive'])"
      ]
     },
     "execution_count": 144,
     "metadata": {},
     "output_type": "execute_result"
    }
   ],
   "source": [
    "#Paramètres à ajuster\n",
    "LinearRegression().get_params().keys()"
   ]
  },
  {
   "cell_type": "code",
   "execution_count": 145,
   "id": "3a4cce00",
   "metadata": {},
   "outputs": [],
   "source": [
    "#normalize:If True, the regressors X will be normalized before regression by subtracting the mean and dividing by the l2-norm\n",
    "#positive:When set to True, forces the coefficients to be positive. This option is only supported for dense arrays\n",
    "#copy_X: If True, X will be copied\n",
    "#n_jobs:"
   ]
  },
  {
   "cell_type": "code",
   "execution_count": 146,
   "id": "8b096077",
   "metadata": {},
   "outputs": [],
   "source": [
    "from sklearn.model_selection import train_test_split, GridSearchCV\n",
    "#LinearRegression().get_params().keys()\n",
    "param_grid = {\n",
    "    \n",
    "    \"model__fit_intercept\": [True, False],\n",
    "    \"model__copy_X\": [True, False],\n",
    "    \"model__positive\": [True, False],\n",
    "    \"model__normalize\": [True, False],\n",
    "    #\"model\": [LinearRegression()]\n",
    "}\n",
    "\n",
    "grid_search = GridSearchCV(clf_lr, param_grid, cv=10)\n"
   ]
  },
  {
   "cell_type": "code",
   "execution_count": 147,
   "id": "4eb38f85",
   "metadata": {},
   "outputs": [
    {
     "data": {
      "text/plain": [
       "GridSearchCV(cv=10,\n",
       "             estimator=Pipeline(steps=[('preprocessor',\n",
       "                                        ColumnTransformer(transformers=[('num',\n",
       "                                                                         Pipeline(steps=[('scaler',\n",
       "                                                                                          StandardScaler())]),\n",
       "                                                                         ['SourceEUI(kBtu/sf)',\n",
       "                                                                          'ENERGYSTARScore',\n",
       "                                                                          'GHGEmissionsIntensity',\n",
       "                                                                          'PropertyGFATotal',\n",
       "                                                                          'BuildingAge',\n",
       "                                                                          'NumberofFloors',\n",
       "                                                                          'NumberofBuildings']),\n",
       "                                                                        ('cat',\n",
       "                                                                         OneHotEncoder(handle_unknown='ignore'),\n",
       "                                                                         ['BuildingType',\n",
       "                                                                          'tranche_date',\n",
       "                                                                          'groups_neighborhood',\n",
       "                                                                          'groups_PrimaryPropertyType'])])),\n",
       "                                       ('model', LinearRegression())]),\n",
       "             param_grid={'model__copy_X': [True, False],\n",
       "                         'model__fit_intercept': [True, False],\n",
       "                         'model__normalize': [True, False],\n",
       "                         'model__positive': [True, False]})"
      ]
     },
     "execution_count": 147,
     "metadata": {},
     "output_type": "execute_result"
    }
   ],
   "source": [
    "grid_search.fit(X_train,y_train)"
   ]
  },
  {
   "cell_type": "code",
   "execution_count": 148,
   "id": "35577444",
   "metadata": {},
   "outputs": [
    {
     "data": {
      "text/plain": [
       "(16, 21)"
      ]
     },
     "execution_count": 148,
     "metadata": {},
     "output_type": "execute_result"
    }
   ],
   "source": [
    "df_1 = pd.DataFrame(grid_search.cv_results_).set_index('rank_test_score').sort_index()\n",
    "df_1.shape"
   ]
  },
  {
   "cell_type": "code",
   "execution_count": 149,
   "id": "34ca4cab",
   "metadata": {},
   "outputs": [
    {
     "data": {
      "text/html": [
       "<div>\n",
       "<style scoped>\n",
       "    .dataframe tbody tr th:only-of-type {\n",
       "        vertical-align: middle;\n",
       "    }\n",
       "\n",
       "    .dataframe tbody tr th {\n",
       "        vertical-align: top;\n",
       "    }\n",
       "\n",
       "    .dataframe thead th {\n",
       "        text-align: right;\n",
       "    }\n",
       "</style>\n",
       "<table border=\"1\" class=\"dataframe\">\n",
       "  <thead>\n",
       "    <tr style=\"text-align: right;\">\n",
       "      <th></th>\n",
       "      <th>mean_fit_time</th>\n",
       "      <th>std_fit_time</th>\n",
       "      <th>mean_score_time</th>\n",
       "      <th>std_score_time</th>\n",
       "      <th>param_model__copy_X</th>\n",
       "      <th>param_model__fit_intercept</th>\n",
       "      <th>param_model__normalize</th>\n",
       "      <th>param_model__positive</th>\n",
       "      <th>params</th>\n",
       "      <th>split0_test_score</th>\n",
       "      <th>...</th>\n",
       "      <th>split3_test_score</th>\n",
       "      <th>split4_test_score</th>\n",
       "      <th>split5_test_score</th>\n",
       "      <th>split6_test_score</th>\n",
       "      <th>split7_test_score</th>\n",
       "      <th>split8_test_score</th>\n",
       "      <th>split9_test_score</th>\n",
       "      <th>mean_test_score</th>\n",
       "      <th>std_test_score</th>\n",
       "      <th>rank_test_score</th>\n",
       "    </tr>\n",
       "  </thead>\n",
       "  <tbody>\n",
       "    <tr>\n",
       "      <th>0</th>\n",
       "      <td>0.044381</td>\n",
       "      <td>0.081201</td>\n",
       "      <td>0.009367</td>\n",
       "      <td>0.007649</td>\n",
       "      <td>True</td>\n",
       "      <td>True</td>\n",
       "      <td>True</td>\n",
       "      <td>True</td>\n",
       "      <td>{'model__copy_X': True, 'model__fit_intercept'...</td>\n",
       "      <td>0.638638</td>\n",
       "      <td>...</td>\n",
       "      <td>-2.358686</td>\n",
       "      <td>-2.228505</td>\n",
       "      <td>0.035222</td>\n",
       "      <td>0.469137</td>\n",
       "      <td>0.205773</td>\n",
       "      <td>0.378961</td>\n",
       "      <td>0.467284</td>\n",
       "      <td>-0.248395</td>\n",
       "      <td>1.048130</td>\n",
       "      <td>7</td>\n",
       "    </tr>\n",
       "    <tr>\n",
       "      <th>1</th>\n",
       "      <td>0.015625</td>\n",
       "      <td>0.000002</td>\n",
       "      <td>0.007811</td>\n",
       "      <td>0.007811</td>\n",
       "      <td>True</td>\n",
       "      <td>True</td>\n",
       "      <td>True</td>\n",
       "      <td>False</td>\n",
       "      <td>{'model__copy_X': True, 'model__fit_intercept'...</td>\n",
       "      <td>0.613541</td>\n",
       "      <td>...</td>\n",
       "      <td>-3.049500</td>\n",
       "      <td>-2.567275</td>\n",
       "      <td>0.200924</td>\n",
       "      <td>0.504800</td>\n",
       "      <td>0.195860</td>\n",
       "      <td>0.389241</td>\n",
       "      <td>0.084382</td>\n",
       "      <td>-0.382032</td>\n",
       "      <td>1.239675</td>\n",
       "      <td>15</td>\n",
       "    </tr>\n",
       "    <tr>\n",
       "      <th>2</th>\n",
       "      <td>0.015322</td>\n",
       "      <td>0.003406</td>\n",
       "      <td>0.007050</td>\n",
       "      <td>0.007373</td>\n",
       "      <td>True</td>\n",
       "      <td>True</td>\n",
       "      <td>False</td>\n",
       "      <td>True</td>\n",
       "      <td>{'model__copy_X': True, 'model__fit_intercept'...</td>\n",
       "      <td>0.638638</td>\n",
       "      <td>...</td>\n",
       "      <td>-2.358686</td>\n",
       "      <td>-2.228505</td>\n",
       "      <td>0.035222</td>\n",
       "      <td>0.469137</td>\n",
       "      <td>0.205773</td>\n",
       "      <td>0.378961</td>\n",
       "      <td>0.467284</td>\n",
       "      <td>-0.248395</td>\n",
       "      <td>1.048130</td>\n",
       "      <td>5</td>\n",
       "    </tr>\n",
       "    <tr>\n",
       "      <th>3</th>\n",
       "      <td>0.017400</td>\n",
       "      <td>0.005534</td>\n",
       "      <td>0.005894</td>\n",
       "      <td>0.006779</td>\n",
       "      <td>True</td>\n",
       "      <td>True</td>\n",
       "      <td>False</td>\n",
       "      <td>False</td>\n",
       "      <td>{'model__copy_X': True, 'model__fit_intercept'...</td>\n",
       "      <td>0.614297</td>\n",
       "      <td>...</td>\n",
       "      <td>-3.049500</td>\n",
       "      <td>-2.567275</td>\n",
       "      <td>0.214066</td>\n",
       "      <td>0.504800</td>\n",
       "      <td>0.195860</td>\n",
       "      <td>0.389059</td>\n",
       "      <td>0.083142</td>\n",
       "      <td>-0.376911</td>\n",
       "      <td>1.240751</td>\n",
       "      <td>9</td>\n",
       "    </tr>\n",
       "    <tr>\n",
       "      <th>4</th>\n",
       "      <td>0.015624</td>\n",
       "      <td>0.006987</td>\n",
       "      <td>0.006250</td>\n",
       "      <td>0.007654</td>\n",
       "      <td>True</td>\n",
       "      <td>False</td>\n",
       "      <td>True</td>\n",
       "      <td>True</td>\n",
       "      <td>{'model__copy_X': True, 'model__fit_intercept'...</td>\n",
       "      <td>0.662582</td>\n",
       "      <td>...</td>\n",
       "      <td>-2.284490</td>\n",
       "      <td>-2.275786</td>\n",
       "      <td>-0.000997</td>\n",
       "      <td>0.468866</td>\n",
       "      <td>0.213103</td>\n",
       "      <td>0.380741</td>\n",
       "      <td>0.527094</td>\n",
       "      <td>-0.243716</td>\n",
       "      <td>1.047579</td>\n",
       "      <td>1</td>\n",
       "    </tr>\n",
       "    <tr>\n",
       "      <th>5</th>\n",
       "      <td>0.014062</td>\n",
       "      <td>0.004687</td>\n",
       "      <td>0.004687</td>\n",
       "      <td>0.007159</td>\n",
       "      <td>True</td>\n",
       "      <td>False</td>\n",
       "      <td>True</td>\n",
       "      <td>False</td>\n",
       "      <td>{'model__copy_X': True, 'model__fit_intercept'...</td>\n",
       "      <td>0.614297</td>\n",
       "      <td>...</td>\n",
       "      <td>-3.049500</td>\n",
       "      <td>-2.567275</td>\n",
       "      <td>0.214066</td>\n",
       "      <td>0.504800</td>\n",
       "      <td>0.195860</td>\n",
       "      <td>0.389059</td>\n",
       "      <td>0.083142</td>\n",
       "      <td>-0.376911</td>\n",
       "      <td>1.240751</td>\n",
       "      <td>11</td>\n",
       "    </tr>\n",
       "    <tr>\n",
       "      <th>6</th>\n",
       "      <td>0.015622</td>\n",
       "      <td>0.000006</td>\n",
       "      <td>0.007812</td>\n",
       "      <td>0.007812</td>\n",
       "      <td>True</td>\n",
       "      <td>False</td>\n",
       "      <td>False</td>\n",
       "      <td>True</td>\n",
       "      <td>{'model__copy_X': True, 'model__fit_intercept'...</td>\n",
       "      <td>0.662582</td>\n",
       "      <td>...</td>\n",
       "      <td>-2.284490</td>\n",
       "      <td>-2.275786</td>\n",
       "      <td>-0.000997</td>\n",
       "      <td>0.468866</td>\n",
       "      <td>0.213103</td>\n",
       "      <td>0.380741</td>\n",
       "      <td>0.527094</td>\n",
       "      <td>-0.243716</td>\n",
       "      <td>1.047579</td>\n",
       "      <td>1</td>\n",
       "    </tr>\n",
       "    <tr>\n",
       "      <th>7</th>\n",
       "      <td>0.014063</td>\n",
       "      <td>0.004688</td>\n",
       "      <td>0.007812</td>\n",
       "      <td>0.007812</td>\n",
       "      <td>True</td>\n",
       "      <td>False</td>\n",
       "      <td>False</td>\n",
       "      <td>False</td>\n",
       "      <td>{'model__copy_X': True, 'model__fit_intercept'...</td>\n",
       "      <td>0.614297</td>\n",
       "      <td>...</td>\n",
       "      <td>-3.049500</td>\n",
       "      <td>-2.567275</td>\n",
       "      <td>0.214066</td>\n",
       "      <td>0.504800</td>\n",
       "      <td>0.195860</td>\n",
       "      <td>0.389059</td>\n",
       "      <td>0.083142</td>\n",
       "      <td>-0.376911</td>\n",
       "      <td>1.240751</td>\n",
       "      <td>11</td>\n",
       "    </tr>\n",
       "    <tr>\n",
       "      <th>8</th>\n",
       "      <td>0.017414</td>\n",
       "      <td>0.002216</td>\n",
       "      <td>0.008683</td>\n",
       "      <td>0.005511</td>\n",
       "      <td>False</td>\n",
       "      <td>True</td>\n",
       "      <td>True</td>\n",
       "      <td>True</td>\n",
       "      <td>{'model__copy_X': False, 'model__fit_intercept...</td>\n",
       "      <td>0.638638</td>\n",
       "      <td>...</td>\n",
       "      <td>-2.358686</td>\n",
       "      <td>-2.228505</td>\n",
       "      <td>0.035222</td>\n",
       "      <td>0.469137</td>\n",
       "      <td>0.205773</td>\n",
       "      <td>0.378961</td>\n",
       "      <td>0.467284</td>\n",
       "      <td>-0.248395</td>\n",
       "      <td>1.048130</td>\n",
       "      <td>7</td>\n",
       "    </tr>\n",
       "    <tr>\n",
       "      <th>9</th>\n",
       "      <td>0.014648</td>\n",
       "      <td>0.007274</td>\n",
       "      <td>0.006327</td>\n",
       "      <td>0.007752</td>\n",
       "      <td>False</td>\n",
       "      <td>True</td>\n",
       "      <td>True</td>\n",
       "      <td>False</td>\n",
       "      <td>{'model__copy_X': False, 'model__fit_intercept...</td>\n",
       "      <td>0.613541</td>\n",
       "      <td>...</td>\n",
       "      <td>-3.049500</td>\n",
       "      <td>-2.567275</td>\n",
       "      <td>0.200924</td>\n",
       "      <td>0.504800</td>\n",
       "      <td>0.195860</td>\n",
       "      <td>0.389241</td>\n",
       "      <td>0.084382</td>\n",
       "      <td>-0.382032</td>\n",
       "      <td>1.239675</td>\n",
       "      <td>15</td>\n",
       "    </tr>\n",
       "    <tr>\n",
       "      <th>10</th>\n",
       "      <td>0.020131</td>\n",
       "      <td>0.002255</td>\n",
       "      <td>0.009655</td>\n",
       "      <td>0.002924</td>\n",
       "      <td>False</td>\n",
       "      <td>True</td>\n",
       "      <td>False</td>\n",
       "      <td>True</td>\n",
       "      <td>{'model__copy_X': False, 'model__fit_intercept...</td>\n",
       "      <td>0.638638</td>\n",
       "      <td>...</td>\n",
       "      <td>-2.358686</td>\n",
       "      <td>-2.228505</td>\n",
       "      <td>0.035222</td>\n",
       "      <td>0.469137</td>\n",
       "      <td>0.205773</td>\n",
       "      <td>0.378961</td>\n",
       "      <td>0.467284</td>\n",
       "      <td>-0.248395</td>\n",
       "      <td>1.048130</td>\n",
       "      <td>5</td>\n",
       "    </tr>\n",
       "    <tr>\n",
       "      <th>11</th>\n",
       "      <td>0.012746</td>\n",
       "      <td>0.006234</td>\n",
       "      <td>0.007750</td>\n",
       "      <td>0.006993</td>\n",
       "      <td>False</td>\n",
       "      <td>True</td>\n",
       "      <td>False</td>\n",
       "      <td>False</td>\n",
       "      <td>{'model__copy_X': False, 'model__fit_intercept...</td>\n",
       "      <td>0.614297</td>\n",
       "      <td>...</td>\n",
       "      <td>-3.049500</td>\n",
       "      <td>-2.567275</td>\n",
       "      <td>0.214066</td>\n",
       "      <td>0.504800</td>\n",
       "      <td>0.195860</td>\n",
       "      <td>0.389059</td>\n",
       "      <td>0.083142</td>\n",
       "      <td>-0.376911</td>\n",
       "      <td>1.240751</td>\n",
       "      <td>9</td>\n",
       "    </tr>\n",
       "    <tr>\n",
       "      <th>12</th>\n",
       "      <td>0.015626</td>\n",
       "      <td>0.000005</td>\n",
       "      <td>0.004687</td>\n",
       "      <td>0.007160</td>\n",
       "      <td>False</td>\n",
       "      <td>False</td>\n",
       "      <td>True</td>\n",
       "      <td>True</td>\n",
       "      <td>{'model__copy_X': False, 'model__fit_intercept...</td>\n",
       "      <td>0.662582</td>\n",
       "      <td>...</td>\n",
       "      <td>-2.284490</td>\n",
       "      <td>-2.275786</td>\n",
       "      <td>-0.000997</td>\n",
       "      <td>0.468866</td>\n",
       "      <td>0.213103</td>\n",
       "      <td>0.380741</td>\n",
       "      <td>0.527094</td>\n",
       "      <td>-0.243716</td>\n",
       "      <td>1.047579</td>\n",
       "      <td>1</td>\n",
       "    </tr>\n",
       "    <tr>\n",
       "      <th>13</th>\n",
       "      <td>0.021087</td>\n",
       "      <td>0.010483</td>\n",
       "      <td>0.009259</td>\n",
       "      <td>0.006508</td>\n",
       "      <td>False</td>\n",
       "      <td>False</td>\n",
       "      <td>True</td>\n",
       "      <td>False</td>\n",
       "      <td>{'model__copy_X': False, 'model__fit_intercept...</td>\n",
       "      <td>0.614297</td>\n",
       "      <td>...</td>\n",
       "      <td>-3.049500</td>\n",
       "      <td>-2.567275</td>\n",
       "      <td>0.214066</td>\n",
       "      <td>0.504800</td>\n",
       "      <td>0.195860</td>\n",
       "      <td>0.389059</td>\n",
       "      <td>0.083142</td>\n",
       "      <td>-0.376911</td>\n",
       "      <td>1.240751</td>\n",
       "      <td>11</td>\n",
       "    </tr>\n",
       "    <tr>\n",
       "      <th>14</th>\n",
       "      <td>0.016918</td>\n",
       "      <td>0.002850</td>\n",
       "      <td>0.008622</td>\n",
       "      <td>0.006344</td>\n",
       "      <td>False</td>\n",
       "      <td>False</td>\n",
       "      <td>False</td>\n",
       "      <td>True</td>\n",
       "      <td>{'model__copy_X': False, 'model__fit_intercept...</td>\n",
       "      <td>0.662582</td>\n",
       "      <td>...</td>\n",
       "      <td>-2.284490</td>\n",
       "      <td>-2.275786</td>\n",
       "      <td>-0.000997</td>\n",
       "      <td>0.468866</td>\n",
       "      <td>0.213103</td>\n",
       "      <td>0.380741</td>\n",
       "      <td>0.527094</td>\n",
       "      <td>-0.243716</td>\n",
       "      <td>1.047579</td>\n",
       "      <td>1</td>\n",
       "    </tr>\n",
       "    <tr>\n",
       "      <th>15</th>\n",
       "      <td>0.012497</td>\n",
       "      <td>0.006249</td>\n",
       "      <td>0.007812</td>\n",
       "      <td>0.007812</td>\n",
       "      <td>False</td>\n",
       "      <td>False</td>\n",
       "      <td>False</td>\n",
       "      <td>False</td>\n",
       "      <td>{'model__copy_X': False, 'model__fit_intercept...</td>\n",
       "      <td>0.614297</td>\n",
       "      <td>...</td>\n",
       "      <td>-3.049500</td>\n",
       "      <td>-2.567275</td>\n",
       "      <td>0.214066</td>\n",
       "      <td>0.504800</td>\n",
       "      <td>0.195860</td>\n",
       "      <td>0.389059</td>\n",
       "      <td>0.083142</td>\n",
       "      <td>-0.376911</td>\n",
       "      <td>1.240751</td>\n",
       "      <td>11</td>\n",
       "    </tr>\n",
       "  </tbody>\n",
       "</table>\n",
       "<p>16 rows × 22 columns</p>\n",
       "</div>"
      ],
      "text/plain": [
       "    mean_fit_time  std_fit_time  mean_score_time  std_score_time  \\\n",
       "0        0.044381      0.081201         0.009367        0.007649   \n",
       "1        0.015625      0.000002         0.007811        0.007811   \n",
       "2        0.015322      0.003406         0.007050        0.007373   \n",
       "3        0.017400      0.005534         0.005894        0.006779   \n",
       "4        0.015624      0.006987         0.006250        0.007654   \n",
       "5        0.014062      0.004687         0.004687        0.007159   \n",
       "6        0.015622      0.000006         0.007812        0.007812   \n",
       "7        0.014063      0.004688         0.007812        0.007812   \n",
       "8        0.017414      0.002216         0.008683        0.005511   \n",
       "9        0.014648      0.007274         0.006327        0.007752   \n",
       "10       0.020131      0.002255         0.009655        0.002924   \n",
       "11       0.012746      0.006234         0.007750        0.006993   \n",
       "12       0.015626      0.000005         0.004687        0.007160   \n",
       "13       0.021087      0.010483         0.009259        0.006508   \n",
       "14       0.016918      0.002850         0.008622        0.006344   \n",
       "15       0.012497      0.006249         0.007812        0.007812   \n",
       "\n",
       "   param_model__copy_X param_model__fit_intercept param_model__normalize  \\\n",
       "0                 True                       True                   True   \n",
       "1                 True                       True                   True   \n",
       "2                 True                       True                  False   \n",
       "3                 True                       True                  False   \n",
       "4                 True                      False                   True   \n",
       "5                 True                      False                   True   \n",
       "6                 True                      False                  False   \n",
       "7                 True                      False                  False   \n",
       "8                False                       True                   True   \n",
       "9                False                       True                   True   \n",
       "10               False                       True                  False   \n",
       "11               False                       True                  False   \n",
       "12               False                      False                   True   \n",
       "13               False                      False                   True   \n",
       "14               False                      False                  False   \n",
       "15               False                      False                  False   \n",
       "\n",
       "   param_model__positive                                             params  \\\n",
       "0                   True  {'model__copy_X': True, 'model__fit_intercept'...   \n",
       "1                  False  {'model__copy_X': True, 'model__fit_intercept'...   \n",
       "2                   True  {'model__copy_X': True, 'model__fit_intercept'...   \n",
       "3                  False  {'model__copy_X': True, 'model__fit_intercept'...   \n",
       "4                   True  {'model__copy_X': True, 'model__fit_intercept'...   \n",
       "5                  False  {'model__copy_X': True, 'model__fit_intercept'...   \n",
       "6                   True  {'model__copy_X': True, 'model__fit_intercept'...   \n",
       "7                  False  {'model__copy_X': True, 'model__fit_intercept'...   \n",
       "8                   True  {'model__copy_X': False, 'model__fit_intercept...   \n",
       "9                  False  {'model__copy_X': False, 'model__fit_intercept...   \n",
       "10                  True  {'model__copy_X': False, 'model__fit_intercept...   \n",
       "11                 False  {'model__copy_X': False, 'model__fit_intercept...   \n",
       "12                  True  {'model__copy_X': False, 'model__fit_intercept...   \n",
       "13                 False  {'model__copy_X': False, 'model__fit_intercept...   \n",
       "14                  True  {'model__copy_X': False, 'model__fit_intercept...   \n",
       "15                 False  {'model__copy_X': False, 'model__fit_intercept...   \n",
       "\n",
       "    split0_test_score  ...  split3_test_score  split4_test_score  \\\n",
       "0            0.638638  ...          -2.358686          -2.228505   \n",
       "1            0.613541  ...          -3.049500          -2.567275   \n",
       "2            0.638638  ...          -2.358686          -2.228505   \n",
       "3            0.614297  ...          -3.049500          -2.567275   \n",
       "4            0.662582  ...          -2.284490          -2.275786   \n",
       "5            0.614297  ...          -3.049500          -2.567275   \n",
       "6            0.662582  ...          -2.284490          -2.275786   \n",
       "7            0.614297  ...          -3.049500          -2.567275   \n",
       "8            0.638638  ...          -2.358686          -2.228505   \n",
       "9            0.613541  ...          -3.049500          -2.567275   \n",
       "10           0.638638  ...          -2.358686          -2.228505   \n",
       "11           0.614297  ...          -3.049500          -2.567275   \n",
       "12           0.662582  ...          -2.284490          -2.275786   \n",
       "13           0.614297  ...          -3.049500          -2.567275   \n",
       "14           0.662582  ...          -2.284490          -2.275786   \n",
       "15           0.614297  ...          -3.049500          -2.567275   \n",
       "\n",
       "    split5_test_score  split6_test_score  split7_test_score  \\\n",
       "0            0.035222           0.469137           0.205773   \n",
       "1            0.200924           0.504800           0.195860   \n",
       "2            0.035222           0.469137           0.205773   \n",
       "3            0.214066           0.504800           0.195860   \n",
       "4           -0.000997           0.468866           0.213103   \n",
       "5            0.214066           0.504800           0.195860   \n",
       "6           -0.000997           0.468866           0.213103   \n",
       "7            0.214066           0.504800           0.195860   \n",
       "8            0.035222           0.469137           0.205773   \n",
       "9            0.200924           0.504800           0.195860   \n",
       "10           0.035222           0.469137           0.205773   \n",
       "11           0.214066           0.504800           0.195860   \n",
       "12          -0.000997           0.468866           0.213103   \n",
       "13           0.214066           0.504800           0.195860   \n",
       "14          -0.000997           0.468866           0.213103   \n",
       "15           0.214066           0.504800           0.195860   \n",
       "\n",
       "    split8_test_score  split9_test_score  mean_test_score  std_test_score  \\\n",
       "0            0.378961           0.467284        -0.248395        1.048130   \n",
       "1            0.389241           0.084382        -0.382032        1.239675   \n",
       "2            0.378961           0.467284        -0.248395        1.048130   \n",
       "3            0.389059           0.083142        -0.376911        1.240751   \n",
       "4            0.380741           0.527094        -0.243716        1.047579   \n",
       "5            0.389059           0.083142        -0.376911        1.240751   \n",
       "6            0.380741           0.527094        -0.243716        1.047579   \n",
       "7            0.389059           0.083142        -0.376911        1.240751   \n",
       "8            0.378961           0.467284        -0.248395        1.048130   \n",
       "9            0.389241           0.084382        -0.382032        1.239675   \n",
       "10           0.378961           0.467284        -0.248395        1.048130   \n",
       "11           0.389059           0.083142        -0.376911        1.240751   \n",
       "12           0.380741           0.527094        -0.243716        1.047579   \n",
       "13           0.389059           0.083142        -0.376911        1.240751   \n",
       "14           0.380741           0.527094        -0.243716        1.047579   \n",
       "15           0.389059           0.083142        -0.376911        1.240751   \n",
       "\n",
       "    rank_test_score  \n",
       "0                 7  \n",
       "1                15  \n",
       "2                 5  \n",
       "3                 9  \n",
       "4                 1  \n",
       "5                11  \n",
       "6                 1  \n",
       "7                11  \n",
       "8                 7  \n",
       "9                15  \n",
       "10                5  \n",
       "11                9  \n",
       "12                1  \n",
       "13               11  \n",
       "14                1  \n",
       "15               11  \n",
       "\n",
       "[16 rows x 22 columns]"
      ]
     },
     "execution_count": 149,
     "metadata": {},
     "output_type": "execute_result"
    }
   ],
   "source": [
    "# cv results\n",
    "cv_results = pd.DataFrame(grid_search.cv_results_)\n",
    "cv_results"
   ]
  },
  {
   "cell_type": "code",
   "execution_count": 150,
   "id": "ea9594b2",
   "metadata": {},
   "outputs": [
    {
     "data": {
      "text/plain": [
       "{'model__copy_X': True,\n",
       " 'model__fit_intercept': False,\n",
       " 'model__normalize': True,\n",
       " 'model__positive': True}"
      ]
     },
     "execution_count": 150,
     "metadata": {},
     "output_type": "execute_result"
    }
   ],
   "source": [
    "grid_search.best_params_"
   ]
  },
  {
   "cell_type": "code",
   "execution_count": 151,
   "id": "706822ee",
   "metadata": {},
   "outputs": [
    {
     "name": "stdout",
     "output_type": "stream",
     "text": [
      "******************\n",
      "MSE : 0.479\n",
      "RMSE : 0.692\n",
      "R2 : 0.373\n"
     ]
    }
   ],
   "source": [
    "best_estim=grid_search.best_estimator_\n",
    "f_performance(best_estim)"
   ]
  },
  {
   "cell_type": "markdown",
   "id": "93cf56ce",
   "metadata": {},
   "source": [
    "**Observations**\n",
    "<br>\n",
    "\n",
    "pas bcp de paramètre avec la regression linéaire regardons la regression polynomial"
   ]
  },
  {
   "cell_type": "code",
   "execution_count": 152,
   "id": "e8115b9a",
   "metadata": {},
   "outputs": [],
   "source": [
    "numeric_transformer_pol = Pipeline(\n",
    "    steps=[(\"scaler\", StandardScaler()),('poly', PolynomialFeatures(degree=5))]\n",
    ")\n",
    "\n",
    "#categorical_transformer = OneHotEncoder(handle_unknown=\"ignore\")\n",
    " #when using sklearn.compose.ColumnTransformer You need to make sure the output column is not included in the data you create your Preprocessing pipeline with\n",
    "# Create ColumnTransformer to apply pipeline for each column type\n",
    "preprocessor_pol = ColumnTransformer(\n",
    "    transformers=[\n",
    "        (\"num\", numeric_transformer_pol, numercial_cols_for_transformer),\n",
    "        (\"cat\", categorical_transformer, categorical_cols),\n",
    "    ]\n",
    ")"
   ]
  },
  {
   "cell_type": "code",
   "execution_count": 153,
   "id": "ffa104b0",
   "metadata": {},
   "outputs": [
    {
     "name": "stdout",
     "output_type": "stream",
     "text": [
      "******************\n",
      "MSE : 0.471\n",
      "RMSE : 0.686\n",
      "R2 : 0.385\n"
     ]
    }
   ],
   "source": [
    "\n",
    "clf_pr = Pipeline(\n",
    "    steps=[(\"preprocessor\", preprocessor), (\"model\", LinearRegression())])\n",
    "clf_pr.fit(X_train,y_train)\n",
    "f_performance(clf_pr)\n"
   ]
  },
  {
   "cell_type": "markdown",
   "id": "a70a7e85",
   "metadata": {},
   "source": [
    "### 4.2.Ridge regression"
   ]
  },
  {
   "cell_type": "code",
   "execution_count": 154,
   "id": "23730cca",
   "metadata": {},
   "outputs": [
    {
     "data": {
      "text/plain": [
       "Pipeline(steps=[('preprocessor',\n",
       "                 ColumnTransformer(transformers=[('num',\n",
       "                                                  Pipeline(steps=[('scaler',\n",
       "                                                                   StandardScaler())]),\n",
       "                                                  ['SourceEUI(kBtu/sf)',\n",
       "                                                   'ENERGYSTARScore',\n",
       "                                                   'GHGEmissionsIntensity',\n",
       "                                                   'PropertyGFATotal',\n",
       "                                                   'BuildingAge',\n",
       "                                                   'NumberofFloors',\n",
       "                                                   'NumberofBuildings']),\n",
       "                                                 ('cat',\n",
       "                                                  OneHotEncoder(handle_unknown='ignore'),\n",
       "                                                  ['BuildingType',\n",
       "                                                   'tranche_date',\n",
       "                                                   'groups_neighborhood',\n",
       "                                                   'groups_PrimaryPropertyType'])])),\n",
       "                ('model', Ridge())])"
      ]
     },
     "execution_count": 154,
     "metadata": {},
     "output_type": "execute_result"
    }
   ],
   "source": [
    "clf_rr = Pipeline(\n",
    "    steps=[(\"preprocessor\", preprocessor), (\"model\", Ridge())]\n",
    ")\n",
    "clf_rr.fit(X_train,y_train)"
   ]
  },
  {
   "cell_type": "markdown",
   "id": "ffc566b6",
   "metadata": {},
   "source": [
    "### 4.2.1.Indicateurs de performance"
   ]
  },
  {
   "cell_type": "code",
   "execution_count": 155,
   "id": "a351f9d5",
   "metadata": {},
   "outputs": [
    {
     "name": "stdout",
     "output_type": "stream",
     "text": [
      "******************\n",
      "MSE : 0.469\n",
      "RMSE : 0.685\n",
      "R2 : 0.387\n"
     ]
    }
   ],
   "source": [
    "f_performance(clf_rr)"
   ]
  },
  {
   "cell_type": "markdown",
   "id": "70ccbea3",
   "metadata": {},
   "source": [
    " ### 4.2.2.Coéfficients du modèle"
   ]
  },
  {
   "cell_type": "code",
   "execution_count": 156,
   "id": "fa0dadbf",
   "metadata": {},
   "outputs": [
    {
     "data": {
      "text/plain": [
       "array([0.18577373])"
      ]
     },
     "execution_count": 156,
     "metadata": {},
     "output_type": "execute_result"
    }
   ],
   "source": [
    "clf_rr.named_steps['model'].intercept_"
   ]
  },
  {
   "cell_type": "code",
   "execution_count": 157,
   "id": "6a66cd0f",
   "metadata": {},
   "outputs": [
    {
     "data": {
      "text/html": [
       "<div>\n",
       "<style scoped>\n",
       "    .dataframe tbody tr th:only-of-type {\n",
       "        vertical-align: middle;\n",
       "    }\n",
       "\n",
       "    .dataframe tbody tr th {\n",
       "        vertical-align: top;\n",
       "    }\n",
       "\n",
       "    .dataframe thead th {\n",
       "        text-align: right;\n",
       "    }\n",
       "</style>\n",
       "<table border=\"1\" class=\"dataframe\">\n",
       "  <thead>\n",
       "    <tr style=\"text-align: right;\">\n",
       "      <th></th>\n",
       "      <th>Columns</th>\n",
       "      <th>Estimated Coefficient</th>\n",
       "    </tr>\n",
       "  </thead>\n",
       "  <tbody>\n",
       "    <tr>\n",
       "      <th>0</th>\n",
       "      <td>SourceEUI(kBtu/sf)</td>\n",
       "      <td>-0.104736</td>\n",
       "    </tr>\n",
       "    <tr>\n",
       "      <th>1</th>\n",
       "      <td>ENERGYSTARScore</td>\n",
       "      <td>0.026640</td>\n",
       "    </tr>\n",
       "    <tr>\n",
       "      <th>2</th>\n",
       "      <td>GHGEmissionsIntensity</td>\n",
       "      <td>0.551247</td>\n",
       "    </tr>\n",
       "    <tr>\n",
       "      <th>3</th>\n",
       "      <td>PropertyGFATotal</td>\n",
       "      <td>0.505766</td>\n",
       "    </tr>\n",
       "    <tr>\n",
       "      <th>4</th>\n",
       "      <td>BuildingAge</td>\n",
       "      <td>0.013856</td>\n",
       "    </tr>\n",
       "    <tr>\n",
       "      <th>5</th>\n",
       "      <td>NumberofFloors</td>\n",
       "      <td>-0.171717</td>\n",
       "    </tr>\n",
       "    <tr>\n",
       "      <th>6</th>\n",
       "      <td>NumberofBuildings</td>\n",
       "      <td>0.100346</td>\n",
       "    </tr>\n",
       "    <tr>\n",
       "      <th>7</th>\n",
       "      <td>BuildingType</td>\n",
       "      <td>0.487703</td>\n",
       "    </tr>\n",
       "    <tr>\n",
       "      <th>8</th>\n",
       "      <td>tranche_date</td>\n",
       "      <td>-0.081057</td>\n",
       "    </tr>\n",
       "    <tr>\n",
       "      <th>9</th>\n",
       "      <td>groups_neighborhood</td>\n",
       "      <td>-0.323550</td>\n",
       "    </tr>\n",
       "    <tr>\n",
       "      <th>10</th>\n",
       "      <td>groups_PrimaryPropertyType</td>\n",
       "      <td>-0.083096</td>\n",
       "    </tr>\n",
       "  </tbody>\n",
       "</table>\n",
       "</div>"
      ],
      "text/plain": [
       "                       Columns  Estimated Coefficient \n",
       "0           SourceEUI(kBtu/sf)               -0.104736\n",
       "1              ENERGYSTARScore                0.026640\n",
       "2        GHGEmissionsIntensity                0.551247\n",
       "3             PropertyGFATotal                0.505766\n",
       "4                  BuildingAge                0.013856\n",
       "5               NumberofFloors               -0.171717\n",
       "6            NumberofBuildings                0.100346\n",
       "7                 BuildingType                0.487703\n",
       "8                 tranche_date               -0.081057\n",
       "9          groups_neighborhood               -0.323550\n",
       "10  groups_PrimaryPropertyType               -0.083096"
      ]
     },
     "execution_count": 157,
     "metadata": {},
     "output_type": "execute_result"
    }
   ],
   "source": [
    "f_coeff(clf_rr)\n"
   ]
  },
  {
   "cell_type": "code",
   "execution_count": 158,
   "id": "7d36e7c3",
   "metadata": {},
   "outputs": [
    {
     "data": {
      "image/png": "[encoded data removed]",
      "text/plain": [
       "<Figure size 1800x720 with 1 Axes>"
      ]
     },
     "metadata": {},
     "output_type": "display_data"
    }
   ],
   "source": [
    "f_plot_coeff(clf_rr)"
   ]
  },
  {
   "cell_type": "markdown",
   "id": "1e9700fb",
   "metadata": {},
   "source": [
    "**Observations**\n",
    "<br>\n",
    "Pareil pour la regression linéaire,\n",
    "on peut remarquer que les features les plus importants sont: 'GHGEmissionsIntensity','BuildingType_Campus' et 'PropertyGFATotal"
   ]
  },
  {
   "cell_type": "markdown",
   "id": "bc31f6df",
   "metadata": {},
   "source": [
    "### 4.2.3.Optimisation du modèle"
   ]
  },
  {
   "cell_type": "markdown",
   "id": "52a2b743",
   "metadata": {},
   "source": [
    "#### Cross validation"
   ]
  },
  {
   "cell_type": "code",
   "execution_count": 159,
   "id": "8fce53e7",
   "metadata": {},
   "outputs": [
    {
     "data": {
      "text/plain": [
       "array([  0.34167814,   0.39710286,  -0.37512197,   0.46933741,\n",
       "       -10.5536692 ,  -0.99231776,  -0.0228202 ,   0.22120908,\n",
       "        -3.49750761,   0.48104778])"
      ]
     },
     "execution_count": 159,
     "metadata": {},
     "output_type": "execute_result"
    }
   ],
   "source": [
    "scores = cross_val_score(clf_rr, X, y, cv=10,scoring='r2')#coefficient of determination (pr défaut). how well the regression model fits the observed data.a higher coefficient indicates a better fit for the model.\n",
    "scores"
   ]
  },
  {
   "cell_type": "code",
   "execution_count": 160,
   "id": "9319d25e",
   "metadata": {},
   "outputs": [
    {
     "name": "stdout",
     "output_type": "stream",
     "text": [
      " mean of  R2= -1.35\n"
     ]
    }
   ],
   "source": [
    "\n",
    "print(\" mean of  R2= %0.2f\" % scores.mean())"
   ]
  },
  {
   "cell_type": "markdown",
   "id": "d8a682a7",
   "metadata": {},
   "source": [
    "#### Ajustement des paramètres "
   ]
  },
  {
   "cell_type": "code",
   "execution_count": 161,
   "id": "fc0bbd1e",
   "metadata": {},
   "outputs": [
    {
     "data": {
      "text/plain": [
       "dict_keys(['alpha', 'copy_X', 'fit_intercept', 'max_iter', 'normalize', 'positive', 'random_state', 'solver', 'tol'])"
      ]
     },
     "execution_count": 161,
     "metadata": {},
     "output_type": "execute_result"
    }
   ],
   "source": [
    "Ridge().get_params().keys()"
   ]
  },
  {
   "cell_type": "code",
   "execution_count": 162,
   "id": "ee5921f3",
   "metadata": {},
   "outputs": [],
   "source": [
    "#{'alpha': [1,0.1,0.01,0.001,0.0001,0] , \"fit_intercept\": [True, False], \"solver\": ['svd', 'cholesky', 'lsqr', 'sparse_cg', 'sag', 'saga']}"
   ]
  },
  {
   "cell_type": "code",
   "execution_count": 163,
   "id": "78302a29",
   "metadata": {},
   "outputs": [
    {
     "data": {
      "text/plain": [
       "GridSearchCV(cv=10,\n",
       "             estimator=Pipeline(steps=[('preprocessor',\n",
       "                                        ColumnTransformer(transformers=[('num',\n",
       "                                                                         Pipeline(steps=[('scaler',\n",
       "                                                                                          StandardScaler())]),\n",
       "                                                                         ['SourceEUI(kBtu/sf)',\n",
       "                                                                          'ENERGYSTARScore',\n",
       "                                                                          'GHGEmissionsIntensity',\n",
       "                                                                          'PropertyGFATotal',\n",
       "                                                                          'BuildingAge',\n",
       "                                                                          'NumberofFloors',\n",
       "                                                                          'NumberofBuildings']),\n",
       "                                                                        ('cat',\n",
       "                                                                         OneHotEncoder(handle_unknown='ignore'),\n",
       "                                                                         ['BuildingType',\n",
       "                                                                          'tranche_date',\n",
       "                                                                          'groups_neighborhood',\n",
       "                                                                          'groups_PrimaryPropertyType'])])),\n",
       "                                       ('model', Ridge())]),\n",
       "             param_grid={'model__alpha': [1, 0.1, 0.01, 0.001, 0.0001, 0, 5,\n",
       "                                          10],\n",
       "                         'model__fit_intercept': [True, False],\n",
       "                         'model__normalize': [True, False],\n",
       "                         'model__solver': ['auto', 'svd', 'cholesky', 'lsqr',\n",
       "                                           'sparse_cg', 'sag', 'saga',\n",
       "                                           'lbfgs']})"
      ]
     },
     "execution_count": 163,
     "metadata": {},
     "output_type": "execute_result"
    }
   ],
   "source": [
    "param_grid = {\n",
    "    \n",
    "    \"model__alpha\": [1,0.1,0.01,0.001,0.0001,0,5,10],\n",
    "    \"model__solver\": ['auto', 'svd', 'cholesky', 'lsqr', 'sparse_cg', 'sag', 'saga', 'lbfgs'],\n",
    "    \"model__fit_intercept\": [True, False],\n",
    "    \"model__normalize\": [True, False],\n",
    "    #\"model\": [LinearRegression()]\n",
    "}\n",
    "\n",
    "grid_search = GridSearchCV(clf_rr, param_grid, cv=10)\n",
    "grid_search.fit(X_train,y_train)"
   ]
  },
  {
   "cell_type": "code",
   "execution_count": null,
   "id": "18f24092",
   "metadata": {},
   "outputs": [],
   "source": []
  },
  {
   "cell_type": "code",
   "execution_count": 164,
   "id": "d4396dc0",
   "metadata": {},
   "outputs": [
    {
     "data": {
      "text/html": [
       "<div>\n",
       "<style scoped>\n",
       "    .dataframe tbody tr th:only-of-type {\n",
       "        vertical-align: middle;\n",
       "    }\n",
       "\n",
       "    .dataframe tbody tr th {\n",
       "        vertical-align: top;\n",
       "    }\n",
       "\n",
       "    .dataframe thead th {\n",
       "        text-align: right;\n",
       "    }\n",
       "</style>\n",
       "<table border=\"1\" class=\"dataframe\">\n",
       "  <thead>\n",
       "    <tr style=\"text-align: right;\">\n",
       "      <th></th>\n",
       "      <th>mean_fit_time</th>\n",
       "      <th>std_fit_time</th>\n",
       "      <th>mean_score_time</th>\n",
       "      <th>std_score_time</th>\n",
       "      <th>param_model__alpha</th>\n",
       "      <th>param_model__fit_intercept</th>\n",
       "      <th>param_model__normalize</th>\n",
       "      <th>param_model__solver</th>\n",
       "      <th>params</th>\n",
       "      <th>split0_test_score</th>\n",
       "      <th>...</th>\n",
       "      <th>split3_test_score</th>\n",
       "      <th>split4_test_score</th>\n",
       "      <th>split5_test_score</th>\n",
       "      <th>split6_test_score</th>\n",
       "      <th>split7_test_score</th>\n",
       "      <th>split8_test_score</th>\n",
       "      <th>split9_test_score</th>\n",
       "      <th>mean_test_score</th>\n",
       "      <th>std_test_score</th>\n",
       "      <th>rank_test_score</th>\n",
       "    </tr>\n",
       "  </thead>\n",
       "  <tbody>\n",
       "    <tr>\n",
       "      <th>0</th>\n",
       "      <td>0.016073</td>\n",
       "      <td>0.001382</td>\n",
       "      <td>0.008935</td>\n",
       "      <td>0.008954</td>\n",
       "      <td>1</td>\n",
       "      <td>True</td>\n",
       "      <td>True</td>\n",
       "      <td>auto</td>\n",
       "      <td>{'model__alpha': 1, 'model__fit_intercept': Tr...</td>\n",
       "      <td>0.610061</td>\n",
       "      <td>...</td>\n",
       "      <td>-0.540935</td>\n",
       "      <td>0.106248</td>\n",
       "      <td>0.489555</td>\n",
       "      <td>0.323930</td>\n",
       "      <td>0.435229</td>\n",
       "      <td>0.219086</td>\n",
       "      <td>0.596780</td>\n",
       "      <td>0.292430</td>\n",
       "      <td>0.317464</td>\n",
       "      <td>2</td>\n",
       "    </tr>\n",
       "    <tr>\n",
       "      <th>1</th>\n",
       "      <td>0.021078</td>\n",
       "      <td>0.014003</td>\n",
       "      <td>0.006249</td>\n",
       "      <td>0.007654</td>\n",
       "      <td>1</td>\n",
       "      <td>True</td>\n",
       "      <td>True</td>\n",
       "      <td>svd</td>\n",
       "      <td>{'model__alpha': 1, 'model__fit_intercept': Tr...</td>\n",
       "      <td>0.610061</td>\n",
       "      <td>...</td>\n",
       "      <td>-0.540935</td>\n",
       "      <td>0.106248</td>\n",
       "      <td>0.489555</td>\n",
       "      <td>0.323930</td>\n",
       "      <td>0.435229</td>\n",
       "      <td>0.219086</td>\n",
       "      <td>0.596780</td>\n",
       "      <td>0.292430</td>\n",
       "      <td>0.317464</td>\n",
       "      <td>1</td>\n",
       "    </tr>\n",
       "    <tr>\n",
       "      <th>2</th>\n",
       "      <td>0.014139</td>\n",
       "      <td>0.004718</td>\n",
       "      <td>0.006251</td>\n",
       "      <td>0.007656</td>\n",
       "      <td>1</td>\n",
       "      <td>True</td>\n",
       "      <td>True</td>\n",
       "      <td>cholesky</td>\n",
       "      <td>{'model__alpha': 1, 'model__fit_intercept': Tr...</td>\n",
       "      <td>0.610061</td>\n",
       "      <td>...</td>\n",
       "      <td>-0.540935</td>\n",
       "      <td>0.106248</td>\n",
       "      <td>0.489555</td>\n",
       "      <td>0.323930</td>\n",
       "      <td>0.435229</td>\n",
       "      <td>0.219086</td>\n",
       "      <td>0.596780</td>\n",
       "      <td>0.292430</td>\n",
       "      <td>0.317464</td>\n",
       "      <td>2</td>\n",
       "    </tr>\n",
       "    <tr>\n",
       "      <th>3</th>\n",
       "      <td>0.031842</td>\n",
       "      <td>0.030005</td>\n",
       "      <td>0.016420</td>\n",
       "      <td>0.005426</td>\n",
       "      <td>1</td>\n",
       "      <td>True</td>\n",
       "      <td>True</td>\n",
       "      <td>lsqr</td>\n",
       "      <td>{'model__alpha': 1, 'model__fit_intercept': Tr...</td>\n",
       "      <td>0.609948</td>\n",
       "      <td>...</td>\n",
       "      <td>-0.542374</td>\n",
       "      <td>0.105326</td>\n",
       "      <td>0.489160</td>\n",
       "      <td>0.323690</td>\n",
       "      <td>0.435400</td>\n",
       "      <td>0.219197</td>\n",
       "      <td>0.596198</td>\n",
       "      <td>0.292240</td>\n",
       "      <td>0.317784</td>\n",
       "      <td>7</td>\n",
       "    </tr>\n",
       "    <tr>\n",
       "      <th>4</th>\n",
       "      <td>0.043621</td>\n",
       "      <td>0.027573</td>\n",
       "      <td>0.013582</td>\n",
       "      <td>0.009891</td>\n",
       "      <td>1</td>\n",
       "      <td>True</td>\n",
       "      <td>True</td>\n",
       "      <td>sparse_cg</td>\n",
       "      <td>{'model__alpha': 1, 'model__fit_intercept': Tr...</td>\n",
       "      <td>0.610097</td>\n",
       "      <td>...</td>\n",
       "      <td>-0.541205</td>\n",
       "      <td>0.106186</td>\n",
       "      <td>0.489816</td>\n",
       "      <td>0.323953</td>\n",
       "      <td>0.435268</td>\n",
       "      <td>0.219091</td>\n",
       "      <td>0.596371</td>\n",
       "      <td>0.292334</td>\n",
       "      <td>0.317527</td>\n",
       "      <td>4</td>\n",
       "    </tr>\n",
       "    <tr>\n",
       "      <th>...</th>\n",
       "      <td>...</td>\n",
       "      <td>...</td>\n",
       "      <td>...</td>\n",
       "      <td>...</td>\n",
       "      <td>...</td>\n",
       "      <td>...</td>\n",
       "      <td>...</td>\n",
       "      <td>...</td>\n",
       "      <td>...</td>\n",
       "      <td>...</td>\n",
       "      <td>...</td>\n",
       "      <td>...</td>\n",
       "      <td>...</td>\n",
       "      <td>...</td>\n",
       "      <td>...</td>\n",
       "      <td>...</td>\n",
       "      <td>...</td>\n",
       "      <td>...</td>\n",
       "      <td>...</td>\n",
       "      <td>...</td>\n",
       "      <td>...</td>\n",
       "    </tr>\n",
       "    <tr>\n",
       "      <th>251</th>\n",
       "      <td>0.017190</td>\n",
       "      <td>0.004680</td>\n",
       "      <td>0.007808</td>\n",
       "      <td>0.007808</td>\n",
       "      <td>10</td>\n",
       "      <td>False</td>\n",
       "      <td>False</td>\n",
       "      <td>lsqr</td>\n",
       "      <td>{'model__alpha': 10, 'model__fit_intercept': F...</td>\n",
       "      <td>0.631297</td>\n",
       "      <td>...</td>\n",
       "      <td>-2.792728</td>\n",
       "      <td>-2.460096</td>\n",
       "      <td>0.194214</td>\n",
       "      <td>0.510192</td>\n",
       "      <td>0.210947</td>\n",
       "      <td>0.388554</td>\n",
       "      <td>0.125238</td>\n",
       "      <td>-0.329504</td>\n",
       "      <td>1.171552</td>\n",
       "      <td>43</td>\n",
       "    </tr>\n",
       "    <tr>\n",
       "      <th>252</th>\n",
       "      <td>0.018748</td>\n",
       "      <td>0.006249</td>\n",
       "      <td>0.007811</td>\n",
       "      <td>0.007811</td>\n",
       "      <td>10</td>\n",
       "      <td>False</td>\n",
       "      <td>False</td>\n",
       "      <td>sparse_cg</td>\n",
       "      <td>{'model__alpha': 10, 'model__fit_intercept': F...</td>\n",
       "      <td>0.631695</td>\n",
       "      <td>...</td>\n",
       "      <td>-2.792728</td>\n",
       "      <td>-2.458456</td>\n",
       "      <td>0.195011</td>\n",
       "      <td>0.510019</td>\n",
       "      <td>0.209923</td>\n",
       "      <td>0.387533</td>\n",
       "      <td>0.125238</td>\n",
       "      <td>-0.329466</td>\n",
       "      <td>1.171198</td>\n",
       "      <td>40</td>\n",
       "    </tr>\n",
       "    <tr>\n",
       "      <th>253</th>\n",
       "      <td>0.039057</td>\n",
       "      <td>0.007812</td>\n",
       "      <td>0.012502</td>\n",
       "      <td>0.006251</td>\n",
       "      <td>10</td>\n",
       "      <td>False</td>\n",
       "      <td>False</td>\n",
       "      <td>sag</td>\n",
       "      <td>{'model__alpha': 10, 'model__fit_intercept': F...</td>\n",
       "      <td>0.631522</td>\n",
       "      <td>...</td>\n",
       "      <td>-2.786698</td>\n",
       "      <td>-2.459599</td>\n",
       "      <td>0.193378</td>\n",
       "      <td>0.510363</td>\n",
       "      <td>0.209813</td>\n",
       "      <td>0.387568</td>\n",
       "      <td>0.125820</td>\n",
       "      <td>-0.329164</td>\n",
       "      <td>1.170098</td>\n",
       "      <td>38</td>\n",
       "    </tr>\n",
       "    <tr>\n",
       "      <th>254</th>\n",
       "      <td>0.070326</td>\n",
       "      <td>0.012634</td>\n",
       "      <td>0.009376</td>\n",
       "      <td>0.007655</td>\n",
       "      <td>10</td>\n",
       "      <td>False</td>\n",
       "      <td>False</td>\n",
       "      <td>saga</td>\n",
       "      <td>{'model__alpha': 10, 'model__fit_intercept': F...</td>\n",
       "      <td>0.631785</td>\n",
       "      <td>...</td>\n",
       "      <td>-2.782029</td>\n",
       "      <td>-2.462339</td>\n",
       "      <td>0.191459</td>\n",
       "      <td>0.510681</td>\n",
       "      <td>0.209744</td>\n",
       "      <td>0.388093</td>\n",
       "      <td>0.125479</td>\n",
       "      <td>-0.329111</td>\n",
       "      <td>1.169600</td>\n",
       "      <td>31</td>\n",
       "    </tr>\n",
       "    <tr>\n",
       "      <th>255</th>\n",
       "      <td>0.015624</td>\n",
       "      <td>0.006989</td>\n",
       "      <td>0.000000</td>\n",
       "      <td>0.000000</td>\n",
       "      <td>10</td>\n",
       "      <td>False</td>\n",
       "      <td>False</td>\n",
       "      <td>lbfgs</td>\n",
       "      <td>{'model__alpha': 10, 'model__fit_intercept': F...</td>\n",
       "      <td>NaN</td>\n",
       "      <td>...</td>\n",
       "      <td>NaN</td>\n",
       "      <td>NaN</td>\n",
       "      <td>NaN</td>\n",
       "      <td>NaN</td>\n",
       "      <td>NaN</td>\n",
       "      <td>NaN</td>\n",
       "      <td>NaN</td>\n",
       "      <td>NaN</td>\n",
       "      <td>NaN</td>\n",
       "      <td>256</td>\n",
       "    </tr>\n",
       "  </tbody>\n",
       "</table>\n",
       "<p>256 rows × 22 columns</p>\n",
       "</div>"
      ],
      "text/plain": [
       "     mean_fit_time  std_fit_time  mean_score_time  std_score_time  \\\n",
       "0         0.016073      0.001382         0.008935        0.008954   \n",
       "1         0.021078      0.014003         0.006249        0.007654   \n",
       "2         0.014139      0.004718         0.006251        0.007656   \n",
       "3         0.031842      0.030005         0.016420        0.005426   \n",
       "4         0.043621      0.027573         0.013582        0.009891   \n",
       "..             ...           ...              ...             ...   \n",
       "251       0.017190      0.004680         0.007808        0.007808   \n",
       "252       0.018748      0.006249         0.007811        0.007811   \n",
       "253       0.039057      0.007812         0.012502        0.006251   \n",
       "254       0.070326      0.012634         0.009376        0.007655   \n",
       "255       0.015624      0.006989         0.000000        0.000000   \n",
       "\n",
       "    param_model__alpha param_model__fit_intercept param_model__normalize  \\\n",
       "0                    1                       True                   True   \n",
       "1                    1                       True                   True   \n",
       "2                    1                       True                   True   \n",
       "3                    1                       True                   True   \n",
       "4                    1                       True                   True   \n",
       "..                 ...                        ...                    ...   \n",
       "251                 10                      False                  False   \n",
       "252                 10                      False                  False   \n",
       "253                 10                      False                  False   \n",
       "254                 10                      False                  False   \n",
       "255                 10                      False                  False   \n",
       "\n",
       "    param_model__solver                                             params  \\\n",
       "0                  auto  {'model__alpha': 1, 'model__fit_intercept': Tr...   \n",
       "1                   svd  {'model__alpha': 1, 'model__fit_intercept': Tr...   \n",
       "2              cholesky  {'model__alpha': 1, 'model__fit_intercept': Tr...   \n",
       "3                  lsqr  {'model__alpha': 1, 'model__fit_intercept': Tr...   \n",
       "4             sparse_cg  {'model__alpha': 1, 'model__fit_intercept': Tr...   \n",
       "..                  ...                                                ...   \n",
       "251                lsqr  {'model__alpha': 10, 'model__fit_intercept': F...   \n",
       "252           sparse_cg  {'model__alpha': 10, 'model__fit_intercept': F...   \n",
       "253                 sag  {'model__alpha': 10, 'model__fit_intercept': F...   \n",
       "254                saga  {'model__alpha': 10, 'model__fit_intercept': F...   \n",
       "255               lbfgs  {'model__alpha': 10, 'model__fit_intercept': F...   \n",
       "\n",
       "     split0_test_score  ...  split3_test_score  split4_test_score  \\\n",
       "0             0.610061  ...          -0.540935           0.106248   \n",
       "1             0.610061  ...          -0.540935           0.106248   \n",
       "2             0.610061  ...          -0.540935           0.106248   \n",
       "3             0.609948  ...          -0.542374           0.105326   \n",
       "4             0.610097  ...          -0.541205           0.106186   \n",
       "..                 ...  ...                ...                ...   \n",
       "251           0.631297  ...          -2.792728          -2.460096   \n",
       "252           0.631695  ...          -2.792728          -2.458456   \n",
       "253           0.631522  ...          -2.786698          -2.459599   \n",
       "254           0.631785  ...          -2.782029          -2.462339   \n",
       "255                NaN  ...                NaN                NaN   \n",
       "\n",
       "     split5_test_score  split6_test_score  split7_test_score  \\\n",
       "0             0.489555           0.323930           0.435229   \n",
       "1             0.489555           0.323930           0.435229   \n",
       "2             0.489555           0.323930           0.435229   \n",
       "3             0.489160           0.323690           0.435400   \n",
       "4             0.489816           0.323953           0.435268   \n",
       "..                 ...                ...                ...   \n",
       "251           0.194214           0.510192           0.210947   \n",
       "252           0.195011           0.510019           0.209923   \n",
       "253           0.193378           0.510363           0.209813   \n",
       "254           0.191459           0.510681           0.209744   \n",
       "255                NaN                NaN                NaN   \n",
       "\n",
       "     split8_test_score  split9_test_score  mean_test_score  std_test_score  \\\n",
       "0             0.219086           0.596780         0.292430        0.317464   \n",
       "1             0.219086           0.596780         0.292430        0.317464   \n",
       "2             0.219086           0.596780         0.292430        0.317464   \n",
       "3             0.219197           0.596198         0.292240        0.317784   \n",
       "4             0.219091           0.596371         0.292334        0.317527   \n",
       "..                 ...                ...              ...             ...   \n",
       "251           0.388554           0.125238        -0.329504        1.171552   \n",
       "252           0.387533           0.125238        -0.329466        1.171198   \n",
       "253           0.387568           0.125820        -0.329164        1.170098   \n",
       "254           0.388093           0.125479        -0.329111        1.169600   \n",
       "255                NaN                NaN              NaN             NaN   \n",
       "\n",
       "     rank_test_score  \n",
       "0                  2  \n",
       "1                  1  \n",
       "2                  2  \n",
       "3                  7  \n",
       "4                  4  \n",
       "..               ...  \n",
       "251               43  \n",
       "252               40  \n",
       "253               38  \n",
       "254               31  \n",
       "255              256  \n",
       "\n",
       "[256 rows x 22 columns]"
      ]
     },
     "execution_count": 164,
     "metadata": {},
     "output_type": "execute_result"
    }
   ],
   "source": [
    "cv_results = pd.DataFrame(grid_search.cv_results_)\n",
    "cv_results\n"
   ]
  },
  {
   "cell_type": "code",
   "execution_count": 165,
   "id": "ce39fce7",
   "metadata": {},
   "outputs": [
    {
     "data": {
      "text/plain": [
       "{'model__alpha': 1,\n",
       " 'model__fit_intercept': True,\n",
       " 'model__normalize': True,\n",
       " 'model__solver': 'svd'}"
      ]
     },
     "execution_count": 165,
     "metadata": {},
     "output_type": "execute_result"
    }
   ],
   "source": [
    "grid_search.best_params_\n"
   ]
  },
  {
   "cell_type": "code",
   "execution_count": 166,
   "id": "2d539605",
   "metadata": {},
   "outputs": [
    {
     "name": "stdout",
     "output_type": "stream",
     "text": [
      "******************\n",
      "MSE : 0.473\n",
      "RMSE : 0.688\n",
      "R2 : 0.381\n"
     ]
    }
   ],
   "source": [
    "best_estim=grid_search.best_estimator_\n",
    "f_performance(best_estim)"
   ]
  },
  {
   "cell_type": "markdown",
   "id": "3bf6fa74",
   "metadata": {},
   "source": [
    "##### "
   ]
  },
  {
   "cell_type": "markdown",
   "id": "8455e81a",
   "metadata": {},
   "source": [
    "### 4.3.SVR"
   ]
  },
  {
   "cell_type": "code",
   "execution_count": 167,
   "id": "aad90d1c",
   "metadata": {},
   "outputs": [
    {
     "data": {
      "text/plain": [
       "Pipeline(steps=[('preprocessor',\n",
       "                 ColumnTransformer(transformers=[('num',\n",
       "                                                  Pipeline(steps=[('scaler',\n",
       "                                                                   StandardScaler())]),\n",
       "                                                  ['SourceEUI(kBtu/sf)',\n",
       "                                                   'ENERGYSTARScore',\n",
       "                                                   'GHGEmissionsIntensity',\n",
       "                                                   'PropertyGFATotal',\n",
       "                                                   'BuildingAge',\n",
       "                                                   'NumberofFloors',\n",
       "                                                   'NumberofBuildings']),\n",
       "                                                 ('cat',\n",
       "                                                  OneHotEncoder(handle_unknown='ignore'),\n",
       "                                                  ['BuildingType',\n",
       "                                                   'tranche_date',\n",
       "                                                   'groups_neighborhood',\n",
       "                                                   'groups_PrimaryPropertyType'])])),\n",
       "                ('model', SVR())])"
      ]
     },
     "execution_count": 167,
     "metadata": {},
     "output_type": "execute_result"
    }
   ],
   "source": [
    "clf_svr = Pipeline(\n",
    "    steps=[(\"preprocessor\", preprocessor), (\"model\", SVR())]\n",
    ")\n",
    "clf_svr.fit(X_train,y_train)"
   ]
  },
  {
   "cell_type": "markdown",
   "id": "384b4fc2",
   "metadata": {},
   "source": [
    "### 4.3.1.Indicateurs de performance"
   ]
  },
  {
   "cell_type": "code",
   "execution_count": 168,
   "id": "075627e2",
   "metadata": {},
   "outputs": [
    {
     "name": "stdout",
     "output_type": "stream",
     "text": [
      "******************\n",
      "MSE : 0.470\n",
      "RMSE : 0.685\n",
      "R2 : 0.386\n"
     ]
    }
   ],
   "source": [
    "f_performance(clf_svr)"
   ]
  },
  {
   "cell_type": "markdown",
   "id": "f5d68cde",
   "metadata": {},
   "source": [
    "### 4.3.2.Coefficients du modèle"
   ]
  },
  {
   "cell_type": "code",
   "execution_count": 169,
   "id": "470995fa",
   "metadata": {},
   "outputs": [
    {
     "data": {
      "text/plain": [
       "array([0.795951])"
      ]
     },
     "execution_count": 169,
     "metadata": {},
     "output_type": "execute_result"
    }
   ],
   "source": [
    "\n",
    "clf_svr.named_steps['model'].intercept_"
   ]
  },
  {
   "cell_type": "code",
   "execution_count": 170,
   "id": "7e7b4886",
   "metadata": {},
   "outputs": [
    {
     "data": {
      "text/plain": [
       "11"
      ]
     },
     "execution_count": 170,
     "metadata": {},
     "output_type": "execute_result"
    }
   ],
   "source": [
    "clf_svr.n_features_in_"
   ]
  },
  {
   "cell_type": "code",
   "execution_count": 171,
   "id": "d879ed28",
   "metadata": {},
   "outputs": [
    {
     "data": {
      "text/plain": [
       "array(['ENERGYSTARScore', 'SourceEUI(kBtu/sf)', 'GHGEmissionsIntensity',\n",
       "       'groups_neighborhood', 'tranche_date', 'PropertyGFATotal',\n",
       "       'BuildingAge', 'NumberofFloors', 'NumberofBuildings',\n",
       "       'BuildingType', 'groups_PrimaryPropertyType'], dtype=object)"
      ]
     },
     "execution_count": 171,
     "metadata": {},
     "output_type": "execute_result"
    }
   ],
   "source": [
    "clf_svr.feature_names_in_"
   ]
  },
  {
   "cell_type": "markdown",
   "id": "8674d16e",
   "metadata": {},
   "source": [
    "### 4.3.3.Optimisation du modèle"
   ]
  },
  {
   "cell_type": "markdown",
   "id": "6375c157",
   "metadata": {},
   "source": [
    "#### Cross validation"
   ]
  },
  {
   "cell_type": "code",
   "execution_count": 172,
   "id": "0ab5fe9b",
   "metadata": {},
   "outputs": [
    {
     "data": {
      "text/plain": [
       "array([0.1067452 , 0.27082677, 0.92425675, 0.13844431, 0.63654428,\n",
       "       0.40525179, 0.70935438, 0.36433316, 0.78579017, 0.39705361])"
      ]
     },
     "execution_count": 172,
     "metadata": {},
     "output_type": "execute_result"
    }
   ],
   "source": [
    "scores = cross_val_score(clf_svr, X, y, cv=10,scoring='r2')#coefficient of determination (pr défaut). how well the regression model fits the observed data.a higher coefficient indicates a better fit for the model.\n",
    "scores"
   ]
  },
  {
   "cell_type": "code",
   "execution_count": 173,
   "id": "fc0aca64",
   "metadata": {},
   "outputs": [
    {
     "name": "stdout",
     "output_type": "stream",
     "text": [
      " mean of  R2= 0.47\n"
     ]
    }
   ],
   "source": [
    "print(\" mean of  R2= %0.2f\" % scores.mean())"
   ]
  },
  {
   "cell_type": "markdown",
   "id": "9ad3f33d",
   "metadata": {},
   "source": [
    "#### Ajustement des paramètres"
   ]
  },
  {
   "cell_type": "code",
   "execution_count": 174,
   "id": "14244732",
   "metadata": {},
   "outputs": [
    {
     "data": {
      "text/plain": [
       "dict_keys(['C', 'cache_size', 'coef0', 'degree', 'epsilon', 'gamma', 'kernel', 'max_iter', 'shrinking', 'tol', 'verbose'])"
      ]
     },
     "execution_count": 174,
     "metadata": {},
     "output_type": "execute_result"
    }
   ],
   "source": [
    "SVR().get_params().keys()"
   ]
  },
  {
   "cell_type": "code",
   "execution_count": 175,
   "id": "56ccf556",
   "metadata": {},
   "outputs": [
    {
     "data": {
      "text/plain": [
       "GridSearchCV(cv=10,\n",
       "             estimator=Pipeline(steps=[('preprocessor',\n",
       "                                        ColumnTransformer(transformers=[('num',\n",
       "                                                                         Pipeline(steps=[('scaler',\n",
       "                                                                                          StandardScaler())]),\n",
       "                                                                         ['SourceEUI(kBtu/sf)',\n",
       "                                                                          'ENERGYSTARScore',\n",
       "                                                                          'GHGEmissionsIntensity',\n",
       "                                                                          'PropertyGFATotal',\n",
       "                                                                          'BuildingAge',\n",
       "                                                                          'NumberofFloors',\n",
       "                                                                          'NumberofBuildings']),\n",
       "                                                                        ('cat',\n",
       "                                                                         OneHotEncoder(handle_unknown='ignore'),\n",
       "                                                                         ['BuildingType',\n",
       "                                                                          'tranche_date',\n",
       "                                                                          'groups_neighborhood',\n",
       "                                                                          'groups_PrimaryPropertyType'])])),\n",
       "                                       ('model', SVR())]),\n",
       "             param_grid={'model__C': [1, 0.1, 0.01, 0.001, 0.0001, 1e-05, 1e-05,\n",
       "                                      5, 20, 50, 100],\n",
       "                         'model__epsilon': [0.0001, 0.001, 0.1, 1, 0.005,\n",
       "                                            0.0009]})"
      ]
     },
     "execution_count": 175,
     "metadata": {},
     "output_type": "execute_result"
    }
   ],
   "source": [
    "param_grid = {\n",
    "    \n",
    "    \"model__C\": [1,0.1,0.01,0.001,0.0001,0.00001,0.00001,5,20,50,100],\n",
    "    \"model__epsilon\": [0.0001, 0.001, 0.1, 1, 0.005, 0.0009],\n",
    "    #\"model__kernel\": [True, False],\n",
    "    #\"model__gamma\": [True, False],\n",
    "    \n",
    "}\n",
    "\n",
    "grid_search = GridSearchCV(clf_svr, param_grid, cv=10)\n",
    "grid_search.fit(X_train,y_train)"
   ]
  },
  {
   "cell_type": "code",
   "execution_count": 176,
   "id": "e2c981b0",
   "metadata": {},
   "outputs": [
    {
     "data": {
      "text/html": [
       "<div>\n",
       "<style scoped>\n",
       "    .dataframe tbody tr th:only-of-type {\n",
       "        vertical-align: middle;\n",
       "    }\n",
       "\n",
       "    .dataframe tbody tr th {\n",
       "        vertical-align: top;\n",
       "    }\n",
       "\n",
       "    .dataframe thead th {\n",
       "        text-align: right;\n",
       "    }\n",
       "</style>\n",
       "<table border=\"1\" class=\"dataframe\">\n",
       "  <thead>\n",
       "    <tr style=\"text-align: right;\">\n",
       "      <th></th>\n",
       "      <th>mean_fit_time</th>\n",
       "      <th>std_fit_time</th>\n",
       "      <th>mean_score_time</th>\n",
       "      <th>std_score_time</th>\n",
       "      <th>param_model__C</th>\n",
       "      <th>param_model__epsilon</th>\n",
       "      <th>params</th>\n",
       "      <th>split0_test_score</th>\n",
       "      <th>split1_test_score</th>\n",
       "      <th>split2_test_score</th>\n",
       "      <th>split3_test_score</th>\n",
       "      <th>split4_test_score</th>\n",
       "      <th>split5_test_score</th>\n",
       "      <th>split6_test_score</th>\n",
       "      <th>split7_test_score</th>\n",
       "      <th>split8_test_score</th>\n",
       "      <th>split9_test_score</th>\n",
       "      <th>mean_test_score</th>\n",
       "      <th>std_test_score</th>\n",
       "      <th>rank_test_score</th>\n",
       "    </tr>\n",
       "  </thead>\n",
       "  <tbody>\n",
       "    <tr>\n",
       "      <th>0</th>\n",
       "      <td>0.519315</td>\n",
       "      <td>0.086379</td>\n",
       "      <td>0.034449</td>\n",
       "      <td>6.215566e-03</td>\n",
       "      <td>1</td>\n",
       "      <td>0.0001</td>\n",
       "      <td>{'model__C': 1, 'model__epsilon': 0.0001}</td>\n",
       "      <td>0.598168</td>\n",
       "      <td>0.780367</td>\n",
       "      <td>0.875315</td>\n",
       "      <td>0.885045</td>\n",
       "      <td>0.905003</td>\n",
       "      <td>0.796914</td>\n",
       "      <td>0.107543</td>\n",
       "      <td>0.501948</td>\n",
       "      <td>0.075486</td>\n",
       "      <td>0.734784</td>\n",
       "      <td>0.626057</td>\n",
       "      <td>0.293259</td>\n",
       "      <td>24</td>\n",
       "    </tr>\n",
       "    <tr>\n",
       "      <th>1</th>\n",
       "      <td>0.385951</td>\n",
       "      <td>0.010006</td>\n",
       "      <td>0.034387</td>\n",
       "      <td>6.245639e-03</td>\n",
       "      <td>1</td>\n",
       "      <td>0.001</td>\n",
       "      <td>{'model__C': 1, 'model__epsilon': 0.001}</td>\n",
       "      <td>0.599288</td>\n",
       "      <td>0.779981</td>\n",
       "      <td>0.875541</td>\n",
       "      <td>0.884193</td>\n",
       "      <td>0.904300</td>\n",
       "      <td>0.797632</td>\n",
       "      <td>0.108278</td>\n",
       "      <td>0.502640</td>\n",
       "      <td>0.075986</td>\n",
       "      <td>0.734881</td>\n",
       "      <td>0.626272</td>\n",
       "      <td>0.292898</td>\n",
       "      <td>22</td>\n",
       "    </tr>\n",
       "    <tr>\n",
       "      <th>2</th>\n",
       "      <td>0.046881</td>\n",
       "      <td>0.000034</td>\n",
       "      <td>0.015626</td>\n",
       "      <td>9.725608e-07</td>\n",
       "      <td>1</td>\n",
       "      <td>0.1</td>\n",
       "      <td>{'model__C': 1, 'model__epsilon': 0.1}</td>\n",
       "      <td>0.601241</td>\n",
       "      <td>0.732884</td>\n",
       "      <td>0.819440</td>\n",
       "      <td>0.793313</td>\n",
       "      <td>0.831222</td>\n",
       "      <td>0.756171</td>\n",
       "      <td>0.132126</td>\n",
       "      <td>0.505154</td>\n",
       "      <td>0.091798</td>\n",
       "      <td>0.716111</td>\n",
       "      <td>0.597946</td>\n",
       "      <td>0.260892</td>\n",
       "      <td>25</td>\n",
       "    </tr>\n",
       "    <tr>\n",
       "      <th>3</th>\n",
       "      <td>0.028123</td>\n",
       "      <td>0.006250</td>\n",
       "      <td>0.006249</td>\n",
       "      <td>7.654013e-03</td>\n",
       "      <td>1</td>\n",
       "      <td>1</td>\n",
       "      <td>{'model__C': 1, 'model__epsilon': 1}</td>\n",
       "      <td>-1.381866</td>\n",
       "      <td>-2.463920</td>\n",
       "      <td>-0.925809</td>\n",
       "      <td>-5.127392</td>\n",
       "      <td>-7.919970</td>\n",
       "      <td>-1.233886</td>\n",
       "      <td>-0.037015</td>\n",
       "      <td>-1.158768</td>\n",
       "      <td>0.042172</td>\n",
       "      <td>-3.373232</td>\n",
       "      <td>-2.357969</td>\n",
       "      <td>2.376984</td>\n",
       "      <td>60</td>\n",
       "    </tr>\n",
       "    <tr>\n",
       "      <th>4</th>\n",
       "      <td>0.210933</td>\n",
       "      <td>0.007797</td>\n",
       "      <td>0.025013</td>\n",
       "      <td>7.664062e-03</td>\n",
       "      <td>1</td>\n",
       "      <td>0.005</td>\n",
       "      <td>{'model__C': 1, 'model__epsilon': 0.005}</td>\n",
       "      <td>0.602803</td>\n",
       "      <td>0.778335</td>\n",
       "      <td>0.875923</td>\n",
       "      <td>0.878714</td>\n",
       "      <td>0.901909</td>\n",
       "      <td>0.798995</td>\n",
       "      <td>0.111019</td>\n",
       "      <td>0.505240</td>\n",
       "      <td>0.078281</td>\n",
       "      <td>0.735310</td>\n",
       "      <td>0.626653</td>\n",
       "      <td>0.291179</td>\n",
       "      <td>21</td>\n",
       "    </tr>\n",
       "    <tr>\n",
       "      <th>...</th>\n",
       "      <td>...</td>\n",
       "      <td>...</td>\n",
       "      <td>...</td>\n",
       "      <td>...</td>\n",
       "      <td>...</td>\n",
       "      <td>...</td>\n",
       "      <td>...</td>\n",
       "      <td>...</td>\n",
       "      <td>...</td>\n",
       "      <td>...</td>\n",
       "      <td>...</td>\n",
       "      <td>...</td>\n",
       "      <td>...</td>\n",
       "      <td>...</td>\n",
       "      <td>...</td>\n",
       "      <td>...</td>\n",
       "      <td>...</td>\n",
       "      <td>...</td>\n",
       "      <td>...</td>\n",
       "      <td>...</td>\n",
       "    </tr>\n",
       "    <tr>\n",
       "      <th>61</th>\n",
       "      <td>4.078395</td>\n",
       "      <td>0.294469</td>\n",
       "      <td>0.032811</td>\n",
       "      <td>4.686873e-03</td>\n",
       "      <td>100</td>\n",
       "      <td>0.001</td>\n",
       "      <td>{'model__C': 100, 'model__epsilon': 0.001}</td>\n",
       "      <td>0.981529</td>\n",
       "      <td>0.942583</td>\n",
       "      <td>0.812449</td>\n",
       "      <td>0.369935</td>\n",
       "      <td>0.827579</td>\n",
       "      <td>0.928097</td>\n",
       "      <td>0.442175</td>\n",
       "      <td>0.910891</td>\n",
       "      <td>0.252154</td>\n",
       "      <td>0.951411</td>\n",
       "      <td>0.741880</td>\n",
       "      <td>0.261759</td>\n",
       "      <td>5</td>\n",
       "    </tr>\n",
       "    <tr>\n",
       "      <th>62</th>\n",
       "      <td>0.071866</td>\n",
       "      <td>0.007654</td>\n",
       "      <td>0.012503</td>\n",
       "      <td>6.251586e-03</td>\n",
       "      <td>100</td>\n",
       "      <td>0.1</td>\n",
       "      <td>{'model__C': 100, 'model__epsilon': 0.1}</td>\n",
       "      <td>0.967005</td>\n",
       "      <td>0.876212</td>\n",
       "      <td>0.652264</td>\n",
       "      <td>-0.071442</td>\n",
       "      <td>0.656272</td>\n",
       "      <td>0.794662</td>\n",
       "      <td>0.480364</td>\n",
       "      <td>0.878202</td>\n",
       "      <td>0.277627</td>\n",
       "      <td>0.913865</td>\n",
       "      <td>0.642503</td>\n",
       "      <td>0.313319</td>\n",
       "      <td>19</td>\n",
       "    </tr>\n",
       "    <tr>\n",
       "      <th>63</th>\n",
       "      <td>0.026561</td>\n",
       "      <td>0.007160</td>\n",
       "      <td>0.009388</td>\n",
       "      <td>7.665126e-03</td>\n",
       "      <td>100</td>\n",
       "      <td>1</td>\n",
       "      <td>{'model__C': 100, 'model__epsilon': 1}</td>\n",
       "      <td>0.051160</td>\n",
       "      <td>-0.580173</td>\n",
       "      <td>-0.480638</td>\n",
       "      <td>-3.648960</td>\n",
       "      <td>-4.079802</td>\n",
       "      <td>-0.406516</td>\n",
       "      <td>0.402467</td>\n",
       "      <td>-0.203622</td>\n",
       "      <td>0.229888</td>\n",
       "      <td>-0.841047</td>\n",
       "      <td>-0.955724</td>\n",
       "      <td>1.500825</td>\n",
       "      <td>56</td>\n",
       "    </tr>\n",
       "    <tr>\n",
       "      <th>64</th>\n",
       "      <td>0.775039</td>\n",
       "      <td>0.072331</td>\n",
       "      <td>0.028138</td>\n",
       "      <td>6.255561e-03</td>\n",
       "      <td>100</td>\n",
       "      <td>0.005</td>\n",
       "      <td>{'model__C': 100, 'model__epsilon': 0.005}</td>\n",
       "      <td>0.981725</td>\n",
       "      <td>0.936174</td>\n",
       "      <td>0.784283</td>\n",
       "      <td>0.283675</td>\n",
       "      <td>0.792028</td>\n",
       "      <td>0.919866</td>\n",
       "      <td>0.453835</td>\n",
       "      <td>0.907912</td>\n",
       "      <td>0.259482</td>\n",
       "      <td>0.954521</td>\n",
       "      <td>0.727350</td>\n",
       "      <td>0.269735</td>\n",
       "      <td>15</td>\n",
       "    </tr>\n",
       "    <tr>\n",
       "      <th>65</th>\n",
       "      <td>4.386212</td>\n",
       "      <td>0.312767</td>\n",
       "      <td>0.031249</td>\n",
       "      <td>3.231341e-06</td>\n",
       "      <td>100</td>\n",
       "      <td>0.0009</td>\n",
       "      <td>{'model__C': 100, 'model__epsilon': 0.0009}</td>\n",
       "      <td>0.981492</td>\n",
       "      <td>0.942779</td>\n",
       "      <td>0.813655</td>\n",
       "      <td>0.372802</td>\n",
       "      <td>0.828730</td>\n",
       "      <td>0.928287</td>\n",
       "      <td>0.441649</td>\n",
       "      <td>0.910950</td>\n",
       "      <td>0.251792</td>\n",
       "      <td>0.951396</td>\n",
       "      <td>0.742353</td>\n",
       "      <td>0.261579</td>\n",
       "      <td>4</td>\n",
       "    </tr>\n",
       "  </tbody>\n",
       "</table>\n",
       "<p>66 rows × 20 columns</p>\n",
       "</div>"
      ],
      "text/plain": [
       "    mean_fit_time  std_fit_time  mean_score_time  std_score_time  \\\n",
       "0        0.519315      0.086379         0.034449    6.215566e-03   \n",
       "1        0.385951      0.010006         0.034387    6.245639e-03   \n",
       "2        0.046881      0.000034         0.015626    9.725608e-07   \n",
       "3        0.028123      0.006250         0.006249    7.654013e-03   \n",
       "4        0.210933      0.007797         0.025013    7.664062e-03   \n",
       "..            ...           ...              ...             ...   \n",
       "61       4.078395      0.294469         0.032811    4.686873e-03   \n",
       "62       0.071866      0.007654         0.012503    6.251586e-03   \n",
       "63       0.026561      0.007160         0.009388    7.665126e-03   \n",
       "64       0.775039      0.072331         0.028138    6.255561e-03   \n",
       "65       4.386212      0.312767         0.031249    3.231341e-06   \n",
       "\n",
       "   param_model__C param_model__epsilon  \\\n",
       "0               1               0.0001   \n",
       "1               1                0.001   \n",
       "2               1                  0.1   \n",
       "3               1                    1   \n",
       "4               1                0.005   \n",
       "..            ...                  ...   \n",
       "61            100                0.001   \n",
       "62            100                  0.1   \n",
       "63            100                    1   \n",
       "64            100                0.005   \n",
       "65            100               0.0009   \n",
       "\n",
       "                                         params  split0_test_score  \\\n",
       "0     {'model__C': 1, 'model__epsilon': 0.0001}           0.598168   \n",
       "1      {'model__C': 1, 'model__epsilon': 0.001}           0.599288   \n",
       "2        {'model__C': 1, 'model__epsilon': 0.1}           0.601241   \n",
       "3          {'model__C': 1, 'model__epsilon': 1}          -1.381866   \n",
       "4      {'model__C': 1, 'model__epsilon': 0.005}           0.602803   \n",
       "..                                          ...                ...   \n",
       "61   {'model__C': 100, 'model__epsilon': 0.001}           0.981529   \n",
       "62     {'model__C': 100, 'model__epsilon': 0.1}           0.967005   \n",
       "63       {'model__C': 100, 'model__epsilon': 1}           0.051160   \n",
       "64   {'model__C': 100, 'model__epsilon': 0.005}           0.981725   \n",
       "65  {'model__C': 100, 'model__epsilon': 0.0009}           0.981492   \n",
       "\n",
       "    split1_test_score  split2_test_score  split3_test_score  \\\n",
       "0            0.780367           0.875315           0.885045   \n",
       "1            0.779981           0.875541           0.884193   \n",
       "2            0.732884           0.819440           0.793313   \n",
       "3           -2.463920          -0.925809          -5.127392   \n",
       "4            0.778335           0.875923           0.878714   \n",
       "..                ...                ...                ...   \n",
       "61           0.942583           0.812449           0.369935   \n",
       "62           0.876212           0.652264          -0.071442   \n",
       "63          -0.580173          -0.480638          -3.648960   \n",
       "64           0.936174           0.784283           0.283675   \n",
       "65           0.942779           0.813655           0.372802   \n",
       "\n",
       "    split4_test_score  split5_test_score  split6_test_score  \\\n",
       "0            0.905003           0.796914           0.107543   \n",
       "1            0.904300           0.797632           0.108278   \n",
       "2            0.831222           0.756171           0.132126   \n",
       "3           -7.919970          -1.233886          -0.037015   \n",
       "4            0.901909           0.798995           0.111019   \n",
       "..                ...                ...                ...   \n",
       "61           0.827579           0.928097           0.442175   \n",
       "62           0.656272           0.794662           0.480364   \n",
       "63          -4.079802          -0.406516           0.402467   \n",
       "64           0.792028           0.919866           0.453835   \n",
       "65           0.828730           0.928287           0.441649   \n",
       "\n",
       "    split7_test_score  split8_test_score  split9_test_score  mean_test_score  \\\n",
       "0            0.501948           0.075486           0.734784         0.626057   \n",
       "1            0.502640           0.075986           0.734881         0.626272   \n",
       "2            0.505154           0.091798           0.716111         0.597946   \n",
       "3           -1.158768           0.042172          -3.373232        -2.357969   \n",
       "4            0.505240           0.078281           0.735310         0.626653   \n",
       "..                ...                ...                ...              ...   \n",
       "61           0.910891           0.252154           0.951411         0.741880   \n",
       "62           0.878202           0.277627           0.913865         0.642503   \n",
       "63          -0.203622           0.229888          -0.841047        -0.955724   \n",
       "64           0.907912           0.259482           0.954521         0.727350   \n",
       "65           0.910950           0.251792           0.951396         0.742353   \n",
       "\n",
       "    std_test_score  rank_test_score  \n",
       "0         0.293259               24  \n",
       "1         0.292898               22  \n",
       "2         0.260892               25  \n",
       "3         2.376984               60  \n",
       "4         0.291179               21  \n",
       "..             ...              ...  \n",
       "61        0.261759                5  \n",
       "62        0.313319               19  \n",
       "63        1.500825               56  \n",
       "64        0.269735               15  \n",
       "65        0.261579                4  \n",
       "\n",
       "[66 rows x 20 columns]"
      ]
     },
     "execution_count": 176,
     "metadata": {},
     "output_type": "execute_result"
    }
   ],
   "source": [
    "cv_results = pd.DataFrame(grid_search.cv_results_)\n",
    "cv_results"
   ]
  },
  {
   "cell_type": "code",
   "execution_count": 177,
   "id": "0859469e",
   "metadata": {},
   "outputs": [
    {
     "data": {
      "text/plain": [
       "{'model__C': 100, 'model__epsilon': 0.0001}"
      ]
     },
     "execution_count": 177,
     "metadata": {},
     "output_type": "execute_result"
    }
   ],
   "source": [
    "grid_search.best_params_"
   ]
  },
  {
   "cell_type": "code",
   "execution_count": 178,
   "id": "9a0f43d1",
   "metadata": {},
   "outputs": [
    {
     "name": "stdout",
     "output_type": "stream",
     "text": [
      "******************\n",
      "MSE : 0.230\n",
      "RMSE : 0.479\n",
      "R2 : 0.700\n"
     ]
    }
   ],
   "source": [
    "best_estim=grid_search.best_estimator_\n",
    "f_performance(best_estim)"
   ]
  },
  {
   "cell_type": "markdown",
   "id": "ae1e4c3f",
   "metadata": {},
   "source": [
    "### 4.4.LGBMRegressor"
   ]
  },
  {
   "cell_type": "code",
   "execution_count": 179,
   "id": "c7f78ad4",
   "metadata": {},
   "outputs": [
    {
     "data": {
      "text/plain": [
       "Pipeline(steps=[('preprocessor',\n",
       "                 ColumnTransformer(transformers=[('num',\n",
       "                                                  Pipeline(steps=[('scaler',\n",
       "                                                                   StandardScaler())]),\n",
       "                                                  ['SourceEUI(kBtu/sf)',\n",
       "                                                   'ENERGYSTARScore',\n",
       "                                                   'GHGEmissionsIntensity',\n",
       "                                                   'PropertyGFATotal',\n",
       "                                                   'BuildingAge',\n",
       "                                                   'NumberofFloors',\n",
       "                                                   'NumberofBuildings']),\n",
       "                                                 ('cat',\n",
       "                                                  OneHotEncoder(handle_unknown='ignore'),\n",
       "                                                  ['BuildingType',\n",
       "                                                   'tranche_date',\n",
       "                                                   'groups_neighborhood',\n",
       "                                                   'groups_PrimaryPropertyType'])])),\n",
       "                ('model', LGBMRegressor())])"
      ]
     },
     "execution_count": 179,
     "metadata": {},
     "output_type": "execute_result"
    }
   ],
   "source": [
    "clf_lgb = Pipeline(\n",
    "    steps=[(\"preprocessor\", preprocessor), (\"model\", LGBMRegressor())]\n",
    ")\n",
    "clf_lgb.fit(X_train,y_train)"
   ]
  },
  {
   "cell_type": "code",
   "execution_count": null,
   "id": "005993f1",
   "metadata": {},
   "outputs": [],
   "source": []
  }
 ],
 "metadata": {
  "kernelspec": {
   "display_name": "Python 3 (ipykernel)",
   "language": "python",
   "name": "python3"
  },
  "language_info": {
   "codemirror_mode": {
    "name": "ipython",
    "version": 3
   },
   "file_extension": ".py",
   "mimetype": "text/x-python",
   "name": "python",
   "nbconvert_exporter": "python",
   "pygments_lexer": "ipython3",
   "version": "3.10.4"
  }
 },
 "nbformat": 4,
 "nbformat_minor": 5
}
