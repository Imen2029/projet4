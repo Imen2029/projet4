{
 "cells": [
  {
   "cell_type": "markdown",
   "id": "ba5631a4",
   "metadata": {},
   "source": [
    "* [1.Load Data From CSV File](#ld)\n",
    "* [2.Build a pipeline](#bp)\n",
    "* [3.Idée pour choisir le meilleur modèle](#ic)\n",
    "* [4.Modèles de machine learning choisis](#mml)\n"
   ]
  },
  {
   "cell_type": "code",
   "execution_count": 36,
   "id": "0040ade2",
   "metadata": {},
   "outputs": [],
   "source": [
    "#!pip install xgboost"
   ]
  },
  {
   "cell_type": "code",
   "execution_count": 37,
   "id": "52e96a65",
   "metadata": {},
   "outputs": [],
   "source": [
    "#!pip install lightgbm "
   ]
  },
  {
   "cell_type": "code",
   "execution_count": 38,
   "id": "9a99faa9",
   "metadata": {},
   "outputs": [],
   "source": [
    "#!pip install joblib"
   ]
  },
  {
   "cell_type": "code",
   "execution_count": null,
   "id": "cb87a7db",
   "metadata": {},
   "outputs": [],
   "source": []
  },
  {
   "cell_type": "code",
   "execution_count": 97,
   "id": "4712a784",
   "metadata": {},
   "outputs": [],
   "source": [
    "import pandas as pd\n",
    "import numpy as np\n",
    "\n",
    "import missingno as msno\n",
    "import seaborn as sns\n",
    "\n",
    "import matplotlib.pyplot as plt \n",
    "%matplotlib inline\n",
    "plt.rcParams['axes.grid'] = True\n",
    "import warnings\n",
    "warnings.filterwarnings('ignore')\n",
    "\n",
    "from sklearn.preprocessing import OneHotEncoder,StandardScaler\n",
    "\n",
    "from sklearn.compose import make_column_transformer\n",
    "from sklearn.pipeline import Pipeline\n",
    "from sklearn.compose import ColumnTransformer\n",
    "from sklearn.linear_model import LinearRegression,Ridge,Lasso\n",
    "from sklearn.dummy import DummyRegressor\n",
    "from sklearn.preprocessing import PolynomialFeatures\n",
    "from sklearn.linear_model import ElasticNet\n",
    "from sklearn.svm import SVR\n",
    "from  xgboost import XGBRegressor\n",
    "from lightgbm import LGBMRegressor\n",
    "from sklearn.ensemble import RandomForestRegressor\n",
    "import joblib\n",
    "import shap\n",
    "\n",
    "import sklearn\n",
    "\n",
    "from sklearn.metrics import confusion_matrix\n",
    "\n",
    "from sklearn.model_selection import train_test_split, GridSearchCV,cross_val_score,StratifiedGroupKFold\n",
    "from sklearn.metrics import mean_absolute_error,r2_score\n",
    "from time import time\n",
    "from julearn import run_cross_validation\n",
    "from julearn.utils import configure_logging\n",
    "from julearn.model_selection import StratifiedGroupsKFold\n",
    "from statistics import mean\n",
    "\n",
    "from sklearn.metrics import mean_squared_error\n"
   ]
  },
  {
   "cell_type": "code",
   "execution_count": 40,
   "id": "d78c23fa",
   "metadata": {},
   "outputs": [],
   "source": [
    "############Fonction affichant les variables corrélés en fixant un seuil\n",
    "def f_strong_correlation(threshold_up ,df2):\n",
    "    #threshold_up = 0.7\n",
    "    corr_pairs = df2.corr().unstack().sort_values(kind=\"quicksort\")\n",
    "    strong_corr = (pd.DataFrame(corr_pairs[(abs(corr_pairs) > threshold_up)])\n",
    "               .reset_index().rename(columns={0:'corr_coeff'}))\n",
    "    strong_corr = strong_corr[(strong_corr.index%2 == 0) & \n",
    "                          (strong_corr['level_0'] != strong_corr['level_1'])]\n",
    "    strong_corr.sort_values('corr_coeff', ascending=False)\n",
    "    return strong_corr\n",
    "##################\"fonction pour afficher les performances d'un modèle\n",
    "def f_performance(pip):\n",
    "    #pip.fit(X_train,y_train)\n",
    "  \n",
    "    \n",
    "    print('******************')\n",
    "    #Check MSE and RMSE\n",
    "\n",
    "    y_pred = pip.predict(X_test)\n",
    "    print(f'MSE : {mean_squared_error(y_test, y_pred):.3f}')\n",
    "    print(f'RMSE : {np.sqrt(mean_squared_error(y_test, y_pred)):.3f}')\n",
    "    print(f'R2 : {r2_score(y_test, y_pred):.3f}')\n",
    "##################################################\n",
    "def f_coeff(pip):\n",
    "    # Putting together the coefficient and their corresponding variable names\n",
    "    \n",
    "    df_coefficient = pd.DataFrame()\n",
    "    df_coefficient[\"Columns\"] = feature_after_transformer(preprocessor)\n",
    "    df_coefficient['Estimated Coefficient '] = pd.Series(pip.named_steps['model'].coef_.flatten())\n",
    "    return df_coefficient\n",
    "    #print(lreg_coefficient)\n",
    "####################\"\"\n",
    "def feature_after_transformer(preprocessor):\n",
    "    tx = preprocessor.get_params()['transformers']\n",
    "    feature_names = []\n",
    "    for name,transformer,features in tx:\n",
    "        try:\n",
    "            Var = preprocessor.named_transformers_[name].get_feature_names_out().tolist()\n",
    "        except AttributeError:\n",
    "            Var = features\n",
    "        feature_names = feature_names + Var\n",
    "\n",
    "    return feature_names\n",
    "#####fonction pour sauvegarder le modele/gridsearch\n",
    "def save_model_grid(object_to_save,filename,object_type):\n",
    "    if object_type=='model':\n",
    "        ch=filename+'.joblib'\n",
    "    elif object_type=='gridsearch':\n",
    "        ch=filename+'.pkl'\n",
    "    joblib.dump(object_to_save,ch)\n",
    "\n",
    "#####fonction pour charger le modele/gridsearch\n",
    "def load_model_grid(ch):\n",
    "    loaded_object = joblib.load(ch)\n",
    "    return loaded_model\n",
    "########fonction pour extraire les données d'un pipeline apres pretraitement\n",
    "def preprocessed_data(X,pip):\n",
    "    X_encoded = pip['preprocessor'].fit_transform(X)\n",
    "    return X_encoded\n"
   ]
  },
  {
   "cell_type": "code",
   "execution_count": null,
   "id": "55a903ca",
   "metadata": {},
   "outputs": [],
   "source": []
  },
  {
   "cell_type": "markdown",
   "id": "565ad0ef",
   "metadata": {},
   "source": [
    "### 1.Load Data From CSV File<a class=\"anchor\" id=\"ld\"></a>"
   ]
  },
  {
   "cell_type": "code",
   "execution_count": 41,
   "id": "ba85f0f1",
   "metadata": {},
   "outputs": [],
   "source": [
    "#df = pd.read_csv('prepared_data.csv', sep='\\t')\n",
    "\n",
    "df = pd.read_csv('df_quantile.csv',sep='\\t')\n",
    "\n"
   ]
  },
  {
   "cell_type": "code",
   "execution_count": 42,
   "id": "6f95e082",
   "metadata": {},
   "outputs": [
    {
     "data": {
      "text/html": [
       "<div>\n",
       "<style scoped>\n",
       "    .dataframe tbody tr th:only-of-type {\n",
       "        vertical-align: middle;\n",
       "    }\n",
       "\n",
       "    .dataframe tbody tr th {\n",
       "        vertical-align: top;\n",
       "    }\n",
       "\n",
       "    .dataframe thead th {\n",
       "        text-align: right;\n",
       "    }\n",
       "</style>\n",
       "<table border=\"1\" class=\"dataframe\">\n",
       "  <thead>\n",
       "    <tr style=\"text-align: right;\">\n",
       "      <th></th>\n",
       "      <th>OSEBuildingID</th>\n",
       "      <th>%NaturalGas(kBtu)</th>\n",
       "      <th>%SteamUse(kBtu)</th>\n",
       "      <th>BuildingType</th>\n",
       "      <th>NumberofBuildings</th>\n",
       "      <th>NumberofFloors</th>\n",
       "      <th>PropertyGFATotal</th>\n",
       "      <th>ENERGYSTARScore</th>\n",
       "      <th>SourceEUI(kBtu/sf)</th>\n",
       "      <th>SiteEnergyUse(kBtu)</th>\n",
       "      <th>TotalGHGEmissions</th>\n",
       "      <th>GHGEmissionsIntensity</th>\n",
       "      <th>tranche_date</th>\n",
       "      <th>BuildingAge</th>\n",
       "      <th>groups_neighborhood</th>\n",
       "      <th>groups_PrimaryPropertyType</th>\n",
       "      <th>GFABuildingRate</th>\n",
       "    </tr>\n",
       "  </thead>\n",
       "  <tbody>\n",
       "    <tr>\n",
       "      <th>0</th>\n",
       "      <td>1</td>\n",
       "      <td>-0.102156</td>\n",
       "      <td>1.780760</td>\n",
       "      <td>NonResidential</td>\n",
       "      <td>-5.199338</td>\n",
       "      <td>1.579469</td>\n",
       "      <td>0.526416</td>\n",
       "      <td>-0.698331</td>\n",
       "      <td>0.468375</td>\n",
       "      <td>0.686155</td>\n",
       "      <td>1.063067</td>\n",
       "      <td>1.032726</td>\n",
       "      <td>tranche_date1</td>\n",
       "      <td>89</td>\n",
       "      <td>Various</td>\n",
       "      <td>Various</td>\n",
       "      <td>5.199338</td>\n",
       "    </tr>\n",
       "    <tr>\n",
       "      <th>1</th>\n",
       "      <td>2</td>\n",
       "      <td>1.124928</td>\n",
       "      <td>-5.199338</td>\n",
       "      <td>NonResidential</td>\n",
       "      <td>-5.199338</td>\n",
       "      <td>1.513075</td>\n",
       "      <td>0.672627</td>\n",
       "      <td>-0.676067</td>\n",
       "      <td>0.404029</td>\n",
       "      <td>0.785512</td>\n",
       "      <td>1.186095</td>\n",
       "      <td>1.038121</td>\n",
       "      <td>tranche_date3</td>\n",
       "      <td>20</td>\n",
       "      <td>Various</td>\n",
       "      <td>Various</td>\n",
       "      <td>-0.891433</td>\n",
       "    </tr>\n",
       "    <tr>\n",
       "      <th>2</th>\n",
       "      <td>3</td>\n",
       "      <td>-0.449644</td>\n",
       "      <td>1.811514</td>\n",
       "      <td>NonResidential</td>\n",
       "      <td>-5.199338</td>\n",
       "      <td>2.391518</td>\n",
       "      <td>2.294560</td>\n",
       "      <td>-1.018128</td>\n",
       "      <td>0.872260</td>\n",
       "      <td>2.764908</td>\n",
       "      <td>2.956706</td>\n",
       "      <td>0.798036</td>\n",
       "      <td>tranche_date2</td>\n",
       "      <td>47</td>\n",
       "      <td>Various</td>\n",
       "      <td>Various</td>\n",
       "      <td>-1.024762</td>\n",
       "    </tr>\n",
       "    <tr>\n",
       "      <th>3</th>\n",
       "      <td>5</td>\n",
       "      <td>0.078370</td>\n",
       "      <td>1.850416</td>\n",
       "      <td>NonResidential</td>\n",
       "      <td>-5.199338</td>\n",
       "      <td>1.431438</td>\n",
       "      <td>0.257700</td>\n",
       "      <td>-0.794587</td>\n",
       "      <td>0.711613</td>\n",
       "      <td>0.648032</td>\n",
       "      <td>1.153135</td>\n",
       "      <td>1.474777</td>\n",
       "      <td>tranche_date1</td>\n",
       "      <td>90</td>\n",
       "      <td>Various</td>\n",
       "      <td>Various</td>\n",
       "      <td>5.199338</td>\n",
       "    </tr>\n",
       "    <tr>\n",
       "      <th>4</th>\n",
       "      <td>8</td>\n",
       "      <td>1.164911</td>\n",
       "      <td>-5.199338</td>\n",
       "      <td>NonResidential</td>\n",
       "      <td>-5.199338</td>\n",
       "      <td>1.811195</td>\n",
       "      <td>1.046169</td>\n",
       "      <td>0.551688</td>\n",
       "      <td>0.682473</td>\n",
       "      <td>1.145998</td>\n",
       "      <td>1.599488</td>\n",
       "      <td>1.042423</td>\n",
       "      <td>tranche_date3</td>\n",
       "      <td>36</td>\n",
       "      <td>Various</td>\n",
       "      <td>Various</td>\n",
       "      <td>-1.432289</td>\n",
       "    </tr>\n",
       "    <tr>\n",
       "      <th>...</th>\n",
       "      <td>...</td>\n",
       "      <td>...</td>\n",
       "      <td>...</td>\n",
       "      <td>...</td>\n",
       "      <td>...</td>\n",
       "      <td>...</td>\n",
       "      <td>...</td>\n",
       "      <td>...</td>\n",
       "      <td>...</td>\n",
       "      <td>...</td>\n",
       "      <td>...</td>\n",
       "      <td>...</td>\n",
       "      <td>...</td>\n",
       "      <td>...</td>\n",
       "      <td>...</td>\n",
       "      <td>...</td>\n",
       "      <td>...</td>\n",
       "    </tr>\n",
       "    <tr>\n",
       "      <th>1536</th>\n",
       "      <td>50221</td>\n",
       "      <td>0.200061</td>\n",
       "      <td>-5.199338</td>\n",
       "      <td>Nonresidential COS</td>\n",
       "      <td>-5.199338</td>\n",
       "      <td>-5.199338</td>\n",
       "      <td>-2.511288</td>\n",
       "      <td>-0.138583</td>\n",
       "      <td>-0.113266</td>\n",
       "      <td>-0.956453</td>\n",
       "      <td>-0.664672</td>\n",
       "      <td>0.179283</td>\n",
       "      <td>tranche_date3</td>\n",
       "      <td>34</td>\n",
       "      <td>Various</td>\n",
       "      <td>Various</td>\n",
       "      <td>5.199338</td>\n",
       "    </tr>\n",
       "    <tr>\n",
       "      <th>1537</th>\n",
       "      <td>50223</td>\n",
       "      <td>1.000820</td>\n",
       "      <td>-5.199338</td>\n",
       "      <td>Nonresidential COS</td>\n",
       "      <td>-5.199338</td>\n",
       "      <td>-5.199338</td>\n",
       "      <td>-2.654090</td>\n",
       "      <td>-0.138583</td>\n",
       "      <td>-0.261901</td>\n",
       "      <td>-0.937300</td>\n",
       "      <td>-0.346737</td>\n",
       "      <td>0.717694</td>\n",
       "      <td>tranche_date4</td>\n",
       "      <td>12</td>\n",
       "      <td>Various</td>\n",
       "      <td>Various</td>\n",
       "      <td>5.199338</td>\n",
       "    </tr>\n",
       "    <tr>\n",
       "      <th>1538</th>\n",
       "      <td>50224</td>\n",
       "      <td>1.415149</td>\n",
       "      <td>-5.199338</td>\n",
       "      <td>Nonresidential COS</td>\n",
       "      <td>-5.199338</td>\n",
       "      <td>-5.199338</td>\n",
       "      <td>-2.844696</td>\n",
       "      <td>-0.138583</td>\n",
       "      <td>2.205546</td>\n",
       "      <td>0.542936</td>\n",
       "      <td>0.985572</td>\n",
       "      <td>2.901564</td>\n",
       "      <td>tranche_date2</td>\n",
       "      <td>42</td>\n",
       "      <td>Various</td>\n",
       "      <td>Various</td>\n",
       "      <td>5.199338</td>\n",
       "    </tr>\n",
       "    <tr>\n",
       "      <th>1539</th>\n",
       "      <td>50225</td>\n",
       "      <td>0.776000</td>\n",
       "      <td>-5.199338</td>\n",
       "      <td>Nonresidential COS</td>\n",
       "      <td>-5.199338</td>\n",
       "      <td>-5.199338</td>\n",
       "      <td>-2.769757</td>\n",
       "      <td>-0.138583</td>\n",
       "      <td>-0.383428</td>\n",
       "      <td>-1.226110</td>\n",
       "      <td>-0.615832</td>\n",
       "      <td>0.505473</td>\n",
       "      <td>tranche_date3</td>\n",
       "      <td>27</td>\n",
       "      <td>Various</td>\n",
       "      <td>Various</td>\n",
       "      <td>5.199338</td>\n",
       "    </tr>\n",
       "    <tr>\n",
       "      <th>1540</th>\n",
       "      <td>50226</td>\n",
       "      <td>1.183905</td>\n",
       "      <td>-5.199338</td>\n",
       "      <td>Nonresidential COS</td>\n",
       "      <td>-5.199338</td>\n",
       "      <td>-5.199338</td>\n",
       "      <td>-2.511479</td>\n",
       "      <td>-0.138583</td>\n",
       "      <td>-0.246092</td>\n",
       "      <td>-0.731660</td>\n",
       "      <td>-0.148713</td>\n",
       "      <td>0.825976</td>\n",
       "      <td>tranche_date1</td>\n",
       "      <td>78</td>\n",
       "      <td>Various</td>\n",
       "      <td>Various</td>\n",
       "      <td>5.199338</td>\n",
       "    </tr>\n",
       "  </tbody>\n",
       "</table>\n",
       "<p>1541 rows × 17 columns</p>\n",
       "</div>"
      ],
      "text/plain": [
       "      OSEBuildingID  %NaturalGas(kBtu)  %SteamUse(kBtu)        BuildingType  \\\n",
       "0                 1          -0.102156         1.780760      NonResidential   \n",
       "1                 2           1.124928        -5.199338      NonResidential   \n",
       "2                 3          -0.449644         1.811514      NonResidential   \n",
       "3                 5           0.078370         1.850416      NonResidential   \n",
       "4                 8           1.164911        -5.199338      NonResidential   \n",
       "...             ...                ...              ...                 ...   \n",
       "1536          50221           0.200061        -5.199338  Nonresidential COS   \n",
       "1537          50223           1.000820        -5.199338  Nonresidential COS   \n",
       "1538          50224           1.415149        -5.199338  Nonresidential COS   \n",
       "1539          50225           0.776000        -5.199338  Nonresidential COS   \n",
       "1540          50226           1.183905        -5.199338  Nonresidential COS   \n",
       "\n",
       "      NumberofBuildings  NumberofFloors  PropertyGFATotal  ENERGYSTARScore  \\\n",
       "0             -5.199338        1.579469          0.526416        -0.698331   \n",
       "1             -5.199338        1.513075          0.672627        -0.676067   \n",
       "2             -5.199338        2.391518          2.294560        -1.018128   \n",
       "3             -5.199338        1.431438          0.257700        -0.794587   \n",
       "4             -5.199338        1.811195          1.046169         0.551688   \n",
       "...                 ...             ...               ...              ...   \n",
       "1536          -5.199338       -5.199338         -2.511288        -0.138583   \n",
       "1537          -5.199338       -5.199338         -2.654090        -0.138583   \n",
       "1538          -5.199338       -5.199338         -2.844696        -0.138583   \n",
       "1539          -5.199338       -5.199338         -2.769757        -0.138583   \n",
       "1540          -5.199338       -5.199338         -2.511479        -0.138583   \n",
       "\n",
       "      SourceEUI(kBtu/sf)  SiteEnergyUse(kBtu)  TotalGHGEmissions  \\\n",
       "0               0.468375             0.686155           1.063067   \n",
       "1               0.404029             0.785512           1.186095   \n",
       "2               0.872260             2.764908           2.956706   \n",
       "3               0.711613             0.648032           1.153135   \n",
       "4               0.682473             1.145998           1.599488   \n",
       "...                  ...                  ...                ...   \n",
       "1536           -0.113266            -0.956453          -0.664672   \n",
       "1537           -0.261901            -0.937300          -0.346737   \n",
       "1538            2.205546             0.542936           0.985572   \n",
       "1539           -0.383428            -1.226110          -0.615832   \n",
       "1540           -0.246092            -0.731660          -0.148713   \n",
       "\n",
       "      GHGEmissionsIntensity   tranche_date  BuildingAge groups_neighborhood  \\\n",
       "0                  1.032726  tranche_date1           89             Various   \n",
       "1                  1.038121  tranche_date3           20             Various   \n",
       "2                  0.798036  tranche_date2           47             Various   \n",
       "3                  1.474777  tranche_date1           90             Various   \n",
       "4                  1.042423  tranche_date3           36             Various   \n",
       "...                     ...            ...          ...                 ...   \n",
       "1536               0.179283  tranche_date3           34             Various   \n",
       "1537               0.717694  tranche_date4           12             Various   \n",
       "1538               2.901564  tranche_date2           42             Various   \n",
       "1539               0.505473  tranche_date3           27             Various   \n",
       "1540               0.825976  tranche_date1           78             Various   \n",
       "\n",
       "     groups_PrimaryPropertyType  GFABuildingRate  \n",
       "0                       Various         5.199338  \n",
       "1                       Various        -0.891433  \n",
       "2                       Various        -1.024762  \n",
       "3                       Various         5.199338  \n",
       "4                       Various        -1.432289  \n",
       "...                         ...              ...  \n",
       "1536                    Various         5.199338  \n",
       "1537                    Various         5.199338  \n",
       "1538                    Various         5.199338  \n",
       "1539                    Various         5.199338  \n",
       "1540                    Various         5.199338  \n",
       "\n",
       "[1541 rows x 17 columns]"
      ]
     },
     "execution_count": 42,
     "metadata": {},
     "output_type": "execute_result"
    }
   ],
   "source": [
    "df"
   ]
  },
  {
   "cell_type": "code",
   "execution_count": 43,
   "id": "0ee1e61b",
   "metadata": {},
   "outputs": [
    {
     "data": {
      "text/plain": [
       "(1541, 17)"
      ]
     },
     "execution_count": 43,
     "metadata": {},
     "output_type": "execute_result"
    }
   ],
   "source": [
    "df.shape"
   ]
  },
  {
   "cell_type": "code",
   "execution_count": 44,
   "id": "ee0f86a9",
   "metadata": {},
   "outputs": [
    {
     "data": {
      "text/plain": [
       "['OSEBuildingID',\n",
       " '%NaturalGas(kBtu)',\n",
       " '%SteamUse(kBtu)',\n",
       " 'BuildingType',\n",
       " 'NumberofBuildings',\n",
       " 'NumberofFloors',\n",
       " 'PropertyGFATotal',\n",
       " 'ENERGYSTARScore',\n",
       " 'SourceEUI(kBtu/sf)',\n",
       " 'SiteEnergyUse(kBtu)',\n",
       " 'TotalGHGEmissions',\n",
       " 'GHGEmissionsIntensity',\n",
       " 'tranche_date',\n",
       " 'BuildingAge',\n",
       " 'groups_neighborhood',\n",
       " 'groups_PrimaryPropertyType',\n",
       " 'GFABuildingRate']"
      ]
     },
     "execution_count": 44,
     "metadata": {},
     "output_type": "execute_result"
    }
   ],
   "source": [
    "columns=list(df.columns)\n",
    "columns"
   ]
  },
  {
   "cell_type": "code",
   "execution_count": 45,
   "id": "92a10543",
   "metadata": {},
   "outputs": [],
   "source": [
    "target1='TotalGHGEmissions'\n",
    "target2='SiteEnergyUse(kBtu)'"
   ]
  },
  {
   "cell_type": "code",
   "execution_count": 46,
   "id": "9fa616ac",
   "metadata": {},
   "outputs": [
    {
     "data": {
      "text/html": [
       "<div>\n",
       "<style scoped>\n",
       "    .dataframe tbody tr th:only-of-type {\n",
       "        vertical-align: middle;\n",
       "    }\n",
       "\n",
       "    .dataframe tbody tr th {\n",
       "        vertical-align: top;\n",
       "    }\n",
       "\n",
       "    .dataframe thead th {\n",
       "        text-align: right;\n",
       "    }\n",
       "</style>\n",
       "<table border=\"1\" class=\"dataframe\">\n",
       "  <thead>\n",
       "    <tr style=\"text-align: right;\">\n",
       "      <th></th>\n",
       "      <th>level_0</th>\n",
       "      <th>level_1</th>\n",
       "      <th>corr_coeff</th>\n",
       "    </tr>\n",
       "  </thead>\n",
       "  <tbody>\n",
       "    <tr>\n",
       "      <th>0</th>\n",
       "      <td>PropertyGFATotal</td>\n",
       "      <td>SiteEnergyUse(kBtu)</td>\n",
       "      <td>0.716380</td>\n",
       "    </tr>\n",
       "    <tr>\n",
       "      <th>2</th>\n",
       "      <td>SiteEnergyUse(kBtu)</td>\n",
       "      <td>SourceEUI(kBtu/sf)</td>\n",
       "      <td>0.732017</td>\n",
       "    </tr>\n",
       "    <tr>\n",
       "      <th>4</th>\n",
       "      <td>TotalGHGEmissions</td>\n",
       "      <td>GHGEmissionsIntensity</td>\n",
       "      <td>0.756458</td>\n",
       "    </tr>\n",
       "    <tr>\n",
       "      <th>6</th>\n",
       "      <td>SiteEnergyUse(kBtu)</td>\n",
       "      <td>TotalGHGEmissions</td>\n",
       "      <td>0.885268</td>\n",
       "    </tr>\n",
       "  </tbody>\n",
       "</table>\n",
       "</div>"
      ],
      "text/plain": [
       "               level_0                level_1  corr_coeff\n",
       "0     PropertyGFATotal    SiteEnergyUse(kBtu)    0.716380\n",
       "2  SiteEnergyUse(kBtu)     SourceEUI(kBtu/sf)    0.732017\n",
       "4    TotalGHGEmissions  GHGEmissionsIntensity    0.756458\n",
       "6  SiteEnergyUse(kBtu)      TotalGHGEmissions    0.885268"
      ]
     },
     "execution_count": 46,
     "metadata": {},
     "output_type": "execute_result"
    }
   ],
   "source": [
    "f_strong_correlation(0.7 ,df)"
   ]
  },
  {
   "cell_type": "code",
   "execution_count": 47,
   "id": "ee01c59f",
   "metadata": {},
   "outputs": [
    {
     "data": {
      "text/plain": [
       "['%SteamUse(kBtu)',\n",
       " '%NaturalGas(kBtu)',\n",
       " 'GHGEmissionsIntensity',\n",
       " 'SiteEnergyUse(kBtu)',\n",
       " 'NumberofBuildings',\n",
       " 'BuildingAge',\n",
       " 'GFABuildingRate',\n",
       " 'BuildingType',\n",
       " 'tranche_date',\n",
       " 'groups_PrimaryPropertyType',\n",
       " 'NumberofFloors',\n",
       " 'ENERGYSTARScore',\n",
       " 'groups_neighborhood']"
      ]
     },
     "execution_count": 47,
     "metadata": {},
     "output_type": "execute_result"
    }
   ],
   "source": [
    "#ici on élimine 'OSEBuildingID' et ''TotalGHGEmissions''(target1)\n",
    "cols=list(set(columns)-set(['OSEBuildingID','PropertyGFATotal','SourceEUI(kBtu/sf)',target1]))\n",
    "cols"
   ]
  },
  {
   "cell_type": "code",
   "execution_count": 48,
   "id": "fcc910b6",
   "metadata": {},
   "outputs": [],
   "source": [
    "df=df[cols]"
   ]
  },
  {
   "cell_type": "code",
   "execution_count": 49,
   "id": "6465213f",
   "metadata": {},
   "outputs": [
    {
     "name": "stdout",
     "output_type": "stream",
     "text": [
      "['%SteamUse(kBtu)', '%NaturalGas(kBtu)', 'GHGEmissionsIntensity', 'SiteEnergyUse(kBtu)', 'NumberofBuildings', 'BuildingAge', 'GFABuildingRate', 'NumberofFloors', 'ENERGYSTARScore']\n"
     ]
    }
   ],
   "source": [
    "numercial_cols = [col for col in df.columns if df[col].dtype!=\"O\"]\n",
    "print(numercial_cols)"
   ]
  },
  {
   "cell_type": "code",
   "execution_count": 50,
   "id": "7520c9d5",
   "metadata": {},
   "outputs": [
    {
     "name": "stdout",
     "output_type": "stream",
     "text": [
      "['BuildingType', 'tranche_date', 'groups_PrimaryPropertyType', 'groups_neighborhood']\n"
     ]
    }
   ],
   "source": [
    "categorical_cols = [col for col in df.columns if df[col].dtype==\"O\"]\n",
    "print(categorical_cols)"
   ]
  },
  {
   "cell_type": "code",
   "execution_count": 51,
   "id": "9fee50f7",
   "metadata": {},
   "outputs": [
    {
     "data": {
      "text/plain": [
       "array(['NonResidential', 'Nonresidential COS', 'SPS-District K-12',\n",
       "       'Campus'], dtype=object)"
      ]
     },
     "execution_count": 51,
     "metadata": {},
     "output_type": "execute_result"
    }
   ],
   "source": [
    "df['BuildingType'].unique()"
   ]
  },
  {
   "cell_type": "code",
   "execution_count": 52,
   "id": "3116472c",
   "metadata": {},
   "outputs": [
    {
     "data": {
      "text/plain": [
       "array(['Various', 'North', 'Central', 'South'], dtype=object)"
      ]
     },
     "execution_count": 52,
     "metadata": {},
     "output_type": "execute_result"
    }
   ],
   "source": [
    "df['groups_neighborhood'].unique()"
   ]
  },
  {
   "cell_type": "code",
   "execution_count": 53,
   "id": "5bd9d724",
   "metadata": {},
   "outputs": [
    {
     "data": {
      "text/plain": [
       "array(['tranche_date1', 'tranche_date3', 'tranche_date2', 'tranche_date4'],\n",
       "      dtype=object)"
      ]
     },
     "execution_count": 53,
     "metadata": {},
     "output_type": "execute_result"
    }
   ],
   "source": [
    "df['tranche_date'].unique()"
   ]
  },
  {
   "cell_type": "code",
   "execution_count": 54,
   "id": "5847dda7",
   "metadata": {},
   "outputs": [
    {
     "data": {
      "text/plain": [
       "array(['Various', 'Commerce', 'Health'], dtype=object)"
      ]
     },
     "execution_count": 54,
     "metadata": {},
     "output_type": "execute_result"
    }
   ],
   "source": [
    "df['groups_PrimaryPropertyType'].unique()"
   ]
  },
  {
   "cell_type": "code",
   "execution_count": 55,
   "id": "a5fb6465",
   "metadata": {},
   "outputs": [
    {
     "data": {
      "text/plain": [
       "(1541, 13)"
      ]
     },
     "execution_count": 55,
     "metadata": {},
     "output_type": "execute_result"
    }
   ],
   "source": [
    "df.shape"
   ]
  },
  {
   "cell_type": "code",
   "execution_count": 56,
   "id": "b91617e0",
   "metadata": {},
   "outputs": [],
   "source": [
    "numercial_cols_for_transformer=list(set(numercial_cols)-set([target2]))"
   ]
  },
  {
   "cell_type": "code",
   "execution_count": 57,
   "id": "2e2d8e75",
   "metadata": {},
   "outputs": [
    {
     "data": {
      "text/plain": [
       "['%SteamUse(kBtu)',\n",
       " '%NaturalGas(kBtu)',\n",
       " 'GHGEmissionsIntensity',\n",
       " 'NumberofBuildings',\n",
       " 'BuildingAge',\n",
       " 'GFABuildingRate',\n",
       " 'NumberofFloors',\n",
       " 'ENERGYSTARScore']"
      ]
     },
     "execution_count": 57,
     "metadata": {},
     "output_type": "execute_result"
    }
   ],
   "source": [
    "numercial_cols_for_transformer"
   ]
  },
  {
   "cell_type": "markdown",
   "id": "1d6f79c0",
   "metadata": {},
   "source": [
    "## 2.Build a pipeline <a class=\"anchor\" id=\"bp\"></a>"
   ]
  },
  {
   "cell_type": "code",
   "execution_count": 58,
   "id": "06b1f9ee",
   "metadata": {},
   "outputs": [],
   "source": [
    "# Create pipelines for numerical and categorical features\n",
    "numeric_transformer = Pipeline(\n",
    "    steps=[(\"scaler\", StandardScaler())]\n",
    ")\n",
    "\n",
    "categorical_transformer = OneHotEncoder(handle_unknown=\"ignore\",drop='first')\n",
    " #when using sklearn.compose.ColumnTransformer You need to make sure the output column is not included in the data you create your Preprocessing pipeline with\n",
    "# Create ColumnTransformer to apply pipeline for each column type\n",
    "preprocessor = ColumnTransformer(\n",
    "    transformers=[\n",
    "        (\"num\", numeric_transformer, numercial_cols_for_transformer),\n",
    "        (\"cat\", categorical_transformer, categorical_cols),\n",
    "    ]\n",
    ")"
   ]
  },
  {
   "cell_type": "code",
   "execution_count": 59,
   "id": "7d35ad36",
   "metadata": {},
   "outputs": [
    {
     "data": {
      "text/plain": [
       "['%SteamUse(kBtu)',\n",
       " '%NaturalGas(kBtu)',\n",
       " 'GHGEmissionsIntensity',\n",
       " 'NumberofBuildings',\n",
       " 'BuildingAge',\n",
       " 'GFABuildingRate',\n",
       " 'NumberofFloors',\n",
       " 'ENERGYSTARScore',\n",
       " 'BuildingType',\n",
       " 'tranche_date',\n",
       " 'groups_PrimaryPropertyType',\n",
       " 'groups_neighborhood']"
      ]
     },
     "execution_count": 59,
     "metadata": {},
     "output_type": "execute_result"
    }
   ],
   "source": [
    "feature_after_transformer(preprocessor)"
   ]
  },
  {
   "cell_type": "code",
   "execution_count": 60,
   "id": "cc242047",
   "metadata": {},
   "outputs": [],
   "source": [
    "y=df[[target2]]\n",
    "y= StandardScaler().fit_transform(y)\n",
    "features=list(set(cols)-set([target2]))\n",
    "X=df[features]"
   ]
  },
  {
   "cell_type": "markdown",
   "id": "9b316fb7",
   "metadata": {},
   "source": [
    "#### Continuous target stratification"
   ]
  },
  {
   "cell_type": "code",
   "execution_count": 61,
   "id": "c539cdcc",
   "metadata": {},
   "outputs": [],
   "source": [
    "import math\n",
    "num_splits = 10\n",
    "\n",
    "num_bins = math.floor(len(df) / num_splits)  # num of bins to be created\n",
    "\n",
    "\n",
    "bins_on = y  # variable to be used for stratification\n",
    "bins_on\n",
    "qc = pd.cut(bins_on.flatten(), num_bins)  # divides data in bins\n",
    "df['bins'] = qc.codes\n",
    "groups = 'bins'\n",
    "y_binned=df['bins']\n",
    "\n"
   ]
  },
  {
   "cell_type": "code",
   "execution_count": 62,
   "id": "677b4499",
   "metadata": {},
   "outputs": [
    {
     "data": {
      "text/plain": [
       "154"
      ]
     },
     "execution_count": 62,
     "metadata": {},
     "output_type": "execute_result"
    }
   ],
   "source": [
    "num_bins"
   ]
  },
  {
   "cell_type": "code",
   "execution_count": 63,
   "id": "c2551a4f",
   "metadata": {},
   "outputs": [],
   "source": [
    "df2 = df[df['bins'].isin(df['bins'].value_counts()[df['bins'].value_counts()>2].index)]"
   ]
  },
  {
   "cell_type": "code",
   "execution_count": 64,
   "id": "74e8fd1e",
   "metadata": {},
   "outputs": [
    {
     "data": {
      "text/plain": [
       "74     42\n",
       "77     42\n",
       "76     41\n",
       "79     41\n",
       "75     41\n",
       "       ..\n",
       "108     4\n",
       "46      3\n",
       "110     3\n",
       "112     3\n",
       "111     3\n",
       "Name: bins, Length: 70, dtype: int64"
      ]
     },
     "execution_count": 64,
     "metadata": {},
     "output_type": "execute_result"
    }
   ],
   "source": [
    "df2.loc[:,'bins'].value_counts()"
   ]
  },
  {
   "cell_type": "code",
   "execution_count": 65,
   "id": "271f9aeb",
   "metadata": {},
   "outputs": [
    {
     "data": {
      "text/plain": [
       "(1541, 14)"
      ]
     },
     "execution_count": 65,
     "metadata": {},
     "output_type": "execute_result"
    }
   ],
   "source": [
    "df.shape #(1541, 14)\n"
   ]
  },
  {
   "cell_type": "code",
   "execution_count": 66,
   "id": "d49f7516",
   "metadata": {},
   "outputs": [
    {
     "data": {
      "text/plain": [
       "(1516, 14)"
      ]
     },
     "execution_count": 66,
     "metadata": {},
     "output_type": "execute_result"
    }
   ],
   "source": [
    "df2.shape#(1516, 14)"
   ]
  },
  {
   "cell_type": "code",
   "execution_count": 67,
   "id": "486ee77c",
   "metadata": {},
   "outputs": [],
   "source": [
    "y2_binned=df2['bins']\n",
    "X2=df2[features]\n",
    "y2=df2[target2]"
   ]
  },
  {
   "cell_type": "code",
   "execution_count": 68,
   "id": "a39c97cf",
   "metadata": {},
   "outputs": [],
   "source": [
    "X_train, X_test, y_train, y_test = train_test_split(X2, y2, test_size=0.2, stratify=y2_binned,random_state=0)"
   ]
  },
  {
   "cell_type": "markdown",
   "id": "c25068b0",
   "metadata": {},
   "source": [
    "## 3.Idée pour choisir le meilleur modèle <a class=\"anchor\" id=\"ic\"></a>"
   ]
  },
  {
   "cell_type": "code",
   "execution_count": 69,
   "id": "162cf4d6",
   "metadata": {},
   "outputs": [],
   "source": [
    "regressors = [DummyRegressor(strategy=\"mean\",constant=None,quantile=0.5),\n",
    "              LinearRegression(fit_intercept=True,normalize=True,copy_X=True),\n",
    "              Ridge(alpha=5,solver='auto',fit_intercept=True),\n",
    "              Lasso(tol=1e-3,selection='random',fit_intercept=True),\n",
    "              ElasticNet(tol=1e-3,selection='random',fit_intercept=True),\n",
    "              RandomForestRegressor(n_estimators=300,max_leaf_nodes=1000,criterion='squared_error'),\n",
    "              SVR(kernel='rbf',degree=3,gamma='scale'),\n",
    "              LGBMRegressor(boosting_type='gbdt',num_leaves=31,max_depth=1),\n",
    "              XGBRegressor(objective ='reg:squarederror',booster=\"dart\",\n",
    "                  n_estimators = 300)\n",
    "              ]"
   ]
  },
  {
   "cell_type": "code",
   "execution_count": 70,
   "id": "8787d5f1",
   "metadata": {},
   "outputs": [
    {
     "name": "stdout",
     "output_type": "stream",
     "text": [
      "DummyRegressor(quantile=0.5)\n",
      "\tTraining time: 0.593s\n",
      "\tPrediction time: 0.020s\n",
      "\tTest Mean squared error: 0.9140754384339492\n",
      "\tTest RMSE: 0.9560729252697983\n",
      "\tTest R2 score: -2.727026014293088e-05\n",
      "\tTraining R2 score (Cross validation): -0.018328718911030828\n",
      "\tTraining adjusted R2 score : -0.010035883473755725\n",
      "\n",
      "LinearRegression(normalize=True)\n",
      "\tTraining time: 1.707s\n",
      "\tPrediction time: 0.022s\n",
      "\tTest Mean squared error: 0.5046089983220425\n",
      "\tTest RMSE: 0.7103583590850765\n",
      "\tTest R2 score: 0.44794188977963545\n",
      "\tTraining R2 score (Cross validation): 0.5146051950663405\n",
      "\tTraining adjusted R2 score : 0.4424167043562457\n",
      "\n",
      "Ridge(alpha=5)\n",
      "\tTraining time: 0.488s\n",
      "\tPrediction time: 0.016s\n",
      "\tTest Mean squared error: 0.5020948756466947\n",
      "\tTest RMSE: 0.7085865336334686\n",
      "\tTest R2 score: 0.45069241903620816\n",
      "\tTraining R2 score (Cross validation): 0.5160408723030111\n",
      "\tTraining adjusted R2 score : 0.44519476184557805\n",
      "\n",
      "Lasso(selection='random', tol=0.001)\n",
      "\tTraining time: 0.078s\n",
      "\tPrediction time: 0.031s\n",
      "\tTest Mean squared error: 0.9140754384339492\n",
      "\tTest RMSE: 0.9560729252697983\n",
      "\tTest R2 score: -2.727026014293088e-05\n",
      "\tTraining R2 score (Cross validation): -0.018328718911030828\n",
      "\tTraining adjusted R2 score : -0.010035883473755725\n",
      "\n",
      "ElasticNet(selection='random', tol=0.001)\n",
      "\tTraining time: 0.019s\n",
      "\tPrediction time: 0.000s\n",
      "\tTest Mean squared error: 0.9140754384339492\n",
      "\tTest RMSE: 0.9560729252697983\n",
      "\tTest R2 score: -2.727026014293088e-05\n",
      "\tTraining R2 score (Cross validation): -0.018328718911030828\n",
      "\tTraining adjusted R2 score : -0.010035883473755725\n",
      "\n",
      "RandomForestRegressor(max_leaf_nodes=1000, n_estimators=300)\n",
      "\tTraining time: 3.511s\n",
      "\tPrediction time: 0.082s\n",
      "\tTest Mean squared error: 0.2940645066428177\n",
      "\tTest RMSE: 0.542277149290672\n",
      "\tTest R2 score: 0.6782841836749973\n",
      "\tTraining R2 score (Cross validation): 0.7013677103967629\n",
      "\tTraining adjusted R2 score : 0.6750643423106104\n",
      "\n",
      "SVR()\n",
      "\tTraining time: 0.197s\n",
      "\tPrediction time: 0.067s\n",
      "\tTest Mean squared error: 0.3449908222711098\n",
      "\tTest RMSE: 0.5873591935699226\n",
      "\tTest R2 score: 0.6225691931383084\n",
      "\tTraining R2 score (Cross validation): 0.6594445782578279\n",
      "\tTraining adjusted R2 score : 0.6187917371897343\n",
      "\n",
      "LGBMRegressor(max_depth=1)\n",
      "\tTraining time: 0.175s\n",
      "\tPrediction time: 0.022s\n",
      "\tTest Mean squared error: 0.3537553970728163\n",
      "\tTest RMSE: 0.594773399769035\n",
      "\tTest R2 score: 0.6129804727270501\n",
      "\tTraining R2 score (Cross validation): 0.6092233322802149\n",
      "\tTraining adjusted R2 score : 0.6091070496017162\n",
      "\n",
      "XGBRegressor(base_score=0.5, booster='dart', callbacks=None,\n",
      "             colsample_bylevel=1, colsample_bynode=1, colsample_bytree=1,\n",
      "             early_stopping_rounds=None, enable_categorical=False,\n",
      "             eval_metric=None, gamma=0, gpu_id=-1, grow_policy='depthwise',\n",
      "             importance_type=None, interaction_constraints='',\n",
      "             learning_rate=0.300000012, max_bin=256, max_cat_to_onehot=4,\n",
      "             max_delta_step=0, max_depth=6, max_leaves=0, min_child_weight=1,\n",
      "             missing=nan, monotone_constraints='()', n_estimators=300, n_jobs=0,\n",
      "             num_parallel_tree=1, predictor='auto', random_state=0, reg_alpha=0,\n",
      "             reg_lambda=1, ...)\n",
      "\tTraining time: 11.604s\n",
      "\tPrediction time: 0.113s\n",
      "\tTest Mean squared error: 0.2744054795795928\n",
      "\tTest RMSE: 0.5238372644052662\n",
      "\tTest R2 score: 0.6997917774067457\n",
      "\tTraining R2 score (Cross validation): 0.681968417787067\n",
      "\tTraining adjusted R2 score : 0.6967871913591068\n",
      "\n"
     ]
    }
   ],
   "source": [
    "test_mse=[]\n",
    "test_rmse=[]\n",
    "test_r2=[]\n",
    "train_r2=[]\n",
    "models=[]\n",
    "for model in regressors:\n",
    "    start = time()\n",
    "    #select=SelectKBest(score_func=f_regression,k=8)\n",
    "    #pip = Pipeline(steps=[(\"preprocessor\", preprocessor),(\"selector\",select),(\"model\", model)])\n",
    "    pip = Pipeline(steps=[(\"preprocessor\", preprocessor),(\"model\", model)])\n",
    "    models.append(model)\n",
    "    pip.fit(X_train, y_train)\n",
    "    train_time = time() - start\n",
    "    start = time()\n",
    "    y_pred = pip.predict(X_test)\n",
    "    predict_time = time()-start    \n",
    "    print(model)\n",
    "    print(\"\\tTraining time: %0.3fs\" % train_time)\n",
    "    print(\"\\tPrediction time: %0.3fs\" % predict_time)\n",
    "    scores = cross_val_score(pip, X_train, y_train, cv=10,scoring='r2')\n",
    "    print(\"\\tTest Mean squared error:\", mean_squared_error(y_test, y_pred))\n",
    "    test_mse.append(mean_squared_error(y_test, y_pred))\n",
    "    print(\"\\tTest RMSE:\", np.sqrt(mean_squared_error(y_test, y_pred)))\n",
    "    test_rmse.append(np.sqrt(mean_squared_error(y_test, y_pred)))\n",
    "    print(\"\\tTest R2 score:\", r2_score(y_test, y_pred))\n",
    "    test_r2.append(r2_score(y_test, y_pred))\n",
    "    print(\"\\tTraining R2 score (Cross validation):\", mean(scores))\n",
    "    adj_r2 = (1 - (1 - r2_score(y_test, y_pred)) * ((X_train.shape[0] - 1) / \n",
    "          (X_train.shape[0] - X_train.shape[1] - 1)))\n",
    "    print(\"\\tTraining adjusted R2 score :\", adj_r2)\n",
    "    train_r2.append(mean(scores))\n",
    "    print()\n"
   ]
  },
  {
   "cell_type": "code",
   "execution_count": 71,
   "id": "3d0bdb41",
   "metadata": {},
   "outputs": [
    {
     "data": {
      "text/html": [
       "<div>\n",
       "<style scoped>\n",
       "    .dataframe tbody tr th:only-of-type {\n",
       "        vertical-align: middle;\n",
       "    }\n",
       "\n",
       "    .dataframe tbody tr th {\n",
       "        vertical-align: top;\n",
       "    }\n",
       "\n",
       "    .dataframe thead th {\n",
       "        text-align: right;\n",
       "    }\n",
       "</style>\n",
       "<table border=\"1\" class=\"dataframe\">\n",
       "  <thead>\n",
       "    <tr style=\"text-align: right;\">\n",
       "      <th></th>\n",
       "      <th>Regressor</th>\n",
       "      <th>Test Mean squared error</th>\n",
       "      <th>Test RMSE</th>\n",
       "      <th>Test R2 score</th>\n",
       "      <th>Training R2 score (Cross validation)</th>\n",
       "    </tr>\n",
       "  </thead>\n",
       "  <tbody>\n",
       "    <tr>\n",
       "      <th>0</th>\n",
       "      <td>DummyRegressor(quantile=0.5)</td>\n",
       "      <td>0.914075</td>\n",
       "      <td>0.956073</td>\n",
       "      <td>-0.000027</td>\n",
       "      <td>-0.018329</td>\n",
       "    </tr>\n",
       "    <tr>\n",
       "      <th>1</th>\n",
       "      <td>LinearRegression(normalize=True)</td>\n",
       "      <td>0.504609</td>\n",
       "      <td>0.710358</td>\n",
       "      <td>0.447942</td>\n",
       "      <td>0.514605</td>\n",
       "    </tr>\n",
       "    <tr>\n",
       "      <th>2</th>\n",
       "      <td>Ridge(alpha=5)</td>\n",
       "      <td>0.502095</td>\n",
       "      <td>0.708587</td>\n",
       "      <td>0.450692</td>\n",
       "      <td>0.516041</td>\n",
       "    </tr>\n",
       "    <tr>\n",
       "      <th>3</th>\n",
       "      <td>Lasso(selection='random', tol=0.001)</td>\n",
       "      <td>0.914075</td>\n",
       "      <td>0.956073</td>\n",
       "      <td>-0.000027</td>\n",
       "      <td>-0.018329</td>\n",
       "    </tr>\n",
       "    <tr>\n",
       "      <th>4</th>\n",
       "      <td>ElasticNet(selection='random', tol=0.001)</td>\n",
       "      <td>0.914075</td>\n",
       "      <td>0.956073</td>\n",
       "      <td>-0.000027</td>\n",
       "      <td>-0.018329</td>\n",
       "    </tr>\n",
       "    <tr>\n",
       "      <th>5</th>\n",
       "      <td>(DecisionTreeRegressor(max_features='auto', ma...</td>\n",
       "      <td>0.294065</td>\n",
       "      <td>0.542277</td>\n",
       "      <td>0.678284</td>\n",
       "      <td>0.701368</td>\n",
       "    </tr>\n",
       "    <tr>\n",
       "      <th>6</th>\n",
       "      <td>SVR()</td>\n",
       "      <td>0.344991</td>\n",
       "      <td>0.587359</td>\n",
       "      <td>0.622569</td>\n",
       "      <td>0.659445</td>\n",
       "    </tr>\n",
       "    <tr>\n",
       "      <th>7</th>\n",
       "      <td>LGBMRegressor(max_depth=1)</td>\n",
       "      <td>0.353755</td>\n",
       "      <td>0.594773</td>\n",
       "      <td>0.612980</td>\n",
       "      <td>0.609223</td>\n",
       "    </tr>\n",
       "    <tr>\n",
       "      <th>8</th>\n",
       "      <td>XGBRegressor(base_score=0.5, booster='dart', c...</td>\n",
       "      <td>0.274405</td>\n",
       "      <td>0.523837</td>\n",
       "      <td>0.699792</td>\n",
       "      <td>0.681968</td>\n",
       "    </tr>\n",
       "  </tbody>\n",
       "</table>\n",
       "</div>"
      ],
      "text/plain": [
       "                                           Regressor  Test Mean squared error  \\\n",
       "0                       DummyRegressor(quantile=0.5)                 0.914075   \n",
       "1                   LinearRegression(normalize=True)                 0.504609   \n",
       "2                                     Ridge(alpha=5)                 0.502095   \n",
       "3               Lasso(selection='random', tol=0.001)                 0.914075   \n",
       "4          ElasticNet(selection='random', tol=0.001)                 0.914075   \n",
       "5  (DecisionTreeRegressor(max_features='auto', ma...                 0.294065   \n",
       "6                                              SVR()                 0.344991   \n",
       "7                         LGBMRegressor(max_depth=1)                 0.353755   \n",
       "8  XGBRegressor(base_score=0.5, booster='dart', c...                 0.274405   \n",
       "\n",
       "   Test RMSE  Test R2 score  Training R2 score (Cross validation)  \n",
       "0   0.956073      -0.000027                             -0.018329  \n",
       "1   0.710358       0.447942                              0.514605  \n",
       "2   0.708587       0.450692                              0.516041  \n",
       "3   0.956073      -0.000027                             -0.018329  \n",
       "4   0.956073      -0.000027                             -0.018329  \n",
       "5   0.542277       0.678284                              0.701368  \n",
       "6   0.587359       0.622569                              0.659445  \n",
       "7   0.594773       0.612980                              0.609223  \n",
       "8   0.523837       0.699792                              0.681968  "
      ]
     },
     "execution_count": 71,
     "metadata": {},
     "output_type": "execute_result"
    }
   ],
   "source": [
    "d={'Regressor':models,'Test Mean squared error':test_mse,'Test RMSE':test_rmse,'Test R2 score':test_r2,\n",
    "  'Training R2 score (Cross validation)':train_r2}\n",
    "pd.DataFrame(d)"
   ]
  },
  {
   "cell_type": "markdown",
   "id": "24be7158",
   "metadata": {},
   "source": [
    "**Note**\n",
    "<br>\n",
    "Dans la suite en se basant sur le coefficient de détermination (R2 score), on va travailler sur RandmForestRgressor et XGBRegressor."
   ]
  },
  {
   "cell_type": "markdown",
   "id": "16c7ab98",
   "metadata": {},
   "source": [
    "## 4.Modèles de machine learning choisis<a class=\"anchor\" id=\"mml\"></a>"
   ]
  },
  {
   "cell_type": "code",
   "execution_count": 72,
   "id": "a5d8adab",
   "metadata": {},
   "outputs": [],
   "source": [
    "def f_performance(pip):\n",
    "    #pip.fit(X_train,y_train)\n",
    "  \n",
    "    \n",
    "    print('******************')\n",
    "    #Check MSE and RMSE\n",
    "\n",
    "    y_pred = pip.predict(X_test)\n",
    "    print(f'MSE : {mean_squared_error(y_test, y_pred):.3f}')\n",
    "    print(f'RMSE : {np.sqrt(mean_squared_error(y_test, y_pred)):.3f}')\n",
    "    print(f'R2 : {r2_score(y_test, y_pred):.3f}')"
   ]
  },
  {
   "cell_type": "code",
   "execution_count": 73,
   "id": "a1273fcd",
   "metadata": {},
   "outputs": [],
   "source": [
    "font = {\n",
    "        'weight' : 'bold',\n",
    "        'size'   : 12}\n",
    "\n",
    "plt.rc('font', **font)"
   ]
  },
  {
   "cell_type": "markdown",
   "id": "3bf6fa74",
   "metadata": {},
   "source": [
    "##### "
   ]
  },
  {
   "cell_type": "markdown",
   "id": "485c36b5",
   "metadata": {},
   "source": [
    "## 4.1.RandomForestRegressor"
   ]
  },
  {
   "cell_type": "code",
   "execution_count": 74,
   "id": "99f6a618",
   "metadata": {},
   "outputs": [
    {
     "data": {
      "text/plain": [
       "Pipeline(steps=[('preprocessor',\n",
       "                 ColumnTransformer(transformers=[('num',\n",
       "                                                  Pipeline(steps=[('scaler',\n",
       "                                                                   StandardScaler())]),\n",
       "                                                  ['%SteamUse(kBtu)',\n",
       "                                                   '%NaturalGas(kBtu)',\n",
       "                                                   'GHGEmissionsIntensity',\n",
       "                                                   'NumberofBuildings',\n",
       "                                                   'BuildingAge',\n",
       "                                                   'GFABuildingRate',\n",
       "                                                   'NumberofFloors',\n",
       "                                                   'ENERGYSTARScore']),\n",
       "                                                 ('cat',\n",
       "                                                  OneHotEncoder(drop='first',\n",
       "                                                                handle_unknown='ignore'),\n",
       "                                                  ['BuildingType',\n",
       "                                                   'tranche_date',\n",
       "                                                   'groups_PrimaryPropertyType',\n",
       "                                                   'groups_neighborhood'])])),\n",
       "                ('model',\n",
       "                 RandomForestRegressor(max_leaf_nodes=1000, n_estimators=300))])"
      ]
     },
     "execution_count": 74,
     "metadata": {},
     "output_type": "execute_result"
    }
   ],
   "source": [
    "clf_rf = Pipeline(\n",
    "    steps=[(\"preprocessor\", preprocessor), (\"model\", RandomForestRegressor(n_estimators=300,max_leaf_nodes=1000,criterion='squared_error'))]\n",
    ")\n",
    "clf_rf.fit(X_train,y_train)"
   ]
  },
  {
   "cell_type": "code",
   "execution_count": 75,
   "id": "1ffe8e4e",
   "metadata": {},
   "outputs": [
    {
     "name": "stdout",
     "output_type": "stream",
     "text": [
      "******************\n",
      "MSE : 0.296\n",
      "RMSE : 0.544\n",
      "R2 : 0.677\n"
     ]
    }
   ],
   "source": [
    "f_performance(clf_rf)"
   ]
  },
  {
   "cell_type": "code",
   "execution_count": 98,
   "id": "bdb930c9",
   "metadata": {},
   "outputs": [
    {
     "data": {
      "text/plain": [
       "<BarContainer object of 19 artists>"
      ]
     },
     "execution_count": 98,
     "metadata": {},
     "output_type": "execute_result"
    },
    {
     "data": {
      "image/png": "[encoded data removed]",
      "text/plain": [
       "<Figure size 432x288 with 1 Axes>"
      ]
     },
     "metadata": {
      "needs_background": "light"
     },
     "output_type": "display_data"
    }
   ],
   "source": [
    "plt.barh(feature_after_transformer(preprocessor), clf_rf['model'].feature_importances_)"
   ]
  },
  {
   "cell_type": "markdown",
   "id": "11d9dc23",
   "metadata": {},
   "source": [
    "**Observations:**\n",
    "<br>\n",
    "Les variables les plus importantes sont:'GHGEmissionsIntensity', 'NumberofFloors','%NaturalGas(kBtu)'et 'BuildingAge."
   ]
  },
  {
   "cell_type": "code",
   "execution_count": 100,
   "id": "3014ccd2",
   "metadata": {},
   "outputs": [
    {
     "data": {
      "text/plain": [
       "list"
      ]
     },
     "execution_count": 100,
     "metadata": {},
     "output_type": "execute_result"
    }
   ],
   "source": []
  },
  {
   "cell_type": "markdown",
   "id": "4f1b6b13",
   "metadata": {},
   "source": [
    "### 4.5.2.Optimisation du modèle"
   ]
  },
  {
   "cell_type": "code",
   "execution_count": 77,
   "id": "41666b33",
   "metadata": {},
   "outputs": [
    {
     "data": {
      "text/plain": [
       "['memory',\n",
       " 'steps',\n",
       " 'verbose',\n",
       " 'preprocessor',\n",
       " 'model',\n",
       " 'preprocessor__n_jobs',\n",
       " 'preprocessor__remainder',\n",
       " 'preprocessor__sparse_threshold',\n",
       " 'preprocessor__transformer_weights',\n",
       " 'preprocessor__transformers',\n",
       " 'preprocessor__verbose',\n",
       " 'preprocessor__verbose_feature_names_out',\n",
       " 'preprocessor__num',\n",
       " 'preprocessor__cat',\n",
       " 'preprocessor__num__memory',\n",
       " 'preprocessor__num__steps',\n",
       " 'preprocessor__num__verbose',\n",
       " 'preprocessor__num__scaler',\n",
       " 'preprocessor__num__scaler__copy',\n",
       " 'preprocessor__num__scaler__with_mean',\n",
       " 'preprocessor__num__scaler__with_std',\n",
       " 'preprocessor__cat__categories',\n",
       " 'preprocessor__cat__drop',\n",
       " 'preprocessor__cat__dtype',\n",
       " 'preprocessor__cat__handle_unknown',\n",
       " 'preprocessor__cat__sparse',\n",
       " 'model__bootstrap',\n",
       " 'model__ccp_alpha',\n",
       " 'model__criterion',\n",
       " 'model__max_depth',\n",
       " 'model__max_features',\n",
       " 'model__max_leaf_nodes',\n",
       " 'model__max_samples',\n",
       " 'model__min_impurity_decrease',\n",
       " 'model__min_samples_leaf',\n",
       " 'model__min_samples_split',\n",
       " 'model__min_weight_fraction_leaf',\n",
       " 'model__n_estimators',\n",
       " 'model__n_jobs',\n",
       " 'model__oob_score',\n",
       " 'model__random_state',\n",
       " 'model__verbose',\n",
       " 'model__warm_start']"
      ]
     },
     "execution_count": 77,
     "metadata": {},
     "output_type": "execute_result"
    }
   ],
   "source": [
    "list(clf_rf.get_params().keys())"
   ]
  },
  {
   "cell_type": "code",
   "execution_count": 78,
   "id": "9237199e",
   "metadata": {},
   "outputs": [
    {
     "data": {
      "text/plain": [
       "GridSearchCV(cv=10,\n",
       "             estimator=Pipeline(steps=[('preprocessor',\n",
       "                                        ColumnTransformer(transformers=[('num',\n",
       "                                                                         Pipeline(steps=[('scaler',\n",
       "                                                                                          StandardScaler())]),\n",
       "                                                                         ['%SteamUse(kBtu)',\n",
       "                                                                          '%NaturalGas(kBtu)',\n",
       "                                                                          'GHGEmissionsIntensity',\n",
       "                                                                          'NumberofBuildings',\n",
       "                                                                          'BuildingAge',\n",
       "                                                                          'GFABuildingRate',\n",
       "                                                                          'NumberofFloors',\n",
       "                                                                          'ENERGYSTARScore']),\n",
       "                                                                        ('cat',\n",
       "                                                                         OneHotEncoder(drop='first',\n",
       "                                                                                       handle_unknown='ignore'),\n",
       "                                                                         ['BuildingType',\n",
       "                                                                          'tranche_date',\n",
       "                                                                          'groups_PrimaryPropertyType',\n",
       "                                                                          'groups_neighborhood'])])),\n",
       "                                       ('model',\n",
       "                                        RandomForestRegressor(max_leaf_nodes=1000,\n",
       "                                                              n_estimators=300))]),\n",
       "             param_grid={'model__criterion': ['squared_error', 'absolute_error',\n",
       "                                              'poisson'],\n",
       "                         'model__n_estimators': [1000, 500, 100]})"
      ]
     },
     "execution_count": 78,
     "metadata": {},
     "output_type": "execute_result"
    }
   ],
   "source": [
    "param_grid = {\n",
    "    \n",
    "    #\"model__max_leaf_nodes\": [1000,5000,100000,None],\n",
    "    \"model__n_estimators\": [1000,500,100],\n",
    "     \"model__criterion\": ['squared_error', 'absolute_error', 'poisson']\n",
    "    \n",
    "}\n",
    "grid_search_rf = GridSearchCV(clf_rf, param_grid, cv=10)\n",
    "grid_search_rf.fit(X_train,y_train)"
   ]
  },
  {
   "cell_type": "code",
   "execution_count": 79,
   "id": "7023f270",
   "metadata": {},
   "outputs": [
    {
     "data": {
      "text/html": [
       "<div>\n",
       "<style scoped>\n",
       "    .dataframe tbody tr th:only-of-type {\n",
       "        vertical-align: middle;\n",
       "    }\n",
       "\n",
       "    .dataframe tbody tr th {\n",
       "        vertical-align: top;\n",
       "    }\n",
       "\n",
       "    .dataframe thead th {\n",
       "        text-align: right;\n",
       "    }\n",
       "</style>\n",
       "<table border=\"1\" class=\"dataframe\">\n",
       "  <thead>\n",
       "    <tr style=\"text-align: right;\">\n",
       "      <th></th>\n",
       "      <th>mean_fit_time</th>\n",
       "      <th>std_fit_time</th>\n",
       "      <th>mean_score_time</th>\n",
       "      <th>std_score_time</th>\n",
       "      <th>param_model__criterion</th>\n",
       "      <th>param_model__n_estimators</th>\n",
       "      <th>params</th>\n",
       "      <th>split0_test_score</th>\n",
       "      <th>split1_test_score</th>\n",
       "      <th>split2_test_score</th>\n",
       "      <th>split3_test_score</th>\n",
       "      <th>split4_test_score</th>\n",
       "      <th>split5_test_score</th>\n",
       "      <th>split6_test_score</th>\n",
       "      <th>split7_test_score</th>\n",
       "      <th>split8_test_score</th>\n",
       "      <th>split9_test_score</th>\n",
       "      <th>mean_test_score</th>\n",
       "      <th>std_test_score</th>\n",
       "      <th>rank_test_score</th>\n",
       "    </tr>\n",
       "  </thead>\n",
       "  <tbody>\n",
       "    <tr>\n",
       "      <th>0</th>\n",
       "      <td>8.844669</td>\n",
       "      <td>0.732638</td>\n",
       "      <td>0.182778</td>\n",
       "      <td>0.027314</td>\n",
       "      <td>squared_error</td>\n",
       "      <td>1000</td>\n",
       "      <td>{'model__criterion': 'squared_error', 'model__...</td>\n",
       "      <td>0.624181</td>\n",
       "      <td>0.661748</td>\n",
       "      <td>0.647488</td>\n",
       "      <td>0.751870</td>\n",
       "      <td>0.774969</td>\n",
       "      <td>0.582745</td>\n",
       "      <td>0.746415</td>\n",
       "      <td>0.736967</td>\n",
       "      <td>0.774253</td>\n",
       "      <td>0.733326</td>\n",
       "      <td>0.703396</td>\n",
       "      <td>0.064853</td>\n",
       "      <td>4</td>\n",
       "    </tr>\n",
       "    <tr>\n",
       "      <th>1</th>\n",
       "      <td>4.146202</td>\n",
       "      <td>0.332278</td>\n",
       "      <td>0.095134</td>\n",
       "      <td>0.015842</td>\n",
       "      <td>squared_error</td>\n",
       "      <td>500</td>\n",
       "      <td>{'model__criterion': 'squared_error', 'model__...</td>\n",
       "      <td>0.622905</td>\n",
       "      <td>0.661980</td>\n",
       "      <td>0.642846</td>\n",
       "      <td>0.753902</td>\n",
       "      <td>0.774774</td>\n",
       "      <td>0.582769</td>\n",
       "      <td>0.748038</td>\n",
       "      <td>0.736781</td>\n",
       "      <td>0.772836</td>\n",
       "      <td>0.734030</td>\n",
       "      <td>0.703086</td>\n",
       "      <td>0.065516</td>\n",
       "      <td>5</td>\n",
       "    </tr>\n",
       "    <tr>\n",
       "      <th>2</th>\n",
       "      <td>0.790881</td>\n",
       "      <td>0.032052</td>\n",
       "      <td>0.026582</td>\n",
       "      <td>0.010013</td>\n",
       "      <td>squared_error</td>\n",
       "      <td>100</td>\n",
       "      <td>{'model__criterion': 'squared_error', 'model__...</td>\n",
       "      <td>0.608277</td>\n",
       "      <td>0.654883</td>\n",
       "      <td>0.649451</td>\n",
       "      <td>0.751526</td>\n",
       "      <td>0.774438</td>\n",
       "      <td>0.574936</td>\n",
       "      <td>0.752608</td>\n",
       "      <td>0.734508</td>\n",
       "      <td>0.775917</td>\n",
       "      <td>0.724952</td>\n",
       "      <td>0.700149</td>\n",
       "      <td>0.068691</td>\n",
       "      <td>6</td>\n",
       "    </tr>\n",
       "    <tr>\n",
       "      <th>3</th>\n",
       "      <td>68.922592</td>\n",
       "      <td>2.001157</td>\n",
       "      <td>0.178627</td>\n",
       "      <td>0.013059</td>\n",
       "      <td>absolute_error</td>\n",
       "      <td>1000</td>\n",
       "      <td>{'model__criterion': 'absolute_error', 'model_...</td>\n",
       "      <td>0.632347</td>\n",
       "      <td>0.662965</td>\n",
       "      <td>0.651835</td>\n",
       "      <td>0.753200</td>\n",
       "      <td>0.771413</td>\n",
       "      <td>0.585318</td>\n",
       "      <td>0.752070</td>\n",
       "      <td>0.734678</td>\n",
       "      <td>0.779210</td>\n",
       "      <td>0.741946</td>\n",
       "      <td>0.706498</td>\n",
       "      <td>0.063934</td>\n",
       "      <td>2</td>\n",
       "    </tr>\n",
       "    <tr>\n",
       "      <th>4</th>\n",
       "      <td>33.568101</td>\n",
       "      <td>0.433016</td>\n",
       "      <td>0.093479</td>\n",
       "      <td>0.008229</td>\n",
       "      <td>absolute_error</td>\n",
       "      <td>500</td>\n",
       "      <td>{'model__criterion': 'absolute_error', 'model_...</td>\n",
       "      <td>0.643312</td>\n",
       "      <td>0.668268</td>\n",
       "      <td>0.648941</td>\n",
       "      <td>0.752984</td>\n",
       "      <td>0.772623</td>\n",
       "      <td>0.583689</td>\n",
       "      <td>0.749809</td>\n",
       "      <td>0.737616</td>\n",
       "      <td>0.779016</td>\n",
       "      <td>0.737514</td>\n",
       "      <td>0.707377</td>\n",
       "      <td>0.062801</td>\n",
       "      <td>1</td>\n",
       "    </tr>\n",
       "    <tr>\n",
       "      <th>5</th>\n",
       "      <td>6.674011</td>\n",
       "      <td>0.140352</td>\n",
       "      <td>0.023441</td>\n",
       "      <td>0.007811</td>\n",
       "      <td>absolute_error</td>\n",
       "      <td>100</td>\n",
       "      <td>{'model__criterion': 'absolute_error', 'model_...</td>\n",
       "      <td>0.631866</td>\n",
       "      <td>0.655629</td>\n",
       "      <td>0.650431</td>\n",
       "      <td>0.750535</td>\n",
       "      <td>0.775101</td>\n",
       "      <td>0.580640</td>\n",
       "      <td>0.747583</td>\n",
       "      <td>0.734516</td>\n",
       "      <td>0.777971</td>\n",
       "      <td>0.742358</td>\n",
       "      <td>0.704663</td>\n",
       "      <td>0.065284</td>\n",
       "      <td>3</td>\n",
       "    </tr>\n",
       "    <tr>\n",
       "      <th>6</th>\n",
       "      <td>0.018741</td>\n",
       "      <td>0.009353</td>\n",
       "      <td>0.000000</td>\n",
       "      <td>0.000000</td>\n",
       "      <td>poisson</td>\n",
       "      <td>1000</td>\n",
       "      <td>{'model__criterion': 'poisson', 'model__n_esti...</td>\n",
       "      <td>NaN</td>\n",
       "      <td>NaN</td>\n",
       "      <td>NaN</td>\n",
       "      <td>NaN</td>\n",
       "      <td>NaN</td>\n",
       "      <td>NaN</td>\n",
       "      <td>NaN</td>\n",
       "      <td>NaN</td>\n",
       "      <td>NaN</td>\n",
       "      <td>NaN</td>\n",
       "      <td>NaN</td>\n",
       "      <td>NaN</td>\n",
       "      <td>7</td>\n",
       "    </tr>\n",
       "    <tr>\n",
       "      <th>7</th>\n",
       "      <td>0.014061</td>\n",
       "      <td>0.004687</td>\n",
       "      <td>0.000000</td>\n",
       "      <td>0.000000</td>\n",
       "      <td>poisson</td>\n",
       "      <td>500</td>\n",
       "      <td>{'model__criterion': 'poisson', 'model__n_esti...</td>\n",
       "      <td>NaN</td>\n",
       "      <td>NaN</td>\n",
       "      <td>NaN</td>\n",
       "      <td>NaN</td>\n",
       "      <td>NaN</td>\n",
       "      <td>NaN</td>\n",
       "      <td>NaN</td>\n",
       "      <td>NaN</td>\n",
       "      <td>NaN</td>\n",
       "      <td>NaN</td>\n",
       "      <td>NaN</td>\n",
       "      <td>NaN</td>\n",
       "      <td>8</td>\n",
       "    </tr>\n",
       "    <tr>\n",
       "      <th>8</th>\n",
       "      <td>0.012499</td>\n",
       "      <td>0.006250</td>\n",
       "      <td>0.000000</td>\n",
       "      <td>0.000000</td>\n",
       "      <td>poisson</td>\n",
       "      <td>100</td>\n",
       "      <td>{'model__criterion': 'poisson', 'model__n_esti...</td>\n",
       "      <td>NaN</td>\n",
       "      <td>NaN</td>\n",
       "      <td>NaN</td>\n",
       "      <td>NaN</td>\n",
       "      <td>NaN</td>\n",
       "      <td>NaN</td>\n",
       "      <td>NaN</td>\n",
       "      <td>NaN</td>\n",
       "      <td>NaN</td>\n",
       "      <td>NaN</td>\n",
       "      <td>NaN</td>\n",
       "      <td>NaN</td>\n",
       "      <td>9</td>\n",
       "    </tr>\n",
       "  </tbody>\n",
       "</table>\n",
       "</div>"
      ],
      "text/plain": [
       "   mean_fit_time  std_fit_time  mean_score_time  std_score_time  \\\n",
       "0       8.844669      0.732638         0.182778        0.027314   \n",
       "1       4.146202      0.332278         0.095134        0.015842   \n",
       "2       0.790881      0.032052         0.026582        0.010013   \n",
       "3      68.922592      2.001157         0.178627        0.013059   \n",
       "4      33.568101      0.433016         0.093479        0.008229   \n",
       "5       6.674011      0.140352         0.023441        0.007811   \n",
       "6       0.018741      0.009353         0.000000        0.000000   \n",
       "7       0.014061      0.004687         0.000000        0.000000   \n",
       "8       0.012499      0.006250         0.000000        0.000000   \n",
       "\n",
       "  param_model__criterion param_model__n_estimators  \\\n",
       "0          squared_error                      1000   \n",
       "1          squared_error                       500   \n",
       "2          squared_error                       100   \n",
       "3         absolute_error                      1000   \n",
       "4         absolute_error                       500   \n",
       "5         absolute_error                       100   \n",
       "6                poisson                      1000   \n",
       "7                poisson                       500   \n",
       "8                poisson                       100   \n",
       "\n",
       "                                              params  split0_test_score  \\\n",
       "0  {'model__criterion': 'squared_error', 'model__...           0.624181   \n",
       "1  {'model__criterion': 'squared_error', 'model__...           0.622905   \n",
       "2  {'model__criterion': 'squared_error', 'model__...           0.608277   \n",
       "3  {'model__criterion': 'absolute_error', 'model_...           0.632347   \n",
       "4  {'model__criterion': 'absolute_error', 'model_...           0.643312   \n",
       "5  {'model__criterion': 'absolute_error', 'model_...           0.631866   \n",
       "6  {'model__criterion': 'poisson', 'model__n_esti...                NaN   \n",
       "7  {'model__criterion': 'poisson', 'model__n_esti...                NaN   \n",
       "8  {'model__criterion': 'poisson', 'model__n_esti...                NaN   \n",
       "\n",
       "   split1_test_score  split2_test_score  split3_test_score  split4_test_score  \\\n",
       "0           0.661748           0.647488           0.751870           0.774969   \n",
       "1           0.661980           0.642846           0.753902           0.774774   \n",
       "2           0.654883           0.649451           0.751526           0.774438   \n",
       "3           0.662965           0.651835           0.753200           0.771413   \n",
       "4           0.668268           0.648941           0.752984           0.772623   \n",
       "5           0.655629           0.650431           0.750535           0.775101   \n",
       "6                NaN                NaN                NaN                NaN   \n",
       "7                NaN                NaN                NaN                NaN   \n",
       "8                NaN                NaN                NaN                NaN   \n",
       "\n",
       "   split5_test_score  split6_test_score  split7_test_score  split8_test_score  \\\n",
       "0           0.582745           0.746415           0.736967           0.774253   \n",
       "1           0.582769           0.748038           0.736781           0.772836   \n",
       "2           0.574936           0.752608           0.734508           0.775917   \n",
       "3           0.585318           0.752070           0.734678           0.779210   \n",
       "4           0.583689           0.749809           0.737616           0.779016   \n",
       "5           0.580640           0.747583           0.734516           0.777971   \n",
       "6                NaN                NaN                NaN                NaN   \n",
       "7                NaN                NaN                NaN                NaN   \n",
       "8                NaN                NaN                NaN                NaN   \n",
       "\n",
       "   split9_test_score  mean_test_score  std_test_score  rank_test_score  \n",
       "0           0.733326         0.703396        0.064853                4  \n",
       "1           0.734030         0.703086        0.065516                5  \n",
       "2           0.724952         0.700149        0.068691                6  \n",
       "3           0.741946         0.706498        0.063934                2  \n",
       "4           0.737514         0.707377        0.062801                1  \n",
       "5           0.742358         0.704663        0.065284                3  \n",
       "6                NaN              NaN             NaN                7  \n",
       "7                NaN              NaN             NaN                8  \n",
       "8                NaN              NaN             NaN                9  "
      ]
     },
     "execution_count": 79,
     "metadata": {},
     "output_type": "execute_result"
    }
   ],
   "source": [
    "cv_results = pd.DataFrame(grid_search_rf.cv_results_)\n",
    "cv_results"
   ]
  },
  {
   "cell_type": "code",
   "execution_count": 80,
   "id": "15e1b558",
   "metadata": {},
   "outputs": [
    {
     "data": {
      "text/plain": [
       "{'model__criterion': 'absolute_error', 'model__n_estimators': 500}"
      ]
     },
     "execution_count": 80,
     "metadata": {},
     "output_type": "execute_result"
    }
   ],
   "source": [
    "grid_search_rf.best_params_"
   ]
  },
  {
   "cell_type": "code",
   "execution_count": 81,
   "id": "f02042c7",
   "metadata": {},
   "outputs": [
    {
     "name": "stdout",
     "output_type": "stream",
     "text": [
      "******************\n",
      "MSE : 0.295\n",
      "RMSE : 0.543\n",
      "R2 : 0.677\n"
     ]
    }
   ],
   "source": [
    "best_estim_rf=grid_search_rf.best_estimator_\n",
    "f_performance(best_estim_rf)"
   ]
  },
  {
   "cell_type": "code",
   "execution_count": 101,
   "id": "f33a2374",
   "metadata": {},
   "outputs": [
    {
     "data": {
      "text/plain": [
       "<BarContainer object of 19 artists>"
      ]
     },
     "execution_count": 101,
     "metadata": {},
     "output_type": "execute_result"
    },
    {
     "data": {
      "image/png": "[encoded data removed]",
      "text/plain": [
       "<Figure size 432x288 with 1 Axes>"
      ]
     },
     "metadata": {
      "needs_background": "light"
     },
     "output_type": "display_data"
    }
   ],
   "source": [
    "plt.barh(feature_after_transformer(preprocessor), best_estim_rf['model'].feature_importances_)"
   ]
  },
  {
   "cell_type": "code",
   "execution_count": 83,
   "id": "0db66255",
   "metadata": {},
   "outputs": [],
   "source": [
    "save_model_grid(grid_search_rf,'grid_search_rf_target2','gridsearch')\n",
    "save_model_grid(best_estim_rf,'best_rf_target2','model')"
   ]
  },
  {
   "cell_type": "markdown",
   "id": "f26d658c",
   "metadata": {},
   "source": [
    "## 4.6.XGBRegressor"
   ]
  },
  {
   "cell_type": "code",
   "execution_count": 84,
   "id": "617f06f2",
   "metadata": {},
   "outputs": [
    {
     "data": {
      "text/plain": [
       "Pipeline(steps=[('preprocessor',\n",
       "                 ColumnTransformer(transformers=[('num',\n",
       "                                                  Pipeline(steps=[('scaler',\n",
       "                                                                   StandardScaler())]),\n",
       "                                                  ['%SteamUse(kBtu)',\n",
       "                                                   '%NaturalGas(kBtu)',\n",
       "                                                   'GHGEmissionsIntensity',\n",
       "                                                   'NumberofBuildings',\n",
       "                                                   'BuildingAge',\n",
       "                                                   'GFABuildingRate',\n",
       "                                                   'NumberofFloors',\n",
       "                                                   'ENERGYSTARScore']),\n",
       "                                                 ('cat',\n",
       "                                                  OneHotEncoder(drop='first',\n",
       "                                                                handle_unknown='ignore'),\n",
       "                                                  ['BuildingType',\n",
       "                                                   'tranc...\n",
       "                              gamma=0, gpu_id=-1, grow_policy='depthwise',\n",
       "                              importance_type=None, interaction_constraints='',\n",
       "                              learning_rate=0.300000012, max_bin=256,\n",
       "                              max_cat_to_onehot=4, max_delta_step=0,\n",
       "                              max_depth=6, max_leaves=0, min_child_weight=1,\n",
       "                              missing=nan, monotone_constraints='()',\n",
       "                              n_estimators=10, n_jobs=0, num_parallel_tree=1,\n",
       "                              predictor='auto', random_state=123, reg_alpha=0,\n",
       "                              reg_lambda=1, ...))])"
      ]
     },
     "execution_count": 84,
     "metadata": {},
     "output_type": "execute_result"
    }
   ],
   "source": [
    "clf_xg = Pipeline(\n",
    "    steps=[(\"preprocessor\", preprocessor), (\"model\", XGBRegressor(objective ='reg:squarederror',\n",
    "                  n_estimators = 10, seed = 123))]\n",
    ")\n",
    "clf_xg.fit(X_train,y_train)\n"
   ]
  },
  {
   "cell_type": "code",
   "execution_count": null,
   "id": "64825f02",
   "metadata": {},
   "outputs": [],
   "source": []
  },
  {
   "cell_type": "code",
   "execution_count": 85,
   "id": "ecc15ac9",
   "metadata": {},
   "outputs": [
    {
     "name": "stdout",
     "output_type": "stream",
     "text": [
      "******************\n",
      "MSE : 0.293\n",
      "RMSE : 0.541\n",
      "R2 : 0.680\n"
     ]
    }
   ],
   "source": [
    "f_performance(clf_xg)"
   ]
  },
  {
   "cell_type": "markdown",
   "id": "e4197846",
   "metadata": {},
   "source": [
    "### 4.6.2.Optimisation du modèle"
   ]
  },
  {
   "cell_type": "code",
   "execution_count": 86,
   "id": "e06705d8",
   "metadata": {},
   "outputs": [],
   "source": [
    "#list(clf_xg.get_params().keys())"
   ]
  },
  {
   "cell_type": "code",
   "execution_count": 87,
   "id": "6d7647d0",
   "metadata": {},
   "outputs": [
    {
     "data": {
      "text/plain": [
       "GridSearchCV(cv=10,\n",
       "             estimator=Pipeline(steps=[('preprocessor',\n",
       "                                        ColumnTransformer(transformers=[('num',\n",
       "                                                                         Pipeline(steps=[('scaler',\n",
       "                                                                                          StandardScaler())]),\n",
       "                                                                         ['%SteamUse(kBtu)',\n",
       "                                                                          '%NaturalGas(kBtu)',\n",
       "                                                                          'GHGEmissionsIntensity',\n",
       "                                                                          'NumberofBuildings',\n",
       "                                                                          'BuildingAge',\n",
       "                                                                          'GFABuildingRate',\n",
       "                                                                          'NumberofFloors',\n",
       "                                                                          'ENERGYSTARScore']),\n",
       "                                                                        ('cat',\n",
       "                                                                         OneHotEncoder(drop='first',\n",
       "                                                                                       handle_unknown='ig...\n",
       "                                                     max_cat_to_onehot=4,\n",
       "                                                     max_delta_step=0,\n",
       "                                                     max_depth=6, max_leaves=0,\n",
       "                                                     min_child_weight=1,\n",
       "                                                     missing=nan,\n",
       "                                                     monotone_constraints='()',\n",
       "                                                     n_estimators=10, n_jobs=0,\n",
       "                                                     num_parallel_tree=1,\n",
       "                                                     predictor='auto',\n",
       "                                                     random_state=123,\n",
       "                                                     reg_alpha=0, reg_lambda=1, ...))]),\n",
       "             param_grid={'model__booster': ['squarederror', 'gbtree'],\n",
       "                         'model__learning_rate': [0.3, 0.5, 0.1, 0.01, 0.001],\n",
       "                         'model__n_estimators': [1500, 1000]})"
      ]
     },
     "execution_count": 87,
     "metadata": {},
     "output_type": "execute_result"
    }
   ],
   "source": [
    "param_grid = {\n",
    "    \n",
    "    \"model__booster\": ['squarederror','gbtree'],\n",
    "    \"model__n_estimators\": [1500,1000],\n",
    "    \n",
    "    #\"model__max_leaves\": [10000, 1500,1000,100],\n",
    "    \"model__learning_rate\": [0.3, 0.5,0.1,0.01,0.001]\n",
    "    \n",
    "}\n",
    "\n",
    "\n",
    "grid_search_xg = GridSearchCV(clf_xg, param_grid, cv=10)\n",
    "grid_search_xg.fit(X_train,y_train)"
   ]
  },
  {
   "cell_type": "code",
   "execution_count": 88,
   "id": "811fb9b7",
   "metadata": {},
   "outputs": [],
   "source": [
    "cv_results = pd.DataFrame(grid_search_xg.cv_results_)\n",
    "cv_results\n",
    "grid_search_xg.best_params_\n",
    "cv_results.to_csv('cvresults_xg_target2.csv')"
   ]
  },
  {
   "cell_type": "code",
   "execution_count": 102,
   "id": "a9fa45ec",
   "metadata": {},
   "outputs": [
    {
     "data": {
      "text/plain": [
       "{'model__booster': 'gbtree',\n",
       " 'model__learning_rate': 0.01,\n",
       " 'model__n_estimators': 1000}"
      ]
     },
     "execution_count": 102,
     "metadata": {},
     "output_type": "execute_result"
    }
   ],
   "source": [
    "grid_search_xg.best_params_"
   ]
  },
  {
   "cell_type": "code",
   "execution_count": 89,
   "id": "be2892bc",
   "metadata": {},
   "outputs": [
    {
     "name": "stdout",
     "output_type": "stream",
     "text": [
      "******************\n",
      "MSE : 0.263\n",
      "RMSE : 0.513\n",
      "R2 : 0.712\n"
     ]
    }
   ],
   "source": [
    "best_estim_xg=grid_search_xg.best_estimator_\n",
    "f_performance(best_estim_xg)"
   ]
  },
  {
   "cell_type": "code",
   "execution_count": 90,
   "id": "d509c6f8",
   "metadata": {},
   "outputs": [],
   "source": [
    "save_model_grid(grid_search_xg,'grid_search_XG_target2','gridsearch')\n",
    "save_model_grid(best_estim_xg,'best_xg_target2','model')"
   ]
  },
  {
   "cell_type": "code",
   "execution_count": 94,
   "id": "8a2aa30b",
   "metadata": {},
   "outputs": [],
   "source": [
    "# fit the preprocessor \n",
    "X_encoded = grid_search_xg.best_estimator_['preprocessor'].fit_transform(X_train)\n",
    "\n",
    "# fit the model \n",
    "best_model = grid_search_xg.best_estimator_['model'].fit(X_encoded, y_train)\n",
    "\n",
    "# calculate the Shap values\n",
    "shap_values = shap.TreeExplainer(best_model).shap_values(X_encoded)"
   ]
  },
  {
   "cell_type": "code",
   "execution_count": 95,
   "id": "98528a26",
   "metadata": {},
   "outputs": [
    {
     "data": {
      "image/png": "[encoded data removed]",
      "text/plain": [
       "<Figure size 576x655.2 with 2 Axes>"
      ]
     },
     "metadata": {
      "needs_background": "light"
     },
     "output_type": "display_data"
    }
   ],
   "source": [
    "shap.summary_plot(shap_values, X_encoded,feature_names=feature_after_transformer(preprocessor))"
   ]
  },
  {
   "cell_type": "markdown",
   "id": "e5270f38",
   "metadata": {},
   "source": [
    "**Observations**\n",
    "<br>\n",
    "Ce  graphique globale  montre les valeurs de Shap sur l'axe des x. Ici, toutes les valeurs à gauche représentent les observations qui déplacent la valeur prédite dans la direction négative, tandis que les points à droite contribuent à déplacer la prédiction dans une direction positive. \n",
    "<br>\n",
    "L'axe y contient les variables"
   ]
  },
  {
   "cell_type": "code",
   "execution_count": 96,
   "id": "243fb004",
   "metadata": {},
   "outputs": [
    {
     "data": {
      "image/png": "[encoded data removed]",
      "text/plain": [
       "<Figure size 576x655.2 with 1 Axes>"
      ]
     },
     "metadata": {
      "needs_background": "light"
     },
     "output_type": "display_data"
    }
   ],
   "source": [
    "# plot the Shap values\n",
    "shap.summary_plot(shap_values, X_encoded, plot_type='bar',feature_names=feature_after_transformer(preprocessor))"
   ]
  },
  {
   "cell_type": "code",
   "execution_count": null,
   "id": "e8effddc",
   "metadata": {},
   "outputs": [],
   "source": [
    "#shap.dependence_plot(\"GHGEmissionsIntensity\",shap_values,X_encoded)"
   ]
  },
  {
   "cell_type": "markdown",
   "id": "452e8f81",
   "metadata": {},
   "source": [
    "# Impact  de la variable energy star score"
   ]
  },
  {
   "cell_type": "code",
   "execution_count": 103,
   "id": "061cc651",
   "metadata": {},
   "outputs": [
    {
     "data": {
      "text/html": [
       "<div>\n",
       "<style scoped>\n",
       "    .dataframe tbody tr th:only-of-type {\n",
       "        vertical-align: middle;\n",
       "    }\n",
       "\n",
       "    .dataframe tbody tr th {\n",
       "        vertical-align: top;\n",
       "    }\n",
       "\n",
       "    .dataframe thead th {\n",
       "        text-align: right;\n",
       "    }\n",
       "</style>\n",
       "<table border=\"1\" class=\"dataframe\">\n",
       "  <thead>\n",
       "    <tr style=\"text-align: right;\">\n",
       "      <th></th>\n",
       "      <th>Regressor</th>\n",
       "      <th>Test Mean squared error</th>\n",
       "      <th>Test RMSE</th>\n",
       "      <th>Test R2 score</th>\n",
       "      <th>Training R2 score (Cross validation)</th>\n",
       "    </tr>\n",
       "  </thead>\n",
       "  <tbody>\n",
       "    <tr>\n",
       "      <th>0</th>\n",
       "      <td>DummyRegressor(quantile=0.5)</td>\n",
       "      <td>0.914075</td>\n",
       "      <td>0.956073</td>\n",
       "      <td>-0.000027</td>\n",
       "      <td>-0.018329</td>\n",
       "    </tr>\n",
       "    <tr>\n",
       "      <th>1</th>\n",
       "      <td>LinearRegression(normalize=True)</td>\n",
       "      <td>0.504684</td>\n",
       "      <td>0.710411</td>\n",
       "      <td>0.447859</td>\n",
       "      <td>0.515309</td>\n",
       "    </tr>\n",
       "    <tr>\n",
       "      <th>2</th>\n",
       "      <td>Ridge(alpha=5)</td>\n",
       "      <td>0.502216</td>\n",
       "      <td>0.708672</td>\n",
       "      <td>0.450560</td>\n",
       "      <td>0.516758</td>\n",
       "    </tr>\n",
       "    <tr>\n",
       "      <th>3</th>\n",
       "      <td>Lasso(selection='random', tol=0.001)</td>\n",
       "      <td>0.914075</td>\n",
       "      <td>0.956073</td>\n",
       "      <td>-0.000027</td>\n",
       "      <td>-0.018329</td>\n",
       "    </tr>\n",
       "    <tr>\n",
       "      <th>4</th>\n",
       "      <td>ElasticNet(selection='random', tol=0.001)</td>\n",
       "      <td>0.914075</td>\n",
       "      <td>0.956073</td>\n",
       "      <td>-0.000027</td>\n",
       "      <td>-0.018329</td>\n",
       "    </tr>\n",
       "    <tr>\n",
       "      <th>5</th>\n",
       "      <td>(DecisionTreeRegressor(max_features='auto', ma...</td>\n",
       "      <td>0.301527</td>\n",
       "      <td>0.549115</td>\n",
       "      <td>0.670120</td>\n",
       "      <td>0.703253</td>\n",
       "    </tr>\n",
       "    <tr>\n",
       "      <th>6</th>\n",
       "      <td>SVR()</td>\n",
       "      <td>0.330509</td>\n",
       "      <td>0.574899</td>\n",
       "      <td>0.638412</td>\n",
       "      <td>0.677583</td>\n",
       "    </tr>\n",
       "    <tr>\n",
       "      <th>7</th>\n",
       "      <td>LGBMRegressor(max_depth=1)</td>\n",
       "      <td>0.353755</td>\n",
       "      <td>0.594773</td>\n",
       "      <td>0.612980</td>\n",
       "      <td>0.609223</td>\n",
       "    </tr>\n",
       "    <tr>\n",
       "      <th>8</th>\n",
       "      <td>XGBRegressor(base_score=0.5, booster='dart', c...</td>\n",
       "      <td>0.300714</td>\n",
       "      <td>0.548374</td>\n",
       "      <td>0.671009</td>\n",
       "      <td>0.671908</td>\n",
       "    </tr>\n",
       "  </tbody>\n",
       "</table>\n",
       "</div>"
      ],
      "text/plain": [
       "                                           Regressor  Test Mean squared error  \\\n",
       "0                       DummyRegressor(quantile=0.5)                 0.914075   \n",
       "1                   LinearRegression(normalize=True)                 0.504684   \n",
       "2                                     Ridge(alpha=5)                 0.502216   \n",
       "3               Lasso(selection='random', tol=0.001)                 0.914075   \n",
       "4          ElasticNet(selection='random', tol=0.001)                 0.914075   \n",
       "5  (DecisionTreeRegressor(max_features='auto', ma...                 0.301527   \n",
       "6                                              SVR()                 0.330509   \n",
       "7                         LGBMRegressor(max_depth=1)                 0.353755   \n",
       "8  XGBRegressor(base_score=0.5, booster='dart', c...                 0.300714   \n",
       "\n",
       "   Test RMSE  Test R2 score  Training R2 score (Cross validation)  \n",
       "0   0.956073      -0.000027                             -0.018329  \n",
       "1   0.710411       0.447859                              0.515309  \n",
       "2   0.708672       0.450560                              0.516758  \n",
       "3   0.956073      -0.000027                             -0.018329  \n",
       "4   0.956073      -0.000027                             -0.018329  \n",
       "5   0.549115       0.670120                              0.703253  \n",
       "6   0.574899       0.638412                              0.677583  \n",
       "7   0.594773       0.612980                              0.609223  \n",
       "8   0.548374       0.671009                              0.671908  "
      ]
     },
     "execution_count": 103,
     "metadata": {},
     "output_type": "execute_result"
    }
   ],
   "source": [
    "\n",
    "\n",
    "\n",
    "\n",
    "X_train_without_energyscore=X_train.drop(['ENERGYSTARScore'], axis=1)\n",
    "X_test_without_energyscore=X_test.drop(['ENERGYSTARScore'], axis=1)\n",
    "\n",
    "numercial_cols_for_transformer2=list(set(numercial_cols_for_transformer)-set(['ENERGYSTARScore']))\n",
    "preprocessor2 = ColumnTransformer(\n",
    "    transformers=[\n",
    "        (\"num\", numeric_transformer, numercial_cols_for_transformer2),\n",
    "        (\"cat\", categorical_transformer, categorical_cols),\n",
    "    ]\n",
    ")\n",
    "\n",
    "numercial_cols_for_transformer2\n",
    "\n",
    "test2_mse=[]\n",
    "test2_rmse=[]\n",
    "test2_r2=[]\n",
    "train2_r2=[]\n",
    "for model in regressors:\n",
    "    start = time()\n",
    "    #select=SelectKBest(score_func=f_regression,k=8)\n",
    "    #pip = Pipeline(steps=[(\"preprocessor\", preprocessor),(\"selector\",select),(\"model\", model)])\n",
    "    pip = Pipeline(steps=[(\"preprocessor\", preprocessor2),(\"model\", model)])\n",
    "\n",
    "    pip.fit(X_train_without_energyscore, y_train)\n",
    "    train_time = time() - start\n",
    "    start = time()\n",
    "    y_pred = pip.predict(X_test_without_energyscore)\n",
    "    predict_time = time()-start    \n",
    "    #print(model)\n",
    "    #print(\"\\tTraining time: %0.3fs\" % train_time)\n",
    "    #print(\"\\tPrediction time: %0.3fs\" % predict_time)\n",
    "    scores = cross_val_score(pip, X_train, y_train, cv=10,scoring='r2')\n",
    "    #print(\"\\tTest Mean squared error:\", mean_squared_error(y_test, y_pred))\n",
    "    test2_mse.append(mean_squared_error(y_test, y_pred))\n",
    "    #print(\"\\tTest RMSE:\", np.sqrt(mean_squared_error(y_test, y_pred)))\n",
    "    test2_rmse.append(np.sqrt(mean_squared_error(y_test, y_pred)))\n",
    "    #print(\"\\tTest R2 score:\", r2_score(y_test, y_pred))\n",
    "    test2_r2.append(r2_score(y_test, y_pred))\n",
    "    #print(\"\\tTraining R2 score (Cross validation):\", mean(scores))\n",
    "    train2_r2.append(mean(scores))\n",
    "    #print()\n",
    "d2={'Regressor':regressors,'Test Mean squared error':test2_mse,'Test RMSE':test2_rmse,'Test R2 score':test2_r2,\n",
    "  'Training R2 score (Cross validation)':train2_r2}\n",
    "pd.DataFrame(d2)\n",
    "\n"
   ]
  },
  {
   "cell_type": "code",
   "execution_count": null,
   "id": "6630fdc0",
   "metadata": {},
   "outputs": [],
   "source": []
  }
 ],
 "metadata": {
  "kernelspec": {
   "display_name": "Python 3 (ipykernel)",
   "language": "python",
   "name": "python3"
  },
  "language_info": {
   "codemirror_mode": {
    "name": "ipython",
    "version": 3
   },
   "file_extension": ".py",
   "mimetype": "text/x-python",
   "name": "python",
   "nbconvert_exporter": "python",
   "pygments_lexer": "ipython3",
   "version": "3.10.4"
  }
 },
 "nbformat": 4,
 "nbformat_minor": 5
}
