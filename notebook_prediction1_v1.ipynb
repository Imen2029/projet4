{
 "cells": [
  {
   "cell_type": "markdown",
   "id": "548a7bd8",
   "metadata": {},
   "source": [
    "* [1.Load Data From CSV File](#ld)\n",
    "* [2.Build a pipeline](#bp)\n",
    "* [3.Optimisation du modèle](#om)\n"
   ]
  },
  {
   "cell_type": "code",
   "execution_count": 1,
   "id": "1bdf5048",
   "metadata": {},
   "outputs": [],
   "source": [
    "#pip install category-encoders"
   ]
  },
  {
   "cell_type": "code",
   "execution_count": 2,
   "id": "4712a784",
   "metadata": {},
   "outputs": [],
   "source": [
    "import pandas as pd\n",
    "import numpy as np\n",
    "\n",
    "import missingno as msno\n",
    "import seaborn as sns\n",
    "\n",
    "import matplotlib.pyplot as plt \n",
    "import warnings\n",
    "warnings.filterwarnings('ignore')\n",
    "\n",
    "from sklearn.preprocessing import OneHotEncoder,StandardScaler\n",
    "\n",
    "from sklearn.compose import make_column_transformer\n",
    "from sklearn.pipeline import Pipeline\n",
    "from sklearn.compose import ColumnTransformer\n",
    "from sklearn.linear_model import LinearRegression\n",
    "from sklearn.metrics import confusion_matrix\n",
    "from sklearn.model_selection import train_test_split\n",
    "from sklearn import metrics"
   ]
  },
  {
   "cell_type": "markdown",
   "id": "565ad0ef",
   "metadata": {},
   "source": [
    "### Load Data From CSV File<a class=\"anchor\" id=\"ld\"></a>"
   ]
  },
  {
   "cell_type": "code",
   "execution_count": 3,
   "id": "ba85f0f1",
   "metadata": {},
   "outputs": [
    {
     "data": {
      "text/html": [
       "<div>\n",
       "<style scoped>\n",
       "    .dataframe tbody tr th:only-of-type {\n",
       "        vertical-align: middle;\n",
       "    }\n",
       "\n",
       "    .dataframe tbody tr th {\n",
       "        vertical-align: top;\n",
       "    }\n",
       "\n",
       "    .dataframe thead th {\n",
       "        text-align: right;\n",
       "    }\n",
       "</style>\n",
       "<table border=\"1\" class=\"dataframe\">\n",
       "  <thead>\n",
       "    <tr style=\"text-align: right;\">\n",
       "      <th></th>\n",
       "      <th>OSEBuildingID</th>\n",
       "      <th>groups_building</th>\n",
       "      <th>groups_type</th>\n",
       "      <th>NumberofBuildings</th>\n",
       "      <th>NumberofFloors</th>\n",
       "      <th>ENERGYSTARScore</th>\n",
       "      <th>SteamUse(kBtu)</th>\n",
       "      <th>Electricity(kBtu)</th>\n",
       "      <th>NaturalGas(kBtu)</th>\n",
       "      <th>groups_ComplianceStatus</th>\n",
       "      <th>tranche_date</th>\n",
       "      <th>BuildingAge</th>\n",
       "      <th>SiteEnergyUse(kBtu)</th>\n",
       "      <th>TotalGHGEmissions</th>\n",
       "    </tr>\n",
       "  </thead>\n",
       "  <tbody>\n",
       "    <tr>\n",
       "      <th>0</th>\n",
       "      <td>1</td>\n",
       "      <td>NonResidential</td>\n",
       "      <td>Various</td>\n",
       "      <td>1.0</td>\n",
       "      <td>12</td>\n",
       "      <td>60.0</td>\n",
       "      <td>2003882.00</td>\n",
       "      <td>3946027.0</td>\n",
       "      <td>1276453.0</td>\n",
       "      <td>Compliant</td>\n",
       "      <td>tranche_date1</td>\n",
       "      <td>89</td>\n",
       "      <td>7226362.5</td>\n",
       "      <td>249.98</td>\n",
       "    </tr>\n",
       "    <tr>\n",
       "      <th>1</th>\n",
       "      <td>2</td>\n",
       "      <td>NonResidential</td>\n",
       "      <td>Various</td>\n",
       "      <td>1.0</td>\n",
       "      <td>11</td>\n",
       "      <td>61.0</td>\n",
       "      <td>0.00</td>\n",
       "      <td>3242851.0</td>\n",
       "      <td>5145082.0</td>\n",
       "      <td>Compliant</td>\n",
       "      <td>tranche_date2</td>\n",
       "      <td>20</td>\n",
       "      <td>8387933.0</td>\n",
       "      <td>295.86</td>\n",
       "    </tr>\n",
       "    <tr>\n",
       "      <th>2</th>\n",
       "      <td>3</td>\n",
       "      <td>NonResidential</td>\n",
       "      <td>Various</td>\n",
       "      <td>1.0</td>\n",
       "      <td>41</td>\n",
       "      <td>43.0</td>\n",
       "      <td>21566554.00</td>\n",
       "      <td>49526664.0</td>\n",
       "      <td>1493800.0</td>\n",
       "      <td>Compliant</td>\n",
       "      <td>tranche_date2</td>\n",
       "      <td>47</td>\n",
       "      <td>72587024.0</td>\n",
       "      <td>2089.28</td>\n",
       "    </tr>\n",
       "    <tr>\n",
       "      <th>3</th>\n",
       "      <td>5</td>\n",
       "      <td>NonResidential</td>\n",
       "      <td>Various</td>\n",
       "      <td>1.0</td>\n",
       "      <td>10</td>\n",
       "      <td>56.0</td>\n",
       "      <td>2214446.25</td>\n",
       "      <td>2768924.0</td>\n",
       "      <td>1811213.0</td>\n",
       "      <td>Compliant</td>\n",
       "      <td>tranche_date1</td>\n",
       "      <td>90</td>\n",
       "      <td>6794584.0</td>\n",
       "      <td>286.43</td>\n",
       "    </tr>\n",
       "    <tr>\n",
       "      <th>4</th>\n",
       "      <td>8</td>\n",
       "      <td>NonResidential</td>\n",
       "      <td>Various</td>\n",
       "      <td>1.0</td>\n",
       "      <td>18</td>\n",
       "      <td>75.0</td>\n",
       "      <td>0.00</td>\n",
       "      <td>5368607.0</td>\n",
       "      <td>8803998.0</td>\n",
       "      <td>Compliant</td>\n",
       "      <td>tranche_date2</td>\n",
       "      <td>36</td>\n",
       "      <td>14172606.0</td>\n",
       "      <td>505.01</td>\n",
       "    </tr>\n",
       "  </tbody>\n",
       "</table>\n",
       "</div>"
      ],
      "text/plain": [
       "   OSEBuildingID groups_building groups_type  NumberofBuildings  \\\n",
       "0              1  NonResidential     Various                1.0   \n",
       "1              2  NonResidential     Various                1.0   \n",
       "2              3  NonResidential     Various                1.0   \n",
       "3              5  NonResidential     Various                1.0   \n",
       "4              8  NonResidential     Various                1.0   \n",
       "\n",
       "   NumberofFloors  ENERGYSTARScore  SteamUse(kBtu)  Electricity(kBtu)  \\\n",
       "0              12             60.0      2003882.00          3946027.0   \n",
       "1              11             61.0            0.00          3242851.0   \n",
       "2              41             43.0     21566554.00         49526664.0   \n",
       "3              10             56.0      2214446.25          2768924.0   \n",
       "4              18             75.0            0.00          5368607.0   \n",
       "\n",
       "   NaturalGas(kBtu) groups_ComplianceStatus   tranche_date  BuildingAge  \\\n",
       "0         1276453.0               Compliant  tranche_date1           89   \n",
       "1         5145082.0               Compliant  tranche_date2           20   \n",
       "2         1493800.0               Compliant  tranche_date2           47   \n",
       "3         1811213.0               Compliant  tranche_date1           90   \n",
       "4         8803998.0               Compliant  tranche_date2           36   \n",
       "\n",
       "   SiteEnergyUse(kBtu)  TotalGHGEmissions  \n",
       "0            7226362.5             249.98  \n",
       "1            8387933.0             295.86  \n",
       "2           72587024.0            2089.28  \n",
       "3            6794584.0             286.43  \n",
       "4           14172606.0             505.01  "
      ]
     },
     "execution_count": 3,
     "metadata": {},
     "output_type": "execute_result"
    }
   ],
   "source": [
    "df = pd.read_csv('prepared_data.csv', sep='\\t')\n",
    "df.head()"
   ]
  },
  {
   "cell_type": "code",
   "execution_count": 4,
   "id": "0ee1e61b",
   "metadata": {},
   "outputs": [
    {
     "data": {
      "text/plain": [
       "(1533, 14)"
      ]
     },
     "execution_count": 4,
     "metadata": {},
     "output_type": "execute_result"
    }
   ],
   "source": [
    "df.shape"
   ]
  },
  {
   "cell_type": "code",
   "execution_count": 5,
   "id": "ee0f86a9",
   "metadata": {},
   "outputs": [
    {
     "data": {
      "text/plain": [
       "Index(['OSEBuildingID', 'groups_building', 'groups_type', 'NumberofBuildings',\n",
       "       'NumberofFloors', 'ENERGYSTARScore', 'SteamUse(kBtu)',\n",
       "       'Electricity(kBtu)', 'NaturalGas(kBtu)', 'groups_ComplianceStatus',\n",
       "       'tranche_date', 'BuildingAge', 'SiteEnergyUse(kBtu)',\n",
       "       'TotalGHGEmissions'],\n",
       "      dtype='object')"
      ]
     },
     "execution_count": 5,
     "metadata": {},
     "output_type": "execute_result"
    }
   ],
   "source": [
    "df.columns"
   ]
  },
  {
   "cell_type": "code",
   "execution_count": 6,
   "id": "d51fb492",
   "metadata": {},
   "outputs": [],
   "source": [
    "df=df[['groups_building', 'groups_type', 'NumberofBuildings',\n",
    "       'NumberofFloors', 'ENERGYSTARScore', 'SteamUse(kBtu)',\n",
    "       'Electricity(kBtu)', 'NaturalGas(kBtu)', 'groups_ComplianceStatus',\n",
    "       'tranche_date', 'BuildingAge', \n",
    "       'TotalGHGEmissions']]"
   ]
  },
  {
   "cell_type": "code",
   "execution_count": 7,
   "id": "6465213f",
   "metadata": {},
   "outputs": [
    {
     "name": "stdout",
     "output_type": "stream",
     "text": [
      "['NumberofBuildings', 'NumberofFloors', 'ENERGYSTARScore', 'SteamUse(kBtu)', 'Electricity(kBtu)', 'NaturalGas(kBtu)', 'BuildingAge', 'TotalGHGEmissions']\n"
     ]
    }
   ],
   "source": [
    "numercial_cols = [col for col in df.columns if df[col].dtype!=\"O\"]\n",
    "print(numercial_cols)"
   ]
  },
  {
   "cell_type": "code",
   "execution_count": 8,
   "id": "7520c9d5",
   "metadata": {},
   "outputs": [
    {
     "name": "stdout",
     "output_type": "stream",
     "text": [
      "['groups_building', 'groups_type', 'groups_ComplianceStatus', 'tranche_date']\n"
     ]
    }
   ],
   "source": [
    "categorical_cols = [col for col in df.columns if df[col].dtype==\"O\"]\n",
    "print(categorical_cols)"
   ]
  },
  {
   "cell_type": "code",
   "execution_count": 9,
   "id": "9fee50f7",
   "metadata": {},
   "outputs": [
    {
     "data": {
      "text/plain": [
       "array(['NonResidential', 'Other'], dtype=object)"
      ]
     },
     "execution_count": 9,
     "metadata": {},
     "output_type": "execute_result"
    }
   ],
   "source": [
    "df['groups_building'].unique()"
   ]
  },
  {
   "cell_type": "code",
   "execution_count": 10,
   "id": "29648d87",
   "metadata": {},
   "outputs": [
    {
     "data": {
      "text/plain": [
       "array(['Compliant', 'Other'], dtype=object)"
      ]
     },
     "execution_count": 10,
     "metadata": {},
     "output_type": "execute_result"
    }
   ],
   "source": [
    "df['groups_ComplianceStatus'].unique()"
   ]
  },
  {
   "cell_type": "code",
   "execution_count": 11,
   "id": "3116472c",
   "metadata": {},
   "outputs": [
    {
     "data": {
      "text/plain": [
       "array(['Various', 'Commerce', 'Health'], dtype=object)"
      ]
     },
     "execution_count": 11,
     "metadata": {},
     "output_type": "execute_result"
    }
   ],
   "source": [
    "df['groups_type'].unique()"
   ]
  },
  {
   "cell_type": "code",
   "execution_count": 12,
   "id": "a8e9947c",
   "metadata": {},
   "outputs": [
    {
     "data": {
      "text/plain": [
       "array(['tranche_date1', 'tranche_date2', 'tranche_date3'], dtype=object)"
      ]
     },
     "execution_count": 12,
     "metadata": {},
     "output_type": "execute_result"
    }
   ],
   "source": [
    "df['tranche_date'].unique()"
   ]
  },
  {
   "cell_type": "code",
   "execution_count": 13,
   "id": "cdfc5042",
   "metadata": {},
   "outputs": [
    {
     "data": {
      "text/plain": [
       "(1533, 12)"
      ]
     },
     "execution_count": 13,
     "metadata": {},
     "output_type": "execute_result"
    }
   ],
   "source": [
    "df.shape"
   ]
  },
  {
   "cell_type": "markdown",
   "id": "49740d9d",
   "metadata": {},
   "source": [
    "**Note**\n",
    "<br>\n",
    "en se basant sur lamatrice de corrélation on va enlever dans la suite les variables:\n",
    "'Electricity(kBtu)','SiteEnergyUse(kBtu)','NaturalGas(kBtu)'"
   ]
  },
  {
   "cell_type": "code",
   "execution_count": 14,
   "id": "5a6ab473",
   "metadata": {},
   "outputs": [],
   "source": [
    "numercial_cols= list(set(numercial_cols) - set([ 'Electricity(kBtu)','SiteEnergyUse(kBtu)','NaturalGas(kBtu)']))"
   ]
  },
  {
   "cell_type": "code",
   "execution_count": 15,
   "id": "77182860",
   "metadata": {},
   "outputs": [],
   "source": [
    "numercial_cols_for_transformer=list(set(numercial_cols)-set(['TotalGHGEmissions']))"
   ]
  },
  {
   "cell_type": "code",
   "execution_count": 16,
   "id": "24b9035a",
   "metadata": {},
   "outputs": [],
   "source": [
    "retained_columns=categorical_cols+numercial_cols"
   ]
  },
  {
   "cell_type": "code",
   "execution_count": 17,
   "id": "59e3cffb",
   "metadata": {},
   "outputs": [],
   "source": [
    "df1=df[retained_columns]"
   ]
  },
  {
   "cell_type": "code",
   "execution_count": 28,
   "id": "c38d9fca",
   "metadata": {},
   "outputs": [
    {
     "data": {
      "text/plain": [
       "['NumberofFloors',\n",
       " 'NumberofBuildings',\n",
       " 'ENERGYSTARScore',\n",
       " 'BuildingAge',\n",
       " 'SteamUse(kBtu)']"
      ]
     },
     "execution_count": 28,
     "metadata": {},
     "output_type": "execute_result"
    }
   ],
   "source": [
    "numercial_cols_for_transformer"
   ]
  },
  {
   "cell_type": "markdown",
   "id": "361a58cd",
   "metadata": {},
   "source": [
    "## Build a pipeline<a class=\"anchor\" id=\"bp\"></a>"
   ]
  },
  {
   "cell_type": "code",
   "execution_count": null,
   "id": "b60b4c55",
   "metadata": {},
   "outputs": [],
   "source": []
  },
  {
   "cell_type": "code",
   "execution_count": 19,
   "id": "463e187c",
   "metadata": {},
   "outputs": [],
   "source": [
    "\n",
    "numeric_transformer = Pipeline(\n",
    "    steps=[(\"scaler\", StandardScaler())]\n",
    ")\n",
    "\n",
    "categorical_transformer = OneHotEncoder(handle_unknown=\"ignore\")\n",
    " #when using sklearn.compose.ColumnTransformer You need to make sure the output column is not included in the data you create your Preprocessing pipeline with\n",
    "\n",
    "preprocessor = ColumnTransformer(\n",
    "    transformers=[\n",
    "        (\"num\", numeric_transformer, numercial_cols_for_transformer),\n",
    "        (\"cat\", categorical_transformer, categorical_cols),\n",
    "    ]\n",
    ")"
   ]
  },
  {
   "cell_type": "code",
   "execution_count": 20,
   "id": "cc9d230d",
   "metadata": {},
   "outputs": [],
   "source": [
    "\n",
    "clf = Pipeline(\n",
    "    steps=[(\"preprocessor\", preprocessor), (\"classifier\", LinearRegression())]\n",
    ")\n"
   ]
  },
  {
   "cell_type": "code",
   "execution_count": 21,
   "id": "7d2bffb1",
   "metadata": {},
   "outputs": [],
   "source": [
    "\n",
    "y=df1[['TotalGHGEmissions']]\n",
    "y= StandardScaler().fit_transform(y)\n",
    "features=['groups_building', 'groups_type', 'groups_ComplianceStatus',\n",
    "       'tranche_date', 'SteamUse(kBtu)', 'NumberofBuildings', 'NumberofFloors',\n",
    "       'ENERGYSTARScore', 'BuildingAge']\n",
    "X=df1[features]"
   ]
  },
  {
   "cell_type": "code",
   "execution_count": 23,
   "id": "56d2a297",
   "metadata": {},
   "outputs": [
    {
     "data": {
      "text/plain": [
       "Index(['groups_building', 'groups_type', 'groups_ComplianceStatus',\n",
       "       'tranche_date', 'TotalGHGEmissions', 'NumberofFloors',\n",
       "       'NumberofBuildings', 'ENERGYSTARScore', 'BuildingAge',\n",
       "       'SteamUse(kBtu)'],\n",
       "      dtype='object')"
      ]
     },
     "execution_count": 23,
     "metadata": {},
     "output_type": "execute_result"
    }
   ],
   "source": [
    "df1.columns"
   ]
  },
  {
   "cell_type": "code",
   "execution_count": 29,
   "id": "c68d7447",
   "metadata": {},
   "outputs": [
    {
     "data": {
      "text/plain": [
       "Index(['groups_building', 'groups_type', 'groups_ComplianceStatus',\n",
       "       'tranche_date', 'SteamUse(kBtu)', 'NumberofBuildings', 'NumberofFloors',\n",
       "       'ENERGYSTARScore', 'BuildingAge'],\n",
       "      dtype='object')"
      ]
     },
     "execution_count": 29,
     "metadata": {},
     "output_type": "execute_result"
    }
   ],
   "source": [
    "X.columns"
   ]
  },
  {
   "cell_type": "code",
   "execution_count": 31,
   "id": "ed360020",
   "metadata": {},
   "outputs": [
    {
     "data": {
      "text/plain": [
       "array([[ 0.13581128],\n",
       "       [ 0.21029077],\n",
       "       [ 3.12164693],\n",
       "       ...,\n",
       "       [ 0.09288979],\n",
       "       [-0.23410248],\n",
       "       [-0.20299901]])"
      ]
     },
     "execution_count": 31,
     "metadata": {},
     "output_type": "execute_result"
    }
   ],
   "source": [
    "y"
   ]
  },
  {
   "cell_type": "code",
   "execution_count": 24,
   "id": "f125756c",
   "metadata": {},
   "outputs": [],
   "source": [
    "\n",
    "X_train, X_test, y_train, y_test = train_test_split(X, y, test_size=0.2, random_state=0)"
   ]
  },
  {
   "cell_type": "code",
   "execution_count": 25,
   "id": "d5b570bc",
   "metadata": {},
   "outputs": [
    {
     "data": {
      "text/plain": [
       "Index(['groups_building', 'groups_type', 'groups_ComplianceStatus',\n",
       "       'tranche_date', 'SteamUse(kBtu)', 'NumberofBuildings', 'NumberofFloors',\n",
       "       'ENERGYSTARScore', 'BuildingAge'],\n",
       "      dtype='object')"
      ]
     },
     "execution_count": 25,
     "metadata": {},
     "output_type": "execute_result"
    }
   ],
   "source": [
    "X_train.columns"
   ]
  },
  {
   "cell_type": "code",
   "execution_count": 26,
   "id": "13a5f160",
   "metadata": {},
   "outputs": [
    {
     "data": {
      "text/plain": [
       "Pipeline(steps=[('preprocessor',\n",
       "                 ColumnTransformer(transformers=[('num',\n",
       "                                                  Pipeline(steps=[('scaler',\n",
       "                                                                   StandardScaler())]),\n",
       "                                                  ['NumberofFloors',\n",
       "                                                   'NumberofBuildings',\n",
       "                                                   'ENERGYSTARScore',\n",
       "                                                   'BuildingAge',\n",
       "                                                   'SteamUse(kBtu)']),\n",
       "                                                 ('cat',\n",
       "                                                  OneHotEncoder(handle_unknown='ignore'),\n",
       "                                                  ['groups_building',\n",
       "                                                   'groups_type',\n",
       "                                                   'groups_ComplianceStatus',\n",
       "                                                   'tranche_date'])])),\n",
       "                ('classifier', LinearRegression())])"
      ]
     },
     "execution_count": 26,
     "metadata": {},
     "output_type": "execute_result"
    }
   ],
   "source": [
    "clf"
   ]
  },
  {
   "cell_type": "markdown",
   "id": "19c406dc",
   "metadata": {},
   "source": [
    "### Accurancy"
   ]
  },
  {
   "cell_type": "code",
   "execution_count": 27,
   "id": "e34ad599",
   "metadata": {},
   "outputs": [
    {
     "ename": "NotFittedError",
     "evalue": "This ColumnTransformer instance is not fitted yet. Call 'fit' with appropriate arguments before using this estimator.",
     "output_type": "error",
     "traceback": [
      "\u001b[1;31m---------------------------------------------------------------------------\u001b[0m",
      "\u001b[1;31mNotFittedError\u001b[0m                            Traceback (most recent call last)",
      "Input \u001b[1;32mIn [27]\u001b[0m, in \u001b[0;36m<cell line: 1>\u001b[1;34m()\u001b[0m\n\u001b[1;32m----> 1\u001b[0m train_score \u001b[38;5;241m=\u001b[39m \u001b[43mclf\u001b[49m\u001b[38;5;241;43m.\u001b[39;49m\u001b[43mscore\u001b[49m\u001b[43m(\u001b[49m\u001b[43mX_train\u001b[49m\u001b[43m,\u001b[49m\u001b[43my_train\u001b[49m\u001b[43m)\u001b[49m\n\u001b[0;32m      2\u001b[0m test_score \u001b[38;5;241m=\u001b[39m clf\u001b[38;5;241m.\u001b[39mscore(X_test,y_test)\n\u001b[0;32m      4\u001b[0m \u001b[38;5;28mprint\u001b[39m(\u001b[38;5;124mf\u001b[39m\u001b[38;5;124m'\u001b[39m\u001b[38;5;124mTrain Accuracy : \u001b[39m\u001b[38;5;132;01m{\u001b[39;00mtrain_score\u001b[38;5;132;01m:\u001b[39;00m\u001b[38;5;124m.3f\u001b[39m\u001b[38;5;132;01m}\u001b[39;00m\u001b[38;5;124m'\u001b[39m)\n",
      "File \u001b[1;32m~\\.conda\\envs\\geo_env\\lib\\site-packages\\sklearn\\utils\\metaestimators.py:113\u001b[0m, in \u001b[0;36m_AvailableIfDescriptor.__get__.<locals>.<lambda>\u001b[1;34m(*args, **kwargs)\u001b[0m\n\u001b[0;32m    110\u001b[0m         \u001b[38;5;28;01mraise\u001b[39;00m attr_err\n\u001b[0;32m    112\u001b[0m     \u001b[38;5;66;03m# lambda, but not partial, allows help() to work with update_wrapper\u001b[39;00m\n\u001b[1;32m--> 113\u001b[0m     out \u001b[38;5;241m=\u001b[39m \u001b[38;5;28;01mlambda\u001b[39;00m \u001b[38;5;241m*\u001b[39margs, \u001b[38;5;241m*\u001b[39m\u001b[38;5;241m*\u001b[39mkwargs: \u001b[38;5;28mself\u001b[39m\u001b[38;5;241m.\u001b[39mfn(obj, \u001b[38;5;241m*\u001b[39margs, \u001b[38;5;241m*\u001b[39m\u001b[38;5;241m*\u001b[39mkwargs)  \u001b[38;5;66;03m# noqa\u001b[39;00m\n\u001b[0;32m    114\u001b[0m \u001b[38;5;28;01melse\u001b[39;00m:\n\u001b[0;32m    116\u001b[0m     \u001b[38;5;28;01mdef\u001b[39;00m \u001b[38;5;21mfn\u001b[39m(\u001b[38;5;241m*\u001b[39margs, \u001b[38;5;241m*\u001b[39m\u001b[38;5;241m*\u001b[39mkwargs):\n",
      "File \u001b[1;32m~\\.conda\\envs\\geo_env\\lib\\site-packages\\sklearn\\pipeline.py:707\u001b[0m, in \u001b[0;36mPipeline.score\u001b[1;34m(self, X, y, sample_weight)\u001b[0m\n\u001b[0;32m    705\u001b[0m Xt \u001b[38;5;241m=\u001b[39m X\n\u001b[0;32m    706\u001b[0m \u001b[38;5;28;01mfor\u001b[39;00m _, name, transform \u001b[38;5;129;01min\u001b[39;00m \u001b[38;5;28mself\u001b[39m\u001b[38;5;241m.\u001b[39m_iter(with_final\u001b[38;5;241m=\u001b[39m\u001b[38;5;28;01mFalse\u001b[39;00m):\n\u001b[1;32m--> 707\u001b[0m     Xt \u001b[38;5;241m=\u001b[39m \u001b[43mtransform\u001b[49m\u001b[38;5;241;43m.\u001b[39;49m\u001b[43mtransform\u001b[49m\u001b[43m(\u001b[49m\u001b[43mXt\u001b[49m\u001b[43m)\u001b[49m\n\u001b[0;32m    708\u001b[0m score_params \u001b[38;5;241m=\u001b[39m {}\n\u001b[0;32m    709\u001b[0m \u001b[38;5;28;01mif\u001b[39;00m sample_weight \u001b[38;5;129;01mis\u001b[39;00m \u001b[38;5;129;01mnot\u001b[39;00m \u001b[38;5;28;01mNone\u001b[39;00m:\n",
      "File \u001b[1;32m~\\.conda\\envs\\geo_env\\lib\\site-packages\\sklearn\\compose\\_column_transformer.py:718\u001b[0m, in \u001b[0;36mColumnTransformer.transform\u001b[1;34m(self, X)\u001b[0m\n\u001b[0;32m    701\u001b[0m \u001b[38;5;28;01mdef\u001b[39;00m \u001b[38;5;21mtransform\u001b[39m(\u001b[38;5;28mself\u001b[39m, X):\n\u001b[0;32m    702\u001b[0m     \u001b[38;5;124;03m\"\"\"Transform X separately by each transformer, concatenate results.\u001b[39;00m\n\u001b[0;32m    703\u001b[0m \n\u001b[0;32m    704\u001b[0m \u001b[38;5;124;03m    Parameters\u001b[39;00m\n\u001b[1;32m   (...)\u001b[0m\n\u001b[0;32m    716\u001b[0m \u001b[38;5;124;03m        sparse matrices.\u001b[39;00m\n\u001b[0;32m    717\u001b[0m \u001b[38;5;124;03m    \"\"\"\u001b[39;00m\n\u001b[1;32m--> 718\u001b[0m     \u001b[43mcheck_is_fitted\u001b[49m\u001b[43m(\u001b[49m\u001b[38;5;28;43mself\u001b[39;49m\u001b[43m)\u001b[49m\n\u001b[0;32m    719\u001b[0m     X \u001b[38;5;241m=\u001b[39m _check_X(X)\n\u001b[0;32m    721\u001b[0m     fit_dataframe_and_transform_dataframe \u001b[38;5;241m=\u001b[39m \u001b[38;5;28mhasattr\u001b[39m(\n\u001b[0;32m    722\u001b[0m         \u001b[38;5;28mself\u001b[39m, \u001b[38;5;124m\"\u001b[39m\u001b[38;5;124mfeature_names_in_\u001b[39m\u001b[38;5;124m\"\u001b[39m\n\u001b[0;32m    723\u001b[0m     ) \u001b[38;5;129;01mand\u001b[39;00m \u001b[38;5;28mhasattr\u001b[39m(X, \u001b[38;5;124m\"\u001b[39m\u001b[38;5;124mcolumns\u001b[39m\u001b[38;5;124m\"\u001b[39m)\n",
      "File \u001b[1;32m~\\.conda\\envs\\geo_env\\lib\\site-packages\\sklearn\\utils\\validation.py:1222\u001b[0m, in \u001b[0;36mcheck_is_fitted\u001b[1;34m(estimator, attributes, msg, all_or_any)\u001b[0m\n\u001b[0;32m   1217\u001b[0m     fitted \u001b[38;5;241m=\u001b[39m [\n\u001b[0;32m   1218\u001b[0m         v \u001b[38;5;28;01mfor\u001b[39;00m v \u001b[38;5;129;01min\u001b[39;00m \u001b[38;5;28mvars\u001b[39m(estimator) \u001b[38;5;28;01mif\u001b[39;00m v\u001b[38;5;241m.\u001b[39mendswith(\u001b[38;5;124m\"\u001b[39m\u001b[38;5;124m_\u001b[39m\u001b[38;5;124m\"\u001b[39m) \u001b[38;5;129;01mand\u001b[39;00m \u001b[38;5;129;01mnot\u001b[39;00m v\u001b[38;5;241m.\u001b[39mstartswith(\u001b[38;5;124m\"\u001b[39m\u001b[38;5;124m__\u001b[39m\u001b[38;5;124m\"\u001b[39m)\n\u001b[0;32m   1219\u001b[0m     ]\n\u001b[0;32m   1221\u001b[0m \u001b[38;5;28;01mif\u001b[39;00m \u001b[38;5;129;01mnot\u001b[39;00m fitted:\n\u001b[1;32m-> 1222\u001b[0m     \u001b[38;5;28;01mraise\u001b[39;00m NotFittedError(msg \u001b[38;5;241m%\u001b[39m {\u001b[38;5;124m\"\u001b[39m\u001b[38;5;124mname\u001b[39m\u001b[38;5;124m\"\u001b[39m: \u001b[38;5;28mtype\u001b[39m(estimator)\u001b[38;5;241m.\u001b[39m\u001b[38;5;18m__name__\u001b[39m})\n",
      "\u001b[1;31mNotFittedError\u001b[0m: This ColumnTransformer instance is not fitted yet. Call 'fit' with appropriate arguments before using this estimator."
     ]
    }
   ],
   "source": [
    "train_score = clf.score(X_train,y_train)\n",
    "test_score = clf.score(X_test,y_test)\n",
    "\n",
    "print(f'Train Accuracy : {train_score:.3f}')\n",
    "print(f'Test Accuracy : {test_score:.3f}')"
   ]
  },
  {
   "cell_type": "code",
   "execution_count": null,
   "id": "2a01fb67",
   "metadata": {},
   "outputs": [],
   "source": [
    "#Check RMSE\n",
    "\n",
    "from sklearn.metrics import mean_squared_error\n",
    "y_pred = clf.predict(X_test)\n",
    "print(f'RMSE : {np.sqrt(mean_squared_error(y_test, y_pred)):.3f}')"
   ]
  },
  {
   "cell_type": "markdown",
   "id": "5402ea97",
   "metadata": {},
   "source": [
    "### Paramètres du modèle"
   ]
  },
  {
   "cell_type": "code",
   "execution_count": null,
   "id": "5eaee661",
   "metadata": {},
   "outputs": [],
   "source": [
    "\n",
    "clf.named_steps['classifier'].intercept_"
   ]
  },
  {
   "cell_type": "code",
   "execution_count": null,
   "id": "e9772a99",
   "metadata": {},
   "outputs": [],
   "source": [
    "clf.named_steps['classifier'].coef_"
   ]
  },
  {
   "cell_type": "markdown",
   "id": "e188043d",
   "metadata": {},
   "source": [
    "## Optimisation du modèle <a class=\"anchor\" id=\"om\"></a>"
   ]
  },
  {
   "cell_type": "markdown",
   "id": "7c8e622e",
   "metadata": {},
   "source": [
    "#### cross validation"
   ]
  },
  {
   "cell_type": "code",
   "execution_count": null,
   "id": "a1c21632",
   "metadata": {},
   "outputs": [],
   "source": [
    "from sklearn.model_selection import cross_val_score\n",
    "import sklearn\n",
    "scores = cross_val_score(clf, X, y, cv=10,scoring='r2')#coefficient of determination (pr défaut). how well the regression model fits the observed data.a higher coefficient indicates a better fit for the model.\n",
    "scores"
   ]
  },
  {
   "cell_type": "code",
   "execution_count": null,
   "id": "99ec0aaa",
   "metadata": {},
   "outputs": [],
   "source": [
    "print(\" mean of  coefficient of determination= %0.2f\" % scores.mean())"
   ]
  },
  {
   "cell_type": "code",
   "execution_count": null,
   "id": "fa7fc976",
   "metadata": {},
   "outputs": [],
   "source": [
    "# can tune other metrics, such as MSE\n",
    "scores = cross_val_score(clf, X, y, scoring='neg_mean_squared_error', cv=10)# Thus a big neg_mean_squared_error is better than a low one.\n",
    "scores\n"
   ]
  },
  {
   "cell_type": "code",
   "execution_count": null,
   "id": "f6bf0e28",
   "metadata": {},
   "outputs": [],
   "source": [
    "print(\" mean of  neg_mean_squared_error= %0.2f\" % scores.mean())"
   ]
  },
  {
   "cell_type": "code",
   "execution_count": null,
   "id": "bba4f3ac",
   "metadata": {},
   "outputs": [],
   "source": []
  },
  {
   "cell_type": "markdown",
   "id": "b1c4a504",
   "metadata": {},
   "source": [
    "#### ajustement des paramètres en utilisant gridsearch"
   ]
  },
  {
   "cell_type": "code",
   "execution_count": null,
   "id": "6533ab98",
   "metadata": {},
   "outputs": [],
   "source": [
    "from sklearn.model_selection import train_test_split, GridSearchCV\n",
    "#LinearRegression().get_params().keys()\n",
    "param_grid = {\n",
    "    \n",
    "    \"classifier__fit_intercept\": [True, False],\n",
    "    \"classifier__copy_X\": [True, False],\n",
    "    \"classifier\": [LinearRegression()]\n",
    "}\n",
    "\n",
    "grid_search = GridSearchCV(clf, param_grid, cv=10)\n",
    "grid_search"
   ]
  },
  {
   "cell_type": "code",
   "execution_count": null,
   "id": "32e5f893",
   "metadata": {},
   "outputs": [],
   "source": [
    "# cv results\n",
    "cv_results = pd.DataFrame(grid_search.cv_results_)\n",
    "cv_results"
   ]
  },
  {
   "cell_type": "code",
   "execution_count": null,
   "id": "b519af83",
   "metadata": {},
   "outputs": [],
   "source": []
  },
  {
   "cell_type": "code",
   "execution_count": null,
   "id": "d9e35b80",
   "metadata": {},
   "outputs": [],
   "source": [
    "LinearRegression().get_params().keys()"
   ]
  },
  {
   "cell_type": "markdown",
   "id": "2119cd9e",
   "metadata": {},
   "source": [
    "##### "
   ]
  }
 ],
 "metadata": {
  "kernelspec": {
   "display_name": "Python 3 (ipykernel)",
   "language": "python",
   "name": "python3"
  },
  "language_info": {
   "codemirror_mode": {
    "name": "ipython",
    "version": 3
   },
   "file_extension": ".py",
   "mimetype": "text/x-python",
   "name": "python",
   "nbconvert_exporter": "python",
   "pygments_lexer": "ipython3",
   "version": "3.10.4"
  }
 },
 "nbformat": 4,
 "nbformat_minor": 5
}
